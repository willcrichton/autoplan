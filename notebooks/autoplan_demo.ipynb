{
 "cells": [
  {
   "cell_type": "markdown",
   "metadata": {},
   "source": [
    "# Creating a dataset\n",
    "\n",
    "First, we need a dataset of labeled programs that Autoplan can classify. We'll use an example Java dataset of Fizzbuzz implementations. In this case, there are two program structures we're considering: \n",
    "* **Separate**, where the \"FizzBuzz\" case is distinct from \"Fizz\" and \"Buzz\", and\n",
    "* **Combined**, where the \"FizzBuzz\" case is a combination of the two cases\n",
    "\n",
    "I wrote six programs (three of each kind) below. We define a `programs` array with the Java source, and a `labels` array with the category of each program."
   ]
  },
  {
   "cell_type": "code",
   "execution_count": 1,
   "metadata": {},
   "outputs": [],
   "source": [
    "from autoplan.labels import Labels\n",
    "\n",
    "class FizzbuzzLabels(Labels):\n",
    "    Separate = 0\n",
    "    Combined = 1\n",
    "    \n",
    "programs = [\n",
    "    '''\n",
    "class Main {    \n",
    "    public static void main(String[] args) {\n",
    "      for (int i = 0; i < 100; ++i) {\n",
    "        if (i % 15 == 0) {\n",
    "          System.out.println(\"FizzBuzz\");\n",
    "        } else if (i % 3 == 0) {\n",
    "          System.out.println(\"Fizz\");\n",
    "        } else if (i % 5 == 0) {\n",
    "          System.out.println(\"Buzz\");\n",
    "        }\n",
    "      }\n",
    "    }\n",
    "}\n",
    "''',\n",
    "    \n",
    "    '''\n",
    "class Main {    \n",
    "    public static void main(String[] args) {\n",
    "      int i = 0; \n",
    "      while (i < 100) {\n",
    "        if (i % 15 == 0) {\n",
    "          System.out.println(\"FizzBuzz\");\n",
    "        } else if (i % 3 == 0) {\n",
    "          System.out.println(\"Fizz\");\n",
    "        } else if (i % 5 == 0) {\n",
    "          System.out.println(\"Buzz\");\n",
    "        }\n",
    "        ++i;\n",
    "      }\n",
    "    }\n",
    "}\n",
    "''',   \n",
    "    \n",
    "        \n",
    "    '''\n",
    "class Main {    \n",
    "    public static void main(String[] args) {\n",
    "      int i = 0; \n",
    "      while (true) {\n",
    "        if (i % 15 == 0) {\n",
    "          System.out.println(\"FizzBuzz\");\n",
    "        } else if (i % 3 == 0) {\n",
    "          System.out.println(\"Fizz\");\n",
    "        } else if (i % 5 == 0) {\n",
    "          System.out.println(\"Buzz\");\n",
    "        }\n",
    "        ++i;\n",
    "        if (i >= 100) { break; }\n",
    "      }\n",
    "    }\n",
    "}\n",
    "''',\n",
    "    \n",
    "    '''\n",
    "class Main {    \n",
    "    public static void main(String[] args) {\n",
    "      for (int i = 0; i < 100; ++i) {\n",
    "        if (i % 3 == 0) {\n",
    "          System.out.print(\"Fizz\");\n",
    "        }  \n",
    "        if (i % 5 == 0) {\n",
    "          System.out.print(\"Buzz\");\n",
    "        }\n",
    "        if (i % 3 == 0 || i % 5 == 0) {\n",
    "          System.out.print(\"\\n\");\n",
    "        }\n",
    "      }\n",
    "    }\n",
    "}\n",
    "''',\n",
    "    \n",
    "    '''\n",
    "class Main {    \n",
    "    public static void main(String[] args) {\n",
    "      for (int k = 0; k < 100; ++k) {\n",
    "        int mod3 = k % 3;\n",
    "        int mod5 = k % 5;\n",
    "        if (mod3 == 0) {\n",
    "          System.out.print(\"Fizz\");\n",
    "        }  \n",
    "        if (mod5 == 0) {\n",
    "          System.out.print(\"Buzz\");\n",
    "        }\n",
    "        if (mod3 || mod5) {\n",
    "          System.out.print(\"\\n\");\n",
    "        }\n",
    "      }\n",
    "    }\n",
    "}\n",
    "''',\n",
    "    \n",
    "   '''\n",
    "class Main {    \n",
    "    public static void main(String[] args) {\n",
    "      int i = 0;\n",
    "      while (i < 100) {\n",
    "        if (i % 3 == 0 || i % 5 == 0) {\n",
    "          if (i % 3 == 0) {\n",
    "            System.out.print(\"Fizz\");\n",
    "          }\n",
    "          if (i % 5 == 0) {\n",
    "            System.out.print(\"Buzz\");        \n",
    "          }\n",
    "          System.out.print(\"\\n\");\n",
    "        }  \n",
    "        i += 1;\n",
    "      }\n",
    "    }\n",
    "}\n",
    "'''\n",
    "]\n",
    "\n",
    "labels = [\n",
    "    FizzbuzzLabels.Separate, FizzbuzzLabels.Separate, FizzbuzzLabels.Separate, \n",
    "    FizzbuzzLabels.Combined, FizzbuzzLabels.Combined, FizzbuzzLabels.Combined\n",
    "]"
   ]
  },
  {
   "cell_type": "markdown",
   "metadata": {},
   "source": [
    "Once our programs and labels are defined, we can turn them into a dataset object using `build_labeled_dataset`. We also need to pass in a parser that understands the syntax of programs in our language. We have a few built-in ones (Java, OCaml, and Pyret). If you want to use Autoplan for an unsupported language, please put an issue on our Github."
   ]
  },
  {
   "cell_type": "code",
   "execution_count": 2,
   "metadata": {},
   "outputs": [],
   "source": [
    "from autoplan.dataset import build_labeled_dataset\n",
    "from autoplan.parser import JavaParser\n",
    "\n",
    "parser = JavaParser()\n",
    "dataset = build_labeled_dataset(FizzbuzzLabels, programs, labels, parser)"
   ]
  },
  {
   "cell_type": "markdown",
   "metadata": {},
   "source": [
    "# Training a classifier\n",
    "\n",
    "The next step is to train one of the classifiers on your dataset. We have two classifiers, a nearest-neighbors and recurrent neural network. For each classifier, we will train it on the dataset, and then test it on a sample program."
   ]
  },
  {
   "cell_type": "code",
   "execution_count": 3,
   "metadata": {},
   "outputs": [],
   "source": [
    "test_program = '''\n",
    "class Main {    \n",
    "    public static void main(String[] args) {\n",
    "      for (int i = 0; i < 100; ++i) {\n",
    "        if (i % 3 == 0 || i % 5 == 0) {\n",
    "          if (i % 3 == 0) {\n",
    "            System.out.print(\"Fizz\");\n",
    "          }\n",
    "          if (i % 5 == 0) {\n",
    "            System.out.print(\"Buzz\");        \n",
    "          }\n",
    "          System.out.print(\"\\n\");\n",
    "        }  \n",
    "      }\n",
    "    }\n",
    "}\n",
    "'''"
   ]
  },
  {
   "cell_type": "code",
   "execution_count": 4,
   "metadata": {},
   "outputs": [
    {
     "data": {
      "text/plain": [
       "<FizzbuzzLabels.Combined: 1>"
      ]
     },
     "execution_count": 4,
     "metadata": {},
     "output_type": "execute_result"
    }
   ],
   "source": [
    "from autoplan.neighbors import TokenNNClassifier\n",
    "\n",
    "# Nearest-neighbors does not need training, so we can construct it and we're ready\n",
    "# Note that you can also use the TreeNNClassifier in some cases\n",
    "knn = TokenNNClassifier(dataset)\n",
    "\n",
    "# Classify returns the predicted label of the program\n",
    "knn.classify(test_program)"
   ]
  },
  {
   "cell_type": "code",
   "execution_count": 5,
   "metadata": {},
   "outputs": [
    {
     "data": {
      "application/vnd.jupyter.widget-view+json": {
       "model_id": "4376c344d5694e5d942756fe8318e43a",
       "version_major": 2,
       "version_minor": 0
      },
      "text/plain": [
       "HBox(children=(IntProgress(value=0, max=60), HTML(value='')))"
      ]
     },
     "metadata": {},
     "output_type": "display_data"
    },
    {
     "name": "stdout",
     "output_type": "stream",
     "text": [
      "\n"
     ]
    }
   ],
   "source": [
    "from autoplan.trainer import ClassifierTrainer\n",
    "from autoplan.dataset import RandomSplit\n",
    "\n",
    "from torch import nn\n",
    "import torch\n",
    "\n",
    "# The recurrent neural network uses Pytorch, so we initialize it with some Pytorch parameters.\n",
    "device = torch.device('cuda:7')\n",
    "model_opts = {\n",
    "    'model': nn.LSTM,\n",
    "    'hidden_size': 64,\n",
    "    'embedding_size': 32\n",
    "}\n",
    "\n",
    "# We have to explicitly train the network, and then load the weights of the best run.\n",
    "rnn = ClassifierTrainer(dataset, device=device, model_opts=model_opts, split=RandomSplit(dataset))\n",
    "_ = rnn.train_and_load_best(epochs=60)"
   ]
  },
  {
   "cell_type": "code",
   "execution_count": 6,
   "metadata": {},
   "outputs": [
    {
     "data": {
      "text/plain": [
       "<FizzbuzzLabels.Combined: 1>"
      ]
     },
     "execution_count": 6,
     "metadata": {},
     "output_type": "execute_result"
    }
   ],
   "source": [
    "rnn.classify(test_program)"
   ]
  },
  {
   "cell_type": "markdown",
   "metadata": {},
   "source": [
    "# Evaluating a classifier\n",
    "\n",
    "Running the classifier on a particular program is useful, but you probably also want to know how effective the classifier is in general. For that, we have facilities to cross-validate each classifier on the labeled dataset. \n",
    "\n",
    "Below, each classifier is trained on 2/3 of the dataset and evaluated on the remaining 1/3. This process is repeated 20 times (`folds`), and the average accuracy is computed."
   ]
  },
  {
   "cell_type": "code",
   "execution_count": 7,
   "metadata": {},
   "outputs": [
    {
     "data": {
      "application/vnd.jupyter.widget-view+json": {
       "model_id": "702763fb983e4178b91ea39e9407a27a",
       "version_major": 2,
       "version_minor": 0
      },
      "text/plain": [
       "HBox(children=(IntProgress(value=0, max=6), HTML(value='')))"
      ]
     },
     "metadata": {},
     "output_type": "display_data"
    },
    {
     "name": "stdout",
     "output_type": "stream",
     "text": [
      "\n",
      "Mean accuracy for nearest-neighbors is 0.47 (σ = 0.29)\n"
     ]
    }
   ],
   "source": [
    "import numpy as np\n",
    "\n",
    "test_frac = 0.34\n",
    "folds = 20\n",
    "\n",
    "dist_mtx = knn.compute_distance_matrix(knn.programs)\n",
    "confusion_mtxs = knn.crossval(dist_mtx, k=1, folds=folds, test_frac=test_frac)[0]\n",
    "accuracies = np.array([m.accuracy for m in confusion_mtxs])\n",
    "\n",
    "print(f'Mean accuracy for nearest-neighbors is {accuracies.mean():.02f} (σ = {accuracies.std():.02f})')"
   ]
  },
  {
   "cell_type": "code",
   "execution_count": 8,
   "metadata": {},
   "outputs": [
    {
     "data": {
      "application/vnd.jupyter.widget-view+json": {
       "model_id": "d9644b72f129472da670d4a233819938",
       "version_major": 2,
       "version_minor": 0
      },
      "text/plain": [
       "HBox(children=(IntProgress(value=0, max=20), HTML(value='')))"
      ]
     },
     "metadata": {},
     "output_type": "display_data"
    },
    {
     "name": "stdout",
     "output_type": "stream",
     "text": [
      "\n",
      "Mean accuracy for recurrent neural network is 0.62 (σ = 0.35)\n"
     ]
    }
   ],
   "source": [
    "from autoplan.trainer import ClassifierTrainer\n",
    "\n",
    "torch.manual_seed(0)\n",
    "cval_results = ClassifierTrainer.crossval(\n",
    "    dataset, split=RandomSplit(dataset), epochs=60, model_opts=model_opts, folds=folds, test_frac=test_frac,  \n",
    "    device=device, progress=True)\n",
    "accuracies = np.array(cval_results['accuracy'])\n",
    "\n",
    "print(f'Mean accuracy for recurrent neural network is {accuracies.mean():.02f} (σ = {accuracies.std():.02f})')"
   ]
  },
  {
   "cell_type": "markdown",
   "metadata": {},
   "source": [
    "# Improving a classifier\n",
    "\n",
    "Some classifiers like nearest-neighbors can't easily be improved, unless you come up with another way to compare programs. However, neural networks have many parameters that can be tweaked to improve performance. Below we show an example of using the [hyperopt](http://hyperopt.github.io/hyperopt/) library to select the best parameters for the neural network."
   ]
  },
  {
   "cell_type": "code",
   "execution_count": 9,
   "metadata": {},
   "outputs": [
    {
     "name": "stdout",
     "output_type": "stream",
     "text": [
      "100%|██████████| 30/30 [04:43<00:00, 11.69s/trial, best loss: 0.0] \n"
     ]
    }
   ],
   "source": [
    "from hyperopt import hp, fmin, tpe, Trials\n",
    "model_types = [nn.GRU, nn.LSTM]\n",
    "opts_space = {\n",
    "    'model': hp.choice('model', model_types),\n",
    "    'hidden_size': hp.quniform('hidden_size', 5, 10, 1),\n",
    "    'embedding_size': hp.quniform('embedding_size', 5, 10, 1),\n",
    "}\n",
    "\n",
    "def hp_opts_to_model_opts(hp_opts):\n",
    "    return {\n",
    "        'model': hp_opts['model'],\n",
    "        'hidden_size': 2 ** int(hp_opts['hidden_size']),\n",
    "        'embedding_size': 2 ** int(hp_opts['embedding_size']),\n",
    "    }\n",
    "\n",
    "def objective(hp_opts):\n",
    "    torch.manual_seed(0)\n",
    "    model_opts = hp_opts_to_model_opts(hp_opts)\n",
    "    cval_results = ClassifierTrainer.crossval(\n",
    "        dataset, split=RandomSplit(dataset), epochs=60, model_opts=model_opts, folds=folds // 2, test_frac=test_frac,\n",
    "        device=device,\n",
    "        progress=False)\n",
    "    return 1. - np.array(cval_results['accuracy']).mean()\n",
    "\n",
    "trials = Trials()\n",
    "best_params = fmin(objective, opts_space, algo=tpe.suggest, max_evals=30, trials=trials)"
   ]
  },
  {
   "cell_type": "code",
   "execution_count": 10,
   "metadata": {},
   "outputs": [
    {
     "name": "stdout",
     "output_type": "stream",
     "text": [
      "The best model options are:\n",
      "{'model': 0, 'hidden_size': 1024, 'embedding_size': 32}\n",
      "\n",
      "The highest average accuracy was:  1.0\n"
     ]
    }
   ],
   "source": [
    "# These are the best model opts!\n",
    "best_model_opts = hp_opts_to_model_opts(best_params)\n",
    "print('The best model options are:')\n",
    "print(best_model_opts)\n",
    "print()\n",
    "\n",
    "losses = np.array(trials.losses())\n",
    "print('The highest average accuracy was: ', 1. - losses.min())"
   ]
  }
 ],
 "metadata": {
  "kernelspec": {
   "display_name": "Python 3",
   "language": "python",
   "name": "python3"
  },
  "language_info": {
   "codemirror_mode": {
    "name": "ipython",
    "version": 3
   },
   "file_extension": ".py",
   "mimetype": "text/x-python",
   "name": "python",
   "nbconvert_exporter": "python",
   "pygments_lexer": "ipython3",
   "version": "3.7.2"
  }
 },
 "nbformat": 4,
 "nbformat_minor": 2
}
