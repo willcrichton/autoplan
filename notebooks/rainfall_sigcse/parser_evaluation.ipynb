{
 "cells": [
  {
   "cell_type": "code",
   "execution_count": 1,
   "metadata": {},
   "outputs": [],
   "source": [
    "%load_ext autoreload\n",
    "%autoreload 2"
   ]
  },
  {
   "cell_type": "code",
   "execution_count": 3,
   "metadata": {},
   "outputs": [],
   "source": [
    "from autoplan.trainer import ParserTrainer, ClassEvaluation\n",
    "from autoplan.token import OCamlTokenizer\n",
    "from autoplan.vis import plot_accuracy, plot_cm, plot_loss\n",
    "from autoplan.dataset import TrainVal, RandomSplit, build_synthetic_dataset, set_random_seed\n",
    "from autoplan.generator import ProgramGenerator\n",
    "from grammars.rainfall.ocaml import Program, Labels\n",
    "from autoplan.parsing import ProgramParser\n",
    "from autoplan.neighbors import TokenNNClassifier\n",
    "\n",
    "from tqdm.auto import tqdm\n",
    "from scripts.rainfall_ingest import load_full_t1, ingest_dataset, load_new_labels\n",
    "import torch\n",
    "import seaborn as sns\n",
    "from iterextras import par_for\n",
    "from pickle_cache import PickleCache\n",
    "from torch import nn\n",
    "import numpy as np\n",
    "import dataclasses\n",
    "import os\n",
    "\n",
    "pcache = PickleCache()\n",
    "device = torch.device('cuda:7')"
   ]
  },
  {
   "cell_type": "code",
   "execution_count": 4,
   "metadata": {},
   "outputs": [],
   "source": [
    "set_random_seed(0)"
   ]
  },
  {
   "cell_type": "code",
   "execution_count": 5,
   "metadata": {},
   "outputs": [
    {
     "name": "stdout",
     "output_type": "stream",
     "text": [
      "Skipped 16 programs\n"
     ]
    }
   ],
   "source": [
    "known_student_dataset = ingest_dataset('T1')\n",
    "unknown_student_dataset = load_new_labels(known_student_dataset.vocab_index)"
   ]
  },
  {
   "cell_type": "code",
   "execution_count": null,
   "metadata": {
    "scrolled": false
   },
   "outputs": [],
   "source": [
    "# for item in known_student_dataset.dataset:\n",
    "#     if item['labels'].item() == 2:\n",
    "#         print(item['source'])\n",
    "#         print(item['countwhere'])\n",
    "#         print('='*30 + '\\n\\n')"
   ]
  },
  {
   "cell_type": "code",
   "execution_count": 62,
   "metadata": {},
   "outputs": [],
   "source": [
    "synthetic_dataset = pcache.get('synth_ocaml_data', lambda: build_synthetic_dataset(\n",
    "    label_set=Labels, \n",
    "    N=1000, \n",
    "    tokenizer=OCamlTokenizer(), \n",
    "    generator=ProgramGenerator(Program()),\n",
    "    vocab_index=known_student_dataset.vocab_index,\n",
    "    unique=True),\n",
    "    force=True)"
   ]
  },
  {
   "cell_type": "code",
   "execution_count": 7,
   "metadata": {},
   "outputs": [],
   "source": [
    "ds = synthetic_dataset\n",
    "name_order = sorted(ds.choices.keys(), key=lambda name: ds.choice_indices[name])\n",
    "for item in synthetic_dataset.dataset:\n",
    "    for c in item['trace']:\n",
    "        name = name_order[c.item()]\n",
    "        if item['choices'][c] >= len(ds.choices[name]):\n",
    "            raise Exception(name)        "
   ]
  },
  {
   "cell_type": "code",
   "execution_count": 63,
   "metadata": {},
   "outputs": [],
   "source": [
    "def student_eval(trainer, cfg):\n",
    "    trainer.model.save('parser.pt')\n",
    "    parser = ProgramParser(Program(), synthetic_dataset, 'parser.pt', device=device, model_opts=cfg)\n",
    "        \n",
    "    def ds_eval(ds):\n",
    "        pred = []\n",
    "        true = []\n",
    "        progs = []\n",
    "        parses = []\n",
    "        for batch in ds.loader(ds.dataset):\n",
    "                for i in range(len(batch['program'])):\n",
    "                    pred_prog, pred_parse = parser.infer(\n",
    "                        batch['program'][i].unsqueeze(0), batch['program_len'][i].unsqueeze(0))\n",
    "                    pred.append(int(pred_parse['strategy'][1]))\n",
    "                    parses.append(pred_parse)\n",
    "                    true.append(batch['labels'][i].item())\n",
    "                    progs.append(pred_prog)\n",
    "        return progs, ClassEvaluation.from_preds(true, pred, ['Clean First', 'Clean in SC', 'Single Loop']), parses\n",
    "    \n",
    "    return ds_eval(known_student_dataset), ds_eval(unknown_student_dataset)"
   ]
  },
  {
   "cell_type": "code",
   "execution_count": 64,
   "metadata": {},
   "outputs": [],
   "source": [
    "configs = [\n",
    "    {\n",
    "        'model': nn.LSTM,\n",
    "        'embedding_size': 128,\n",
    "        'hidden_size': 512\n",
    "    },\n",
    "    {\n",
    "        'model': nn.GRU,\n",
    "        'embedding_size': 128,\n",
    "        'hidden_size': 512\n",
    "    },\n",
    "    {\n",
    "        'model': nn.LSTM,\n",
    "        'embedding_size': 512,\n",
    "        'hidden_size': 512\n",
    "    },\n",
    "    {\n",
    "        'model': nn.LSTM,\n",
    "        'embedding_size': 1024,\n",
    "        'hidden_size': 1024,\n",
    "    },\n",
    "    {\n",
    "        'model': nn.LSTM,\n",
    "        'embedding_size': 128,\n",
    "        'hidden_size': 128,\n",
    "    },\n",
    "    {\n",
    "        'model': nn.LSTM,\n",
    "        'embedding_size': 512,\n",
    "        'hidden_size': 128,\n",
    "    }\n",
    "]\n",
    "\n",
    "model_opts = {\n",
    "    'model': nn.LSTM,\n",
    "    'embedding_size': 128,\n",
    "    'hidden_size': 512\n",
    "}"
   ]
  },
  {
   "cell_type": "code",
   "execution_count": 75,
   "metadata": {},
   "outputs": [],
   "source": [
    "def run_config(ci, cfg):\n",
    "    set_random_seed(0)\n",
    "    \n",
    "    trainer = ParserTrainer(\n",
    "        synthetic_dataset, \n",
    "        split=RandomSplit(synthetic_dataset), \n",
    "        device=device, \n",
    "        model_opts=cfg, \n",
    "        val_frac=0.05,\n",
    "        optim_opts={'lr': 1e-3})\n",
    "    \n",
    "    losses = [] \n",
    "    train_eval = [] \n",
    "    val_eval = []\n",
    "    kno_eval = []\n",
    "    kno_progs = []\n",
    "    unk_eval = []\n",
    "    unk_progs = []\n",
    "\n",
    "    for i in tqdm(range(250)):\n",
    "        loss = trainer.train_one_epoch()\n",
    "        losses.append(loss)\n",
    "        train, val = trainer.eval()\n",
    "        train_eval.append(train)\n",
    "        val_eval.append(val)\n",
    "        (kno_prog, kno, _1), (unk_prog, unk, _2) = student_eval(trainer, cfg)\n",
    "        kno_eval.append(kno)\n",
    "        kno_progs.append(kno_prog)\n",
    "        unk_eval.append(unk)\n",
    "        unk_progs.append(unk_prog)\n",
    "        if i % 5 == 0:\n",
    "            trainer.model.save(os.path.expanduser('~/autoplan/data/rainfall/models/cfg{}_epoch{}.pt'.format(ci, i)))\n",
    "        \n",
    "    return losses, train_eval, val_eval, kno_eval, kno_progs, unk_eval, unk_progs"
   ]
  },
  {
   "cell_type": "code",
   "execution_count": null,
   "metadata": {
    "scrolled": false
   },
   "outputs": [],
   "source": [
    "#all_results = []\n",
    "for i, cfg in enumerate(configs[1:]):\n",
    "    all_results.append(run_config(i, cfg))"
   ]
  },
  {
   "cell_type": "code",
   "execution_count": null,
   "metadata": {},
   "outputs": [],
   "source": [
    "sorted([\n",
    "    (configs[i], max([evl.accuracy for evl in res[5]]))\n",
    "    for i, res in enumerate(all_results)\n",
    "], key=lambda t: -t[1])\n"
   ]
  },
  {
   "cell_type": "code",
   "execution_count": 76,
   "metadata": {},
   "outputs": [
    {
     "data": {
      "application/vnd.jupyter.widget-view+json": {
       "model_id": "3f83355132ec44c49b5eff7c82c815d5",
       "version_major": 2,
       "version_minor": 0
      },
      "text/plain": [
       "HBox(children=(IntProgress(value=0, max=250), HTML(value='')))"
      ]
     },
     "metadata": {},
     "output_type": "display_data"
    },
    {
     "name": "stdout",
     "output_type": "stream",
     "text": [
      "\n"
     ]
    }
   ],
   "source": [
    "final_result = run_config(10, model_opts)"
   ]
  },
  {
   "cell_type": "code",
   "execution_count": 89,
   "metadata": {},
   "outputs": [
    {
     "data": {
      "text/plain": [
       "{'model': torch.nn.modules.rnn.LSTM, 'embedding_size': 128, 'hidden_size': 512}"
      ]
     },
     "execution_count": 89,
     "metadata": {},
     "output_type": "execute_result"
    }
   ],
   "source": [
    "model_opts"
   ]
  },
  {
   "cell_type": "code",
   "execution_count": 77,
   "metadata": {},
   "outputs": [
    {
     "data": {
      "text/plain": [
       "<matplotlib.axes._subplots.AxesSubplot at 0x7f9604767630>"
      ]
     },
     "execution_count": 77,
     "metadata": {},
     "output_type": "execute_result"
    },
    {
     "data": {
      "image/png": "[encoded data removed]",
      "text/plain": [
       "<Figure size 432x288 with 1 Axes>"
      ]
     },
     "metadata": {
      "needs_background": "light"
     },
     "output_type": "display_data"
    }
   ],
   "source": [
    "losses, train_eval, val_eval, kno_eval, kno_progs, unk_eval, unk_progs = final_result #all_results[2]\n",
    "plot_loss(losses)"
   ]
  },
  {
   "cell_type": "code",
   "execution_count": 78,
   "metadata": {},
   "outputs": [
    {
     "data": {
      "text/plain": [
       "<matplotlib.legend.Legend at 0x7f92c57fc2b0>"
      ]
     },
     "execution_count": 78,
     "metadata": {},
     "output_type": "execute_result"
    },
    {
     "data": {
      "image/png": "[encoded data removed]",
      "text/plain": [
       "<Figure size 432x288 with 1 Axes>"
      ]
     },
     "metadata": {
      "needs_background": "light"
     },
     "output_type": "display_data"
    }
   ],
   "source": [
    "ax = plot_accuracy([t['strategy'] for t in train_eval], label='train')\n",
    "plot_accuracy([t['strategy'] for t in val_eval], ax=ax, label='val')\n",
    "plot_accuracy(kno_eval, ax=ax, label='known')\n",
    "plot_accuracy(unk_eval, ax=ax, label='unknown')\n",
    "ax.legend()"
   ]
  },
  {
   "cell_type": "code",
   "execution_count": 79,
   "metadata": {
    "scrolled": true
   },
   "outputs": [
    {
     "name": "stdout",
     "output_type": "stream",
     "text": [
      "Program 19:\n",
      "let rec stop (aloi : int list) =\n",
      "  (match aloi with\n",
      "   | [] -> []\n",
      "   | hd::tl -> if hd = (-999) then [] else hd :: (stop tl) : int list)\n",
      "let rec non_negative_average (aloi : int list) =\n",
      "  (let average (alon : int list) =\n",
      "     (match alon with\n",
      "      | [] -> 0.0\n",
      "      | _::_ ->\n",
      "          (float_of_int (List.fold_right (+) alon 0)) /.\n",
      "            (float_of_int (List.length alon)) : float) in\n",
      "   average (List.filter (fun x -> x >= 0) aloi) : float)\n",
      "let rec rainfall (aloi : int list) =\n",
      "  (match aloi with | [] -> 0.0 | hd::tl -> non_negative_average (stop aloi) : \n",
      "  float)\n",
      "\n",
      "Pred: GeneralRainfallLabels.CleanInSC\n",
      "True: GeneralRainfallLabels.CleanFirst\n",
      "==============================\n",
      "\n",
      "Program 20:\n",
      "let rainfall (alon : int list) =\n",
      "  (let rec rainfallHelp (alon : int list) (nlon : int list) =\n",
      "     (match alon with\n",
      "      | [] ->\n",
      "          (List.fold_right (fun x -> fun y -> x + y) nlon 0) /\n",
      "            (List.length nlon)\n",
      "      | hd::tl ->\n",
      "          (match hd with\n",
      "           | (-999) ->\n",
      "               if (List.length nlon) = 0\n",
      "               then 0\n",
      "               else\n",
      "                 (List.fold_right (fun x -> fun y -> x + y) nlon 0) /\n",
      "                   (List.length nlon)\n",
      "           | _ ->\n",
      "               if hd >= 0\n",
      "               then rainfallHelp tl (hd :: nlon)\n",
      "               else rainfallHelp tl nlon) : int) in\n",
      "   rainfallHelp alon [] : int)\n",
      "\n",
      "Pred: GeneralRainfallLabels.SingleLoop\n",
      "True: GeneralRainfallLabels.CleanFirst\n",
      "==============================\n",
      "\n",
      "Program 30:\n",
      "let rainfall (alon : int list) =\n",
      "  (let rec rain_helper (alon : int list) (counter : int) (sum : int) =\n",
      "     (match alon with\n",
      "      | [] ->\n",
      "          if counter = 0\n",
      "          then failwith \"No rain was collected\"\n",
      "          else sum / counter\n",
      "      | hd::tl ->\n",
      "          if hd = (-999)\n",
      "          then\n",
      "            (if counter = 0\n",
      "             then failwith \"No rain was collected\"\n",
      "             else sum / counter)\n",
      "          else\n",
      "            if hd >= 0\n",
      "            then rain_helper tl (counter + 1) (hd + sum)\n",
      "            else rain_helper tl counter sum : int) in\n",
      "   rain_helper alon 0 0 : int)\n",
      "\n",
      "Pred: GeneralRainfallLabels.SingleLoop\n",
      "True: GeneralRainfallLabels.CleanFirst\n",
      "==============================\n",
      "\n"
     ]
    }
   ],
   "source": [
    "best_kno_eval = kno_eval[np.argmax([evl.accuracy for evl in kno_eval])]\n",
    "best_unk_eval = unk_eval[np.argmax([evl.accuracy for evl in unk_eval])]\n",
    "\n",
    "best_kno_eval.print_incorrect(known_student_dataset)"
   ]
  },
  {
   "cell_type": "code",
   "execution_count": 82,
   "metadata": {},
   "outputs": [
    {
     "data": {
      "text/plain": [
       "120"
      ]
     },
     "execution_count": 82,
     "metadata": {},
     "output_type": "execute_result"
    }
   ],
   "source": [
    "np.argmax([evl.accuracy for evl in unk_eval])"
   ]
  },
  {
   "cell_type": "code",
   "execution_count": 86,
   "metadata": {},
   "outputs": [],
   "source": [
    "best_config = os.path.expanduser('~/autoplan/data/rainfall/models/cfg{}_epoch{}.pt'.format(10, 120))"
   ]
  },
  {
   "cell_type": "code",
   "execution_count": 87,
   "metadata": {},
   "outputs": [
    {
     "data": {
      "text/plain": [
       "'/home/wcrichto/autoplan/data/rainfall/models/cfg10_epoch120.pt'"
      ]
     },
     "execution_count": 87,
     "metadata": {},
     "output_type": "execute_result"
    }
   ],
   "source": [
    "best_config"
   ]
  },
  {
   "cell_type": "code",
   "execution_count": 85,
   "metadata": {},
   "outputs": [
    {
     "ename": "PicklingError",
     "evalue": "Can't pickle <class 'autoplan.trainer.ClassEvaluation'>: it's not the same object as autoplan.trainer.ClassEvaluation",
     "output_type": "error",
     "traceback": [
      "\u001b[0;31m---------------------------------------------------------------------------\u001b[0m",
      "\u001b[0;31mPicklingError\u001b[0m                             Traceback (most recent call last)",
      "\u001b[0;32m<ipython-input-85-f63a178e9409>\u001b[0m in \u001b[0;36m<module>\u001b[0;34m\u001b[0m\n\u001b[1;32m      1\u001b[0m \u001b[0mbest_eval\u001b[0m \u001b[0;34m=\u001b[0m \u001b[0munk_eval\u001b[0m\u001b[0;34m[\u001b[0m\u001b[0mnp\u001b[0m\u001b[0;34m.\u001b[0m\u001b[0margmax\u001b[0m\u001b[0;34m(\u001b[0m\u001b[0;34m[\u001b[0m\u001b[0mevl\u001b[0m\u001b[0;34m.\u001b[0m\u001b[0maccuracy\u001b[0m \u001b[0;32mfor\u001b[0m \u001b[0mevl\u001b[0m \u001b[0;32min\u001b[0m \u001b[0munk_eval\u001b[0m\u001b[0;34m]\u001b[0m\u001b[0;34m)\u001b[0m\u001b[0;34m]\u001b[0m\u001b[0;34m\u001b[0m\u001b[0;34m\u001b[0m\u001b[0m\n\u001b[0;32m----> 2\u001b[0;31m \u001b[0mpcache\u001b[0m\u001b[0;34m.\u001b[0m\u001b[0mset\u001b[0m\u001b[0;34m(\u001b[0m\u001b[0;34m'parser_best_eval'\u001b[0m\u001b[0;34m,\u001b[0m \u001b[0mbest_eval\u001b[0m\u001b[0;34m)\u001b[0m\u001b[0;34m\u001b[0m\u001b[0;34m\u001b[0m\u001b[0m\n\u001b[0m",
      "\u001b[0;32m~/autoplan/.env/lib/python3.7/site-packages/pickle_cache/lib.py\u001b[0m in \u001b[0;36mset\u001b[0;34m(self, k, v, method, chunks)\u001b[0m\n\u001b[1;32m     89\u001b[0m                 workers=1)\n\u001b[1;32m     90\u001b[0m         \u001b[0;32melse\u001b[0m\u001b[0;34m:\u001b[0m\u001b[0;34m\u001b[0m\u001b[0;34m\u001b[0m\u001b[0m\n\u001b[0;32m---> 91\u001b[0;31m             \u001b[0msave_chunk\u001b[0m\u001b[0;34m(\u001b[0m\u001b[0;34m(\u001b[0m\u001b[0;36m0\u001b[0m\u001b[0;34m,\u001b[0m \u001b[0mv\u001b[0m\u001b[0;34m)\u001b[0m\u001b[0;34m)\u001b[0m\u001b[0;34m\u001b[0m\u001b[0;34m\u001b[0m\u001b[0m\n\u001b[0m\u001b[1;32m     92\u001b[0m         \u001b[0mgc\u001b[0m\u001b[0;34m.\u001b[0m\u001b[0menable\u001b[0m\u001b[0;34m(\u001b[0m\u001b[0;34m)\u001b[0m\u001b[0;34m\u001b[0m\u001b[0;34m\u001b[0m\u001b[0m\n\u001b[1;32m     93\u001b[0m \u001b[0;34m\u001b[0m\u001b[0m\n",
      "\u001b[0;32m~/autoplan/.env/lib/python3.7/site-packages/pickle_cache/lib.py\u001b[0m in \u001b[0;36msave_chunk\u001b[0;34m(args)\u001b[0m\n\u001b[1;32m     72\u001b[0m                     \u001b[0mpickler\u001b[0m \u001b[0;34m=\u001b[0m \u001b[0mpickle\u001b[0m\u001b[0;34m.\u001b[0m\u001b[0mPickler\u001b[0m\u001b[0;34m(\u001b[0m\u001b[0mf\u001b[0m\u001b[0;34m,\u001b[0m \u001b[0mpickle\u001b[0m\u001b[0;34m.\u001b[0m\u001b[0mHIGHEST_PROTOCOL\u001b[0m\u001b[0;34m)\u001b[0m\u001b[0;34m\u001b[0m\u001b[0;34m\u001b[0m\u001b[0m\n\u001b[1;32m     73\u001b[0m                     \u001b[0mpickler\u001b[0m\u001b[0;34m.\u001b[0m\u001b[0mfast\u001b[0m \u001b[0;34m=\u001b[0m \u001b[0;36m1\u001b[0m  \u001b[0;31m# https://stackoverflow.com/a/15108940/356915\u001b[0m\u001b[0;34m\u001b[0m\u001b[0;34m\u001b[0m\u001b[0m\n\u001b[0;32m---> 74\u001b[0;31m                     \u001b[0mpickler\u001b[0m\u001b[0;34m.\u001b[0m\u001b[0mdump\u001b[0m\u001b[0;34m(\u001b[0m\u001b[0mv\u001b[0m\u001b[0;34m)\u001b[0m\u001b[0;34m\u001b[0m\u001b[0;34m\u001b[0m\u001b[0m\n\u001b[0m\u001b[1;32m     75\u001b[0m                 \u001b[0;32melse\u001b[0m\u001b[0;34m:\u001b[0m\u001b[0;34m\u001b[0m\u001b[0;34m\u001b[0m\u001b[0m\n\u001b[1;32m     76\u001b[0m                     \u001b[0;32mraise\u001b[0m \u001b[0mException\u001b[0m\u001b[0;34m(\u001b[0m\u001b[0;34m\"Invalid cache method {}\"\u001b[0m\u001b[0;34m.\u001b[0m\u001b[0mformat\u001b[0m\u001b[0;34m(\u001b[0m\u001b[0mmethod\u001b[0m\u001b[0;34m)\u001b[0m\u001b[0;34m)\u001b[0m\u001b[0;34m\u001b[0m\u001b[0;34m\u001b[0m\u001b[0m\n",
      "\u001b[0;31mPicklingError\u001b[0m: Can't pickle <class 'autoplan.trainer.ClassEvaluation'>: it's not the same object as autoplan.trainer.ClassEvaluation"
     ]
    }
   ],
   "source": [
    "best_eval = unk_eval[np.argmax([evl.accuracy for evl in unk_eval])]\n",
    "pcache.set('parser_best_eval', best_eval)"
   ]
  },
  {
   "cell_type": "code",
   "execution_count": 80,
   "metadata": {},
   "outputs": [
    {
     "name": "stdout",
     "output_type": "stream",
     "text": [
      "Accuracy: 0.9333333333333333\n"
     ]
    },
    {
     "data": {
      "image/png": "[encoded data removed]",
      "text/plain": [
       "<Figure size 432x288 with 2 Axes>"
      ]
     },
     "metadata": {
      "needs_background": "light"
     },
     "output_type": "display_data"
    }
   ],
   "source": [
    "print('Accuracy:', best_kno_eval.accuracy)\n",
    "best_kno_eval.plot_cm(normalize=False)"
   ]
  },
  {
   "cell_type": "code",
   "execution_count": 81,
   "metadata": {},
   "outputs": [
    {
     "name": "stdout",
     "output_type": "stream",
     "text": [
      "Accuracy 0.8351648351648352\n"
     ]
    },
    {
     "data": {
      "image/png": "[encoded data removed]",
      "text/plain": [
       "<Figure size 432x288 with 2 Axes>"
      ]
     },
     "metadata": {
      "needs_background": "light"
     },
     "output_type": "display_data"
    }
   ],
   "source": [
    "print('Accuracy', best_unk_eval.accuracy)\n",
    "best_unk_eval.plot_cm(normalize=False)"
   ]
  },
  {
   "cell_type": "code",
   "execution_count": null,
   "metadata": {},
   "outputs": [],
   "source": [
    "(kno_progs2, kno_eval2, kno_parses), _ = student_eval(trainer)"
   ]
  },
  {
   "cell_type": "code",
   "execution_count": null,
   "metadata": {
    "scrolled": true
   },
   "outputs": [],
   "source": [
    "for i in kno_eval2.incorrect():\n",
    "    print('Pred: {}\\nTrue: {}\\n'.format(str(Labels(kno_eval2.pred[i])), str(Labels(kno_eval2.true[i]))))\n",
    "    print(known_student_dataset.dataset[i]['source'])\n",
    "    print('='*30)\n",
    "    print(OCamlTokenizer().tokenize(kno_progs2[i])[1])\n",
    "    print('\\n\\n\\n')"
   ]
  },
  {
   "cell_type": "code",
   "execution_count": null,
   "metadata": {},
   "outputs": [],
   "source": [
    "list(possible_choices.items())"
   ]
  },
  {
   "cell_type": "code",
   "execution_count": null,
   "metadata": {},
   "outputs": [],
   "source": [
    "def featurize_parse_onehot(parse):\n",
    "    possible_choices = synthetic_dataset.choices\n",
    "    \n",
    "    all_enc = []\n",
    "    for k, v in possible_choices.items():\n",
    "        onehot = np.zeros(len(v))\n",
    "        if k in parse:\n",
    "            onehot[parse[k][0]] = 1            \n",
    "        all_enc.append(onehot)           \n",
    "\n",
    "    return np.hstack(all_enc)\n",
    "\n",
    "def featurize_parse_ordinal(parse):\n",
    "    possible_choices = synthetic_dataset.choices\n",
    "    \n",
    "    feat = np.full(len(possible_choices), -1)\n",
    "    for i, (k, v) in enumerate(possible_choices.items()):\n",
    "        if k in parse:\n",
    "            feat[i] = parse[k][0]\n",
    "    return feat"
   ]
  },
  {
   "cell_type": "code",
   "execution_count": null,
   "metadata": {},
   "outputs": [],
   "source": [
    "kno_parses[28]"
   ]
  },
  {
   "cell_type": "code",
   "execution_count": null,
   "metadata": {},
   "outputs": [],
   "source": [
    "from iterextras import unzip\n",
    "X, Y = unzip([\n",
    "    (featurize_parse_onehot(parse), int(CountWhere.from_string(item['countwhere'])))\n",
    "    for parse, item in zip(kno_parses, known_student_dataset.dataset)\n",
    "])"
   ]
  },
  {
   "cell_type": "code",
   "execution_count": null,
   "metadata": {},
   "outputs": [],
   "source": [
    "from iterextras import unzip\n",
    "Xord, Y = unzip([\n",
    "    (featurize_parse_ordinal(parse), int(CountWhere.from_string(item['countwhere'])))\n",
    "    for parse, item in zip(kno_parses, known_student_dataset.dataset)\n",
    "])"
   ]
  },
  {
   "cell_type": "code",
   "execution_count": null,
   "metadata": {},
   "outputs": [],
   "source": [
    "import json\n",
    "pcache.set('xparse', json.loads(json.dumps(kno_parses)))"
   ]
  },
  {
   "cell_type": "code",
   "execution_count": null,
   "metadata": {},
   "outputs": [],
   "source": [
    "pcache.set('xordy', (Xord, Y))"
   ]
  },
  {
   "cell_type": "code",
   "execution_count": null,
   "metadata": {},
   "outputs": [],
   "source": [
    "from sklearn import tree, svm\n",
    "from sklearn.model_selection import cross_val_score\n",
    "\n",
    "clf = svm.SVC()\n",
    "clf = tree.DecisionTreeClassifier()\n",
    "np.mean(cross_val_score(clf, X, Y, cv=10))"
   ]
  }
 ],
 "metadata": {
  "kernelspec": {
   "display_name": "Python 3",
   "language": "python",
   "name": "python3"
  },
  "language_info": {
   "codemirror_mode": {
    "name": "ipython",
    "version": 3
   },
   "file_extension": ".py",
   "mimetype": "text/x-python",
   "name": "python",
   "nbconvert_exporter": "python",
   "pygments_lexer": "ipython3",
   "version": "3.7.2"
  }
 },
 "nbformat": 4,
 "nbformat_minor": 2
}
