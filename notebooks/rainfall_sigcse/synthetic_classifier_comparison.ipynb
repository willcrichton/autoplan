{
 "cells": [
  {
   "cell_type": "code",
   "execution_count": 1,
   "metadata": {},
   "outputs": [],
   "source": [
    "%load_ext autoreload\n",
    "%autoreload 2"
   ]
  },
  {
   "cell_type": "code",
   "execution_count": 2,
   "metadata": {},
   "outputs": [],
   "source": [
    "import sys\n",
    "sys.path.append('..')"
   ]
  },
  {
   "cell_type": "code",
   "execution_count": 63,
   "metadata": {},
   "outputs": [],
   "source": [
    "from autoplan.token import OCamlTokenizer\n",
    "from autoplan.trainer import ClassifierTrainer\n",
    "from autoplan.vis import plot_accuracy, plot_cm, plot_loss\n",
    "from autoplan.dataset import TrainVal, build_synthetic_dataset, set_random_seed\n",
    "from autoplan.generator import ProgramGenerator\n",
    "\n",
    "from grammars.rainfall.ocaml import Program, Labels\n",
    "\n",
    "from tqdm.auto import tqdm\n",
    "from scripts.rainfall_ingest import ingest_dataset\n",
    "import torch\n",
    "import seaborn as sns\n",
    "from iterextras import par_for\n",
    "from pickle_cache import PickleCache\n",
    "from torch import nn\n",
    "import numpy as np\n",
    "import dataclasses\n",
    "\n",
    "pcache = PickleCache()\n",
    "device = torch.device('cuda:7')"
   ]
  },
  {
   "cell_type": "code",
   "execution_count": 33,
   "metadata": {},
   "outputs": [],
   "source": [
    "student_dataset = ingest_dataset('T1')"
   ]
  },
  {
   "cell_type": "code",
   "execution_count": 97,
   "metadata": {},
   "outputs": [
    {
     "data": {
      "text/plain": [
       "{'source': 'fun rainfall(nums :: List<Number>) -> Number:\\n  #this took approximatly 25-30 minutes\\n  fun get-values(lst :: List<Number>) -> {sum : Number, length : Number}:\\n    doc: \"returns the sum of the correct values in lst, and the number of correct values\"\\n    cases(List<Numbers>) lst:\\n      | empty => {sum : 0, length : 0}\\n      | link(f,r) =>\\n        if f == -999:\\n          {sum : 0, length : 0}\\n        else if f < 0:\\n          v = get-values(r)\\n          {sum : v.sum, length : v.length}\\n        else:\\n          v = get-values(r)\\n          {sum : v.sum + f, length : v.length + 1}\\n        end\\n    end\\n  end\\n  vals = get-values(nums)\\n  if vals.length == 0:\\n    raise(\"error: no correct input values\")\\n  else:\\n    vals.sum / vals.length\\n  end\\n  where:\\n  test1 = [2, 10, 0, -5, 4, -999, 3, 5, -3]\\n  test2 = []\\n  test3 = [-999, 4, 8, 0]\\n  test4 = [-5, 4, 8, 0]\\n  test5 = [-4, -7, -2, -10, -999, 5, 7, -999]\\n  rainfall(test1) is 4\\n  rainfall(test2) raises(\"error: no correct input values\")\\n  rainfall(test3) raises(\"error: no correct input values\")\\n  rainfall(test4) is 4\\n  rainfall(test5) raises(\"error: no correct input values\")\\nend\\n\\n',\n",
       " 'program': tensor([ 0,  1,  2,  1,  3,  1,  4,  1,  5,  6,  7,  1,  8,  0,  1,  2,  1,  3,\n",
       "          1,  4,  1,  5,  6,  7,  9,  1,  8,  1, 10,  1,  8,  1, 11,  8, 12, 13,\n",
       "         14,  2,  1,  4,  1,  5,  6,  1,  8, 15,  1, 16,  9,  1,  8, 17, 10,  1,\n",
       "          8, 17, 11, 15,  1,  2,  1, 10,  1,  6, 16, 18,  1, 19, 17,  8,  9,  1,\n",
       "          8, 17, 10,  1,  8, 17, 11, 20,  1, 21, 17,  8,  1, 22,  1,  2,  1,  6,\n",
       "          9,  1,  8,  1, 23,  1, 10,  1,  8,  1, 23,  1, 11, 24,  1, 22,  1,  2,\n",
       "          1,  6,  9,  1,  8,  1, 23,  1, 25,  1, 10,  1,  8,  1, 23,  1, 25, 17,\n",
       "         11, 26, 26, 26,  1, 22,  1,  2,  1,  6, 18,  1, 23,  1, 19, 17,  8,  1,\n",
       "          2, 13,  6, 24,  1, 23,  1, 27,  1, 23,  1, 26, 28,  1, 22, 29, 17, 10,\n",
       "         17, 10, 17, 10, 17, 10, 17, 10, 17, 10, 17, 10, 17, 10, 17, 30,  1, 22,\n",
       "         29, 30,  1, 22, 29, 17, 10, 17, 10, 17, 10, 17, 30,  1, 22, 29, 17, 10,\n",
       "         17, 10, 17, 10, 17, 30,  1, 22, 29, 17, 10, 17, 10, 17, 10, 17, 10, 17,\n",
       "         10, 17, 10, 17, 10, 17, 30,  1,  2,  1,  6, 31, 17,  1,  2,  1,  6, 32,\n",
       "         33, 13,  6,  1,  2,  1,  6, 32, 33, 13,  6,  1,  2,  1,  6, 31, 17,  1,\n",
       "          2,  1,  6, 32, 33, 13,  6, 26, 34]),\n",
       " 'labels': tensor(2)}"
      ]
     },
     "execution_count": 97,
     "metadata": {},
     "output_type": "execute_result"
    }
   ],
   "source": [
    "student_dataset.dataset[0]"
   ]
  },
  {
   "cell_type": "code",
   "execution_count": 5,
   "metadata": {},
   "outputs": [],
   "source": [
    "df = pd.DataFrame(list(student_dataset.dataset))"
   ]
  },
  {
   "cell_type": "code",
   "execution_count": 36,
   "metadata": {},
   "outputs": [
    {
     "name": "stdout",
     "output_type": "stream",
     "text": [
      "\n",
      "fun rainfall(nums :: List<Number>) -> Number:\n",
      "  \n",
      "\n",
      "  fun helper(nums :: List<Number>, sum :: Number, count :: Number) -> Number:\n",
      "    cases(List<Number>) nums:\n",
      "      | empty =>\n",
      "         if count == 0:\n",
      "           0\n",
      "         else:\n",
      "           sum / count\n",
      "         end\n",
      "      | link(f, r) =>\n",
      "        if f == -999:\n",
      "          \n",
      "          helper([], sum, count)\n",
      "          \n",
      "        else if f < 0:\n",
      "          helper(r, sum, count)\n",
      "        else:\n",
      "          helper(r, sum + f, count + 1)\n",
      "        end\n",
      "    end\n",
      "  end\n",
      "\n",
      "        \n",
      "  \n",
      "  vals = helper(nums)\n",
      "  if vals.length == 0:\n",
      "    raise(\"error\")\n",
      "  else:\n",
      "    vals.sum / vals.length\n",
      "        \n",
      "end\n",
      "        \n"
     ]
    }
   ],
   "source": [
    "generator = ProgramGenerator(grammar=Program())\n",
    "program, choices, choice_options, labels = generator.generate()\n",
    "print(program)"
   ]
  },
  {
   "cell_type": "code",
   "execution_count": null,
   "metadata": {},
   "outputs": [],
   "source": [
    "synth_dataset = build_synthetic_dataset(\n",
    "    GeneralRainfallLabels,\n",
    "    N=1000,\n",
    "    tokenizer=PyretTokenizer(),\n",
    "    generator=ProgramGenerator(grammar=Program()),\n",
    "    vocab_index=student_dataset.vocab_index)"
   ]
  },
  {
   "cell_type": "code",
   "execution_count": 83,
   "metadata": {},
   "outputs": [],
   "source": [
    "trainer = ClassifierTrainer(synth_dataset, device)\n",
    "losses = []\n",
    "train_eval = []\n",
    "val_eval = []"
   ]
  },
  {
   "cell_type": "code",
   "execution_count": 84,
   "metadata": {},
   "outputs": [
    {
     "data": {
      "application/vnd.jupyter.widget-view+json": {
       "model_id": "0f8add63cd9741369cbbc106f0b67482",
       "version_major": 2,
       "version_minor": 0
      },
      "text/plain": [
       "HBox(children=(IntProgress(value=0, max=50), HTML(value='')))"
      ]
     },
     "metadata": {},
     "output_type": "display_data"
    },
    {
     "name": "stdout",
     "output_type": "stream",
     "text": [
      "\n"
     ]
    }
   ],
   "source": [
    "for _ in tqdm(range(50)):\n",
    "    losses.append(trainer.train_one_epoch())\n",
    "    train, val = trainer.eval()\n",
    "    train_eval.append(train)\n",
    "    val_eval.append(val)"
   ]
  },
  {
   "cell_type": "code",
   "execution_count": 85,
   "metadata": {},
   "outputs": [
    {
     "data": {
      "text/plain": [
       "<matplotlib.axes._subplots.AxesSubplot at 0x7f36e459c550>"
      ]
     },
     "execution_count": 85,
     "metadata": {},
     "output_type": "execute_result"
    },
    {
     "data": {
      "image/png": "[encoded data removed]",
      "text/plain": [
       "<Figure size 432x288 with 1 Axes>"
      ]
     },
     "metadata": {
      "needs_background": "light"
     },
     "output_type": "display_data"
    }
   ],
   "source": [
    "pd.Series(losses).plot()"
   ]
  },
  {
   "cell_type": "code",
   "execution_count": 86,
   "metadata": {},
   "outputs": [
    {
     "data": {
      "text/plain": [
       "<matplotlib.axes._subplots.AxesSubplot at 0x7f37045c8be0>"
      ]
     },
     "execution_count": 86,
     "metadata": {},
     "output_type": "execute_result"
    },
    {
     "data": {
      "image/png": "[encoded data removed]",
      "text/plain": [
       "<Figure size 432x288 with 1 Axes>"
      ]
     },
     "metadata": {
      "needs_background": "light"
     },
     "output_type": "display_data"
    }
   ],
   "source": [
    "plot_accuracy(train_eval)"
   ]
  },
  {
   "cell_type": "code",
   "execution_count": 87,
   "metadata": {},
   "outputs": [
    {
     "data": {
      "text/plain": [
       "<matplotlib.axes._subplots.AxesSubplot at 0x7f370460fac8>"
      ]
     },
     "execution_count": 87,
     "metadata": {},
     "output_type": "execute_result"
    },
    {
     "data": {
      "image/png": "[encoded data removed]",
      "text/plain": [
       "<Figure size 432x288 with 1 Axes>"
      ]
     },
     "metadata": {
      "needs_background": "light"
     },
     "output_type": "display_data"
    }
   ],
   "source": [
    "plot_accuracy(val_eval)"
   ]
  },
  {
   "cell_type": "code",
   "execution_count": 98,
   "metadata": {},
   "outputs": [
    {
     "data": {
      "image/png": "[encoded data removed]",
      "text/plain": [
       "<Figure size 432x288 with 2 Axes>"
      ]
     },
     "metadata": {
      "needs_background": "light"
     },
     "output_type": "display_data"
    }
   ],
   "source": [
    "trainer.model.eval()\n",
    "trainer.eval_on(student_dataset.loader(student_dataset.dataset)).plot_cm(normalize=False)"
   ]
  },
  {
   "cell_type": "code",
   "execution_count": 93,
   "metadata": {
    "scrolled": false
   },
   "outputs": [
    {
     "name": "stdout",
     "output_type": "stream",
     "text": [
      "fun rainfall(nums :: List<Number>) -> Number:\n",
      "  #this took approximatly 25-30 minutes\n",
      "  fun get-values(lst :: List<Number>) -> {sum : Number, length : Number}:\n",
      "    doc: \"returns the sum of the correct values in lst, and the number of correct values\"\n",
      "    cases(List<Numbers>) lst:\n",
      "      | empty => {sum : 0, length : 0}\n",
      "      | link(f,r) =>\n",
      "        if f == -999:\n",
      "          {sum : 0, length : 0}\n",
      "        else if f < 0:\n",
      "          v = get-values(r)\n",
      "          {sum : v.sum, length : v.length}\n",
      "        else:\n",
      "          v = get-values(r)\n",
      "          {sum : v.sum + f, length : v.length + 1}\n",
      "        end\n",
      "    end\n",
      "  end\n",
      "  vals = get-values(nums)\n",
      "  if vals.length == 0:\n",
      "    raise(\"error: no correct input values\")\n",
      "  else:\n",
      "    vals.sum / vals.length\n",
      "  end\n",
      "  where:\n",
      "  test1 = [2, 10, 0, -5, 4, -999, 3, 5, -3]\n",
      "  test2 = []\n",
      "  test3 = [-999, 4, 8, 0]\n",
      "  test4 = [-5, 4, 8, 0]\n",
      "  test5 = [-4, -7, -2, -10, -999, 5, 7, -999]\n",
      "  rainfall(test1) is 4\n",
      "  rainfall(test2) raises(\"error: no correct input values\")\n",
      "  rainfall(test3) raises(\"error: no correct input values\")\n",
      "  rainfall(test4) is 4\n",
      "  rainfall(test5) raises(\"error: no correct input values\")\n",
      "end\n",
      "\n",
      "\n",
      "\n",
      "===============\n",
      "\n",
      "fun rainfall(nums :: List<Number>) -> Number:\n",
      "  fun rainfall-helper(l-of-nums :: List<Number>, curr-count :: Number, curr-sum :: Number) -> Number:\n",
      "    cases(List) l-of-nums:\n",
      "      | empty => if (curr-count == 0): 0 else: (curr-sum / curr-count);\n",
      "      | link(f,r) =>\n",
      "        if (f == -999):\n",
      "          if (curr-count == 0): 0 else: (curr-sum / curr-count);\n",
      "        else if (f >= 0):\n",
      "          rainfall-helper(r,curr-count + 1, curr-sum + f)\n",
      "        else:\n",
      "          rainfall-helper(r,curr-count, curr-sum)\n",
      "        end\n",
      "    end\n",
      "  end\n",
      "  rainfall-helper(nums,0,0)\n",
      "  where:\n",
      "  rainfall([0,10,20,-999,200]) is 10\n",
      "  rainfall([]) is 0\n",
      "  rainfall([0,10,-7,20,-999,200]) is 10\n",
      "  rainfall([19,1,-8,18,42]) is 20\n",
      "  rainfall([-999]) is 0\n",
      "end\n",
      "\n",
      "#This took 7 minutes. I realize this has no significance and I am anonymous so this is an accurate number.\n",
      "\n",
      "\n",
      "\n",
      "===============\n",
      "\n",
      "fun rainfall(nums :: List<Number>) -> Number:\n",
      "  # This took me 10 minutes\n",
      "  fun rainfall-helper(numbers :: List<Number>, acc :: Number, n :: Number) -> {acc : Number, n : Number}:\n",
      "    cases (List) numbers:\n",
      "      | empty => {acc : acc, n : n}\n",
      "      | link(f, r) => \n",
      "        if f == -999: \n",
      "          {acc : acc, n : n}\n",
      "        else:\n",
      "          if f < 0:\n",
      "            rainfall-helper(r, acc, n)\n",
      "          else:\n",
      "            rainfall-helper(r, acc + f, n + 1)\n",
      "          end\n",
      "        end\n",
      "    end\n",
      "  end\n",
      "  temp = rainfall-helper(nums, 0, 0)\n",
      "  if temp.n <> 0:\n",
      "    temp.acc / temp.n\n",
      "  else: \n",
      "    raise(\"Not Enough Data!\")\n",
      "  end\n",
      "where:\n",
      "  rainfall([1,2,3]) is 2  \n",
      "  rainfall([-5,2,3]) is 5/2\n",
      "  rainfall([6,3,7,-2,-99,0,-999,2,6]) is 4\n",
      "  rainfall([-5,-999]) raises \"Not Enough Data!\"\n",
      "  rainfall([-999]) raises \"Not Enough Data!\"\n",
      "end\n",
      "\n",
      "\n",
      "\n",
      "===============\n",
      "\n",
      "fun rainfall(nums :: List<Number>) -> Number:\n",
      "  doc: \"Averages the nonnegative numbers that appear before the first -999 or the end of the list. (Unclear if a list without sentinel values raises an error) Total time: ~10 minutes\"\n",
      "  fun rainfall-helper(n :: List<Number>, total :: Number, divisor :: Number) -> Number:\n",
      "    cases(List) n:\n",
      "      |empty => \n",
      "        if (divisor == 0): 1\n",
      "        else: total/divisor;\n",
      "      |link(f, r) =>\n",
      "        if (f == -999):\n",
      "          if (divisor == 0): 1\n",
      "          else: total/divisor;\n",
      "        else:\n",
      "          if (f >= 0):\n",
      "            rainfall-helper(r, total + f, divisor + 1)\n",
      "          else:\n",
      "            rainfall-helper(r, total, divisor)\n",
      "          end\n",
      "        end\n",
      "    end\n",
      "  end\n",
      "  rainfall-helper(nums, 0, 0)\n",
      "end\n",
      "\n",
      "\n",
      "\n",
      "===============\n",
      "\n",
      "fun rainfall(nums :: List<Number>) -> Number:\n",
      "  #Start time: 4:58\n",
      "  #End time: 5:12\n",
      "  #Elapsed time: 14 minutes\n",
      "  inner = fun(ns :: List<Number>,sum :: Number, count :: Number) -> Number:\n",
      "    doc: \"Keeps track of how many numbers have been summed\"\n",
      "    cases(List) ns:\n",
      "      | empty =>\n",
      "        if (count == 0): #Can't divide by zero\n",
      "          0\n",
      "        else:\n",
      "          sum/count\n",
      "        end\n",
      "      | link(f,r) =>\n",
      "        if (f > 0):\n",
      "          inner(r,sum+f,count+1)\n",
      "        else if (f == -999):\n",
      "          if (count == 0): #Can't divide by zero\n",
      "            0\n",
      "          else:\n",
      "            sum/count\n",
      "          end\n",
      "        else:\n",
      "          inner(r,sum,count)\n",
      "        end\n",
      "    end\n",
      "  end\n",
      "  inner(nums,0,0)\n",
      "  where:\n",
      "  rainfall([]) is 0\n",
      "  rainfall([-999]) is 0\n",
      "  rainfall([1,2,3,4,5,6,-999,1,2,3,4]) is 3.5\n",
      "  rainfall([1,-999]) is 1\n",
      "  rainfall([10,20,-23,30,-999]) is 20\n",
      "  rainfall([5,10,-14,-23,10,15,-999]) is 10\n",
      "  rainfall([10,10,5,15,10,10]) is 10\n",
      "  rainfall([100,50,20,-100,-29,10]) is 45\n",
      "end\n",
      "\n",
      "\n",
      "\n",
      "===============\n",
      "\n",
      "fun rainfall(nums :: List<Number>) -> Number:\n",
      "  doc:\"tabulates rainfall. Rainfall averages all positive number within nums. Rainfall ends when it reads -999\"\n",
      "  count-rain(nums,0,0)\n",
      "where:\n",
      "  rainfall([]) is 0\n",
      "  rainfall(l1) is 2\n",
      "  rainfall(l2) is 0\n",
      "  rainfall(l3) is 2\n",
      "  rainfall(l4) is 10\n",
      "end\n",
      "fun count-rain (nums :: List<Number>, total, count) -> Number:\n",
      "  doc:\"helper function for rainfall. averages all positive number within nums. Rainfall ends when it reads -999\"\n",
      "  cases(List) nums:\n",
      "    | empty => \n",
      "      if count == 0: 0\n",
      "      else: total/count\n",
      "      end\n",
      "    | link(f,r) => \n",
      "      if f == -999:\n",
      "        if count == 0: 0\n",
      "        else: total/count\n",
      "        end\n",
      "      else if  f > 0: \n",
      "        count-rain(r,total+f,count+1)\n",
      "      else: \n",
      "        count-rain(r,total,count)\n",
      "      end\n",
      "  end\n",
      "where: \n",
      "  count-rain([],0,0) is 0\n",
      "  count-rain(l1,0,0) is 2\n",
      "  count-rain(l2,0,0) is 0\n",
      "  count-rain(l3,0,0) is 2\n",
      "end\n",
      "l1 = [1,2,3,-5,-999]\n",
      "l2 = [-999,2,3]\n",
      "l3 = [1,-5,2,3]\n",
      "l4 = [10,5,15,10,15,5,-999,12,14,12,4,2,4,5,-999]\n",
      "#took about 15min\n",
      "\n",
      "\n",
      "===============\n",
      "\n",
      "fun rainfall(nums :: List<Number>) -> Number:\n",
      "  #About 10 minutes\n",
      "  doc:\"Takes as input a list of numbers and computes the average of them up to the first -999.\"\n",
      "  fun average(alon :: List<Number>, total :: Number, iter :: Number)-> Number:\n",
      "    cases(List)alon:\n",
      "      |empty => total/iter\n",
      "      |link(f,r) =>\n",
      "        if f==-999:\n",
      "          total/iter\n",
      "        else if f <> -999:          \n",
      "          average(r,total+f,iter+1)\n",
      "        end\n",
      "    end\n",
      "  end\n",
      "  \n",
      "  average(nums, 0,0)\n",
      "  \n",
      "end\n",
      "\n",
      "\n",
      "\n",
      "===============\n",
      "\n",
      "fun rainfall(nums :: List<Number>) -> Number:\n",
      "  cases(List) nums:\n",
      "    | empty => 0\n",
      "    | link(first, rest) =>\n",
      "      if first == -999:\n",
      "        0\n",
      "      else:\n",
      "        rainfall-helper(nums, 0, 0)\n",
      "      end \n",
      "  end \n",
      "where:\n",
      "  rainfall([]) is 0\n",
      "  rainfall([-999]) is 0\n",
      "  rainfall([3, 10, 2, -1, -999]) is 5\n",
      "  rainfall([3, -999, 3, -1, -999, 4, 7]) is 3\n",
      "  rainfall([-7, 9, 3]) is 6\n",
      "end\n",
      "fun rainfall-helper(nums :: List<Number>, sum :: Number, count :: Number) -> Number:\n",
      "  cases(List) nums:\n",
      "    | empty => \n",
      "      if count == 0:\n",
      "        0\n",
      "      else:\n",
      "        sum / count\n",
      "      end \n",
      "    | link(first, rest) => \n",
      "      if first == -999:\n",
      "        sum / count\n",
      "      else if first > 0:\n",
      "        rainfall-helper(rest, sum + first, count + 1)\n",
      "      else:\n",
      "        rainfall-helper(rest, sum, count)\n",
      "      end \n",
      "  end\n",
      "where:\n",
      "  rainfall-helper([], 0 ,0) is 0\n",
      "  rainfall-helper([3, 10, 2, -1, -999], 0, 0) is 5\n",
      "  rainfall-helper([-9], 0 ,0) is 0\n",
      "  rainfall-helper([-9, 8], 0 ,0) is 8\n",
      "end \n",
      "#I spent about 30 minutes on this project\n",
      "\n",
      "\n",
      "===============\n",
      "\n",
      "fun rainfall(nums :: List<Number>) -> Number:\n",
      "  rainfall-helper(nums, 0, 0)\n",
      "  where:\n",
      "  rainfall([0,2,3,5,1,-5,-4,1,2,-5,7,-5,-999,3,4,5]) is 21/8\n",
      "  rainfall([]) raises \"No end point found\"\n",
      "  rainfall([0]) raises \"No end point found\"\n",
      "  rainfall([0,-999]) is 0\n",
      "  #8 minutes, I think\n",
      "  \n",
      "end\n",
      "fun rainfall-helper(nums :: List<Number>, sum :: Number, elements :: Number) -> Number:\n",
      "  cases(List) nums:\n",
      "    |empty => raise(\"No end point found\")\n",
      "    | link(f,r) => \n",
      "      if (f == -999):\n",
      "        sum/elements\n",
      "      else if (f < 0):\n",
      "        rainfall-helper(r, sum , elements)\n",
      "      else:\n",
      "        rainfall-helper(r, sum + f, elements + 1)\n",
      "      end\n",
      "  end\n",
      "end\n",
      "      \n",
      "\n",
      "\n",
      "\n",
      "\n",
      "\n",
      "===============\n",
      "\n",
      "fun rainfall(nums :: List<Number>) -> Number:\n",
      "  doc: \"3 minutes\"\n",
      "  avg(nums, 0, 0)\n",
      "end\n",
      "fun avg(nums :: List<Number>, running :: Number, div :: Number) -> Number:\n",
      "  if nums.first == -999:\n",
      "    running / div\n",
      "  else:\n",
      "    cases(List) nums:\n",
      "      | empty => running / div\n",
      "      | link(f, r) => if f < 0:\n",
      "          avg(r, running, div)\n",
      "        else:\n",
      "          avg(r, running + f, div + 1)\n",
      "        end\n",
      "    end\n",
      "  end\n",
      "end\n",
      "\n",
      "\n",
      "===============\n",
      "\n",
      "fun rainfall(nums :: List<Number>) -> Number:\n",
      "  #10mins work\n",
      "  sum = for fold(result from {val : 0, count : 0, flag : true}, n from nums):\n",
      "    if result.flag:\n",
      "      if n == -999:\n",
      "        {val : result.val, count: result.count, flag : false}\n",
      "      else:\n",
      "        {val : (result.val + n), count : result.count + 1, flag : true}\n",
      "      end\n",
      "    else:\n",
      "      result\n",
      "    end\n",
      "  end\n",
      "  if sum.count == 0:\n",
      "    0\n",
      "  else:\n",
      "    sum.val / sum.count\n",
      "  end\n",
      "where:\n",
      "  rainfall([]) is 0\n",
      "  rainfall([1,2,3,-1,-2,-3]) is 0\n",
      "  rainfall([1,2,3,-1,-2,-3, -999]) is 0\n",
      "  rainfall([1,2,3]) is 2\n",
      "  rainfall([-1,-2,-3]) is -2\n",
      "  rainfall([1,2,3,-999,-1,-999-2,-999,-3]) is 2\n",
      "  rainfall([-1,-2,-3,-999,4,5,6]) is -2\n",
      "end\n",
      "\n",
      "\n",
      "\n",
      "===============\n",
      "\n",
      "fun rainfall(nums :: List<Number>) -> Number:\n",
      "  #took 10-15 minutes\n",
      "  \n",
      "  fun helper(thelist :: List<Number>,count :: Number,sum :: Number) -> Number:\n",
      "    cases(List<Number>) thelist:\n",
      "      |  empty => sum/count\n",
      "      |  link(f,r) =>\n",
      "        if f == -999: sum/count \n",
      "        else if f < 0: helper(r,count,sum)\n",
      "        else: helper(r,count+1,sum+f)\n",
      "        end\n",
      "    end\n",
      "  end\n",
      "\n",
      "  cases(List<Number>) nums:\n",
      "    |  empty => 0\n",
      "    |  link(_,_) => helper(nums,0,0)\n",
      "  end\n",
      "end\n",
      "\n",
      "\n",
      "\n",
      "===============\n",
      "\n",
      "fun rainfall(nums :: List<Number>) -> Number:\n",
      "# I spent 8 minutes on this problem.\n",
      "  cases(List) nums :\n",
      "    | empty => 0\n",
      "    | link(element, follow) =>\n",
      "      raincatcher(follow, element, 1)\n",
      "  end\n",
      "  where:\n",
      "  rainfall([]) is 0\n",
      "  rainfall([1, 1, -999]) is 1\n",
      "  rainfall([1, 1]) is 1\n",
      "  rainfall([1, 3, 5, 7, -999]) is 4\n",
      "  rainfall([1, 12, -12, 3]) is 1\n",
      "end\n",
      "fun raincatcher(nums :: List<Number>, total :: Number, days :: Number) -> Number:\n",
      "  doc: \"\"\n",
      "  cases(List) nums:\n",
      "    | empty => total/days\n",
      "    | link(element, follow) =>\n",
      "      if (element == -999):\n",
      "        total/days\n",
      "      else:\n",
      "        raincatcher(follow, total+element, days+1)\n",
      "      end\n",
      "  end\n",
      "end\n",
      "\n",
      "\n",
      "===============\n",
      "\n"
     ]
    }
   ],
   "source": [
    "for _, row in df[df.labels == GeneralRainfallLabels.SingleLoop].iterrows():\n",
    "    print(row.source)\n",
    "    print('\\n{}\\n'.format('='*15))"
   ]
  }
 ],
 "metadata": {
  "kernelspec": {
   "display_name": "Python 3",
   "language": "python",
   "name": "python3"
  },
  "language_info": {
   "codemirror_mode": {
    "name": "ipython",
    "version": 3
   },
   "file_extension": ".py",
   "mimetype": "text/x-python",
   "name": "python",
   "nbconvert_exporter": "python",
   "pygments_lexer": "ipython3",
   "version": "3.7.2"
  }
 },
 "nbformat": 4,
 "nbformat_minor": 2
}
