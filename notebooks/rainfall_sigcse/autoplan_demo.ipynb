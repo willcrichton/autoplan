{
 "cells": [
  {
   "cell_type": "markdown",
   "metadata": {},
   "source": [
    "# Creating a dataset\n",
    "\n",
    "First, we need a dataset of labeled programs that Autoplan can classify. We'll use an example Java dataset of Fizzbuzz implementations. In this case, there are two program structures we're considering: \n",
    "* **Separate**, where the \"FizzBuzz\" case is distinct from \"Fizz\" and \"Buzz\", and\n",
    "* **Combined**, where the \"FizzBuzz\" case is a combination of the two cases\n",
    "\n",
    "I wrote six programs (three of each kind) below. We define a `programs` array with the Java source, and a `labels` array with the category of each program."
   ]
  },
  {
   "cell_type": "code",
   "execution_count": 2,
   "metadata": {},
   "outputs": [],
   "source": [
    "from autoplan.labels import Labels\n",
    "\n",
    "class FizzbuzzLabels(Labels):\n",
    "    Separate = 0\n",
    "    Combined = 1\n",
    "    \n",
    "programs = [\n",
    "    '''\n",
    "class Main {    \n",
    "    public static void main(String[] args) {\n",
    "      for (int i = 0; i < 100; ++i) {\n",
    "        if (i % 15 == 0) {\n",
    "          System.out.println(\"FizzBuzz\");\n",
    "        } else if (i % 3 == 0) {\n",
    "          System.out.println(\"Fizz\");\n",
    "        } else if (i % 5 == 0) {\n",
    "          System.out.println(\"Buzz\");\n",
    "        }\n",
    "      }\n",
    "    }\n",
    "}\n",
    "''',\n",
    "    \n",
    "    '''\n",
    "class Main {    \n",
    "    public static void main(String[] args) {\n",
    "      int i = 0; \n",
    "      while (i < 100) {\n",
    "        if (i % 15 == 0) {\n",
    "          System.out.println(\"FizzBuzz\");\n",
    "        } else if (i % 3 == 0) {\n",
    "          System.out.println(\"Fizz\");\n",
    "        } else if (i % 5 == 0) {\n",
    "          System.out.println(\"Buzz\");\n",
    "        }\n",
    "        ++i;\n",
    "      }\n",
    "    }\n",
    "}\n",
    "''',   \n",
    "    \n",
    "        \n",
    "    '''\n",
    "class Main {    \n",
    "    public static void main(String[] args) {\n",
    "      int i = 0; \n",
    "      while (true) {\n",
    "        if (i % 15 == 0) {\n",
    "          System.out.println(\"FizzBuzz\");\n",
    "        } else if (i % 3 == 0) {\n",
    "          System.out.println(\"Fizz\");\n",
    "        } else if (i % 5 == 0) {\n",
    "          System.out.println(\"Buzz\");\n",
    "        }\n",
    "        ++i;\n",
    "        if (i >= 100) { break; }\n",
    "      }\n",
    "    }\n",
    "}\n",
    "''',\n",
    "    \n",
    "    '''\n",
    "class Main {    \n",
    "    public static void main(String[] args) {\n",
    "      for (int i = 0; i < 100; ++i) {\n",
    "        if (i % 3 == 0) {\n",
    "          System.out.print(\"Fizz\");\n",
    "        }  \n",
    "        if (i % 5 == 0) {\n",
    "          System.out.print(\"Buzz\");\n",
    "        }\n",
    "        if (i % 3 == 0 || i % 5 == 0) {\n",
    "          System.out.print(\"\\n\");\n",
    "        }\n",
    "      }\n",
    "    }\n",
    "}\n",
    "''',\n",
    "    \n",
    "    '''\n",
    "class Main {    \n",
    "    public static void main(String[] args) {\n",
    "      for (int k = 0; k < 100; ++k) {\n",
    "        int mod3 = k % 3;\n",
    "        int mod5 = k % 5;\n",
    "        if (mod3 == 0) {\n",
    "          System.out.print(\"Fizz\");\n",
    "        }  \n",
    "        if (mod5 == 0) {\n",
    "          System.out.print(\"Buzz\");\n",
    "        }\n",
    "        if (mod3 || mod5) {\n",
    "          System.out.print(\"\\n\");\n",
    "        }\n",
    "      }\n",
    "    }\n",
    "}\n",
    "''',\n",
    "    \n",
    "   '''\n",
    "class Main {    \n",
    "    public static void main(String[] args) {\n",
    "      int i = 0;\n",
    "      while (i < 100) {\n",
    "        if (i % 3 == 0 || i % 5 == 0) {\n",
    "          if (i % 3 == 0) {\n",
    "            System.out.print(\"Fizz\");\n",
    "          }\n",
    "          if (i % 5 == 0) {\n",
    "            System.out.print(\"Buzz\");        \n",
    "          }\n",
    "          System.out.print(\"\\n\");\n",
    "        }  \n",
    "        i += 1;\n",
    "      }\n",
    "    }\n",
    "}\n",
    "'''\n",
    "]\n",
    "\n",
    "labels = [\n",
    "    FizzbuzzLabels.Separate, FizzbuzzLabels.Separate, FizzbuzzLabels.Separate, \n",
    "    FizzbuzzLabels.Combined, FizzbuzzLabels.Combined, FizzbuzzLabels.Combined\n",
    "]"
   ]
  },
  {
   "cell_type": "markdown",
   "metadata": {},
   "source": [
    "Once our programs and labels are defined, we can turn them into a dataset object using `build_labeled_dataset`. We also need to pass in a parser that understands the syntax of programs in our language. We have a few built-in ones (Java, OCaml, and Pyret). If you want to use Autoplan for an unsupported language, please put an issue on our Github."
   ]
  },
  {
   "cell_type": "code",
   "execution_count": 39,
   "metadata": {},
   "outputs": [],
   "source": [
    "from autoplan.dataset import build_labeled_dataset\n",
    "from autoplan.parser import JavaParser\n",
    "\n",
    "parser = JavaParser()\n",
    "dataset = build_labeled_dataset(FizzbuzzLabels, programs, labels, parser)"
   ]
  },
  {
   "cell_type": "markdown",
   "metadata": {},
   "source": [
    "# Training a classifier\n",
    "\n",
    "The next step is to train one of the classifiers on your dataset. We have two classifiers, a nearest-neighbors and recurrent neural network. For each classifier, we will train it on the dataset, and then test it on a sample program."
   ]
  },
  {
   "cell_type": "code",
   "execution_count": 96,
   "metadata": {},
   "outputs": [],
   "source": [
    "test_program = '''\n",
    "class Main {    \n",
    "    public static void main(String[] args) {\n",
    "      for (int i = 0; i < 100; ++i) {\n",
    "        if (i % 3 == 0 || i % 5 == 0) {\n",
    "          if (i % 3 == 0) {\n",
    "            System.out.print(\"Fizz\");\n",
    "          }\n",
    "          if (i % 5 == 0) {\n",
    "            System.out.print(\"Buzz\");        \n",
    "          }\n",
    "          System.out.print(\"\\n\");\n",
    "        }  \n",
    "      }\n",
    "    }\n",
    "}\n",
    "'''"
   ]
  },
  {
   "cell_type": "code",
   "execution_count": 97,
   "metadata": {},
   "outputs": [
    {
     "data": {
      "text/plain": [
       "<FizzbuzzLabels.Combined: 1>"
      ]
     },
     "execution_count": 97,
     "metadata": {},
     "output_type": "execute_result"
    }
   ],
   "source": [
    "from autoplan.neighbors import TokenNNClassifier\n",
    "\n",
    "# Nearest-neighbors does not need training, so we can construct it and we're ready\n",
    "# Note that you can also use the TreeNNClassifier in some cases\n",
    "knn = TokenNNClassifier(dataset)\n",
    "\n",
    "# Classify returns the predicted label of the program\n",
    "knn.classify(test_program)"
   ]
  },
  {
   "cell_type": "code",
   "execution_count": 93,
   "metadata": {},
   "outputs": [
    {
     "data": {
      "application/vnd.jupyter.widget-view+json": {
       "model_id": "76999161029a4996b93e6ff13550a3bf",
       "version_major": 2,
       "version_minor": 0
      },
      "text/plain": [
       "HBox(children=(IntProgress(value=0, max=60), HTML(value='')))"
      ]
     },
     "metadata": {},
     "output_type": "display_data"
    }
   ],
   "source": [
    "from autoplan.trainer import ClassifierTrainer\n",
    "from autoplan.dataset import RandomSplit\n",
    "\n",
    "from torch import nn\n",
    "import torch\n",
    "\n",
    "# The recurrent neural network uses Pytorch, so we initialize it with some Pytorch parameters.\n",
    "device = torch.device('cuda:7')\n",
    "model_opts = {\n",
    "    'model': nn.LSTM,\n",
    "    'hidden_size': 64,\n",
    "    'embedding_size': 32\n",
    "}\n",
    "\n",
    "# We have to explicitly train the network, and then load the weights of the best run.\n",
    "rnn = ClassifierTrainer(dataset, device=device, model_opts=model_opts, split=RandomSplit(dataset))\n",
    "_ = rnn.train_and_load_best(epochs=60)"
   ]
  },
  {
   "cell_type": "code",
   "execution_count": null,
   "metadata": {},
   "outputs": [],
   "source": [
    "rnn.classify(test_program)"
   ]
  },
  {
   "cell_type": "markdown",
   "metadata": {},
   "source": [
    "# Evaluating a classifier\n",
    "\n",
    "Running the classifier on a particular program is useful, but you probably also want to know how effective the classifier is in general. For that, we have facilities to cross-validate each classifier on the labeled dataset. \n",
    "\n",
    "Below, each classifier is trained on 2/3 of the dataset and evaluated on the remaining 1/3. This process is repeated 20 times (`folds`), and the average accuracy is computed."
   ]
  },
  {
   "cell_type": "code",
   "execution_count": 99,
   "metadata": {},
   "outputs": [
    {
     "data": {
      "application/vnd.jupyter.widget-view+json": {
       "model_id": "eb686a0341d94270bde90e7a25f6a068",
       "version_major": 2,
       "version_minor": 0
      },
      "text/plain": [
       "HBox(children=(IntProgress(value=0, max=6), HTML(value='')))"
      ]
     },
     "metadata": {},
     "output_type": "display_data"
    },
    {
     "name": "stdout",
     "output_type": "stream",
     "text": [
      "Mean accuracy for nearest-neighbors is 0.52 (σ = 0.25)\n"
     ]
    }
   ],
   "source": [
    "import numpy as np\n",
    "\n",
    "test_frac = 0.34\n",
    "folds = 20\n",
    "\n",
    "dist_mtx = knn.compute_distance_matrix(knn.programs)\n",
    "confusion_mtxs = knn.crossval(dist_mtx, k=1, folds=folds, test_frac=test_frac)[0]\n",
    "accuracies = np.array([m.accuracy for m in confusion_mtxs])\n",
    "\n",
    "print(f'Mean accuracy for nearest-neighbors is {accuracies.mean():.02f} (σ = {accuracies.std():.02f})')"
   ]
  },
  {
   "cell_type": "code",
   "execution_count": 101,
   "metadata": {},
   "outputs": [
    {
     "data": {
      "application/vnd.jupyter.widget-view+json": {
       "model_id": "4e9904ffe8044e23822a5e22648a06c6",
       "version_major": 2,
       "version_minor": 0
      },
      "text/plain": [
       "HBox(children=(IntProgress(value=0, max=20), HTML(value='')))"
      ]
     },
     "metadata": {},
     "output_type": "display_data"
    },
    {
     "name": "stdout",
     "output_type": "stream",
     "text": [
      "Mean accuracy for recurrent neural network is 0.62 (σ = 0.35)\n"
     ]
    }
   ],
   "source": [
    "from autoplan.trainer import ClassifierTrainer\n",
    "\n",
    "\n",
    "cval_results = ClassifierTrainer.crossval(\n",
    "    dataset, split=RandomSplit(dataset), epochs=60, model_opts=model_opts, folds=folds, test_frac=test_frac,  \n",
    "    device=device, progress=True)\n",
    "accuracies = np.array(cval_results['accuracy'])\n",
    "\n",
    "print(f'Mean accuracy for recurrent neural network is {accuracies.mean():.02f} (σ = {accuracies.std():.02f})')"
   ]
  },
  {
   "cell_type": "markdown",
   "metadata": {},
   "source": [
    "# Improving a classifier\n",
    "\n",
    "Some classifiers like nearest-neighbors can't easily be improved, unless you come up with another way to compare programs. However, neural networks have many parameters that can be tweaked to improve performance. Below we show an example of using the [hyperopt](http://hyperopt.github.io/hyperopt/) library to select the best parameters for the neural network."
   ]
  },
  {
   "cell_type": "code",
   "execution_count": 102,
   "metadata": {},
   "outputs": [
    {
     "name": "stdout",
     "output_type": "stream",
     "text": [
      "\r",
      "  0%|          | 0/30 [00:00<?, ?trial/s, best loss=?]"
     ]
    },
    {
     "data": {
      "application/vnd.jupyter.widget-view+json": {
       "model_id": "c8ae6462b84f4ab79dcc7e8b41b7d0fd",
       "version_major": 2,
       "version_minor": 0
      },
      "text/plain": [
       "HBox(children=(IntProgress(value=0, max=10), HTML(value='')))"
      ]
     },
     "metadata": {},
     "output_type": "display_data"
    },
    {
     "name": "stdout",
     "output_type": "stream",
     "text": [
      "\r",
      "  3%|▎         | 1/30 [00:08<04:12,  8.72s/trial, best loss: 0.44999999999999996]"
     ]
    },
    {
     "data": {
      "application/vnd.jupyter.widget-view+json": {
       "model_id": "ec379d18d8a54d69a230073bf5ac822e",
       "version_major": 2,
       "version_minor": 0
      },
      "text/plain": [
       "HBox(children=(IntProgress(value=0, max=10), HTML(value='')))"
      ]
     },
     "metadata": {},
     "output_type": "display_data"
    },
    {
     "name": "stdout",
     "output_type": "stream",
     "text": [
      "\r",
      "  7%|▋         | 2/30 [00:16<03:56,  8.45s/trial, best loss: 0.44999999999999996]"
     ]
    },
    {
     "data": {
      "application/vnd.jupyter.widget-view+json": {
       "model_id": "71affdc80a0a414f82ff740ee05e680d",
       "version_major": 2,
       "version_minor": 0
      },
      "text/plain": [
       "HBox(children=(IntProgress(value=0, max=10), HTML(value='')))"
      ]
     },
     "metadata": {},
     "output_type": "display_data"
    },
    {
     "name": "stdout",
     "output_type": "stream",
     "text": [
      "\r",
      " 10%|█         | 3/30 [00:24<03:45,  8.35s/trial, best loss: 0.44999999999999996]"
     ]
    },
    {
     "data": {
      "application/vnd.jupyter.widget-view+json": {
       "model_id": "73307d510adc4b3aa6d3d1fb0c9e68f3",
       "version_major": 2,
       "version_minor": 0
      },
      "text/plain": [
       "HBox(children=(IntProgress(value=0, max=10), HTML(value='')))"
      ]
     },
     "metadata": {},
     "output_type": "display_data"
    },
    {
     "name": "stdout",
     "output_type": "stream",
     "text": [
      "\r",
      " 13%|█▎        | 4/30 [00:32<03:35,  8.28s/trial, best loss: 0.44999999999999996]"
     ]
    },
    {
     "data": {
      "application/vnd.jupyter.widget-view+json": {
       "model_id": "ac8d95dfc37743f08ba87374761d28dd",
       "version_major": 2,
       "version_minor": 0
      },
      "text/plain": [
       "HBox(children=(IntProgress(value=0, max=10), HTML(value='')))"
      ]
     },
     "metadata": {},
     "output_type": "display_data"
    },
    {
     "name": "stdout",
     "output_type": "stream",
     "text": [
      "\r",
      " 17%|█▋        | 5/30 [00:40<03:23,  8.14s/trial, best loss: 0.30000000000000004]"
     ]
    },
    {
     "data": {
      "application/vnd.jupyter.widget-view+json": {
       "model_id": "66b7f9c1f7a14dd093324b3d9b9a7eb4",
       "version_major": 2,
       "version_minor": 0
      },
      "text/plain": [
       "HBox(children=(IntProgress(value=0, max=10), HTML(value='')))"
      ]
     },
     "metadata": {},
     "output_type": "display_data"
    },
    {
     "name": "stdout",
     "output_type": "stream",
     "text": [
      "\r",
      " 20%|██        | 6/30 [00:49<03:23,  8.47s/trial, best loss: 0.30000000000000004]"
     ]
    },
    {
     "data": {
      "application/vnd.jupyter.widget-view+json": {
       "model_id": "60385e1930834e9a8924572cd98e8ced",
       "version_major": 2,
       "version_minor": 0
      },
      "text/plain": [
       "HBox(children=(IntProgress(value=0, max=10), HTML(value='')))"
      ]
     },
     "metadata": {},
     "output_type": "display_data"
    },
    {
     "name": "stdout",
     "output_type": "stream",
     "text": [
      "\r",
      " 23%|██▎       | 7/30 [00:58<03:17,  8.58s/trial, best loss: 0.30000000000000004]"
     ]
    },
    {
     "data": {
      "application/vnd.jupyter.widget-view+json": {
       "model_id": "f30d82d601434d89a14a4b3608d4c871",
       "version_major": 2,
       "version_minor": 0
      },
      "text/plain": [
       "HBox(children=(IntProgress(value=0, max=10), HTML(value='')))"
      ]
     },
     "metadata": {},
     "output_type": "display_data"
    },
    {
     "name": "stdout",
     "output_type": "stream",
     "text": [
      "\r",
      " 27%|██▋       | 8/30 [01:06<03:06,  8.46s/trial, best loss: 0.30000000000000004]"
     ]
    },
    {
     "data": {
      "application/vnd.jupyter.widget-view+json": {
       "model_id": "ca0e2096a5264993ab95707ca897173a",
       "version_major": 2,
       "version_minor": 0
      },
      "text/plain": [
       "HBox(children=(IntProgress(value=0, max=10), HTML(value='')))"
      ]
     },
     "metadata": {},
     "output_type": "display_data"
    },
    {
     "name": "stdout",
     "output_type": "stream",
     "text": [
      "\r",
      " 30%|███       | 9/30 [01:20<03:29,  9.97s/trial, best loss: 0.30000000000000004]"
     ]
    },
    {
     "data": {
      "application/vnd.jupyter.widget-view+json": {
       "model_id": "d0e82af4e4e2405990dba2afcc984614",
       "version_major": 2,
       "version_minor": 0
      },
      "text/plain": [
       "HBox(children=(IntProgress(value=0, max=10), HTML(value='')))"
      ]
     },
     "metadata": {},
     "output_type": "display_data"
    },
    {
     "name": "stdout",
     "output_type": "stream",
     "text": [
      "\r",
      " 33%|███▎      | 10/30 [01:34<03:46, 11.32s/trial, best loss: 0.30000000000000004]"
     ]
    },
    {
     "data": {
      "application/vnd.jupyter.widget-view+json": {
       "model_id": "1a8a03055c6240ca94ab1e5de3946cad",
       "version_major": 2,
       "version_minor": 0
      },
      "text/plain": [
       "HBox(children=(IntProgress(value=0, max=10), HTML(value='')))"
      ]
     },
     "metadata": {},
     "output_type": "display_data"
    },
    {
     "name": "stdout",
     "output_type": "stream",
     "text": [
      "\r",
      " 37%|███▋      | 11/30 [01:50<04:01, 12.72s/trial, best loss: 0.30000000000000004]"
     ]
    },
    {
     "data": {
      "application/vnd.jupyter.widget-view+json": {
       "model_id": "abf9bb99169b4c6da3e5c5d0cb71790f",
       "version_major": 2,
       "version_minor": 0
      },
      "text/plain": [
       "HBox(children=(IntProgress(value=0, max=10), HTML(value='')))"
      ]
     },
     "metadata": {},
     "output_type": "display_data"
    },
    {
     "name": "stdout",
     "output_type": "stream",
     "text": [
      "\r",
      " 40%|████      | 12/30 [02:04<03:53, 12.95s/trial, best loss: 0.30000000000000004]"
     ]
    },
    {
     "data": {
      "application/vnd.jupyter.widget-view+json": {
       "model_id": "1d89b9034f0044c8b2d5cb9437a4773c",
       "version_major": 2,
       "version_minor": 0
      },
      "text/plain": [
       "HBox(children=(IntProgress(value=0, max=10), HTML(value='')))"
      ]
     },
     "metadata": {},
     "output_type": "display_data"
    },
    {
     "name": "stdout",
     "output_type": "stream",
     "text": [
      "\r",
      " 43%|████▎     | 13/30 [02:12<03:14, 11.46s/trial, best loss: 0.30000000000000004]"
     ]
    },
    {
     "data": {
      "application/vnd.jupyter.widget-view+json": {
       "model_id": "137a080fccc942eb996b2403dd33a40e",
       "version_major": 2,
       "version_minor": 0
      },
      "text/plain": [
       "HBox(children=(IntProgress(value=0, max=10), HTML(value='')))"
      ]
     },
     "metadata": {},
     "output_type": "display_data"
    },
    {
     "name": "stdout",
     "output_type": "stream",
     "text": [
      "\r",
      " 47%|████▋     | 14/30 [02:20<02:47, 10.47s/trial, best loss: 0.30000000000000004]"
     ]
    },
    {
     "data": {
      "application/vnd.jupyter.widget-view+json": {
       "model_id": "9dc08ae29a0346ab81863406efe0a270",
       "version_major": 2,
       "version_minor": 0
      },
      "text/plain": [
       "HBox(children=(IntProgress(value=0, max=10), HTML(value='')))"
      ]
     },
     "metadata": {},
     "output_type": "display_data"
    },
    {
     "name": "stdout",
     "output_type": "stream",
     "text": [
      "\r",
      " 50%|█████     | 15/30 [02:28<02:26,  9.74s/trial, best loss: 0.30000000000000004]"
     ]
    },
    {
     "data": {
      "application/vnd.jupyter.widget-view+json": {
       "model_id": "b3380d681e79435badc3c5a995849dfe",
       "version_major": 2,
       "version_minor": 0
      },
      "text/plain": [
       "HBox(children=(IntProgress(value=0, max=10), HTML(value='')))"
      ]
     },
     "metadata": {},
     "output_type": "display_data"
    },
    {
     "name": "stdout",
     "output_type": "stream",
     "text": [
      "\r",
      " 53%|█████▎    | 16/30 [02:37<02:11,  9.41s/trial, best loss: 0.30000000000000004]"
     ]
    },
    {
     "data": {
      "application/vnd.jupyter.widget-view+json": {
       "model_id": "774c8ac2dc814994a50e2f55209f4094",
       "version_major": 2,
       "version_minor": 0
      },
      "text/plain": [
       "HBox(children=(IntProgress(value=0, max=10), HTML(value='')))"
      ]
     },
     "metadata": {},
     "output_type": "display_data"
    },
    {
     "name": "stdout",
     "output_type": "stream",
     "text": [
      "\r",
      " 57%|█████▋    | 17/30 [02:45<01:56,  8.99s/trial, best loss: 0.30000000000000004]"
     ]
    },
    {
     "data": {
      "application/vnd.jupyter.widget-view+json": {
       "model_id": "a88d2187f5c940e9b65e309ef87d7cc8",
       "version_major": 2,
       "version_minor": 0
      },
      "text/plain": [
       "HBox(children=(IntProgress(value=0, max=10), HTML(value='')))"
      ]
     },
     "metadata": {},
     "output_type": "display_data"
    },
    {
     "name": "stdout",
     "output_type": "stream",
     "text": [
      "\r",
      " 60%|██████    | 18/30 [02:53<01:45,  8.77s/trial, best loss: 0.30000000000000004]"
     ]
    },
    {
     "data": {
      "application/vnd.jupyter.widget-view+json": {
       "model_id": "0ac412246224424e82ca60178bad1e1b",
       "version_major": 2,
       "version_minor": 0
      },
      "text/plain": [
       "HBox(children=(IntProgress(value=0, max=10), HTML(value='')))"
      ]
     },
     "metadata": {},
     "output_type": "display_data"
    },
    {
     "name": "stdout",
     "output_type": "stream",
     "text": [
      "\r",
      " 63%|██████▎   | 19/30 [03:01<01:34,  8.62s/trial, best loss: 0.30000000000000004]"
     ]
    },
    {
     "data": {
      "application/vnd.jupyter.widget-view+json": {
       "model_id": "4f36ec698aaa430c85ae32264c784d58",
       "version_major": 2,
       "version_minor": 0
      },
      "text/plain": [
       "HBox(children=(IntProgress(value=0, max=10), HTML(value='')))"
      ]
     },
     "metadata": {},
     "output_type": "display_data"
    },
    {
     "name": "stdout",
     "output_type": "stream",
     "text": [
      "\r",
      " 67%|██████▋   | 20/30 [03:09<01:24,  8.49s/trial, best loss: 0.30000000000000004]"
     ]
    },
    {
     "data": {
      "application/vnd.jupyter.widget-view+json": {
       "model_id": "4c6e5b8d4d84471aa4c02dcfcde0d11d",
       "version_major": 2,
       "version_minor": 0
      },
      "text/plain": [
       "HBox(children=(IntProgress(value=0, max=10), HTML(value='')))"
      ]
     },
     "metadata": {},
     "output_type": "display_data"
    },
    {
     "name": "stdout",
     "output_type": "stream",
     "text": [
      "\r",
      " 70%|███████   | 21/30 [03:18<01:16,  8.48s/trial, best loss: 0.30000000000000004]"
     ]
    },
    {
     "data": {
      "application/vnd.jupyter.widget-view+json": {
       "model_id": "6568d5565cf94747b329dc25157d8654",
       "version_major": 2,
       "version_minor": 0
      },
      "text/plain": [
       "HBox(children=(IntProgress(value=0, max=10), HTML(value='')))"
      ]
     },
     "metadata": {},
     "output_type": "display_data"
    },
    {
     "name": "stdout",
     "output_type": "stream",
     "text": [
      "\r",
      " 73%|███████▎  | 22/30 [03:31<01:19,  9.99s/trial, best loss: 0.09999999999999998]"
     ]
    },
    {
     "data": {
      "application/vnd.jupyter.widget-view+json": {
       "model_id": "2dfd8e6352b24d3c9970f0fbfefd5a54",
       "version_major": 2,
       "version_minor": 0
      },
      "text/plain": [
       "HBox(children=(IntProgress(value=0, max=10), HTML(value='')))"
      ]
     },
     "metadata": {},
     "output_type": "display_data"
    },
    {
     "name": "stdout",
     "output_type": "stream",
     "text": [
      "\r",
      " 77%|███████▋  | 23/30 [03:39<01:05,  9.42s/trial, best loss: 0.09999999999999998]"
     ]
    },
    {
     "data": {
      "application/vnd.jupyter.widget-view+json": {
       "model_id": "efcda0f6732949a5b36f880ae05a2398",
       "version_major": 2,
       "version_minor": 0
      },
      "text/plain": [
       "HBox(children=(IntProgress(value=0, max=10), HTML(value='')))"
      ]
     },
     "metadata": {},
     "output_type": "display_data"
    },
    {
     "name": "stdout",
     "output_type": "stream",
     "text": [
      "\r",
      " 80%|████████  | 24/30 [03:53<01:03, 10.62s/trial, best loss: 0.09999999999999998]"
     ]
    },
    {
     "data": {
      "application/vnd.jupyter.widget-view+json": {
       "model_id": "4437eda419a0479ebd3a5fa4cfd5fb92",
       "version_major": 2,
       "version_minor": 0
      },
      "text/plain": [
       "HBox(children=(IntProgress(value=0, max=10), HTML(value='')))"
      ]
     },
     "metadata": {},
     "output_type": "display_data"
    },
    {
     "name": "stdout",
     "output_type": "stream",
     "text": [
      "\r",
      " 83%|████████▎ | 25/30 [04:06<00:57, 11.45s/trial, best loss: 0.09999999999999998]"
     ]
    },
    {
     "data": {
      "application/vnd.jupyter.widget-view+json": {
       "model_id": "94c6700124604aee9159781ff8ba55d8",
       "version_major": 2,
       "version_minor": 0
      },
      "text/plain": [
       "HBox(children=(IntProgress(value=0, max=10), HTML(value='')))"
      ]
     },
     "metadata": {},
     "output_type": "display_data"
    },
    {
     "name": "stdout",
     "output_type": "stream",
     "text": [
      "\r",
      " 87%|████████▋ | 26/30 [04:14<00:41, 10.41s/trial, best loss: 0.09999999999999998]"
     ]
    },
    {
     "data": {
      "application/vnd.jupyter.widget-view+json": {
       "model_id": "b45905eac1944ae186df96e904839f46",
       "version_major": 2,
       "version_minor": 0
      },
      "text/plain": [
       "HBox(children=(IntProgress(value=0, max=10), HTML(value='')))"
      ]
     },
     "metadata": {},
     "output_type": "display_data"
    },
    {
     "name": "stdout",
     "output_type": "stream",
     "text": [
      "\r",
      " 90%|█████████ | 27/30 [04:28<00:33, 11.32s/trial, best loss: 0.09999999999999998]"
     ]
    },
    {
     "data": {
      "application/vnd.jupyter.widget-view+json": {
       "model_id": "a4e91b0f0b574dcaa2cc511e05fd46e8",
       "version_major": 2,
       "version_minor": 0
      },
      "text/plain": [
       "HBox(children=(IntProgress(value=0, max=10), HTML(value='')))"
      ]
     },
     "metadata": {},
     "output_type": "display_data"
    },
    {
     "name": "stdout",
     "output_type": "stream",
     "text": [
      "\r",
      " 93%|█████████▎| 28/30 [04:36<00:20, 10.32s/trial, best loss: 0.09999999999999998]"
     ]
    },
    {
     "data": {
      "application/vnd.jupyter.widget-view+json": {
       "model_id": "b6f99e1730d94fe0ac154b3deed977a5",
       "version_major": 2,
       "version_minor": 0
      },
      "text/plain": [
       "HBox(children=(IntProgress(value=0, max=10), HTML(value='')))"
      ]
     },
     "metadata": {},
     "output_type": "display_data"
    },
    {
     "name": "stdout",
     "output_type": "stream",
     "text": [
      "\r",
      " 97%|█████████▋| 29/30 [04:43<00:09,  9.50s/trial, best loss: 0.09999999999999998]"
     ]
    },
    {
     "data": {
      "application/vnd.jupyter.widget-view+json": {
       "model_id": "1bb73823ac2244788e6341207b0d3c7d",
       "version_major": 2,
       "version_minor": 0
      },
      "text/plain": [
       "HBox(children=(IntProgress(value=0, max=10), HTML(value='')))"
      ]
     },
     "metadata": {},
     "output_type": "display_data"
    },
    {
     "name": "stdout",
     "output_type": "stream",
     "text": [
      "100%|██████████| 30/30 [04:57<00:00, 10.69s/trial, best loss: 0.09999999999999998]\n"
     ]
    }
   ],
   "source": [
    "from hyperopt import hp, fmin, tpe, Trials\n",
    "model_types = [nn.GRU, nn.LSTM]\n",
    "opts_space = {\n",
    "    'model': hp.choice('model', model_types),\n",
    "    'hidden_size': hp.quniform('hidden_size', 5, 10, 1),\n",
    "    'embedding_size': hp.quniform('embedding_size', 5, 10, 1),\n",
    "}\n",
    "\n",
    "def hp_opts_to_model_opts(hp_opts):\n",
    "    return {\n",
    "        'model': model_types[hp_opts['model']],\n",
    "        'hidden_size': 2 ** int(hp_opts['hidden_size']),\n",
    "        'embedding_size': 2 ** int(hp_opts['embedding_size']),\n",
    "    }\n",
    "\n",
    "def objective(hp_opts):\n",
    "    model_opts = hp_opts_to_model_opts(hp_opts)\n",
    "    cval_results = ClassifierTrainer.crossval(\n",
    "        dataset, split=RandomSplit(dataset), epochs=60, model_opts=model_opts, folds=folds // 2, test_frac=test_frac,\n",
    "        device=device,\n",
    "        progress=True)\n",
    "    return 1. - np.array(cval_results['accuracy']).mean()\n",
    "\n",
    "trials = Trials()\n",
    "best_params = fmin(objective, opts_space, algo=tpe.suggest, max_evals=30, trials=trials)"
   ]
  },
  {
   "cell_type": "code",
   "execution_count": 107,
   "metadata": {},
   "outputs": [],
   "source": [
    "# These are the best model opts!\n",
    "best_model_opts = hp_opts_to_model_opts(best_params)"
   ]
  }
 ],
 "metadata": {
  "kernelspec": {
   "display_name": "Python 3",
   "language": "python",
   "name": "python3"
  },
  "language_info": {
   "codemirror_mode": {
    "name": "ipython",
    "version": 3
   },
   "file_extension": ".py",
   "mimetype": "text/x-python",
   "name": "python",
   "nbconvert_exporter": "python",
   "pygments_lexer": "ipython3",
   "version": "3.7.2"
  }
 },
 "nbformat": 4,
 "nbformat_minor": 2
}
