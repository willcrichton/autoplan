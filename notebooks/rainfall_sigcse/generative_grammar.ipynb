{
 "cells": [
  {
   "cell_type": "markdown",
   "metadata": {},
   "source": [
    "# Generative Grammar\n",
    "\n",
    "The purpose of this notebook is to explain the use of prograbilistic contex free grammars to increase the size and diversity of our training dataset for the supervised classification task. Specifically, we will expand on:\n",
    "\n",
    "1. The purpose of using a prograbilistic contex free grammar as a data augmentation tool\n",
    "2. How we encode student programs in the grammar, specifically the main function structure, simple and complex syntax modifications, as well as rare programs.\n",
    "3. The assumptions that this tool holds.\n",
    "\n",
    "The complete code for the generative grammar is in https://github.com/willcrichton/autoplan/blob/master/grammars/rainfall/ocaml.py."
   ]
  },
  {
   "cell_type": "markdown",
   "metadata": {},
   "source": [
    "## Probabilistic Context Free Grammars as a Data Augmentation Tool\n",
    "\n",
    "We discussed in the \"Supervised Simple Classifier Ablation and Parameter Sweep\" notebook that the classification task can reach up to 85% accuracy when given ideal hyperparameters. However, the supervised classification task performed on that notebook was heavily dependent on labeled student data, which is limited and has a high human cost. In attempting to address this issue, we study the use of probabilistic context free grammars to increase the size and diversity of our training dataset. Given a small set of human-labeled student data, we encode semantically equivalent syntactic variations of code, maintaining the overall structure. \n",
    "\n",
    "For example, see below the first non-terminal for the OCaml grammar that separates programs by their plans: "
   ]
  },
  {
   "cell_type": "markdown",
   "metadata": {},
   "source": [
    "```ocaml\n",
    "class Program(Rule):\n",
    "    def render(self):\n",
    "        strategy = self.choice('strategy', {\n",
    "            Labels.SingleLoop: 1, (* The options are given weights. *)\n",
    "            Labels.CleanFirst: 1,\n",
    "            Labels.CleanInSC: 1 (* CleanInSC refers to the Clean Multiple plan *)\n",
    "        })\n",
    "\n",
    "        self.set_label(int(strategy))\n",
    "\n",
    "        (* Once a choice is made, the node is parsed accordingly. *)\n",
    "        if strategy == Labels.SingleLoop:\n",
    "            return SingleLoop().render()\n",
    "        if strategy == Labels.CleanFirst:\n",
    "            return CleanFirst().render()\n",
    "        elif strategy == Labels.CleanInSC:\n",
    "            return CleanInSC().render()\n",
    "```"
   ]
  },
  {
   "cell_type": "markdown",
   "metadata": {},
   "source": [
    "## Main Function, Sound Variations, and Rare Programs\n",
    "\n",
    "Following this top-down approach, we encode further program choices starting from the main function. For example, see below the main Single Loop function. Upon analysing student data, we identified that the main variations at this point steemed from:\n",
    "\n",
    "1. Deciding weather or not to write a recursive function;\n",
    "2. Deciding weather or not to specify variable types in the function signature;\n",
    "3. Deciding weather or not to use in-body helper functions. \n",
    "\n",
    "Thus, we add choices for `recursion`, `params`, and `helper_in_body` accordingly: "
   ]
  },
  {
   "cell_type": "markdown",
   "metadata": {},
   "source": [
    "### Main Function\n",
    "\n",
    "```ocaml\n",
    "{%- if not helper_in_body -%}\n",
    "    {{helper_body}}\n",
    "{%- endif -%}\n",
    "\n",
    "let {{recursion}} rainfall {{params}}\n",
    "    {%- if helper_in_body -%} (* helper body + rainfall body *)\n",
    "    {{helper_body}} in \n",
    "    {{rainfall_body}}\n",
    "    {% else -%} (* rainfall body for out of body helpers *)\n",
    "    {{rainfall_body}}\n",
    "    {% endif -%}\n",
    "```\n",
    "\n",
    "Note that the main function for Clean First and Clean Multiple follow a similar structure. "
   ]
  },
  {
   "cell_type": "markdown",
   "metadata": {},
   "source": [
    "### Sound Variations\n",
    "\n",
    "#### Simple Variations\n",
    "\n",
    "To understand the encoding syntactic variations of the function signature, see below the `params` node. It relies on a boolean variable `uses_annotation` that we encoded. Note that both options are semantically equivalent. \n",
    "\n",
    "```ocaml\n",
    "{%- set params -%}\n",
    "    {%- if uses_annotation -%} (* Add types *)\n",
    "        (list_name : {{_type}} list) : {{_type}} = \n",
    "    {%- else -%} (* Exclude types *) \n",
    "        list_name = \n",
    "    {%- endif -%}\n",
    "{%- endset -%}\n",
    "```"
   ]
  },
  {
   "cell_type": "markdown",
   "metadata": {},
   "source": [
    "#### Complex Variations\n",
    "\n",
    "Now, take a closer look a the `rainfall_body` node in the Single Loop structure. Once again, it encodes all syntactically equivalent options students may choose when writing this part of their solution. \n",
    "\n",
    "```ocaml\n",
    "{%- set rainfall_body -%}\n",
    "    (* Students may choose to directly call their helper function, \n",
    "       without checking for division by zero first. \n",
    "       The helper function is responsible for outputting the average. *)\n",
    "    {%- if rainfall_body_specs == 'direct_pass' -%} \n",
    "        helper_name list_name 0{{dot}} 0{{dot}}\n",
    "    \n",
    "    (* Students may choose to call their helper function using\n",
    "       `match` or `let`, and having checked for division by zero.\n",
    "       The helper function is responsible for outputting the average. *)\n",
    "    {%- elif recursion_strategy == 'match' -%} {# recurse #}\n",
    "        match list_name with\n",
    "        | {{check_empty_list}} -> {{failure}}\n",
    "        | _ -> helper_name list_name 0{{dot}} 0{{dot}}\n",
    "    \n",
    "    {%- elif recursion_strategy == 'let' -%}\n",
    "        let (addition_var, counter_var) = helper_name list_name 0{{dot}} 0{{dot}} in \n",
    "        if counter_var = 0{{dot}} then {{failure}}\n",
    "        else (addition_var /{{dot}} counter_var)\n",
    "    \n",
    "    (* Finally, students can choose to output the average in the main function. *)\n",
    "    {%- else -%}\n",
    "        match list_name with\n",
    "        | {{check_empty_list}} -> {{failure}}\n",
    "        | (addition_var, counter_var) -> addition_var /{{dot}} counter_var\n",
    "    {%- endif -%}\n",
    "{%- endset -%}\n",
    "```"
   ]
  },
  {
   "cell_type": "markdown",
   "metadata": {},
   "source": [
    "### Rare Programs\n",
    "\n",
    "Finally, in order to encode rare structures we can add nodes that are activated only under specific conditions. For example, in the node below, the code is only parsed if the variable `anonymous_helpers` is `True`. Only one student wrote this structure as part of their Clean Multiple solution, but the grammar can now both parse its structure in multiple programs as well as encode further variations, such as the different ways to output `failure` to compute the average.  \n",
    "\n",
    "```ocaml\n",
    "(...)\n",
    "\n",
    "{% elif anonymous_helpers -%} \n",
    "(try ((List.fold_right \n",
    "(fun var var -> (if (var = (-999)) then {{failure}} else if (var < 0) then var \n",
    " else (var + var))) list_name 0) /{{dot}} (List.fold_right \n",
    "    (fun var var -> (if (var = (-999)) then {{failure}} else if (var < 0) then var \n",
    "     else (1 + var))) list_name 0)) with division_by_zero_helper_name -> {{failure}})\n",
    "{% endif -%}\n",
    "\n",
    "(...)\n",
    "```"
   ]
  },
  {
   "cell_type": "markdown",
   "metadata": {},
   "source": [
    "## Discussion\n",
    "\n",
    "This generative tool holds two main assumptions: \n",
    "\n",
    "1. A human expert can correctly classify strategies of a small set (~30 samples) of student solutions. \n",
    "2. A human expert can correctly encode sound variarions (semantically equivalent) of lines of code for a given task, \n",
    "\n",
    "where a human expert can be a faculty member or a teaching assistant. \n",
    "\n",
    "With that, we were able to generate 10k+ unique solutions, far more than the 44 programs we analyzed, increasing the size and diversity of our training dataset by 227 fold. "
   ]
  }
 ],
 "metadata": {
  "kernelspec": {
   "display_name": "Python 3",
   "language": "python",
   "name": "python3"
  },
  "language_info": {
   "codemirror_mode": {
    "name": "ipython",
    "version": 3
   },
   "file_extension": ".py",
   "mimetype": "text/x-python",
   "name": "python",
   "nbconvert_exporter": "python",
   "pygments_lexer": "ipython3",
   "version": "3.7.2"
  }
 },
 "nbformat": 4,
 "nbformat_minor": 2
}
