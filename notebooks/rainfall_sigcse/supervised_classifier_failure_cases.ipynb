{
 "cells": [
  {
   "cell_type": "markdown",
   "metadata": {},
   "source": [
    "# title"
   ]
  },
  {
   "cell_type": "code",
   "execution_count": 1,
   "metadata": {},
   "outputs": [],
   "source": [
    "%load_ext autoreload\n",
    "%autoreload 2"
   ]
  },
  {
   "cell_type": "code",
   "execution_count": 40,
   "metadata": {},
   "outputs": [],
   "source": [
    "from autoplan.trainer import ClassifierTrainer\n",
    "from autoplan.dataset import PrelabeledDataset\n",
    "from autoplan.vis import plot_accuracy, plot_cm, plot_loss\n",
    "from autoplan.token import TokenType\n",
    "from scripts.rainfall_ingest import ingest_dataset\n",
    "from grammars.rainfall.labels import GeneralRainfallLabels as Labels\n",
    "\n",
    "from tqdm.auto import tqdm\n",
    "import pandas as pd\n",
    "import torch\n",
    "import torch.nn as nn\n",
    "import os\n",
    "from pickle_cache import PickleCache\n",
    "import numpy as np\n",
    "\n",
    "device = torch.device('cuda:7')\n",
    "REPO_DIR = os.path.expanduser('~/autoplan')\n",
    "pcache = PickleCache()"
   ]
  },
  {
   "cell_type": "code",
   "execution_count": 3,
   "metadata": {},
   "outputs": [],
   "source": [
    "datasets = pcache.get('rainfall_datasets', lambda: {k: ingest_dataset(k) for k in ['T1', 'T1Acc']})"
   ]
  },
  {
   "cell_type": "code",
   "execution_count": 55,
   "metadata": {},
   "outputs": [
    {
     "name": "stdout",
     "output_type": "stream",
     "text": [
      "fun rainfall(nums :: List<Number>) -> Number:\n",
      "  #this took approximatly 25-30 minutes\n",
      "  fun get-values(lst :: List<Number>) -> {sum :: Number, length :: Number}:\n",
      "    doc: ```returns the sum of the correct values in lst, and the number of correct values```\n",
      "    cases(List<Numbers>) lst:\n",
      "      | empty  =>  {sum : 0, length : 0}\n",
      "      | link(f,r)  => \n",
      "        if f  ==  -999:\n",
      "          {sum : 0, length : 0}\n",
      "        else if f < 0:\n",
      "          v = get-values(r)\n",
      "          {sum : v.sum, length : v.length}\n",
      "        else:\n",
      "          v = get-values(r)\n",
      "          {sum : v.sum  +  f, length : v.length  +  1}\n",
      "        end\n",
      "    end\n",
      "  end\n",
      "  vals = get-values(nums)\n",
      "  if vals.length  ==  0:\n",
      "    raise(```error: no correct input values```)\n",
      "  else:\n",
      "    vals.sum  /  vals.length\n",
      "  end\n",
      "  end\n",
      "\n",
      "\n"
     ]
    }
   ],
   "source": [
    "print(datasets['T1Acc'].dataset[0]['source'])"
   ]
  },
  {
   "cell_type": "code",
   "execution_count": 16,
   "metadata": {},
   "outputs": [
    {
     "data": {
      "application/vnd.jupyter.widget-view+json": {
       "model_id": "9e312d06478840398c9a5c3838aa803b",
       "version_major": 2,
       "version_minor": 0
      },
      "text/plain": [
       "HBox(children=(IntProgress(value=0, max=10), HTML(value='')))"
      ]
     },
     "metadata": {},
     "output_type": "display_data"
    },
    {
     "name": "stdout",
     "output_type": "stream",
     "text": [
      "\n"
     ]
    },
    {
     "data": {
      "text/plain": [
       "0.7461538461538462"
      ]
     },
     "execution_count": 16,
     "metadata": {},
     "output_type": "execute_result"
    }
   ],
   "source": [
    "val = ClassifierTrainer.crossval(\n",
    "    datasets['T1Acc'], k=10, epochs=100, val_frac=0.33, progress=True, device=device, model_opts={\n",
    "        'model': nn.GRU,\n",
    "        'embedding_size': 256,\n",
    "        'hidden_size': 256\n",
    "    })\n",
    "np.mean(val['accuracy'])"
   ]
  },
  {
   "cell_type": "code",
   "execution_count": 28,
   "metadata": {},
   "outputs": [
    {
     "data": {
      "application/vnd.jupyter.widget-view+json": {
       "model_id": "11efbe6fd0b842f98e2aa356a2480082",
       "version_major": 2,
       "version_minor": 0
      },
      "text/plain": [
       "HBox(children=(IntProgress(value=0), HTML(value='')))"
      ]
     },
     "metadata": {},
     "output_type": "display_data"
    },
    {
     "name": "stdout",
     "output_type": "stream",
     "text": [
      "\n"
     ]
    }
   ],
   "source": [
    "model_opts= {\n",
    "    'model': nn.GRU,\n",
    "    'embedding_size': 512,\n",
    "    'hidden_size': 512\n",
    "}\n",
    "trainer = ClassifierTrainer(datasets['T1'], device=device, val_frac=0.33, model_opts=model_opts)\n",
    "losses, train_eval, val_eval = trainer.train(epochs=100)"
   ]
  },
  {
   "cell_type": "code",
   "execution_count": 29,
   "metadata": {},
   "outputs": [
    {
     "data": {
      "text/plain": [
       "<matplotlib.axes._subplots.AxesSubplot at 0x7f1209518cf8>"
      ]
     },
     "execution_count": 29,
     "metadata": {},
     "output_type": "execute_result"
    },
    {
     "data": {
      "image/png": "[encoded data removed]",
      "text/plain": [
       "<Figure size 432x288 with 1 Axes>"
      ]
     },
     "metadata": {
      "needs_background": "light"
     },
     "output_type": "display_data"
    }
   ],
   "source": [
    "plot_loss(losses)"
   ]
  },
  {
   "cell_type": "code",
   "execution_count": 30,
   "metadata": {},
   "outputs": [
    {
     "data": {
      "text/plain": [
       "<matplotlib.axes._subplots.AxesSubplot at 0x7f1209379940>"
      ]
     },
     "execution_count": 30,
     "metadata": {},
     "output_type": "execute_result"
    },
    {
     "data": {
      "image/png": "[encoded data removed]",
      "text/plain": [
       "<Figure size 432x288 with 1 Axes>"
      ]
     },
     "metadata": {
      "needs_background": "light"
     },
     "output_type": "display_data"
    }
   ],
   "source": [
    "plot_accuracy(val_eval)"
   ]
  },
  {
   "cell_type": "code",
   "execution_count": 31,
   "metadata": {},
   "outputs": [
    {
     "data": {
      "image/png": "[encoded data removed]",
      "text/plain": [
       "<Figure size 432x288 with 2 Axes>"
      ]
     },
     "metadata": {
      "needs_background": "light"
     },
     "output_type": "display_data"
    }
   ],
   "source": [
    "val_eval[-1].plot_cm(title='', normalize=False)"
   ]
  },
  {
   "cell_type": "code",
   "execution_count": 52,
   "metadata": {},
   "outputs": [
    {
     "name": "stdout",
     "output_type": "stream",
     "text": [
      "let rainfall (alon : int list) =\n",
      "  try\n",
      "    (List.fold_right\n",
      "       (fun x  ->\n",
      "          fun y  -> if x = (-999) then 0 else if x < 0 then y else x + y)\n",
      "       alon 0)\n",
      "      /\n",
      "      (List.fold_right\n",
      "         (fun x  ->\n",
      "            fun y  -> if x = (-999) then 0 else if x < 0 then y else 1 + y)\n",
      "         alon 0)\n",
      "  with\n",
      "  | Division_by_zero  ->\n",
      "      failwith\n",
      "        \"Please input a list with at least one non-negative value before the first instance of -999.\"\n",
      "\n",
      "Pred: GeneralRainfallLabels.CleanFirst\n",
      "True: GeneralRainfallLabels.CleanInSC\n",
      "==============================\n",
      "\n",
      "let rainfall (alon : int list) =\n",
      "  (let rec rainfallHelp (alon : int list) (nlon : int list) =\n",
      "     (match alon with\n",
      "      | [] ->\n",
      "          (List.fold_right (fun x  -> fun y  -> x + y) nlon 0) /\n",
      "            (List.length nlon)\n",
      "      | hd::tl ->\n",
      "          (match hd with\n",
      "           | (-999) ->\n",
      "               if (List.length nlon) = 0\n",
      "               then 0\n",
      "               else\n",
      "                 (List.fold_right (fun x  -> fun y  -> x + y) nlon 0) /\n",
      "                   (List.length nlon)\n",
      "           | _ ->\n",
      "               if hd >= 0\n",
      "               then rainfallHelp tl (hd :: nlon)\n",
      "               else rainfallHelp tl nlon) : int) in\n",
      "   rainfallHelp alon [] : int)\n",
      "\n",
      "Pred: GeneralRainfallLabels.SingleLoop\n",
      "True: GeneralRainfallLabels.CleanFirst\n",
      "==============================\n",
      "\n",
      "let rec stop (aloi : int list) =\n",
      "  (match aloi with\n",
      "   | [] -> []\n",
      "   | hd::tl -> if hd = (-999) then [] else hd :: (stop tl) : int list)\n",
      "let rec non_negative_average (aloi : int list) =\n",
      "  (let average (alon : int list) =\n",
      "     (match alon with\n",
      "      | [] -> 0.0\n",
      "      | _::_ ->\n",
      "          (float_of_int (List.fold_right (+) alon 0)) /.\n",
      "            (float_of_int (List.length alon)) : float) in\n",
      "   average (List.filter (fun x  -> x >= 0) aloi) : float)\n",
      "let rec rainfall (aloi : int list) =\n",
      "  (match aloi with | [] -> 0.0 | hd::tl -> non_negative_average (stop aloi) : \n",
      "  float)\n",
      "\n",
      "Pred: GeneralRainfallLabels.SingleLoop\n",
      "True: GeneralRainfallLabels.CleanFirst\n",
      "==============================\n",
      "\n"
     ]
    }
   ],
   "source": [
    "val_eval[-1].print_incorrect(trainer.val_dataset, Labels)"
   ]
  }
 ],
 "metadata": {
  "kernelspec": {
   "display_name": "Python 3",
   "language": "python",
   "name": "python3"
  },
  "language_info": {
   "codemirror_mode": {
    "name": "ipython",
    "version": 3
   },
   "file_extension": ".py",
   "mimetype": "text/x-python",
   "name": "python",
   "nbconvert_exporter": "python",
   "pygments_lexer": "ipython3",
   "version": "3.7.2"
  }
 },
 "nbformat": 4,
 "nbformat_minor": 2
}
