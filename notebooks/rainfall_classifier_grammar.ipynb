{
 "cells": [
  {
   "cell_type": "code",
   "execution_count": 46,
   "metadata": {},
   "outputs": [
    {
     "name": "stdout",
     "output_type": "stream",
     "text": [
      "The autoreload extension is already loaded. To reload it, use:\n",
      "  %reload_ext autoreload\n"
     ]
    }
   ],
   "source": [
    "%load_ext autoreload\n",
    "%autoreload 2"
   ]
  },
  {
   "cell_type": "code",
   "execution_count": 47,
   "metadata": {},
   "outputs": [],
   "source": [
    "import sys\n",
    "sys.path.append('..')"
   ]
  },
  {
   "cell_type": "code",
   "execution_count": 48,
   "metadata": {},
   "outputs": [],
   "source": [
    "from autoplan.trainer import ClassifierTrainer\n",
    "from autoplan.dataset import PrelabeledDataset, build_synthetic_dataset\n",
    "from autoplan.generator import ProgramGenerator\n",
    "from autoplan.vis import plot_accuracy, plot_cm\n",
    "from autoplan.token import PyretTokenizer, OCamlTokenizer\n",
    "\n",
    "from grammars.rainfall.ocaml import Program\n",
    "from grammars.rainfall.labels import GeneralRainfallLabels\n",
    "\n",
    "from tqdm import tqdm_notebook as tqdm\n",
    "import pandas as pd\n",
    "import torch\n",
    "import os\n",
    "\n",
    "# device = torch.device('cuda:0')\n",
    "device = torch.device('cpu')\n",
    "REPO_DIR = os.path.expanduser('~/autoplan')"
   ]
  },
  {
   "cell_type": "code",
   "execution_count": 49,
   "metadata": {},
   "outputs": [],
   "source": [
    "dataset_name = 'T1'\n",
    "student_dataset = PrelabeledDataset.load(f'{REPO_DIR}/data/rainfall/{dataset_name}.pkl')"
   ]
  },
  {
   "cell_type": "code",
   "execution_count": 50,
   "metadata": {},
   "outputs": [
    {
     "data": {
      "text/plain": [
       "{'source': '#use \"/course/cs017/src/ocaml/CS17setup.ml\" ;;\\n\\n(* Prior to this course, I had relatively little programming experience. I had taken a very basic introductory course in 8th grade which focused on logo, a graphical display program, and I knew a decent amount about programming for TI calculators, but I did not take a programming class in high school. *)\\n\\n(* I spent about 25 minutes on this problem. *)\\n\\n(* I/P: a list of floats, alof *)\\n(* O/P: the average of the non-negative integers in the list up to but not including the first occurence of -999. *)\\n\\nlet rec rainfall (alof : float list) : float = \\n  let rec sum_helper (alof : float list) (sum : float) (counter : float) : (float * float) = \\n    match alof, counter with\\n      | [], 0. -> failwith \"Empty list.\"\\n      | -999. :: _, 0. -> failwith \"Empty list.\"\\n      | [], _ -> (sum, counter)\\n      | -999. :: _, _ -> (sum, counter)\\n      | hd :: tl, _ -> if hd >= 0. \\n          then sum_helper tl (sum +. hd) (counter +. 1.)\\n          else sum_helper tl sum counter\\n  in match sum_helper alof 0. 0. with\\n    | (s, c) -> (s /. c) ;; \\n\\n(* test cases for rainfall *)\\n\\ncheck_error (fun (x) -> (rainfall [])) \"Empty list.\" ;;\\ncheck_error (fun (x) -> (rainfall [-999.])) \"Empty list.\" ;;\\ncheck_expect (rainfall [1. ; 2. ; 3. ; 2. ; 1.]) 1.8 ;;\\ncheck_expect (rainfall [1. ; 2. ; -1. ; 2. ; 1.]) 1.5 ;;\\ncheck_expect (rainfall [1. ; 2. ; -999. ; 2. ; 3.]) 1.5 ;;\\ncheck_expect (rainfall [1. ; 2. ; -3. ; 3. ; -999. ; 5. ; 3.]) 2. ;;\\ncheck_expect (rainfall [1. ; 2. ; -3. ; -998. ; 3. ; 2. ; -999. ; 2. ; 3.]) 2. ;;\\n',\n",
       " 'program': tensor([ 0,  1,  2,  3,  4,  5,  1,  6,  1,  7,  1,  1,  8,  7,  1,  9,  4,  5,\n",
       "          1,  6,  1,  7,  1,  1,  8,  6,  1,  7,  1,  8,  6,  1,  7,  1,  8,  7,\n",
       "          6,  1, 10,  1,  8,  9, 11,  1, 12,  1, 13, 14, 15, 16, 12, 17, 18,  1,\n",
       "          2, 14, 19, 20, 21, 22, 12, 17, 18,  1,  2, 14, 15, 16, 12, 22, 18,  6,\n",
       "          1, 12,  1,  8, 14, 19, 20, 21, 22, 12, 22, 18,  6,  1, 12,  1,  8, 14,\n",
       "          1, 21,  1, 12, 22, 18, 23,  1, 24, 17, 25,  1,  1,  6,  1, 26,  1,  8,\n",
       "          6,  1, 26, 27,  8, 28,  1,  1,  1,  1, 29, 11,  1,  1, 17, 17, 13, 14,\n",
       "          6,  1, 12,  1,  8, 18,  6,  1, 30,  1,  8,  3,  1,  6, 31,  6,  1,  8,\n",
       "         18,  6,  1, 15, 16,  8,  8,  2,  3,  1,  6, 31,  6,  1,  8, 18,  6,  1,\n",
       "         15, 19, 20, 16,  8,  8,  2,  3,  1,  6,  1, 15, 27, 32, 33, 32, 34, 32,\n",
       "         33, 32, 27, 16,  8, 35,  3,  1,  6,  1, 15, 27, 32, 33, 32, 19, 27, 32,\n",
       "         33, 32, 27, 16,  8, 36,  3,  1,  6,  1, 15, 27, 32, 33, 32, 19, 20, 32,\n",
       "         33, 32, 34, 16,  8, 36,  3,  1,  6,  1, 15, 27, 32, 33, 32, 19, 34, 32,\n",
       "         34, 32, 19, 20, 32, 37, 32, 34, 16,  8, 33,  3,  1,  6,  1, 15, 27, 32,\n",
       "         33, 32, 19, 34, 32, 19, 38, 32, 34, 32, 33, 32, 19, 20, 32, 33, 32, 34,\n",
       "         16,  8, 33,  3]),\n",
       " 'labels': tensor(2)}"
      ]
     },
     "execution_count": 50,
     "metadata": {},
     "output_type": "execute_result"
    }
   ],
   "source": [
    "student_dataset.dataset[0]"
   ]
  },
  {
   "cell_type": "code",
   "execution_count": 62,
   "metadata": {},
   "outputs": [],
   "source": [
    "df = pd.DataFrame(list(student_dataset.dataset))"
   ]
  },
  {
   "cell_type": "code",
   "execution_count": 63,
   "metadata": {},
   "outputs": [
    {
     "name": "stdout",
     "output_type": "stream",
     "text": [
      "let  r_help \n",
      "        (rain_list : float list) (n : float) (len : float)  : float =\n",
      "    \n",
      "    match rain_list with\n",
      "    | [] -> n /. len\n",
      "    | head :: tail -> if head = -999 then n /. len\n",
      "    | head :: tail -> r_help tail (head + n) (len + 1)\n",
      "\n",
      ";;\n",
      "\n",
      "let  rainfall (rain_list : float list) : float =\n",
      "    r_help rain_list 0. 0.;;\n",
      "    \n"
     ]
    }
   ],
   "source": [
    "generator = ProgramGenerator(grammar=Program())\n",
    "program, choices, choice_options, labels = generator.generate()\n",
    "print(program)"
   ]
  },
  {
   "cell_type": "code",
   "execution_count": 64,
   "metadata": {},
   "outputs": [
    {
     "name": "stdout",
     "output_type": "stream",
     "text": [
      "Generating programs...\n"
     ]
    },
    {
     "name": "stderr",
     "output_type": "stream",
     "text": [
      "\r",
      "  0%|          | 0/100 [00:00<?, ?it/s]"
     ]
    },
    {
     "name": "stdout",
     "output_type": "stream",
     "text": [
      "Generated 93 unique programs.\n",
      "Tokenizing programs...\n"
     ]
    },
    {
     "name": "stderr",
     "output_type": "stream",
     "text": [
      "100%|██████████| 100/100 [00:00<00:00, 117.95it/s]\n"
     ]
    },
    {
     "name": "stdout",
     "output_type": "stream",
     "text": [
      "Building dataset metadata...\n"
     ]
    }
   ],
   "source": [
    "synth_dataset = build_synthetic_dataset(\n",
    "    GeneralRainfallLabels,\n",
    "    N=100,\n",
    "    tokenizer=OCamlTokenizer(),\n",
    "    generator=ProgramGenerator(grammar=Program()),\n",
    "    vocab_index=student_dataset.vocab_index)"
   ]
  },
  {
   "cell_type": "code",
   "execution_count": 65,
   "metadata": {},
   "outputs": [],
   "source": [
    "trainer = ClassifierTrainer(synth_dataset, device)\n",
    "losses = []\n",
    "train_eval = []\n",
    "val_eval = []"
   ]
  },
  {
   "cell_type": "code",
   "execution_count": 66,
   "metadata": {},
   "outputs": [
    {
     "data": {
      "application/vnd.jupyter.widget-view+json": {
       "model_id": "9ec45bc43695492fb0cd5cd652666c84",
       "version_major": 2,
       "version_minor": 0
      },
      "text/plain": [
       "HBox(children=(IntProgress(value=0, max=50), HTML(value='')))"
      ]
     },
     "metadata": {},
     "output_type": "display_data"
    },
    {
     "name": "stdout",
     "output_type": "stream",
     "text": [
      "\n"
     ]
    }
   ],
   "source": [
    "for _ in tqdm(range(50)):\n",
    "    losses.append(trainer.train_one_epoch())\n",
    "    train, val = trainer.eval()\n",
    "    train_eval.append(train)\n",
    "    val_eval.append(val)"
   ]
  },
  {
   "cell_type": "code",
   "execution_count": 67,
   "metadata": {},
   "outputs": [
    {
     "data": {
      "text/plain": [
       "<matplotlib.axes._subplots.AxesSubplot at 0x12f72ee90>"
      ]
     },
     "execution_count": 67,
     "metadata": {},
     "output_type": "execute_result"
    },
    {
     "data": {
      "image/png": "[encoded data removed]",
      "text/plain": [
       "<Figure size 432x288 with 1 Axes>"
      ]
     },
     "metadata": {
      "needs_background": "light"
     },
     "output_type": "display_data"
    }
   ],
   "source": [
    "pd.Series(losses).plot()"
   ]
  },
  {
   "cell_type": "code",
   "execution_count": 68,
   "metadata": {},
   "outputs": [
    {
     "data": {
      "text/plain": [
       "<matplotlib.axes._subplots.AxesSubplot at 0x12bf0cdd0>"
      ]
     },
     "execution_count": 68,
     "metadata": {},
     "output_type": "execute_result"
    },
    {
     "data": {
      "image/png": "[encoded data removed]",
      "text/plain": [
       "<Figure size 432x288 with 1 Axes>"
      ]
     },
     "metadata": {
      "needs_background": "light"
     },
     "output_type": "display_data"
    }
   ],
   "source": [
    "plot_accuracy(train_eval)"
   ]
  },
  {
   "cell_type": "code",
   "execution_count": 69,
   "metadata": {},
   "outputs": [
    {
     "data": {
      "text/plain": [
       "<matplotlib.axes._subplots.AxesSubplot at 0x12bee2850>"
      ]
     },
     "execution_count": 69,
     "metadata": {},
     "output_type": "execute_result"
    },
    {
     "data": {
      "image/png": "[encoded data removed]",
      "text/plain": [
       "<Figure size 432x288 with 1 Axes>"
      ]
     },
     "metadata": {
      "needs_background": "light"
     },
     "output_type": "display_data"
    }
   ],
   "source": [
    "plot_accuracy(val_eval)"
   ]
  },
  {
   "cell_type": "code",
   "execution_count": 70,
   "metadata": {},
   "outputs": [
    {
     "data": {
      "image/png": "[encoded data removed]",
      "text/plain": [
       "<Figure size 432x288 with 2 Axes>"
      ]
     },
     "metadata": {
      "needs_background": "light"
     },
     "output_type": "display_data"
    }
   ],
   "source": [
    "trainer.model.eval()\n",
    "trainer.eval_on(student_dataset.loader(student_dataset.dataset)).plot_cm(normalize=True)"
   ]
  },
  {
   "cell_type": "code",
   "execution_count": null,
   "metadata": {
    "scrolled": false
   },
   "outputs": [],
   "source": [
    "for _, row in df[df.labels == GeneralRainfallLabels.SingleLoop].iterrows():\n",
    "    print(row.source)\n",
    "    print('\\n{}\\n'.format('='*15))"
   ]
  },
  {
   "cell_type": "code",
   "execution_count": null,
   "metadata": {},
   "outputs": [],
   "source": []
  },
  {
   "cell_type": "code",
   "execution_count": null,
   "metadata": {},
   "outputs": [],
   "source": []
  },
  {
   "cell_type": "code",
   "execution_count": null,
   "metadata": {},
   "outputs": [],
   "source": []
  }
 ],
 "metadata": {
  "kernelspec": {
   "display_name": "Python 3",
   "language": "python",
   "name": "python3"
  }
 },
 "nbformat": 4,
 "nbformat_minor": 2
}
