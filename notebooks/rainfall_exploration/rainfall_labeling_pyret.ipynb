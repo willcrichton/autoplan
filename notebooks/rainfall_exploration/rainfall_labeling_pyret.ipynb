{
 "cells": [
  {
   "cell_type": "code",
   "execution_count": 1,
   "metadata": {},
   "outputs": [],
   "source": [
    "%load_ext autoreload\n",
    "%autoreload 2"
   ]
  },
  {
   "cell_type": "code",
   "execution_count": 5,
   "metadata": {},
   "outputs": [],
   "source": [
    "import os\n",
    "import pandas as pd\n",
    "import ipywidgets as widgets\n",
    "from IPython.display import display as disp, clear_output\n",
    "from functools import partial\n",
    "from autoplan.token import PyretTokenizer\n",
    "from scripts.rainfall_ingest import load_new_labels, ingest_dataset\n",
    "from grammars.rainfall.ocaml import Labels\n",
    "from pickle_cache import PickleCache\n",
    "import pickle\n",
    "pcache = PickleCache()"
   ]
  },
  {
   "cell_type": "code",
   "execution_count": 6,
   "metadata": {},
   "outputs": [],
   "source": [
    "REPO_DIR = os.path.expanduser('~/autoplan')\n",
    "DATA_DIR = f'{REPO_DIR}/data/rainfall/raw'\n",
    "CODE_DIR = f'{DATA_DIR}/Fall2013-RawData'\n",
    "\n",
    "def read_coding_csv(name):\n",
    "    return pd.read_csv(f'{DATA_DIR}/Fall2013Coding{name}.csv', index_col=0, header=None).T"
   ]
  },
  {
   "cell_type": "code",
   "execution_count": 7,
   "metadata": {},
   "outputs": [],
   "source": [
    "plan_codes = pd.read_csv(f'{DATA_DIR}/PlanCodes-codes.csv')\n",
    "\n",
    "def read_and_join_coding(name):\n",
    "    coding_csv = read_coding_csv(name)\n",
    "    valid_entries = coding_csv[coding_csv.PlanStructure.isnull()]\n",
    "    combined_entries = valid_entries.set_index('PlanStructure').join(plan_codes.set_index('Code'))\n",
    "    return combined_entries"
   ]
  },
  {
   "cell_type": "code",
   "execution_count": 8,
   "metadata": {},
   "outputs": [],
   "source": [
    "coding_csv = read_coding_csv('T1Acc')\n",
    "missing_entries = coding_csv[coding_csv.PlanStructure.isnull()]"
   ]
  },
  {
   "cell_type": "code",
   "execution_count": null,
   "metadata": {},
   "outputs": [],
   "source": [
    "len()"
   ]
  },
  {
   "cell_type": "code",
   "execution_count": 12,
   "metadata": {},
   "outputs": [],
   "source": [
    "sources = {}\n",
    "tokenizer = PyretTokenizer()\n",
    "for _, row in missing_entries.iterrows():\n",
    "    id = row.ID\n",
    "    path = f'{CODE_DIR}/T1Acc/{id}/cs019-2013-rainfall/rainfall-program.current.arr'\n",
    "    if os.path.isfile(path):\n",
    "        try:\n",
    "            sources[id] = tokenizer.tokenize(open(path, 'r').read())[1]\n",
    "        except UnicodeDecodeError:\n",
    "            pass"
   ]
  },
  {
   "cell_type": "code",
   "execution_count": 54,
   "metadata": {},
   "outputs": [],
   "source": [
    "labels = {}"
   ]
  },
  {
   "cell_type": "code",
   "execution_count": 55,
   "metadata": {},
   "outputs": [
    {
     "data": {
      "application/vnd.jupyter.widget-view+json": {
       "model_id": "450eab92d8bf46a1852453acc0d27aac",
       "version_major": 2,
       "version_minor": 0
      },
      "text/plain": [
       "HBox(children=(Button(description='Clean First', style=ButtonStyle()), Button(description='Clean in SC', style…"
      ]
     },
     "metadata": {},
     "output_type": "display_data"
    },
    {
     "name": "stdout",
     "output_type": "stream",
     "text": [
      "let rainfall (my_list : 'a list) =\n",
      "  (let rec helper (alon : 'a list) (sum : int) (count : int) =\n",
      "     (match (alon, sum) with\n",
      "      | ([], v) -> if count > 0 then (v + 1) / count else 0\n",
      "      | (hd::tl, v) ->\n",
      "          if hd = (-999)\n",
      "          then (if count > 0 then v / count else 0)\n",
      "          else\n",
      "            if hd >= 0\n",
      "            then helper tl (v + hd) (count + 1)\n",
      "            else helper tl v count : int) in\n",
      "   helper my_list 0 0 : int)\n",
      "\n"
     ]
    },
    {
     "ename": "StopIteration",
     "evalue": "",
     "output_type": "error",
     "traceback": [
      "\u001b[0;31m---------------------------------------------------------------------------\u001b[0m",
      "\u001b[0;31mStopIteration\u001b[0m                             Traceback (most recent call last)",
      "\u001b[0;32m<ipython-input-55-196efdd7b433>\u001b[0m in \u001b[0;36mon_click\u001b[0;34m(plan, _)\u001b[0m\n\u001b[1;32m      8\u001b[0m     \u001b[0;32mdef\u001b[0m \u001b[0mon_click\u001b[0m\u001b[0;34m(\u001b[0m\u001b[0mplan\u001b[0m\u001b[0;34m,\u001b[0m \u001b[0m_\u001b[0m\u001b[0;34m)\u001b[0m\u001b[0;34m:\u001b[0m\u001b[0;34m\u001b[0m\u001b[0;34m\u001b[0m\u001b[0m\n\u001b[1;32m      9\u001b[0m         \u001b[0mlabels\u001b[0m\u001b[0;34m[\u001b[0m\u001b[0mid\u001b[0m\u001b[0;34m]\u001b[0m \u001b[0;34m=\u001b[0m \u001b[0mplan\u001b[0m\u001b[0;34m\u001b[0m\u001b[0;34m\u001b[0m\u001b[0m\n\u001b[0;32m---> 10\u001b[0;31m         \u001b[0mrender\u001b[0m\u001b[0;34m(\u001b[0m\u001b[0;34m)\u001b[0m\u001b[0;34m\u001b[0m\u001b[0;34m\u001b[0m\u001b[0m\n\u001b[0m\u001b[1;32m     11\u001b[0m \u001b[0;34m\u001b[0m\u001b[0m\n\u001b[1;32m     12\u001b[0m     \u001b[0mbtns\u001b[0m \u001b[0;34m=\u001b[0m \u001b[0;34m[\u001b[0m\u001b[0;34m]\u001b[0m\u001b[0;34m\u001b[0m\u001b[0;34m\u001b[0m\u001b[0m\n",
      "\u001b[0;32m<ipython-input-55-196efdd7b433>\u001b[0m in \u001b[0;36mrender\u001b[0;34m()\u001b[0m\n\u001b[1;32m      4\u001b[0m \u001b[0;34m\u001b[0m\u001b[0m\n\u001b[1;32m      5\u001b[0m \u001b[0;32mdef\u001b[0m \u001b[0mrender\u001b[0m\u001b[0;34m(\u001b[0m\u001b[0;34m)\u001b[0m\u001b[0;34m:\u001b[0m\u001b[0;34m\u001b[0m\u001b[0;34m\u001b[0m\u001b[0m\n\u001b[0;32m----> 6\u001b[0;31m     \u001b[0mid\u001b[0m\u001b[0;34m,\u001b[0m \u001b[0msource\u001b[0m \u001b[0;34m=\u001b[0m \u001b[0mnext\u001b[0m\u001b[0;34m(\u001b[0m\u001b[0mgen\u001b[0m\u001b[0;34m)\u001b[0m\u001b[0;34m\u001b[0m\u001b[0;34m\u001b[0m\u001b[0m\n\u001b[0m\u001b[1;32m      7\u001b[0m \u001b[0;34m\u001b[0m\u001b[0m\n\u001b[1;32m      8\u001b[0m     \u001b[0;32mdef\u001b[0m \u001b[0mon_click\u001b[0m\u001b[0;34m(\u001b[0m\u001b[0mplan\u001b[0m\u001b[0;34m,\u001b[0m \u001b[0m_\u001b[0m\u001b[0;34m)\u001b[0m\u001b[0;34m:\u001b[0m\u001b[0;34m\u001b[0m\u001b[0;34m\u001b[0m\u001b[0m\n",
      "\u001b[0;31mStopIteration\u001b[0m: "
     ]
    }
   ],
   "source": [
    "plans = ['Clean First', 'Clean in SC', 'Single Loop']\n",
    "\n",
    "gen = iter(sources.items())\n",
    "\n",
    "def render():\n",
    "    id, source = next(gen)\n",
    "    \n",
    "    def on_click(plan, _):\n",
    "        labels[id] = plan\n",
    "        render()\n",
    "        \n",
    "    btns = []\n",
    "    for p in plans:\n",
    "        btn = widgets.Button(description=p)        \n",
    "        btn.on_click(partial(on_click, p))\n",
    "        btns.append(btn)\n",
    "        \n",
    "    clear_output()\n",
    "    disp(widgets.HBox(btns))\n",
    "    print(source)\n",
    "\n",
    "render()"
   ]
  },
  {
   "cell_type": "code",
   "execution_count": 70,
   "metadata": {},
   "outputs": [],
   "source": [
    "bad = ['116']"
   ]
  },
  {
   "cell_type": "code",
   "execution_count": 75,
   "metadata": {},
   "outputs": [],
   "source": [
    "planstr_to_plan = {\n",
    "    'Clean First': Labels.CleanFirst,\n",
    "    'Clean in SC': Labels.CleanInSC,\n",
    "    'Single Loop': Labels.SingleLoop\n",
    "}\n",
    "\n",
    "plan_labels = {k: planstr_to_plan[v] for k, v in labels.items() if k not in bad}"
   ]
  },
  {
   "cell_type": "code",
   "execution_count": 78,
   "metadata": {},
   "outputs": [],
   "source": [
    "pcache.set('ocaml_labels', plan_labels)"
   ]
  },
  {
   "cell_type": "code",
   "execution_count": 82,
   "metadata": {},
   "outputs": [],
   "source": [
    "pickle.dump(plan_labels, open(f'{DATA_DIR}/T1-newlabels.pkl', 'wb'))"
   ]
  },
  {
   "cell_type": "code",
   "execution_count": 87,
   "metadata": {},
   "outputs": [
    {
     "name": "stdout",
     "output_type": "stream",
     "text": [
      "Skipped 16 programs\n"
     ]
    }
   ],
   "source": [
    "ds = ingest_dataset('T1')\n",
    "new_ds = load_new_labels(ds.vocab_index)"
   ]
  }
 ],
 "metadata": {
  "kernelspec": {
   "display_name": "Python 3",
   "language": "python",
   "name": "python3"
  },
  "language_info": {
   "codemirror_mode": {
    "name": "ipython",
    "version": 3
   },
   "file_extension": ".py",
   "mimetype": "text/x-python",
   "name": "python",
   "nbconvert_exporter": "python",
   "pygments_lexer": "ipython3",
   "version": "3.7.2"
  }
 },
 "nbformat": 4,
 "nbformat_minor": 2
}
