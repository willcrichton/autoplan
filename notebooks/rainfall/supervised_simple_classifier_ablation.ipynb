{
 "cells": [
  {
   "cell_type": "markdown",
   "metadata": {},
   "source": [
    "# Supervised simple classifier ablation and parameter sweep\n",
    "\n",
    "This notebook does a more rigorous evaluation of the \"simple classifier\" model on prelabled Rainfall data for OCaml. The goal is to evaluate the impact of different data preprocessing decisions on accuracy (ablation), as well as to determine the best set of parameters."
   ]
  },
  {
   "cell_type": "code",
   "execution_count": 1,
   "metadata": {
    "ExecuteTime": {
     "end_time": "2019-07-25T21:16:36.173288Z",
     "start_time": "2019-07-25T21:16:36.156056Z"
    },
    "nbpresent": {
     "id": "f126ffec-9ea0-4653-ad36-bfa8c4b37727"
    }
   },
   "outputs": [],
   "source": [
    "%load_ext autoreload\n",
    "%autoreload 2"
   ]
  },
  {
   "cell_type": "code",
   "execution_count": 2,
   "metadata": {
    "ExecuteTime": {
     "end_time": "2019-07-25T21:16:36.200212Z",
     "start_time": "2019-07-25T21:16:36.188651Z"
    },
    "nbpresent": {
     "id": "caf2005f-e8f6-446a-bac2-ceb8e126dfdb"
    }
   },
   "outputs": [],
   "source": [
    "import sys\n",
    "sys.path.append('..')"
   ]
  },
  {
   "cell_type": "code",
   "execution_count": 3,
   "metadata": {
    "ExecuteTime": {
     "end_time": "2019-07-25T22:02:17.498326Z",
     "start_time": "2019-07-25T22:02:17.457287Z"
    },
    "nbpresent": {
     "id": "7dc0a636-d954-4562-b206-715717a91832"
    }
   },
   "outputs": [],
   "source": [
    "from autoplan.trainer import ClassifierTrainer, option_combinations\n",
    "from autoplan.dataset import PrelabeledDataset\n",
    "from autoplan.vis import plot_accuracy, plot_cm, plot_loss\n",
    "from autoplan.token import TokenType\n",
    "from scripts.rainfall_ingest import ingest_dataset\n",
    "\n",
    "from tqdm import tqdm_notebook as tqdm\n",
    "import pandas as pd\n",
    "import torch\n",
    "import os\n",
    "import numpy as np\n",
    "import torch.nn as nn\n",
    "import matplotlib.pyplot as plt\n",
    "import seaborn as sns\n",
    "\n",
    "device = torch.device('cuda:0')\n",
    "REPO_DIR = os.path.expanduser('~/autoplan')"
   ]
  },
  {
   "cell_type": "markdown",
   "metadata": {},
   "source": [
    "## Data preprocessing ablation\n",
    "\n",
    "### Motivation\n",
    "\n",
    "In preparing the program for processing by the neural network, a general goal is to eliminate \"unnecessary\" variation in the student programs. For example, whether a student names a variable x vs y, or whether a student has 5 unit tests vs. 10 we know to be unrelated to the core task of classifying structure. \n",
    "\n",
    "One possibility is to hope that the neural network automatically learns to identify only the relevant variation to classifying structure, but with the small size of the training set, we hypothesize that reducing variation can help accuracy.\n",
    "\n",
    "We have two possible filtering steps to apply: first is to anonymize certain classes of tokens (`exclude`). By default, the variables x and y are treated as different tokens and assigned a unique and unrelated ID, so theoretically the network has to separately learn how to interpret the two variables. Similarly for numbers and strings. Anonymizing these tokens means mapping all tokens of the same class (e.g. all identifiers, all strings) to the same number.\n",
    "\n",
    "The second step is to eliminate all top-level statements that are not function definitions (`preprocess`). In OCaml, this eliminates imports and top-level unit tests. This step requires parsing the program into a syntax tree, which means re-exporting the syntax tree back into a source text that can then be tokenized. It's worth noting that the original syntax is not perfectly preserved, e.g. extra parentheses are inserted and type annotations are reordered (so this too \"normalizes\" the syntax to some extent).\n",
    "\n",
    "### Experiment\n",
    "\n",
    "In this experiment, we compute every combination of the two options as shown below, construct the appropriate datasets, and then cross-validate a model with default parameters on each dataset. For cross-validation, we randomly partition the labeled data into 2/3 train and 1/3 test K=10 times, and return the maximum accuracy on the validation set at any point in training."
   ]
  },
  {
   "cell_type": "code",
   "execution_count": 4,
   "metadata": {
    "ExecuteTime": {
     "end_time": "2019-07-25T22:02:27.733200Z",
     "start_time": "2019-07-25T22:02:22.563465Z"
    },
    "nbpresent": {
     "id": "b49dc411-9de8-4ccd-a93c-15759044a47d"
    }
   },
   "outputs": [],
   "source": [
    "tokenizer_options = [\n",
    "    ('preprocess', [True, False]),\n",
    "    ('exclude', [[], [TokenType.String], [TokenType.String, TokenType.Number], [TokenType.String, TokenType.Number, TokenType.Identifier]])\n",
    "]\n",
    "\n",
    "datasets = [\n",
    "    (opts, ingest_dataset('T1', **opts))\n",
    "    for opts in option_combinations(tokenizer_options)\n",
    "]"
   ]
  },
  {
   "cell_type": "code",
   "execution_count": 5,
   "metadata": {
    "ExecuteTime": {
     "end_time": "2019-07-25T22:13:28.774081Z",
     "start_time": "2019-07-25T22:13:15.946135Z"
    },
    "nbpresent": {
     "id": "bf4933e0-84c4-467a-b385-f5a352fbc042"
    }
   },
   "outputs": [
    {
     "data": {
      "application/vnd.jupyter.widget-view+json": {
       "model_id": "46773c22c5aa42c994b0fb048fcec502",
       "version_major": 2,
       "version_minor": 0
      },
      "text/plain": [
       "HBox(children=(IntProgress(value=0, max=8), HTML(value='')))"
      ]
     },
     "metadata": {},
     "output_type": "display_data"
    },
    {
     "name": "stdout",
     "output_type": "stream",
     "text": [
      "\n"
     ]
    }
   ],
   "source": [
    "all_eval = [\n",
    "    (opts, ClassifierTrainer.crossval(dataset, k=10, epochs=100, val_frac=0.33, device=device))\n",
    "    for (opts, dataset) in tqdm(datasets)\n",
    "]"
   ]
  },
  {
   "cell_type": "markdown",
   "metadata": {},
   "source": [
    "The parameters sorted by accuracy are shown below. The results suggest that anonymizing tokens has close to no impact, while filtering tests has a significant impact on test accuracy."
   ]
  },
  {
   "cell_type": "code",
   "execution_count": 14,
   "metadata": {
    "nbpresent": {
     "id": "8962c1e2-c663-45d9-bbde-6537e8884d73"
    }
   },
   "outputs": [
    {
     "data": {
      "text/plain": [
       "[{'params': {'exclude': [<TokenType.String: 2>], 'preprocess': True},\n",
       "  'accuracy': 0.8428571428571429},\n",
       " {'params': {'exclude': [<TokenType.String: 2>,\n",
       "    <TokenType.Number: 1>,\n",
       "    <TokenType.Identifier: 0>],\n",
       "   'preprocess': True},\n",
       "  'accuracy': 0.8428571428571429},\n",
       " {'params': {'exclude': [], 'preprocess': True},\n",
       "  'accuracy': 0.8357142857142857},\n",
       " {'params': {'exclude': [<TokenType.String: 2>, <TokenType.Number: 1>],\n",
       "   'preprocess': True},\n",
       "  'accuracy': 0.8357142857142857},\n",
       " {'params': {'exclude': [<TokenType.String: 2>,\n",
       "    <TokenType.Number: 1>,\n",
       "    <TokenType.Identifier: 0>],\n",
       "   'preprocess': False},\n",
       "  'accuracy': 0.5285714285714286},\n",
       " {'params': {'exclude': [<TokenType.String: 2>, <TokenType.Number: 1>],\n",
       "   'preprocess': False},\n",
       "  'accuracy': 0.5214285714285714},\n",
       " {'params': {'exclude': [], 'preprocess': False},\n",
       "  'accuracy': 0.4928571428571429},\n",
       " {'params': {'exclude': [<TokenType.String: 2>], 'preprocess': False},\n",
       "  'accuracy': 0.4714285714285714}]"
      ]
     },
     "execution_count": 14,
     "metadata": {},
     "output_type": "execute_result"
    }
   ],
   "source": [
    "sorted([{\n",
    "    'params': k, \n",
    "    'accuracy': np.mean(v['accuracy'])\n",
    "} for k, v in all_eval], key=lambda t: -t['accuracy'])"
   ]
  },
  {
   "cell_type": "markdown",
   "metadata": {},
   "source": [
    "## Model parameter sweep\n",
    "\n",
    "This experiment uses the best dataset parameters from the previous experiment, and attempts to find the right hyperparameters for the simple classifier model. The three options are:\n",
    "1. `model` which determines the kind of recurrent unit used in the program encoder (RNN, GRU, or LSTM)\n",
    "2. `hidden_size` which is the size of the hidden layer in the recurrent unit\n",
    "3. `embedding_size` which is the size of the input embedding that each token is mapped to\n",
    "\n",
    "As before, we enumerate all combinations of these options and cross-validate the model on the OCaml data."
   ]
  },
  {
   "cell_type": "code",
   "execution_count": 70,
   "metadata": {
    "ExecuteTime": {
     "end_time": "2019-07-25T22:13:28.778669Z",
     "start_time": "2019-07-25T22:13:23.451Z"
    },
    "nbpresent": {
     "id": "ee37c525-01eb-4cfd-82f7-6d6a9a4148ab"
    }
   },
   "outputs": [],
   "source": [
    "dataset = ingest_dataset('T1', preprocess=True, exclude=[TokenType.String])\n",
    "\n",
    "model_options = [\n",
    "    ('model', [nn.RNN, nn.GRU, nn.LSTM]),\n",
    "    ('hidden_size', [32, 128, 512, 2048]),\n",
    "    ('embedding_size', [32, 128, 512, 2048]),\n",
    "]"
   ]
  },
  {
   "cell_type": "code",
   "execution_count": 71,
   "metadata": {
    "ExecuteTime": {
     "end_time": "2019-07-25T22:13:28.778669Z",
     "start_time": "2019-07-25T22:13:23.451Z"
    },
    "nbpresent": {
     "id": "36c4b51a-ce71-462c-8ed6-562a68a5287e"
    }
   },
   "outputs": [
    {
     "data": {
      "application/vnd.jupyter.widget-view+json": {
       "model_id": "b5246cd8d2764a35aee7e45097cab09b",
       "version_major": 2,
       "version_minor": 0
      },
      "text/plain": [
       "HBox(children=(IntProgress(value=0, max=48), HTML(value='')))"
      ]
     },
     "metadata": {},
     "output_type": "display_data"
    },
    {
     "name": "stdout",
     "output_type": "stream",
     "text": [
      "\n"
     ]
    }
   ],
   "source": [
    "all_evals = [\n",
    "    (opts, ClassifierTrainer.crossval(dataset, k=10, epochs=100, val_frac=0.33, device=device,\n",
    "                                      model_opts=opts))\n",
    "    for opts in tqdm(option_combinations(model_options))\n",
    "]"
   ]
  },
  {
   "cell_type": "markdown",
   "metadata": {},
   "source": [
    "Looking at the top 10 parameters by accuracy, there is no obvious correlation for each parameter individually (e.g. that a larger embedding size means higher accuracy, or GRU is preferable to LSTM/RNN). Instead, we want to visualize the data in aggregate."
   ]
  },
  {
   "cell_type": "code",
   "execution_count": 72,
   "metadata": {},
   "outputs": [
    {
     "data": {
      "text/plain": [
       "[{'params': {'embedding_size': 2048,\n",
       "   'hidden_size': 2048,\n",
       "   'model': torch.nn.modules.rnn.LSTM},\n",
       "  'accuracy': 0.9071428571428573},\n",
       " {'params': {'embedding_size': 128,\n",
       "   'hidden_size': 128,\n",
       "   'model': torch.nn.modules.rnn.GRU},\n",
       "  'accuracy': 0.8857142857142858},\n",
       " {'params': {'embedding_size': 512,\n",
       "   'hidden_size': 128,\n",
       "   'model': torch.nn.modules.rnn.LSTM},\n",
       "  'accuracy': 0.8785714285714284},\n",
       " {'params': {'embedding_size': 512,\n",
       "   'hidden_size': 512,\n",
       "   'model': torch.nn.modules.rnn.LSTM},\n",
       "  'accuracy': 0.8785714285714284},\n",
       " {'params': {'embedding_size': 2048,\n",
       "   'hidden_size': 512,\n",
       "   'model': torch.nn.modules.rnn.LSTM},\n",
       "  'accuracy': 0.8714285714285716},\n",
       " {'params': {'embedding_size': 512,\n",
       "   'hidden_size': 128,\n",
       "   'model': torch.nn.modules.rnn.RNN},\n",
       "  'accuracy': 0.8642857142857142},\n",
       " {'params': {'embedding_size': 512,\n",
       "   'hidden_size': 512,\n",
       "   'model': torch.nn.modules.rnn.GRU},\n",
       "  'accuracy': 0.8642857142857142},\n",
       " {'params': {'embedding_size': 512,\n",
       "   'hidden_size': 512,\n",
       "   'model': torch.nn.modules.rnn.RNN},\n",
       "  'accuracy': 0.8571428571428571},\n",
       " {'params': {'embedding_size': 32,\n",
       "   'hidden_size': 512,\n",
       "   'model': torch.nn.modules.rnn.GRU},\n",
       "  'accuracy': 0.8571428571428571},\n",
       " {'params': {'embedding_size': 128,\n",
       "   'hidden_size': 512,\n",
       "   'model': torch.nn.modules.rnn.LSTM},\n",
       "  'accuracy': 0.8571428571428571}]"
      ]
     },
     "execution_count": 72,
     "metadata": {},
     "output_type": "execute_result"
    }
   ],
   "source": [
    "sorted([{\n",
    "    'params': k, \n",
    "    'accuracy': np.mean(v['accuracy'])\n",
    "} for k, v in all_evals], key=lambda t: -t['accuracy'])[:10]"
   ]
  },
  {
   "cell_type": "markdown",
   "metadata": {},
   "source": [
    "This visualization shows a box plot of accuracy for each value of each options under all other possible configurations. \n",
    "* `model`: GRU and LSTM seem, on average, better than RNN.\n",
    "* `hidden_size`: a hidden size around 512 seems reasonable.\n",
    "* `embedding_size`: an embedding size also around 512 seems reasonable."
   ]
  },
  {
   "cell_type": "code",
   "execution_count": 76,
   "metadata": {},
   "outputs": [
    {
     "data": {
      "image/png": "[encoded data removed]",
      "text/plain": [
       "<Figure size 864x360 with 3 Axes>"
      ]
     },
     "metadata": {
      "needs_background": "light"
     },
     "output_type": "display_data"
    }
   ],
   "source": [
    "df = pd.DataFrame([{**k, 'accuracy': np.mean(v['accuracy']), 'model': str(k['model'].__name__)} for k,v in all_evals])\n",
    "_, axes = plt.subplots(nrows=1, ncols=3, figsize=(12, 5))\n",
    "for ax, (k, _) in zip(axes, model_options):\n",
    "    df.boxplot(column=['accuracy'], by=k, ax=ax)\n",
    "    ax.set_title('')\n",
    "    ax.set_ylabel('accuracy')\n",
    "\n",
    "plt.suptitle('')\n",
    "plt.tight_layout()"
   ]
  },
  {
   "cell_type": "markdown",
   "metadata": {},
   "source": [
    "## Conclusion\n",
    "\n",
    "These experiments suggest that we should definitely be filtering the dataset for unit tests and other extra variation, although tokenization strategy does not seem to have a significant impact. For model parameters, we will use GRU or LSTM with the corresponding hidden/embedding sizes identified above."
   ]
  }
 ],
 "metadata": {
  "kernelspec": {
   "display_name": "Python 3",
   "language": "python",
   "name": "python3"
  },
  "language_info": {
   "codemirror_mode": {
    "name": "ipython",
    "version": 3
   },
   "file_extension": ".py",
   "mimetype": "text/x-python",
   "name": "python",
   "nbconvert_exporter": "python",
   "pygments_lexer": "ipython3",
   "version": "3.7.3"
  },
  "toc": {
   "base_numbering": 1,
   "nav_menu": {},
   "number_sections": true,
   "sideBar": true,
   "skip_h1_title": false,
   "title_cell": "Table of Contents",
   "title_sidebar": "Contents",
   "toc_cell": false,
   "toc_position": {},
   "toc_section_display": true,
   "toc_window_display": false
  },
  "varInspector": {
   "cols": {
    "lenName": 16,
    "lenType": 16,
    "lenVar": 40
   },
   "kernels_config": {
    "python": {
     "delete_cmd_postfix": "",
     "delete_cmd_prefix": "del ",
     "library": "var_list.py",
     "varRefreshCmd": "print(var_dic_list())"
    },
    "r": {
     "delete_cmd_postfix": ") ",
     "delete_cmd_prefix": "rm(",
     "library": "var_list.r",
     "varRefreshCmd": "cat(var_dic_list()) "
    }
   },
   "types_to_exclude": [
    "module",
    "function",
    "builtin_function_or_method",
    "instance",
    "_Feature"
   ],
   "window_display": false
  }
 },
 "nbformat": 4,
 "nbformat_minor": 2
}
