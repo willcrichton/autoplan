{
 "cells": [
  {
   "cell_type": "code",
   "execution_count": 1,
   "metadata": {},
   "outputs": [],
   "source": [
    "%load_ext autoreload\n",
    "%autoreload 2"
   ]
  },
  {
   "cell_type": "code",
   "execution_count": 2,
   "metadata": {},
   "outputs": [],
   "source": [
    "from autoplan.neighbors import TreeNNClassifier\n",
    "from autoplan.token import OCamlTokenizer, TokenType, PyretTokenizer\n",
    "from autoplan.trainer import ClassifierTrainer\n",
    "from autoplan.vis import plot_accuracy, plot_cm, plot_loss\n",
    "from autoplan.dataset import TrainVal, RandomSplit, concat_datasets\n",
    "\n",
    "import numpy as np\n",
    "import dataclasses\n",
    "import torch\n",
    "from tqdm.auto import tqdm\n",
    "from torch import nn\n",
    "from torch.utils.data import Subset\n",
    "from scripts.rainfall_ingest import ingest_dataset, load_full_t1\n",
    "import pandas as pd\n",
    "from pickle_cache import PickleCache\n",
    "import matplotlib.pyplot as plt\n",
    "import seaborn as sns\n",
    "from collections import defaultdict\n",
    "\n",
    "pcache = PickleCache()\n",
    "device = torch.device('cuda:6')"
   ]
  },
  {
   "cell_type": "code",
   "execution_count": null,
   "metadata": {},
   "outputs": [
    {
     "name": "stdout",
     "output_type": "stream",
     "text": [
      "Skipped 16 programs\n",
      "Skipped 16 programs\n",
      "Skipped 2 programs\n"
     ]
    }
   ],
   "source": [
    "datasets = {\n",
    "    'T1': [load_full_t1(preprocess=False), load_full_t1(preprocess=True)],\n",
    "    'T1Acc': [ingest_dataset('T1Acc', preprocess=False), ingest_dataset('T1Acc', preprocess=True)]\n",
    "}"
   ]
  },
  {
   "cell_type": "code",
   "execution_count": null,
   "metadata": {},
   "outputs": [],
   "source": [
    "ks = [1, 3, 5, 10, 20]\n",
    "#evals = {}\n",
    "for (lang, lang_ds), tokenizer in zip(datasets.items(), [OCamlTokenizer(), PyretTokenizer()]):\n",
    "    if lang == 'T1Acc':\n",
    "        continue\n",
    "    evals[lang] = []\n",
    "    for ds in lang_ds:\n",
    "        cls = TreeNNClassifier(ds, tokenizer)\n",
    "        dist_matrix = cls.compute_distance_matrix(cls.programs)\n",
    "        evals[lang].append({\n",
    "            k: [evl.accuracy for evl in cls.crossval(dist_matrix, folds=30, k=k)]\n",
    "            for k in ks\n",
    "        })"
   ]
  },
  {
   "cell_type": "code",
   "execution_count": null,
   "metadata": {},
   "outputs": [],
   "source": [
    "[\n",
    "    condition[sorted([(k, np.mean(acc)) for k, acc in condition.items()], key=lambda t: -t[1])[0][0]]\n",
    "    for condition in evals['T1Acc']\n",
    "]"
   ]
  },
  {
   "cell_type": "code",
   "execution_count": null,
   "metadata": {},
   "outputs": [],
   "source": [
    "t1acc_evals = evals['T1Acc']"
   ]
  },
  {
   "cell_type": "code",
   "execution_count": null,
   "metadata": {},
   "outputs": [],
   "source": [
    "rnn_evals = {}\n",
    "for (lang, lang_ds), tokenizer in zip(datasets.items(), [OCamlTokenizer(), PyretTokenizer()]):\n",
    "    rnn_evals[lang] = []\n",
    "    for ds in lang_ds:\n",
    "        rnn_evals[lang].append(ClassifierTrainer.crossval(\n",
    "            ds, k=30, device=device, split=RandomSplit(ds), val_frac=0.33, epochs=100,\n",
    "            model_opts={'model': nn.LSTM, 'hidden_size': 512, 'embedding_size': 128}))"
   ]
  },
  {
   "cell_type": "code",
   "execution_count": null,
   "metadata": {},
   "outputs": [],
   "source": [
    "knn_acc = pd.DataFrame([\n",
    "    {'Language': 'OCaml' if lang == 'T1' else 'Pyret', 'Method': 'Nearest neighbors',\n",
    "    'Condition': name, 'Accuracy': acc}\n",
    "    for lang in ['T1', 'T1Acc']\n",
    "    for name, condition in zip(['No filter', 'Filter'], evals[lang])\n",
    "    for acc in condition[sorted([(k, np.mean(acc)) for k, acc in condition.items()], key=lambda t: -t[1])[0][0]]\n",
    "])\n",
    "\n",
    "rnn_acc = pd.DataFrame([\n",
    "    {'Language': 'OCaml' if lang == 'T1' else 'Pyret', 'Method': 'Recurrent neural network',\n",
    "     'Condition': name, 'Accuracy': max([evl.accuracy for evl in val_evals])} \n",
    "    for lang in ['T1', 'T1Acc']\n",
    "    for name, condition in zip(['No filter', 'Filter'], rnn_evals[lang])\n",
    "    for val_evals in condition['val_eval']\n",
    "])\n",
    "\n",
    "all_acc = pd.concat([knn_acc, rnn_acc])\n",
    "\n",
    "_, axes = plt.subplots(ncols=2, figsize=(7, 4))\n",
    "for i, (ax, lang) in enumerate(zip(axes, ['OCaml', 'Pyret'])):\n",
    "    sns.boxplot(x='Condition', y='Accuracy', hue='Method', data=all_acc[all_acc.Language == lang], ax=ax, width=0.5)\n",
    "    sns.despine()\n",
    "    ax.set_title(lang)\n",
    "    ax.set_ylim(0, 1)\n",
    "    if i == 1: ax.legend().remove()\n",
    "        \n",
    "plt.tight_layout()\n",
    "plt.savefig('test-filter.pdf')"
   ]
  }
 ],
 "metadata": {
  "kernelspec": {
   "display_name": "Python 3",
   "language": "python",
   "name": "python3"
  },
  "language_info": {
   "codemirror_mode": {
    "name": "ipython",
    "version": 3
   },
   "file_extension": ".py",
   "mimetype": "text/x-python",
   "name": "python",
   "nbconvert_exporter": "python",
   "pygments_lexer": "ipython3",
   "version": "3.7.2"
  }
 },
 "nbformat": 4,
 "nbformat_minor": 2
}
