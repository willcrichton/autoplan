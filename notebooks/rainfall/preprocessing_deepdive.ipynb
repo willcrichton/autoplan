{
 "cells": [
  {
   "cell_type": "code",
   "execution_count": 2,
   "metadata": {},
   "outputs": [
    {
     "name": "stdout",
     "output_type": "stream",
     "text": [
      "The autoreload extension is already loaded. To reload it, use:\n",
      "  %reload_ext autoreload\n"
     ]
    }
   ],
   "source": [
    "%load_ext autoreload\n",
    "%autoreload 2"
   ]
  },
  {
   "cell_type": "code",
   "execution_count": 22,
   "metadata": {},
   "outputs": [],
   "source": [
    "from autoplan.neighbors import TreeNNClassifier\n",
    "from autoplan.token import OCamlTokenizer, TokenType, PyretTokenizer\n",
    "from autoplan.trainer import ClassifierTrainer\n",
    "from autoplan.vis import plot_accuracy, plot_cm, plot_loss\n",
    "from autoplan.dataset import TrainVal, RandomSplit, concat_datasets\n",
    "\n",
    "import numpy as np\n",
    "import dataclasses\n",
    "import torch\n",
    "from tqdm.auto import tqdm\n",
    "from torch import nn\n",
    "from torch.utils.data import Subset\n",
    "from scripts.rainfall_ingest import ingest_dataset, load_full_t1\n",
    "import pandas as pd\n",
    "from pickle_cache import PickleCache\n",
    "import matplotlib.pyplot as plt\n",
    "import seaborn as sns\n",
    "from collections import defaultdict\n",
    "\n",
    "pcache = PickleCache()\n",
    "device = torch.device('cuda:6')"
   ]
  },
  {
   "cell_type": "code",
   "execution_count": 5,
   "metadata": {},
   "outputs": [
    {
     "name": "stdout",
     "output_type": "stream",
     "text": [
      "Skipped 16 programs\n",
      "Skipped 16 programs\n",
      "Skipped 2 programs\n",
      "Skipped 2 programs\n"
     ]
    }
   ],
   "source": [
    "datasets = {\n",
    "    'T1': [load_full_t1(preprocess=False), load_full_t1(preprocess=True)],\n",
    "    'T1Acc': [ingest_dataset('T1Acc', preprocess=False), ingest_dataset('T1Acc', preprocess=True)]\n",
    "}"
   ]
  },
  {
   "cell_type": "code",
   "execution_count": 55,
   "metadata": {},
   "outputs": [
    {
     "data": {
      "application/vnd.jupyter.widget-view+json": {
       "model_id": "21e447e5dd7f44b29c8a4169aa7b5f74",
       "version_major": 2,
       "version_minor": 0
      },
      "text/plain": [
       "HBox(children=(IntProgress(value=0, max=136), HTML(value='')))"
      ]
     },
     "metadata": {},
     "output_type": "display_data"
    },
    {
     "name": "stdout",
     "output_type": "stream",
     "text": [
      "\n"
     ]
    },
    {
     "data": {
      "application/vnd.jupyter.widget-view+json": {
       "model_id": "d06168e84d9244a08eb85aa5d739cff6",
       "version_major": 2,
       "version_minor": 0
      },
      "text/plain": [
       "HBox(children=(IntProgress(value=0, max=135), HTML(value='')))"
      ]
     },
     "metadata": {},
     "output_type": "display_data"
    },
    {
     "name": "stdout",
     "output_type": "stream",
     "text": [
      "\n"
     ]
    },
    {
     "data": {
      "application/vnd.jupyter.widget-view+json": {
       "model_id": "5ba2b688ca184c5fbe73e00cf180acc4",
       "version_major": 2,
       "version_minor": 0
      },
      "text/plain": [
       "HBox(children=(IntProgress(value=0, max=136), HTML(value='')))"
      ]
     },
     "metadata": {},
     "output_type": "display_data"
    },
    {
     "name": "stdout",
     "output_type": "stream",
     "text": [
      "\n"
     ]
    },
    {
     "data": {
      "application/vnd.jupyter.widget-view+json": {
       "model_id": "7bdda752ff754449b138355a2296a762",
       "version_major": 2,
       "version_minor": 0
      },
      "text/plain": [
       "HBox(children=(IntProgress(value=0, max=136), HTML(value='')))"
      ]
     },
     "metadata": {},
     "output_type": "display_data"
    },
    {
     "name": "stdout",
     "output_type": "stream",
     "text": [
      "\n"
     ]
    }
   ],
   "source": [
    "ks = [1, 3, 5, 10, 20]\n",
    "#evals = {}\n",
    "for (lang, lang_ds), tokenizer in zip(datasets.items(), [OCamlTokenizer(), PyretTokenizer()]):\n",
    "    if lang == 'T1Acc':\n",
    "        continue\n",
    "    evals[lang] = []\n",
    "    for ds in lang_ds:\n",
    "        cls = TreeNNClassifier(ds, tokenizer)\n",
    "        dist_matrix = cls.compute_distance_matrix(cls.programs)\n",
    "        evals[lang].append({\n",
    "            k: [evl.accuracy for evl in cls.crossval(dist_matrix, folds=30, k=k)]\n",
    "            for k in ks\n",
    "        })"
   ]
  },
  {
   "cell_type": "code",
   "execution_count": 53,
   "metadata": {},
   "outputs": [
    {
     "data": {
      "text/plain": [
       "[[0.6153846153846154,\n",
       "  0.5384615384615384,\n",
       "  0.5384615384615384,\n",
       "  0.6153846153846154,\n",
       "  0.38461538461538464,\n",
       "  0.6153846153846154,\n",
       "  0.6923076923076923,\n",
       "  0.6923076923076923,\n",
       "  0.46153846153846156,\n",
       "  0.6923076923076923,\n",
       "  0.6923076923076923,\n",
       "  0.5384615384615384,\n",
       "  0.46153846153846156,\n",
       "  0.38461538461538464,\n",
       "  0.5384615384615384,\n",
       "  0.6923076923076923,\n",
       "  0.5384615384615384,\n",
       "  0.5384615384615384,\n",
       "  0.8461538461538461,\n",
       "  0.5384615384615384,\n",
       "  0.3076923076923077,\n",
       "  0.6153846153846154,\n",
       "  0.6923076923076923,\n",
       "  0.7692307692307693,\n",
       "  0.6153846153846154,\n",
       "  0.6153846153846154,\n",
       "  0.6153846153846154,\n",
       "  0.38461538461538464,\n",
       "  0.6923076923076923,\n",
       "  0.5384615384615384],\n",
       " [0.6923076923076923,\n",
       "  0.6923076923076923,\n",
       "  0.6923076923076923,\n",
       "  0.7692307692307693,\n",
       "  0.8461538461538461,\n",
       "  0.6923076923076923,\n",
       "  0.9230769230769231,\n",
       "  0.7692307692307693,\n",
       "  0.6923076923076923,\n",
       "  0.7692307692307693,\n",
       "  0.7692307692307693,\n",
       "  0.6153846153846154,\n",
       "  0.6923076923076923,\n",
       "  0.6153846153846154,\n",
       "  0.7692307692307693,\n",
       "  0.6923076923076923,\n",
       "  0.6923076923076923,\n",
       "  0.6153846153846154,\n",
       "  0.7692307692307693,\n",
       "  0.6923076923076923,\n",
       "  0.7692307692307693,\n",
       "  0.6153846153846154,\n",
       "  0.6153846153846154,\n",
       "  0.6923076923076923,\n",
       "  0.6923076923076923,\n",
       "  0.9230769230769231,\n",
       "  0.6153846153846154,\n",
       "  0.7692307692307693,\n",
       "  0.7692307692307693,\n",
       "  0.5384615384615384]]"
      ]
     },
     "execution_count": 53,
     "metadata": {},
     "output_type": "execute_result"
    }
   ],
   "source": [
    "[\n",
    "    condition[sorted([(k, np.mean(acc)) for k, acc in condition.items()], key=lambda t: -t[1])[0][0]]\n",
    "    for condition in evals['T1Acc']\n",
    "]"
   ]
  },
  {
   "cell_type": "code",
   "execution_count": 28,
   "metadata": {},
   "outputs": [],
   "source": [
    "t1acc_evals = evals['T1Acc']"
   ]
  },
  {
   "cell_type": "code",
   "execution_count": 30,
   "metadata": {},
   "outputs": [],
   "source": [
    "rnn_evals = {}\n",
    "for (lang, lang_ds), tokenizer in zip(datasets.items(), [OCamlTokenizer(), PyretTokenizer()]):\n",
    "    rnn_evals[lang] = []\n",
    "    for ds in lang_ds:\n",
    "        rnn_evals[lang].append(ClassifierTrainer.crossval(\n",
    "            ds, k=30, device=device, split=RandomSplit(ds), val_frac=0.33, epochs=100,\n",
    "            model_opts={'model': nn.LSTM, 'hidden_size': 512, 'embedding_size': 128}))"
   ]
  },
  {
   "cell_type": "code",
   "execution_count": 70,
   "metadata": {},
   "outputs": [
    {
     "data": {
      "image/png": "[encoded data removed]",
      "text/plain": [
       "<Figure size 504x288 with 2 Axes>"
      ]
     },
     "metadata": {
      "needs_background": "light"
     },
     "output_type": "display_data"
    }
   ],
   "source": [
    "knn_acc = pd.DataFrame([\n",
    "    {'Language': 'OCaml' if lang == 'T1' else 'Pyret', 'Method': 'Nearest neighbors',\n",
    "    'Condition': name, 'Accuracy': acc}\n",
    "    for lang in ['T1', 'T1Acc']\n",
    "    for name, condition in zip(['No filter', 'Filter'], evals[lang])\n",
    "    for acc in condition[sorted([(k, np.mean(acc)) for k, acc in condition.items()], key=lambda t: -t[1])[0][0]]\n",
    "])\n",
    "\n",
    "rnn_acc = pd.DataFrame([\n",
    "    {'Language': 'OCaml' if lang == 'T1' else 'Pyret', 'Method': 'Recurrent neural network',\n",
    "     'Condition': name, 'Accuracy': max([evl.accuracy for evl in val_evals])} \n",
    "    for lang in ['T1', 'T1Acc']\n",
    "    for name, condition in zip(['No filter', 'Filter'], rnn_evals[lang])\n",
    "    for val_evals in condition['val_eval']\n",
    "])\n",
    "\n",
    "all_acc = pd.concat([knn_acc, rnn_acc])\n",
    "\n",
    "_, axes = plt.subplots(ncols=2, figsize=(7, 4))\n",
    "for i, (ax, lang) in enumerate(zip(axes, ['OCaml', 'Pyret'])):\n",
    "    sns.boxplot(x='Condition', y='Accuracy', hue='Method', data=all_acc[all_acc.Language == lang], ax=ax, width=0.5)\n",
    "    sns.despine()\n",
    "    ax.set_title(lang)\n",
    "    ax.set_ylim(0, 1)\n",
    "    if i == 1: ax.legend().remove()\n",
    "        \n",
    "plt.tight_layout()\n",
    "plt.savefig('test-filter.pdf')"
   ]
  }
 ],
 "metadata": {
  "kernelspec": {
   "display_name": "Python 3",
   "language": "python",
   "name": "python3"
  },
  "language_info": {
   "codemirror_mode": {
    "name": "ipython",
    "version": 3
   },
   "file_extension": ".py",
   "mimetype": "text/x-python",
   "name": "python",
   "nbconvert_exporter": "python",
   "pygments_lexer": "ipython3",
   "version": "3.7.2"
  }
 },
 "nbformat": 4,
 "nbformat_minor": 2
}
