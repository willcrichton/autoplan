{
 "cells": [
  {
   "cell_type": "code",
   "execution_count": 17,
   "metadata": {},
   "outputs": [
    {
     "name": "stdout",
     "output_type": "stream",
     "text": [
      "The autoreload extension is already loaded. To reload it, use:\n",
      "  %reload_ext autoreload\n"
     ]
    }
   ],
   "source": [
    "%load_ext autoreload\n",
    "%autoreload 2"
   ]
  },
  {
   "cell_type": "code",
   "execution_count": 18,
   "metadata": {},
   "outputs": [],
   "source": [
    "from autoplan.neighbors import TreeNNClassifier, NNClassifier\n",
    "from autoplan.token import OCamlTokenizer, PyretTokenizer, TokenType\n",
    "from autoplan.trainer import ClassifierTrainer\n",
    "from autoplan.vis import plot_accuracy, plot_cm, plot_loss\n",
    "from autoplan.dataset import TrainVal, RandomSplit, concat_datasets, set_random_seed\n",
    "from grammars.rainfall.ocaml import Labels\n",
    "import dataclasses\n",
    "import torch\n",
    "from tqdm.auto import tqdm\n",
    "from torch import nn\n",
    "from torch.utils.data import Subset\n",
    "import numpy as np\n",
    "from scripts.rainfall_ingest import ingest_dataset, load_full_t1\n",
    "import pandas as pd\n",
    "from pickle_cache import PickleCache\n",
    "import matplotlib.pyplot as plt\n",
    "import seaborn as sns\n",
    "from collections import defaultdict\n",
    "from scipy.spatial import distance \n",
    "\n",
    "pcache = PickleCache()\n",
    "device = torch.device('cuda:7')"
   ]
  },
  {
   "cell_type": "code",
   "execution_count": 19,
   "metadata": {},
   "outputs": [
    {
     "name": "stdout",
     "output_type": "stream",
     "text": [
      "Skipped 16 programs\n",
      "Skipped 2 programs\n"
     ]
    }
   ],
   "source": [
    "datasets = {\n",
    "    'T1': load_full_t1(),\n",
    "    'T1Acc': ingest_dataset('T1Acc')\n",
    "}"
   ]
  },
  {
   "cell_type": "code",
   "execution_count": 29,
   "metadata": {},
   "outputs": [
    {
     "data": {
      "text/plain": [
       "[<GeneralRainfallLabels.CleanFirst: 0>,\n",
       " <GeneralRainfallLabels.CleanInSC: 1>,\n",
       " <GeneralRainfallLabels.SingleLoop: 2>]"
      ]
     },
     "execution_count": 29,
     "metadata": {},
     "output_type": "execute_result"
    }
   ],
   "source": [
    "datasets['T1'].label_set"
   ]
  },
  {
   "cell_type": "code",
   "execution_count": 48,
   "metadata": {},
   "outputs": [
    {
     "data": {
      "text/plain": [
       "[('GeneralRainfallLabels.CleanFirst', 0.4411764705882353),\n",
       " ('GeneralRainfallLabels.CleanInSC', 0.19852941176470587),\n",
       " ('GeneralRainfallLabels.SingleLoop', 0.3602941176470588)]"
      ]
     },
     "execution_count": 48,
     "metadata": {},
     "output_type": "execute_result"
    }
   ],
   "source": [
    "c = pd.Series([t['labels'].item() for t in datasets['T1'].dataset]).value_counts().sort_index()\n",
    "list(zip([str(l) for l in datasets['T1'].label_set], (c / c.sum()).tolist()))"
   ]
  },
  {
   "cell_type": "code",
   "execution_count": 50,
   "metadata": {},
   "outputs": [
    {
     "data": {
      "text/plain": [
       "[('GeneralRainfallLabels.CleanFirst', 0.47619047619047616),\n",
       " ('GeneralRainfallLabels.CleanInSC', 0.21428571428571427),\n",
       " ('GeneralRainfallLabels.SingleLoop', 0.30952380952380953)]"
      ]
     },
     "execution_count": 50,
     "metadata": {},
     "output_type": "execute_result"
    }
   ],
   "source": [
    "c = pd.Series([t['labels'].item() for t in datasets['T1Acc'].dataset]).value_counts().sort_index()\n",
    "list(zip([str(l) for l in datasets['T1Acc'].label_set], (c / c.sum()).tolist()))"
   ]
  },
  {
   "cell_type": "code",
   "execution_count": 51,
   "metadata": {},
   "outputs": [],
   "source": [
    "model_opts = {\n",
    "    'model': nn.LSTM,\n",
    "    'hidden_size': 512,\n",
    "    'embedding_size': 128\n",
    "}\n",
    "\n",
    "val_frac = 0.33"
   ]
  },
  {
   "cell_type": "code",
   "execution_count": 52,
   "metadata": {},
   "outputs": [],
   "source": [
    "def rnn_eval(ds):\n",
    "    set_random_seed(0)\n",
    "    return ClassifierTrainer.crossval(\n",
    "        ds, split=RandomSplit(ds), k=30, epochs=100, val_frac=val_frac, \n",
    "        model_opts=model_opts, device=device)\n",
    "\n",
    "rnn_eval = {\n",
    "    k: rnn_eval(datasets[k])\n",
    "    for k in ['T1', 'T1Acc']\n",
    "}"
   ]
  },
  {
   "cell_type": "code",
   "execution_count": 53,
   "metadata": {},
   "outputs": [],
   "source": [
    "def plot_confusion_distribution(evals, hist=False):\n",
    "    cms = [evl.confusion_matrix for evl in evals]\n",
    "    \n",
    "    bad = set([])\n",
    "    for k, cm in enumerate(cms):\n",
    "        for i in range(3):\n",
    "            if np.sum(cm[i, :]) == 0:\n",
    "                bad.add((i, k))\n",
    "    \n",
    "    cms_np = np.nan_to_num(np.concatenate([\n",
    "        np.expand_dims(cm / cm.sum(axis=1)[:,np.newaxis], axis=2) for cm in cms\n",
    "    ], axis=2))\n",
    "    \n",
    "    ls = datasets['T1'].label_set\n",
    "    df = []\n",
    "    for i, ltrue in enumerate(ls):\n",
    "        for j, lpred in enumerate(ls):\n",
    "            row = cms_np[int(ltrue), int(lpred), :]\n",
    "            \n",
    "            # For graphs with all zeros, add a bit of noise so it shows up on the plot\n",
    "            if np.sum(row) < 0.0001:\n",
    "                row += np.random.rand(*row.shape) * 0.03\n",
    "                \n",
    "            for k, c in enumerate(row):\n",
    "                if (i, k) in bad:\n",
    "                    continue\n",
    "                df.append({\n",
    "                    'True': str(ltrue).split('.')[1],\n",
    "                    'Pred': str(lpred).split('.')[1],\n",
    "                    'Count': c\n",
    "                })\n",
    "                \n",
    "    df = pd.DataFrame(df)\n",
    "    \n",
    "    g = sns.FacetGrid(df, row='True', col='Pred', height=1.8, aspect=1.5)\n",
    "    if hist:\n",
    "        g.map(plt.hist, 'Count', bins=np.arange(0, 1, 0.1))\n",
    "    else:\n",
    "        g.map(sns.kdeplot, 'Count', shade=True, clip=(0, 10))\n",
    "\n",
    "    g.set_titles('')\n",
    "    g.set(xlim=[0, 1], ylim=[0, 10])\n",
    "\n",
    "    labels = ['Clean First', 'Clean Multiple', 'Single Loop']\n",
    "    for i in range(3):\n",
    "        g.facet_axis(i, 0).set_ylabel(labels[i])\n",
    "        g.facet_axis(2, i).set_xlabel(labels[i])\n",
    "\n",
    "    g.facet_axis(1, 0).annotate(\n",
    "        'True plan', (-0.4, 0.5), (0, 0), xycoords='axes fraction', textcoords='offset points', va='center', ha='center', rotation='vertical')\n",
    "    g.facet_axis(2, 1).annotate(\n",
    "        'Predicted plan', (0.5, -0.4), (0, 0), xycoords='axes fraction', textcoords='offset points', va='top', ha='center')\n",
    "    g.fig.subplots_adjust(wspace=.2, hspace=.12)\n",
    "    #plt.tight_layout()"
   ]
  },
  {
   "cell_type": "code",
   "execution_count": 54,
   "metadata": {},
   "outputs": [
    {
     "data": {
      "image/png": "[encoded data removed]",
      "text/plain": [
       "<Figure size 583.2x388.8 with 9 Axes>"
      ]
     },
     "metadata": {
      "needs_background": "light"
     },
     "output_type": "display_data"
    }
   ],
   "source": [
    "rnn_max_eval = [\n",
    "    val_eval[np.argmax([evl.accuracy for evl in val_eval])]\n",
    "    for val_eval in rnn_eval['T1']['val_eval']\n",
    "]\n",
    "plot_confusion_distribution(rnn_max_eval)\n",
    "plt.savefig('error-rnn-ocaml.pdf', bbox_inches='tight')"
   ]
  },
  {
   "cell_type": "code",
   "execution_count": 55,
   "metadata": {},
   "outputs": [],
   "source": [
    "def make_cls(ds, tok):\n",
    "    cls = TreeNNClassifier(ds, tok)\n",
    "    return (cls, cls.compute_distance_matrix(cls.programs))\n",
    "\n",
    "nn_cls = {\n",
    "    'T1': pcache.get('nn_ocaml', lambda: make_cls(datasets['T1'], OCamlTokenizer())),\n",
    "    'T1Acc': pcache.get('pyret_nn', lambda: make_cls(datasets['T1Acc'], PyretTokenizer()))\n",
    "}"
   ]
  },
  {
   "cell_type": "code",
   "execution_count": 56,
   "metadata": {
    "scrolled": false
   },
   "outputs": [],
   "source": [
    "set_random_seed(0)\n",
    "def nn_eval(cls, dist):\n",
    "    return cls.crossval(dist, folds=30, val_frac=0.1)\n",
    "\n",
    "nn_eval = {\n",
    "    k: nn_eval(*nn_cls[k])\n",
    "    for k in ['T1', 'T1Acc']\n",
    "}"
   ]
  },
  {
   "cell_type": "code",
   "execution_count": 60,
   "metadata": {
    "scrolled": false
   },
   "outputs": [
    {
     "ename": "AttributeError",
     "evalue": "'list' object has no attribute 'confusion_matrix'",
     "output_type": "error",
     "traceback": [
      "\u001b[0;31m---------------------------------------------------------------------------\u001b[0m",
      "\u001b[0;31mAttributeError\u001b[0m                            Traceback (most recent call last)",
      "\u001b[0;32m<ipython-input-60-4e39f2b7b041>\u001b[0m in \u001b[0;36m<module>\u001b[0;34m\u001b[0m\n\u001b[0;32m----> 1\u001b[0;31m \u001b[0mplot_confusion_distribution\u001b[0m\u001b[0;34m(\u001b[0m\u001b[0mnn_eval\u001b[0m\u001b[0;34m[\u001b[0m\u001b[0;34m'T1'\u001b[0m\u001b[0;34m]\u001b[0m\u001b[0;34m)\u001b[0m\u001b[0;34m\u001b[0m\u001b[0;34m\u001b[0m\u001b[0m\n\u001b[0m\u001b[1;32m      2\u001b[0m \u001b[0mplt\u001b[0m\u001b[0;34m.\u001b[0m\u001b[0msavefig\u001b[0m\u001b[0;34m(\u001b[0m\u001b[0;34m'error-knn-ocaml.pdf'\u001b[0m\u001b[0;34m)\u001b[0m\u001b[0;34m\u001b[0m\u001b[0;34m\u001b[0m\u001b[0m\n",
      "\u001b[0;32m<ipython-input-53-7021de7a5449>\u001b[0m in \u001b[0;36mplot_confusion_distribution\u001b[0;34m(evals, hist)\u001b[0m\n\u001b[1;32m      1\u001b[0m \u001b[0;32mdef\u001b[0m \u001b[0mplot_confusion_distribution\u001b[0m\u001b[0;34m(\u001b[0m\u001b[0mevals\u001b[0m\u001b[0;34m,\u001b[0m \u001b[0mhist\u001b[0m\u001b[0;34m=\u001b[0m\u001b[0;32mFalse\u001b[0m\u001b[0;34m)\u001b[0m\u001b[0;34m:\u001b[0m\u001b[0;34m\u001b[0m\u001b[0;34m\u001b[0m\u001b[0m\n\u001b[0;32m----> 2\u001b[0;31m     \u001b[0mcms\u001b[0m \u001b[0;34m=\u001b[0m \u001b[0;34m[\u001b[0m\u001b[0mevl\u001b[0m\u001b[0;34m.\u001b[0m\u001b[0mconfusion_matrix\u001b[0m \u001b[0;32mfor\u001b[0m \u001b[0mevl\u001b[0m \u001b[0;32min\u001b[0m \u001b[0mevals\u001b[0m\u001b[0;34m]\u001b[0m\u001b[0;34m\u001b[0m\u001b[0;34m\u001b[0m\u001b[0m\n\u001b[0m\u001b[1;32m      3\u001b[0m \u001b[0;34m\u001b[0m\u001b[0m\n\u001b[1;32m      4\u001b[0m     \u001b[0mbad\u001b[0m \u001b[0;34m=\u001b[0m \u001b[0mset\u001b[0m\u001b[0;34m(\u001b[0m\u001b[0;34m[\u001b[0m\u001b[0;34m]\u001b[0m\u001b[0;34m)\u001b[0m\u001b[0;34m\u001b[0m\u001b[0;34m\u001b[0m\u001b[0m\n\u001b[1;32m      5\u001b[0m     \u001b[0;32mfor\u001b[0m \u001b[0mk\u001b[0m\u001b[0;34m,\u001b[0m \u001b[0mcm\u001b[0m \u001b[0;32min\u001b[0m \u001b[0menumerate\u001b[0m\u001b[0;34m(\u001b[0m\u001b[0mcms\u001b[0m\u001b[0;34m)\u001b[0m\u001b[0;34m:\u001b[0m\u001b[0;34m\u001b[0m\u001b[0;34m\u001b[0m\u001b[0m\n",
      "\u001b[0;32m<ipython-input-53-7021de7a5449>\u001b[0m in \u001b[0;36m<listcomp>\u001b[0;34m(.0)\u001b[0m\n\u001b[1;32m      1\u001b[0m \u001b[0;32mdef\u001b[0m \u001b[0mplot_confusion_distribution\u001b[0m\u001b[0;34m(\u001b[0m\u001b[0mevals\u001b[0m\u001b[0;34m,\u001b[0m \u001b[0mhist\u001b[0m\u001b[0;34m=\u001b[0m\u001b[0;32mFalse\u001b[0m\u001b[0;34m)\u001b[0m\u001b[0;34m:\u001b[0m\u001b[0;34m\u001b[0m\u001b[0;34m\u001b[0m\u001b[0m\n\u001b[0;32m----> 2\u001b[0;31m     \u001b[0mcms\u001b[0m \u001b[0;34m=\u001b[0m \u001b[0;34m[\u001b[0m\u001b[0mevl\u001b[0m\u001b[0;34m.\u001b[0m\u001b[0mconfusion_matrix\u001b[0m \u001b[0;32mfor\u001b[0m \u001b[0mevl\u001b[0m \u001b[0;32min\u001b[0m \u001b[0mevals\u001b[0m\u001b[0;34m]\u001b[0m\u001b[0;34m\u001b[0m\u001b[0;34m\u001b[0m\u001b[0m\n\u001b[0m\u001b[1;32m      3\u001b[0m \u001b[0;34m\u001b[0m\u001b[0m\n\u001b[1;32m      4\u001b[0m     \u001b[0mbad\u001b[0m \u001b[0;34m=\u001b[0m \u001b[0mset\u001b[0m\u001b[0;34m(\u001b[0m\u001b[0;34m[\u001b[0m\u001b[0;34m]\u001b[0m\u001b[0;34m)\u001b[0m\u001b[0;34m\u001b[0m\u001b[0;34m\u001b[0m\u001b[0m\n\u001b[1;32m      5\u001b[0m     \u001b[0;32mfor\u001b[0m \u001b[0mk\u001b[0m\u001b[0;34m,\u001b[0m \u001b[0mcm\u001b[0m \u001b[0;32min\u001b[0m \u001b[0menumerate\u001b[0m\u001b[0;34m(\u001b[0m\u001b[0mcms\u001b[0m\u001b[0;34m)\u001b[0m\u001b[0;34m:\u001b[0m\u001b[0;34m\u001b[0m\u001b[0;34m\u001b[0m\u001b[0m\n",
      "\u001b[0;31mAttributeError\u001b[0m: 'list' object has no attribute 'confusion_matrix'"
     ]
    }
   ],
   "source": [
    "plot_confusion_distribution(nn_eval['T1'])\n",
    "plt.savefig('error-knn-ocaml.pdf')"
   ]
  },
  {
   "cell_type": "code",
   "execution_count": 61,
   "metadata": {
    "scrolled": false
   },
   "outputs": [
    {
     "name": "stdout",
     "output_type": "stream",
     "text": [
      "4\n",
      "Pred: GeneralRainfallLabels.SingleLoop\n",
      "True: GeneralRainfallLabels.CleanFirst\n",
      "\n",
      "let rainfall (aloi : int list) =\n",
      "  (let rec rainfall_helper (aloi : int list) (accumulator : int)\n",
      "     (counter : int) =\n",
      "     (match aloi with\n",
      "      | [] ->\n",
      "          if counter = 0\n",
      "          then failwith \"chico...que esta haciendo?!\"\n",
      "          else accumulator / counter\n",
      "      | head::tail ->\n",
      "          (match head with\n",
      "           | (-999) ->\n",
      "               if counter = 0\n",
      "               then failwith \"chico...que esta haciendo?!\"\n",
      "               else accumulator / counter\n",
      "           | _ ->\n",
      "               if head >= 0\n",
      "               then rainfall_helper tail (accumulator + head) (counter + 1)\n",
      "               else rainfall_helper tail accumulator counter) : int) in\n",
      "   rainfall_helper aloi 0 0 : int)\n",
      "\n",
      "==============================\n",
      "let rainfall (alon : int list) =\n",
      "  (let rec rain_helper (alon : int list) (counter : int) (sum : int) =\n",
      "     (match alon with\n",
      "      | [] ->\n",
      "          if counter = 0\n",
      "          then failwith \"No rain was collected\"\n",
      "          else sum / counter\n",
      "      | hd::tl ->\n",
      "          if hd = (-999)\n",
      "          then\n",
      "            (if counter = 0\n",
      "             then failwith \"No rain was collected\"\n",
      "             else sum / counter)\n",
      "          else\n",
      "            if hd >= 0\n",
      "            then rain_helper tl (counter + 1) (hd + sum)\n",
      "            else rain_helper tl counter sum : int) in\n",
      "   rain_helper alon 0 0 : int)\n",
      "\n",
      "\n",
      "\n",
      "\n",
      "\n",
      "6\n",
      "Pred: GeneralRainfallLabels.SingleLoop\n",
      "True: GeneralRainfallLabels.CleanFirst\n",
      "\n",
      "let rainfall (alon : int list) =\n",
      "  (let rec _rainfall (alon : int list) (sum : int) (count : int) =\n",
      "     match alon with\n",
      "     | []|(-999)::_ -> sum / count\n",
      "     | hd::tl -> _rainfall tl (sum + hd) (count + 1) in\n",
      "   _rainfall alon 0 0 : int)\n",
      "\n",
      "==============================\n",
      "let rainfall (alor : int list) =\n",
      "  (let rec _rainfall (alor : int list) (accumulator : int list) =\n",
      "     (match alor with\n",
      "      | [] -> failwith \"Does not include data of interest\"\n",
      "      | (-999)::tl ->\n",
      "          (List.fold_left (+) 0 accumulator) / (List.length accumulator)\n",
      "      | x::tl when x >= 0 -> _rainfall tl (x :: accumulator)\n",
      "      | x::tl when x < 0 -> _rainfall tl accumulator : int) in\n",
      "   _rainfall alor [] : int)\n",
      "\n",
      "\n",
      "\n",
      "\n",
      "\n"
     ]
    }
   ],
   "source": [
    "dsname = 'T1'\n",
    "cls, dist = nn_cls[dsname]\n",
    "evls, close, val = nn_eval[dsname]\n",
    "k = 15\n",
    "evl = evls[k]\n",
    "for i in evl.incorrect():\n",
    "    print(i)\n",
    "    print('Pred:', str(Labels(evl.pred[i])))\n",
    "    print('True:', str(Labels(evl.true[i])))\n",
    "    print()\n",
    "    print(cls.dataset.dataset[close[k][i][0]]['source'])\n",
    "    print('='*30)\n",
    "    print(cls.dataset.dataset[val[k][i]]['source'])\n",
    "    print('\\n\\n\\n')"
   ]
  },
  {
   "cell_type": "code",
   "execution_count": 62,
   "metadata": {},
   "outputs": [],
   "source": [
    "def compute_embs(cls, loader):\n",
    "    return torch.cat([\n",
    "        cls.model.encoder.forward(batch['program'].to(device), batch['program_len'].to(device))\n",
    "        for batch in loader\n",
    "    ]).cpu().detach().numpy()"
   ]
  },
  {
   "cell_type": "code",
   "execution_count": 63,
   "metadata": {},
   "outputs": [],
   "source": [
    "ds = datasets['T1']\n",
    "def get_embs():\n",
    "    cls = ClassifierTrainer(dataset=ds, split=RandomSplit(ds, shuffle=False), device=device, model_opts=model_opts)\n",
    "    _1, _2, val_eval, state = cls.train(epochs=100)\n",
    "    i = np.argmax([evl.accuracy for evl in val_eval])\n",
    "    cls.model.load_state_dict(state[i])\n",
    "\n",
    "    train_embs = compute_embs(cls, cls.train_loader)\n",
    "    val_embs = compute_embs(cls, cls.val_loader)\n",
    "    \n",
    "    return cls, train_embs, val_embs, val_eval[i]"
   ]
  },
  {
   "cell_type": "code",
   "execution_count": 64,
   "metadata": {
    "scrolled": false
   },
   "outputs": [
    {
     "data": {
      "application/vnd.jupyter.widget-view+json": {
       "model_id": "aae2869387de4fe49a3b0b3dd7923cbc",
       "version_major": 2,
       "version_minor": 0
      },
      "text/plain": [
       "HBox(children=(IntProgress(value=0), HTML(value='')))"
      ]
     },
     "metadata": {},
     "output_type": "display_data"
    },
    {
     "name": "stdout",
     "output_type": "stream",
     "text": [
      "\n"
     ]
    },
    {
     "ename": "ValueError",
     "evalue": "too many values to unpack (expected 3)",
     "output_type": "error",
     "traceback": [
      "\u001b[0;31m---------------------------------------------------------------------------\u001b[0m",
      "\u001b[0;31mValueError\u001b[0m                                Traceback (most recent call last)",
      "\u001b[0;32m<ipython-input-64-36379df9092c>\u001b[0m in \u001b[0;36m<module>\u001b[0;34m\u001b[0m\n\u001b[1;32m      3\u001b[0m \u001b[0;34m\u001b[0m\u001b[0m\n\u001b[1;32m      4\u001b[0m \u001b[0;32mfor\u001b[0m \u001b[0m_\u001b[0m \u001b[0;32min\u001b[0m \u001b[0mrange\u001b[0m\u001b[0;34m(\u001b[0m\u001b[0;36m15\u001b[0m\u001b[0;34m)\u001b[0m\u001b[0;34m:\u001b[0m\u001b[0;34m\u001b[0m\u001b[0;34m\u001b[0m\u001b[0m\n\u001b[0;32m----> 5\u001b[0;31m     \u001b[0mtrain_embs\u001b[0m\u001b[0;34m,\u001b[0m \u001b[0mval_embs\u001b[0m\u001b[0;34m,\u001b[0m \u001b[0mevl\u001b[0m  \u001b[0;34m=\u001b[0m \u001b[0mget_embs\u001b[0m\u001b[0;34m(\u001b[0m\u001b[0;34m)\u001b[0m\u001b[0;34m\u001b[0m\u001b[0;34m\u001b[0m\u001b[0m\n\u001b[0m\u001b[1;32m      6\u001b[0m     \u001b[0mincorrect\u001b[0m \u001b[0;34m=\u001b[0m \u001b[0mnp\u001b[0m\u001b[0;34m.\u001b[0m\u001b[0margwhere\u001b[0m\u001b[0;34m(\u001b[0m\u001b[0mevl\u001b[0m\u001b[0;34m.\u001b[0m\u001b[0mpred\u001b[0m \u001b[0;34m!=\u001b[0m \u001b[0mevl\u001b[0m\u001b[0;34m.\u001b[0m\u001b[0mtrue\u001b[0m\u001b[0;34m)\u001b[0m\u001b[0;34m.\u001b[0m\u001b[0msqueeze\u001b[0m\u001b[0;34m(\u001b[0m\u001b[0;34m)\u001b[0m\u001b[0;34m\u001b[0m\u001b[0;34m\u001b[0m\u001b[0m\n\u001b[1;32m      7\u001b[0m \u001b[0;34m\u001b[0m\u001b[0m\n",
      "\u001b[0;31mValueError\u001b[0m: too many values to unpack (expected 3)"
     ]
    }
   ],
   "source": [
    "eq = 0\n",
    "neq = 0\n",
    "\n",
    "for _ in range(15):\n",
    "    train_embs, val_embs, evl  = get_embs()\n",
    "    incorrect = np.argwhere(evl.pred != evl.true).squeeze()\n",
    "\n",
    "\n",
    "    for i in incorrect:\n",
    "        val_emb = val_embs[i]\n",
    "        closest = np.argmin(np.linalg.norm(train_embs - val_emb, axis=1))\n",
    "#         print(cls.val_dataset[i]['source'])\n",
    "#         print(cls.train_dataset[closest]['source'])\n",
    "#         print('='*30)\n",
    "        if evl.pred[i] == cls.train_dataset[closest]['labels'].item():\n",
    "            eq += 1\n",
    "        else:\n",
    "            neq += 1"
   ]
  },
  {
   "cell_type": "code",
   "execution_count": null,
   "metadata": {},
   "outputs": [],
   "source": [
    "from sklearn.manifold import TSNE\n",
    "cls, train_embs, val_embs, evl = get_embs()"
   ]
  },
  {
   "cell_type": "code",
   "execution_count": null,
   "metadata": {},
   "outputs": [],
   "source": [
    "X = TSNE(n_components=2).fit_transform(np.vstack([train_embs, val_embs])) #[len(train_embs):,:]\n",
    "\n",
    "#Y = [i['labels'].item() for i in cls.train_dataset] \n",
    "Y = [i['labels'].item() for i in cls.val_dataset]\n",
    "\n",
    "proper_labels = {\n",
    "    'CleanFirst': 'Clean First',\n",
    "    'CleanInSC': 'Clean Multiple',\n",
    "    'SingleLoop': 'Single Loop'\n",
    "}\n",
    "\n",
    "df = pd.DataFrame([\n",
    "    {\n",
    "        'True label': proper_labels[cls.class_names[item['labels'].item()]], \n",
    "        #'Correct?': evl.pred[i] == evl.true[i],\n",
    "        'Dataset': 'Train',\n",
    "        't-SNE X1': X[i, 0],\n",
    "        't-SNE X2': X[i, 1],\n",
    "    }\n",
    "    for i, item in enumerate(cls.train_dataset)\n",
    "] + [\n",
    "    {\n",
    "        'True label': proper_labels[cls.class_names[item['labels'].item()]], \n",
    "        #'Correct?': evl.pred[i] == evl.true[i],\n",
    "        'Dataset': 'Test',\n",
    "        't-SNE X1': X[len(train_embs) + i, 0],\n",
    "        't-SNE X2': X[len(train_embs) + i, 1],\n",
    "    }\n",
    "    for i, item in enumerate(cls.val_dataset)\n",
    "    if evl.pred[i] != evl.true[i]\n",
    "])\n",
    "\n",
    "sns.scatterplot(\n",
    "    data=df,\n",
    "    x='t-SNE X1',\n",
    "    y='t-SNE X2',\n",
    "    hue='Dataset',\n",
    "    style='True label',\n",
    "    legend='full')\n",
    "sns.despine()\n",
    "plt.tight_layout()\n",
    "plt.savefig('tsne.pdf')\n",
    "\n",
    "# sns.scatterplot(x=X[:, 0], y=X[:, 1], style=Y, \n",
    "#                 #hue=Y,\n",
    "#                 hue=(evl.true != evl.pred).tolist(),\n",
    "#                 #hue=[0 for _ in cls.train_dataset] + [1 if x else 2 for x in (evl.true != evl.pred).tolist()],\n",
    "#                 palette=sns.color_palette()[:2])"
   ]
  },
  {
   "cell_type": "code",
   "execution_count": null,
   "metadata": {},
   "outputs": [],
   "source": [
    "len(df[df.Dataset == 'Test'])"
   ]
  },
  {
   "cell_type": "code",
   "execution_count": null,
   "metadata": {},
   "outputs": [],
   "source": [
    "eq / (eq + neq)"
   ]
  }
 ],
 "metadata": {
  "kernelspec": {
   "display_name": "Python 3",
   "language": "python",
   "name": "python3"
  },
  "language_info": {
   "codemirror_mode": {
    "name": "ipython",
    "version": 3
   },
   "file_extension": ".py",
   "mimetype": "text/x-python",
   "name": "python",
   "nbconvert_exporter": "python",
   "pygments_lexer": "ipython3",
   "version": "3.7.2"
  }
 },
 "nbformat": 4,
 "nbformat_minor": 2
}
