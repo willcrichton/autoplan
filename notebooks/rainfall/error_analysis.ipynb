{
 "cells": [
  {
   "cell_type": "code",
   "execution_count": 1,
   "metadata": {},
   "outputs": [],
   "source": [
    "%load_ext autoreload\n",
    "%autoreload 2"
   ]
  },
  {
   "cell_type": "code",
   "execution_count": 96,
   "metadata": {},
   "outputs": [],
   "source": [
    "from autoplan.neighbors import TreeNNClassifier, NNClassifier\n",
    "from autoplan.token import OCamlTokenizer, PyretTokenizer, TokenType\n",
    "from autoplan.trainer import ClassifierTrainer\n",
    "from autoplan.vis import plot_accuracy, plot_cm, plot_loss\n",
    "from autoplan.dataset import TrainVal, RandomSplit, concat_datasets, set_random_seed\n",
    "from grammars.rainfall.ocaml import Labels\n",
    "import dataclasses\n",
    "import torch\n",
    "from tqdm.auto import tqdm\n",
    "from torch import nn\n",
    "from torch.utils.data import Subset\n",
    "import numpy as np\n",
    "from scripts.rainfall_ingest import ingest_dataset, load_full_t1\n",
    "import pandas as pd\n",
    "from pickle_cache import PickleCache\n",
    "import matplotlib.pyplot as plt\n",
    "import seaborn as sns\n",
    "from collections import defaultdict\n",
    "from scipy.spatial import distance \n",
    "\n",
    "pcache = PickleCache()\n",
    "device = torch.device('cuda:7')"
   ]
  },
  {
   "cell_type": "code",
   "execution_count": 4,
   "metadata": {},
   "outputs": [
    {
     "name": "stdout",
     "output_type": "stream",
     "text": [
      "Skipped 16 programs\n",
      "Skipped 2 programs\n"
     ]
    }
   ],
   "source": [
    "datasets = {\n",
    "    'T1': load_full_t1(),\n",
    "    'T1Acc': ingest_dataset('T1Acc')\n",
    "}"
   ]
  },
  {
   "cell_type": "code",
   "execution_count": 5,
   "metadata": {},
   "outputs": [],
   "source": [
    "model_opts = {\n",
    "    'model': nn.LSTM,\n",
    "    'hidden_size': 512,\n",
    "    'embedding_size': 128\n",
    "}\n",
    "\n",
    "val_frac = 0.33"
   ]
  },
  {
   "cell_type": "code",
   "execution_count": 159,
   "metadata": {},
   "outputs": [],
   "source": [
    "def rnn_eval(ds):\n",
    "    set_random_seed(0)\n",
    "    return ClassifierTrainer.crossval(\n",
    "        ds, split=RandomSplit(ds), k=30, epochs=100, val_frac=val_frac, \n",
    "        model_opts=model_opts, device=device)\n",
    "\n",
    "rnn_eval = {\n",
    "    k: rnn_eval(datasets[k])\n",
    "    for k in ['T1', 'T1Acc']\n",
    "}"
   ]
  },
  {
   "cell_type": "code",
   "execution_count": 445,
   "metadata": {},
   "outputs": [],
   "source": [
    "def plot_confusion_distribution(evals, hist=False):\n",
    "    cms = [evl.confusion_matrix for evl in evals]\n",
    "    \n",
    "    bad = set([])\n",
    "    for k, cm in enumerate(cms):\n",
    "        for i in range(3):\n",
    "            if np.sum(cm[i, :]) == 0:\n",
    "                bad.add((i, k))\n",
    "    \n",
    "    cms_np = np.nan_to_num(np.concatenate([\n",
    "        np.expand_dims(cm / cm.sum(axis=1)[:,np.newaxis], axis=2) for cm in cms\n",
    "    ], axis=2))\n",
    "    \n",
    "    ls = datasets['T1'].label_set\n",
    "    df = []\n",
    "    for i, ltrue in enumerate(ls):\n",
    "        for j, lpred in enumerate(ls):\n",
    "            row = cms_np[int(ltrue), int(lpred), :]\n",
    "            \n",
    "            # For graphs with all zeros, add a bit of noise so it shows up on the plot\n",
    "            if np.sum(row) < 0.0001:\n",
    "                row += np.random.rand(*row.shape) * 0.03\n",
    "                \n",
    "            for k, c in enumerate(row):\n",
    "                if (i, k) in bad:\n",
    "                    continue\n",
    "                df.append({\n",
    "                    'True': str(ltrue).split('.')[1],\n",
    "                    'Pred': str(lpred).split('.')[1],\n",
    "                    'Count': c\n",
    "                })\n",
    "                \n",
    "    df = pd.DataFrame(df)\n",
    "    \n",
    "    g = sns.FacetGrid(df, row='True', col='Pred', height=2)\n",
    "    if hist:\n",
    "        g.map(plt.hist, 'Count', bins=np.arange(0, 1, 0.1))\n",
    "    else:\n",
    "        g.map(sns.kdeplot, 'Count', shade=True, clip=(0, 10))\n",
    "\n",
    "    g.set_titles('')\n",
    "    g.set(xlim=[0, 1], ylim=[0, 10])\n",
    "\n",
    "    labels = ['Clean First', 'Clean Multiple', 'Single Loop']\n",
    "    for i in range(3):\n",
    "        g.facet_axis(i, 0).set_ylabel(labels[i])\n",
    "        g.facet_axis(2, i).set_xlabel(labels[i])\n",
    "\n",
    "    g.facet_axis(1, 0).annotate(\n",
    "        'True plan', (-0.5, 0.5), (0, 0), xycoords='axes fraction', textcoords='offset points', va='center', ha='center', rotation='vertical')\n",
    "    g.facet_axis(2, 1).annotate(\n",
    "        'Predicted plan', (0.5, -0.4), (0, 0), xycoords='axes fraction', textcoords='offset points', va='top', ha='center')\n",
    "    g.fig.subplots_adjust(wspace=.2, hspace=.12)\n",
    "    #plt.tight_layout()"
   ]
  },
  {
   "cell_type": "code",
   "execution_count": 446,
   "metadata": {},
   "outputs": [
    {
     "data": {
      "image/png": "[encoded data removed]",
      "text/plain": [
       "<Figure size 432x432 with 9 Axes>"
      ]
     },
     "metadata": {
      "needs_background": "light"
     },
     "output_type": "display_data"
    }
   ],
   "source": [
    "rnn_max_eval = [\n",
    "    val_eval[np.argmax([evl.accuracy for evl in val_eval])]\n",
    "    for val_eval in rnn_eval['T1']['val_eval']\n",
    "]\n",
    "plot_confusion_distribution(rnn_max_eval)\n",
    "plt.savefig('error-rnn-ocaml.pdf', bbox_inches='tight')"
   ]
  },
  {
   "cell_type": "code",
   "execution_count": 7,
   "metadata": {},
   "outputs": [],
   "source": [
    "def make_cls(ds, tok):\n",
    "    cls = TreeNNClassifier(ds, tok)\n",
    "    return (cls, cls.compute_distance_matrix(cls.programs))\n",
    "\n",
    "nn_cls = {\n",
    "    'T1': pcache.get('nn_ocaml', lambda: make_cls(datasets['T1'], OCamlTokenizer())),\n",
    "    'T1Acc': pcache.get('pyret_nn', lambda: make_cls(datasets['T1Acc'], PyretTokenizer()))\n",
    "}"
   ]
  },
  {
   "cell_type": "code",
   "execution_count": 447,
   "metadata": {
    "scrolled": false
   },
   "outputs": [],
   "source": [
    "set_random_seed(0)\n",
    "def nn_eval(cls, dist):\n",
    "    return cls.crossval(dist, folds=30, val_frac=0.1)\n",
    "\n",
    "nn_eval = {\n",
    "    k: nn_eval(*nn_cls[k])\n",
    "    for k in ['T1', 'T1Acc']\n",
    "}"
   ]
  },
  {
   "cell_type": "code",
   "execution_count": 384,
   "metadata": {
    "scrolled": false
   },
   "outputs": [
    {
     "data": {
      "image/png": "[encoded data removed]",
      "text/plain": [
       "<Figure size 432x432 with 9 Axes>"
      ]
     },
     "metadata": {
      "needs_background": "light"
     },
     "output_type": "display_data"
    }
   ],
   "source": [
    "plot_confusion_distribution(nn_eval['T1'])\n",
    "plt.savefig('error-knn-ocaml.pdf')"
   ]
  },
  {
   "cell_type": "code",
   "execution_count": 452,
   "metadata": {
    "scrolled": false
   },
   "outputs": [
    {
     "name": "stdout",
     "output_type": "stream",
     "text": [
      "4\n",
      "Pred: GeneralRainfallLabels.SingleLoop\n",
      "True: GeneralRainfallLabels.CleanFirst\n",
      "\n",
      "let rainfall (aloi : int list) =\n",
      "  (let rec rainfall_helper (aloi : int list) (accumulator : int)\n",
      "     (counter : int) =\n",
      "     (match aloi with\n",
      "      | [] ->\n",
      "          if counter = 0\n",
      "          then failwith \"chico...que esta haciendo?!\"\n",
      "          else accumulator / counter\n",
      "      | head::tail ->\n",
      "          (match head with\n",
      "           | (-999) ->\n",
      "               if counter = 0\n",
      "               then failwith \"chico...que esta haciendo?!\"\n",
      "               else accumulator / counter\n",
      "           | _ ->\n",
      "               if head >= 0\n",
      "               then rainfall_helper tail (accumulator + head) (counter + 1)\n",
      "               else rainfall_helper tail accumulator counter) : int) in\n",
      "   rainfall_helper aloi 0 0 : int)\n",
      "\n",
      "==============================\n",
      "let rainfall (alon : int list) =\n",
      "  (let rec rain_helper (alon : int list) (counter : int) (sum : int) =\n",
      "     (match alon with\n",
      "      | [] ->\n",
      "          if counter = 0\n",
      "          then failwith \"No rain was collected\"\n",
      "          else sum / counter\n",
      "      | hd::tl ->\n",
      "          if hd = (-999)\n",
      "          then\n",
      "            (if counter = 0\n",
      "             then failwith \"No rain was collected\"\n",
      "             else sum / counter)\n",
      "          else\n",
      "            if hd >= 0\n",
      "            then rain_helper tl (counter + 1) (hd + sum)\n",
      "            else rain_helper tl counter sum : int) in\n",
      "   rain_helper alon 0 0 : int)\n",
      "\n",
      "\n",
      "\n",
      "\n",
      "\n",
      "6\n",
      "Pred: GeneralRainfallLabels.SingleLoop\n",
      "True: GeneralRainfallLabels.CleanFirst\n",
      "\n",
      "let rainfall (alon : int list) =\n",
      "  (let rec _rainfall (alon : int list) (sum : int) (count : int) =\n",
      "     match alon with\n",
      "     | []|(-999)::_ -> sum / count\n",
      "     | hd::tl -> _rainfall tl (sum + hd) (count + 1) in\n",
      "   _rainfall alon 0 0 : int)\n",
      "\n",
      "==============================\n",
      "let rainfall (alor : int list) =\n",
      "  (let rec _rainfall (alor : int list) (accumulator : int list) =\n",
      "     (match alor with\n",
      "      | [] -> failwith \"Does not include data of interest\"\n",
      "      | (-999)::tl ->\n",
      "          (List.fold_left (+) 0 accumulator) / (List.length accumulator)\n",
      "      | x::tl when x >= 0 -> _rainfall tl (x :: accumulator)\n",
      "      | x::tl when x < 0 -> _rainfall tl accumulator : int) in\n",
      "   _rainfall alor [] : int)\n",
      "\n",
      "\n",
      "\n",
      "\n",
      "\n"
     ]
    }
   ],
   "source": [
    "dsname = 'T1'\n",
    "cls, dist = nn_cls[dsname]\n",
    "evls, close, val = nn_eval[dsname]\n",
    "k = 15\n",
    "evl = evls[k]\n",
    "for i in evl.incorrect():\n",
    "    print(i)\n",
    "    print('Pred:', str(Labels(evl.pred[i])))\n",
    "    print('True:', str(Labels(evl.true[i])))\n",
    "    print()\n",
    "    print(cls.dataset.dataset[close[k][i][0]]['source'])\n",
    "    print('='*30)\n",
    "    print(cls.dataset.dataset[val[k][i]]['source'])\n",
    "    print('\\n\\n\\n')"
   ]
  },
  {
   "cell_type": "code",
   "execution_count": 146,
   "metadata": {},
   "outputs": [],
   "source": [
    "dsname = 'T1'\n",
    "cls, evl = rnn_eval[dsname]\n",
    "ds = datasets[dsname]\n",
    "\n",
    "embs = torch.cat([\n",
    "    cls.model.encoder.forward(batch['program'].to(device), batch['program_len'].to(device))\n",
    "    for batch in datasets[dsname].loader(datasets[dsname].dataset)\n",
    "]).cpu().detach().numpy()\n",
    "\n",
    "N = embs.shape[0]\n",
    "dist = np.array([\n",
    "    [distance.cosine(embs[i, :], embs[j, :]) for j in range(N)]\n",
    "    for i in range(N)\n",
    "])"
   ]
  },
  {
   "cell_type": "code",
   "execution_count": 147,
   "metadata": {},
   "outputs": [
    {
     "data": {
      "text/plain": [
       "0.9259259259259259"
      ]
     },
     "execution_count": 147,
     "metadata": {},
     "output_type": "execute_result"
    }
   ],
   "source": [
    "evl.accuracy"
   ]
  },
  {
   "cell_type": "code",
   "execution_count": 148,
   "metadata": {},
   "outputs": [
    {
     "data": {
      "text/plain": [
       "0.8897058823529411"
      ]
     },
     "execution_count": 148,
     "metadata": {},
     "output_type": "execute_result"
    }
   ],
   "source": [
    "class EmbNNClassifier(NNClassifier):\n",
    "    def compute_programs(self, dataset):\n",
    "        return [item['program'] for item in dataset.dataset], dataset\n",
    "    \n",
    "emb_nn = EmbNNClassifier(ds, None)\n",
    "emb_nn.eval(ds, dist).accuracy"
   ]
  },
  {
   "cell_type": "code",
   "execution_count": 149,
   "metadata": {},
   "outputs": [
    {
     "name": "stdout",
     "output_type": "stream",
     "text": [
      "tensor(2)\n",
      "tensor(2)\n",
      "\n",
      "\n",
      "\n",
      "tensor(2)\n",
      "tensor(2)\n",
      "\n",
      "\n",
      "\n"
     ]
    }
   ],
   "source": [
    "for i in evl.incorrect():\n",
    "    j = np.argsort(dist[i, :])[1]\n",
    "    print(ds.dataset[i]['labels'])\n",
    "    print(ds.dataset[j]['labels'])\n",
    "    print('\\n\\n')"
   ]
  }
 ],
 "metadata": {
  "kernelspec": {
   "display_name": "Python 3",
   "language": "python",
   "name": "python3"
  },
  "language_info": {
   "codemirror_mode": {
    "name": "ipython",
    "version": 3
   },
   "file_extension": ".py",
   "mimetype": "text/x-python",
   "name": "python",
   "nbconvert_exporter": "python",
   "pygments_lexer": "ipython3",
   "version": "3.7.2"
  }
 },
 "nbformat": 4,
 "nbformat_minor": 2
}
