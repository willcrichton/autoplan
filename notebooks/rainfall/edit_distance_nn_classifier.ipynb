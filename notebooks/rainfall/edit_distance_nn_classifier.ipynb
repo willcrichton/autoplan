{
 "cells": [
  {
   "cell_type": "markdown",
   "metadata": {},
   "source": [
    "# Edit distance nearest neighbors classifier\n",
    "\n",
    "The goal of this experiment is to evaluate the accuracy of a nearest neighbors classifier for supervised plan classification. Much of the prior work in analyzing student code uses some form of edit distance between programs, usually tree distance on abstract syntax trees. We translate that idea into an NN classifier that classifies programs based on the nearest neighbor by tree edit distance."
   ]
  },
  {
   "cell_type": "code",
   "execution_count": 5,
   "metadata": {},
   "outputs": [],
   "source": [
    "from zss import simple_distance, Node\n",
    "from autoplan.token import OCamlTokenizer\n",
    "from scripts.rainfall_ingest import ingest_dataset\n",
    "from tqdm.auto import tqdm\n",
    "from iterextras import par_for, unzip\n",
    "import numpy as np\n",
    "from scipy.stats import mode\n",
    "from autoplan.trainer import ClassEvaluation\n",
    "from pprint import pprint"
   ]
  },
  {
   "cell_type": "code",
   "execution_count": 2,
   "metadata": {},
   "outputs": [
    {
     "name": "stdout",
     "output_type": "stream",
     "text": [
      "Skipped 16 programs\n"
     ]
    }
   ],
   "source": [
    "dataset_name = 'T1'\n",
    "dataset = ingest_dataset(dataset_name)"
   ]
  },
  {
   "cell_type": "markdown",
   "metadata": {},
   "source": [
    "## Computing program ASTs\n",
    "\n",
    "For now, we just look at OCaml because its compiler internals are easy to access. In `autoplan/tokenizers/ocaml/ast.ml` we get the AST for the student program, then ouptut a simple JSON tree structure. This AST is heavily \"redacted\" in the sense that it carries little variable or type information, just structural concepts. Show below is an example of an AST."
   ]
  },
  {
   "cell_type": "code",
   "execution_count": 18,
   "metadata": {},
   "outputs": [
    {
     "name": "stdout",
     "output_type": "stream",
     "text": [
      "let rec rainfall (alof : float list) =\n",
      "  (let rec sum_helper (alof : float list) (sum : float) (counter : float) =\n",
      "     (match (alof, counter) with\n",
      "      | ([], 0.) -> failwith \"Empty list.\"\n",
      "      | ((-999.)::_, 0.) -> failwith \"Empty list.\"\n",
      "      | ([], _) -> (sum, counter)\n",
      "      | ((-999.)::_, _) -> (sum, counter)\n",
      "      | (hd::tl, _) ->\n",
      "          if hd >= 0.\n",
      "          then sum_helper tl (sum +. hd) (counter +. 1.)\n",
      "          else sum_helper tl sum counter : (float * float)) in\n",
      "   match sum_helper alof 0. 0. with | (s, c) -> s /. c : float)\n",
      "\n",
      "==============================\n",
      "[['fun',\n",
      "  ['fun',\n",
      "   ['let',\n",
      "    ['fun',\n",
      "     ['fun',\n",
      "      ['fun',\n",
      "       ['match',\n",
      "        ['tuple', 'ident', 'ident'],\n",
      "        ['apply', 'ident', 'const'],\n",
      "        ['apply', 'ident', 'const'],\n",
      "        ['tuple', 'ident', 'ident'],\n",
      "        ['tuple', 'ident', 'ident'],\n",
      "        ['if',\n",
      "         ['apply', 'ident', 'ident', 'const'],\n",
      "         ['apply',\n",
      "          'ident',\n",
      "          'ident',\n",
      "          ['apply', 'ident', 'ident', 'ident'],\n",
      "          ['apply', 'ident', 'ident', 'const']],\n",
      "         ['apply', 'ident', 'ident', 'ident', 'ident']]]]]],\n",
      "    ['match',\n",
      "     ['apply', 'ident', 'ident', 'const', 'const'],\n",
      "     ['apply', 'ident', 'ident', 'ident']]]]]]\n"
     ]
    }
   ],
   "source": [
    "import json\n",
    "tokenizer = OCamlTokenizer()\n",
    "\n",
    "asts = []\n",
    "for item in dataset.dataset:\n",
    "    source = item['source']\n",
    "    stdout, stderr = tokenizer._call_process('ocaml', 'ast.native', source)\n",
    "    asts.append(json.loads(stdout))\n",
    "\n",
    "print(dataset.dataset[0]['source'])\n",
    "print('='*30)\n",
    "pprint(asts[0])"
   ]
  },
  {
   "cell_type": "markdown",
   "metadata": {},
   "source": [
    "## Creating the nearest neighbors classifier\n",
    "\n",
    "Next, we convert each JSON object into a tree using the [ZSS](https://github.com/timtadh/zhang-shasha/tree/master/zss) library, then compute all pairwise distances. From this we can easily make a nearest neighbors classifier."
   ]
  },
  {
   "cell_type": "code",
   "execution_count": 9,
   "metadata": {},
   "outputs": [],
   "source": [
    "def json_to_tree(toplevel):\n",
    "    prog = Node(\"toplevel\")\n",
    "    \n",
    "    def helper(obj):\n",
    "        if isinstance(obj, list):\n",
    "            node = Node(obj[0])\n",
    "            for kid in obj[1:]:\n",
    "                node.addkid(helper(kid))\n",
    "            return node\n",
    "        else:\n",
    "            return Node(obj)\n",
    "    \n",
    "    \n",
    "    for fun in toplevel:\n",
    "        prog.addkid(helper(fun))\n",
    "        \n",
    "    return prog\n",
    "\n",
    "trees = [json_to_tree(ast) for ast in asts]"
   ]
  },
  {
   "cell_type": "code",
   "execution_count": 10,
   "metadata": {},
   "outputs": [
    {
     "name": "stderr",
     "output_type": "stream",
     "text": [
      "100%|██████████| 45/45 [01:03<00:00,  1.42s/it]\n"
     ]
    }
   ],
   "source": [
    "def compute_dists(tup):\n",
    "    (i, t) = tup\n",
    "    dists = [(j, simple_distance(t, t2)) for j, t2 in enumerate(trees) if i != j]\n",
    "    sorted_idx = [tup[0] for tup in sorted(dists, key=lambda tup: tup[1])]\n",
    "    return sorted_idx\n",
    "\n",
    "sorted_idxs = par_for(compute_dists, list(enumerate(trees)), process=True)"
   ]
  },
  {
   "cell_type": "markdown",
   "metadata": {},
   "source": [
    "## Evaluation\n",
    "\n",
    "Next, we evaluate the NN classifier on the student data by comparing the label of the closest tree to each program in the dataset. The accuracy is quite high, 91.1%, which is competitive if not better than the neural network approach! \n",
    "\n",
    "The confusion matrix shows that it perfectly classifies Single Loop, the most common strategy in the dataset, and performs worst on CleanInSC, the least common strategy in the dataset. "
   ]
  },
  {
   "cell_type": "code",
   "execution_count": 15,
   "metadata": {},
   "outputs": [
    {
     "name": "stdout",
     "output_type": "stream",
     "text": [
      "Overall accuracy: 0.911\n"
     ]
    },
    {
     "data": {
      "image/png": "[encoded data removed]",
      "text/plain": [
       "<Figure size 432x288 with 2 Axes>"
      ]
     },
     "metadata": {
      "needs_background": "light"
     },
     "output_type": "display_data"
    }
   ],
   "source": [
    "true = [dataset.dataset[i]['labels'].item() for i in range(len(trees))]\n",
    "pred = [[dataset.dataset[j]['labels'].item() for j in sorted_idx] for sorted_idx in sorted_idxs]\n",
    "\n",
    "def topk_pred(k):    \n",
    "    return [mode(p[:k])[0][0] for t, p in zip(true, pred)]\n",
    "\n",
    "class_names = [str(cls).split('.')[1] for cls in dataset.label_set]\n",
    "\n",
    "evl = ClassEvaluation.from_preds(true, topk_pred(1), class_names)\n",
    "print('Overall accuracy: {:.3f}'.format(evl.accuracy))\n",
    "evl.plot_cm('Confusion matrix')"
   ]
  },
  {
   "cell_type": "markdown",
   "metadata": {},
   "source": [
    "To investigate further, we show below every incorrectly labeled example with the actual program on the top, and the closest program by edit distance on the bottom. Some of these contain predictable syntactic similarity, e.g. two functions using List.fold_right in a structurally similar way, but still fundamentally having different strategies. This suggests that student solutions are consistent enough to reliably classify using NN methods, but the classifier still hasn't _really_ learned the essence of one solution type versus another."
   ]
  },
  {
   "cell_type": "code",
   "execution_count": 19,
   "metadata": {
    "scrolled": false
   },
   "outputs": [
    {
     "name": "stdout",
     "output_type": "stream",
     "text": [
      "let rainfall (alon : int list) =\n",
      "  (let rec rainfallHelp (alon : int list) (nlon : int list) =\n",
      "     (match alon with\n",
      "      | [] ->\n",
      "          (List.fold_right (fun x -> fun y -> x + y) nlon 0) /\n",
      "            (List.length nlon)\n",
      "      | hd::tl ->\n",
      "          (match hd with\n",
      "           | (-999) ->\n",
      "               if (List.length nlon) = 0\n",
      "               then 0\n",
      "               else\n",
      "                 (List.fold_right (fun x -> fun y -> x + y) nlon 0) /\n",
      "                   (List.length nlon)\n",
      "           | _ ->\n",
      "               if hd >= 0\n",
      "               then rainfallHelp tl (hd :: nlon)\n",
      "               else rainfallHelp tl nlon) : int) in\n",
      "   rainfallHelp alon [] : int)\n",
      "\n",
      "==============================\n",
      "let rec rainfall (alon : int list) =\n",
      "  (let rec avg_rain (alon : int list) (sum : int) (count : int) =\n",
      "     (match alon with\n",
      "      | [] -> if count = 0 then 0 else sum / count\n",
      "      | hd::tl ->\n",
      "          if hd > 0\n",
      "          then avg_rain tl (sum + hd) (count + 1)\n",
      "          else\n",
      "            if hd > (-999)\n",
      "            then avg_rain tl sum count\n",
      "            else avg_rain [] sum count : int) in\n",
      "   avg_rain alon 0 0 : int)\n",
      "\n",
      "\n",
      "\n",
      "\n",
      "================================================================================\n",
      "otherlet (==) a b = a = b\n",
      "let (!=) a b = a <> b\n",
      "let (+) a b =\n",
      "  let c = a + b in\n",
      "  if ((a lxor b) lor (a lxor (lnot c))) < 0 then c else raise Overflow\n",
      "let (-) a b =\n",
      "  let c = a - b in\n",
      "  if ((a lxor (lnot b)) lor (b lxor c)) < 0 then c else raise Overflow\n",
      "let ( * ) a b =\n",
      "  let c = a * b in\n",
      "  if (Int64.of_int c) = (Int64.mul (Int64.of_int a) (Int64.of_int b))\n",
      "  then c\n",
      "  else raise Overflow\n",
      "let (/) a b = if (a = min_int) && (b = (-1)) then raise Overflow else a / b\n",
      "let (~-) x = if x <> min_int then - x else raise Overflow\n",
      "otherotherlet check_expect (code : 'a) (expect : 'a) =\n",
      "  (if code = expect\n",
      "   then Test_Passed\n",
      "   else Test_Failed ((Actual_Result code), (Expected_Result expect)) : \n",
      "  'a check_result)\n",
      "let check_within (input : float) (expected : float) (within : float) =\n",
      "  ((abs_float (input -. expected)) <= (abs_float within) : bool)\n",
      "let rainfall_prac (alon : int list) =\n",
      "  (let rec valid_data (data : int list) =\n",
      "     (match data with\n",
      "      | [] -> []\n",
      "      | hd::tl ->\n",
      "          if hd = (-999)\n",
      "          then []\n",
      "          else if hd >= 0 then hd :: (valid_data tl) else valid_data tl : \n",
      "     int list) in\n",
      "   if (List.length (valid_data alon)) = 0\n",
      "   then failwith \"No rain was collected\"\n",
      "   else\n",
      "     (List.fold_right (+) (valid_data alon) 0) /\n",
      "       (List.length (valid_data alon)) : int)\n",
      "let rainfall (alon : int list) =\n",
      "  (let rec rain_helper (alon : int list) (counter : int) (sum : int) =\n",
      "     (match alon with\n",
      "      | [] ->\n",
      "          if counter = 0\n",
      "          then failwith \"No rain was collected\"\n",
      "          else sum / counter\n",
      "      | hd::tl ->\n",
      "          if hd = (-999)\n",
      "          then\n",
      "            (if counter = 0\n",
      "             then failwith \"No rain was collected\"\n",
      "             else sum / counter)\n",
      "          else\n",
      "            if hd >= 0\n",
      "            then rain_helper tl (counter + 1) (hd + sum)\n",
      "            else rain_helper tl counter sum : int) in\n",
      "   rain_helper alon 0 0 : int)\n",
      "\n",
      "==============================\n",
      "let rainfall (aloi : int list) =\n",
      "  (let rec rainfall_helper (aloi : int list) (accumulator : int)\n",
      "     (counter : int) =\n",
      "     (match aloi with\n",
      "      | [] ->\n",
      "          if counter = 0\n",
      "          then failwith \"chico...que esta haciendo?!\"\n",
      "          else accumulator / counter\n",
      "      | head::tail ->\n",
      "          (match head with\n",
      "           | (-999) ->\n",
      "               if counter = 0\n",
      "               then failwith \"chico...que esta haciendo?!\"\n",
      "               else accumulator / counter\n",
      "           | _ ->\n",
      "               if head >= 0\n",
      "               then rainfall_helper tail (accumulator + head) (counter + 1)\n",
      "               else rainfall_helper tail accumulator counter) : int) in\n",
      "   rainfall_helper aloi 0 0 : int)\n",
      "\n",
      "\n",
      "\n",
      "\n",
      "================================================================================\n",
      "let rainfall (alon : int list) =\n",
      "  try\n",
      "    (List.fold_right\n",
      "       (fun x ->\n",
      "          fun y -> if x = (-999) then 0 else if x < 0 then y else x + y) alon\n",
      "       0)\n",
      "      /\n",
      "      (List.fold_right\n",
      "         (fun x ->\n",
      "            fun y -> if x = (-999) then 0 else if x < 0 then y else 1 + y)\n",
      "         alon 0)\n",
      "  with\n",
      "  | Division_by_zero ->\n",
      "      failwith\n",
      "        \"Please input a list with at least one non-negative value before the first instance of -999.\"\n",
      "\n",
      "==============================\n",
      "let rec rainfall (alon : int list) =\n",
      "  (let poslist =\n",
      "     List.fold_right\n",
      "       (fun x ->\n",
      "          fun y -> if x = (-999) then [] else if x < 0 then y else x :: y)\n",
      "       alon [] in\n",
      "   (float_of_int (List.fold_right (+) poslist 0)) /.\n",
      "     (float_of_int (List.length poslist)) : float)\n",
      "\n",
      "\n",
      "\n",
      "\n",
      "================================================================================\n",
      "let rec rainfall (alon : int list) =\n",
      "  (let rec sumlist (alon : int list) =\n",
      "     (match alon with | [] -> 0 | hd::tl -> hd + (sumlist tl) : int) in\n",
      "   let rec selector (alon : int list) =\n",
      "     (match alon with\n",
      "      | [] -> []\n",
      "      | (-999)::tl -> []\n",
      "      | hd::tl -> if hd > 0 then hd :: (selector tl) else selector tl : \n",
      "     int list) in\n",
      "   (sumlist (selector alon)) /\n",
      "     (let l = List.length (selector alon) in\n",
      "      if l = 0 then failwith \"No data of interest\" else l) : int)\n",
      "\n",
      "==============================\n",
      "let rainfall (aloi : int list) =\n",
      "  (let rec rf_helper (aloi : int list) =\n",
      "     (match aloi with\n",
      "      | [] -> []\n",
      "      | (-999)::_ -> []\n",
      "      | hd::tl -> hd :: (rf_helper tl) : int list) in\n",
      "   let rf_list = List.filter (fun x -> x >= 0) (rf_helper aloi) in\n",
      "   (List.fold_right (+) rf_list 0) / (List.length rf_list) : int)\n",
      "\n",
      "\n",
      "\n",
      "\n",
      "================================================================================\n"
     ]
    }
   ],
   "source": [
    "idxs = evl.incorrect()\n",
    "for i in idxs:\n",
    "    print(dataset.dataset[i]['source'])\n",
    "    print('='*30)\n",
    "    print(dataset.dataset[sorted_idxs[i][0]]['source'])\n",
    "    print('\\n\\n')\n",
    "    print('='*80)\n"
   ]
  },
  {
   "cell_type": "markdown",
   "metadata": {},
   "source": [
    "## Conclusion\n",
    "\n",
    "Given the high quality of the nearest neighbors classifier, we need to understand if the neural network outperforms it on any metric. This would entail greater investigation into the NN classifier (how much labeled data does it need?) and the supervised classifier (does it do better if trained on all-but-1 of the data?). "
   ]
  }
 ],
 "metadata": {
  "kernelspec": {
   "display_name": "Python 3",
   "language": "python",
   "name": "python3"
  },
  "language_info": {
   "codemirror_mode": {
    "name": "ipython",
    "version": 3
   },
   "file_extension": ".py",
   "mimetype": "text/x-python",
   "name": "python",
   "nbconvert_exporter": "python",
   "pygments_lexer": "ipython3",
   "version": "3.7.2"
  }
 },
 "nbformat": 4,
 "nbformat_minor": 2
}
