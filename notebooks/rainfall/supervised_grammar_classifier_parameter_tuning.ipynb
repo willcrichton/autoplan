{
 "cells": [
  {
   "cell_type": "markdown",
   "metadata": {},
   "source": [
    "# Supervised classifier parameter sweep on synthetic data"
   ]
  },
  {
   "cell_type": "code",
   "execution_count": null,
   "metadata": {},
   "outputs": [],
   "source": [
    "%load_ext autoreload\n",
    "%autoreload 2"
   ]
  },
  {
   "cell_type": "code",
   "execution_count": null,
   "metadata": {},
   "outputs": [],
   "source": [
    "import sys\n",
    "sys.path.append('..')"
   ]
  },
  {
   "cell_type": "code",
   "execution_count": null,
   "metadata": {},
   "outputs": [],
   "source": [
    "from autoplan.trainer import ClassifierTrainer, option_combinations\n",
    "from autoplan.dataset import PrelabeledDataset, build_synthetic_dataset\n",
    "from autoplan.generator import ProgramGenerator\n",
    "from autoplan.vis import plot_accuracy, plot_cm, plot_loss\n",
    "from autoplan.token import TokenType, PyretTokenizer, OCamlTokenizer\n",
    "from scripts.rainfall_ingest import ingest_dataset\n",
    "\n",
    "from grammars.rainfall.ocaml import Program\n",
    "from grammars.rainfall.labels import GeneralRainfallLabels\n",
    "\n",
    "from tqdm import tqdm_notebook as tqdm\n",
    "import pandas as pd\n",
    "import torch\n",
    "import os\n",
    "import numpy as np\n",
    "import torch.nn as nn\n",
    "import matplotlib.pyplot as plt\n",
    "# import seaborn as sns\n",
    "\n",
    "device = torch.device('cpu')\n",
    "# device = torch.device('cuda:0')\n",
    "REPO_DIR = os.path.expanduser('~/autoplan')"
   ]
  },
  {
   "cell_type": "markdown",
   "metadata": {},
   "source": [
    "# Parameter Tuning"
   ]
  },
  {
   "cell_type": "code",
   "execution_count": null,
   "metadata": {},
   "outputs": [],
   "source": [
    "dataset_name = 'T1'\n",
    "student_dataset = ingest_dataset(dataset_name)"
   ]
  },
  {
   "cell_type": "code",
   "execution_count": null,
   "metadata": {},
   "outputs": [],
   "source": [
    "sample_size = [\n",
    "    ('N', [5, 10, 15, 20, 25, 30])\n",
    "#     ('N', [100, 300, 500, 1000, 5000, 10000])\n",
    "]\n",
    "\n",
    "datasets = [\n",
    "    (opts, build_synthetic_dataset(\n",
    "                GeneralRainfallLabels,\n",
    "                tokenizer=OCamlTokenizer(),\n",
    "                generator=ProgramGenerator(grammar=Program(), adaptive=True),\n",
    "                vocab_index=student_dataset.vocab_index,\n",
    "                **opts))\n",
    "    for opts in option_combinations(sample_size)\n",
    "]"
   ]
  },
  {
   "cell_type": "code",
   "execution_count": null,
   "metadata": {},
   "outputs": [],
   "source": [
    "model_options = [\n",
    "    ('dataset', datasets),\n",
    "    ('model', [nn.RNN, nn.GRU, nn.LSTM]),\n",
    "    ('hidden_size', [32, 128, 512, 2048]),\n",
    "    ('embedding_size', [32, 128, 512, 2048]),\n",
    "]\n",
    "\n",
    "all_evals = [\n",
    "    (opts, ClassifierTrainer.crossval(opts['dataset'][1], k=10, epochs=100, val_frac=0.33, device=device,\n",
    "                                      model_opts={k: v for k, v in opts.items() if k != 'dataset'}))\n",
    "    for opts in tqdm(option_combinations(model_options))\n",
    "]"
   ]
  },
  {
   "cell_type": "code",
   "execution_count": null,
   "metadata": {},
   "outputs": [],
   "source": [
    "sorted([{\n",
    "    'params': k, \n",
    "    'accuracy': np.mean(v['accuracy'])\n",
    "} for k, v in all_evals], key=lambda t: -t['accuracy'])[:10]"
   ]
  },
  {
   "cell_type": "code",
   "execution_count": null,
   "metadata": {},
   "outputs": [],
   "source": [
    "# Add visualization tool "
   ]
  },
  {
   "cell_type": "code",
   "execution_count": null,
   "metadata": {},
   "outputs": [],
   "source": [
    "# Add conclusion"
   ]
  }
 ],
 "metadata": {
  "kernelspec": {
   "display_name": "Python 3",
   "language": "python",
   "name": "python3"
  },
  "language_info": {
   "codemirror_mode": {
    "name": "ipython",
    "version": 3
   },
   "file_extension": ".py",
   "mimetype": "text/x-python",
   "name": "python",
   "nbconvert_exporter": "python",
   "pygments_lexer": "ipython3",
   "version": "3.7.4"
  }
 },
 "nbformat": 4,
 "nbformat_minor": 2
}
