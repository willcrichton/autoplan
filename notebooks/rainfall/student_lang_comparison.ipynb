{
 "cells": [
  {
   "cell_type": "code",
   "execution_count": 1,
   "metadata": {},
   "outputs": [],
   "source": [
    "%load_ext autoreload\n",
    "%autoreload 2"
   ]
  },
  {
   "cell_type": "code",
   "execution_count": 12,
   "metadata": {},
   "outputs": [],
   "source": [
    "from autoplan.neighbors import TreeNNClassifier\n",
    "from autoplan.token import OCamlTokenizer, PyretTokenizer, TokenType\n",
    "from autoplan.trainer import ClassifierTrainer\n",
    "from autoplan.vis import plot_accuracy, plot_cm, plot_loss\n",
    "from autoplan.dataset import TrainVal, RandomSplit, concat_datasets, set_random_seed\n",
    "\n",
    "import dataclasses\n",
    "import torch\n",
    "from tqdm.auto import tqdm\n",
    "from torch import nn\n",
    "from torch.utils.data import Subset\n",
    "import numpy as np\n",
    "from scripts.rainfall_ingest import ingest_dataset, load_full_t1\n",
    "import pandas as pd\n",
    "from pickle_cache import PickleCache\n",
    "import matplotlib.pyplot as plt\n",
    "import seaborn as sns\n",
    "from collections import defaultdict\n",
    "\n",
    "pcache = PickleCache()\n",
    "device = torch.device('cuda:7')"
   ]
  },
  {
   "cell_type": "code",
   "execution_count": 3,
   "metadata": {},
   "outputs": [],
   "source": [
    "set_random_seed(0)"
   ]
  },
  {
   "cell_type": "code",
   "execution_count": 4,
   "metadata": {},
   "outputs": [
    {
     "name": "stdout",
     "output_type": "stream",
     "text": [
      "Skipped 16 programs\n",
      "Skipped 2 programs\n"
     ]
    }
   ],
   "source": [
    "datasets = {\n",
    "    'T1': load_full_t1(),\n",
    "    'T1Acc': ingest_dataset('T1Acc', exclude=[], preprocess=True)\n",
    "}"
   ]
  },
  {
   "cell_type": "code",
   "execution_count": 5,
   "metadata": {},
   "outputs": [],
   "source": [
    "model_opts = {\n",
    "    'model': nn.LSTM,\n",
    "    'hidden_size': 512,\n",
    "    'embedding_size': 128\n",
    "}\n",
    "\n",
    "k = 30\n",
    "val_frac = 0.2"
   ]
  },
  {
   "cell_type": "code",
   "execution_count": 9,
   "metadata": {},
   "outputs": [
    {
     "data": {
      "application/vnd.jupyter.widget-view+json": {
       "model_id": "76d4844324da45beaf142d6afbeb57f3",
       "version_major": 2,
       "version_minor": 0
      },
      "text/plain": [
       "HBox(children=(IntProgress(value=0, max=42), HTML(value='')))"
      ]
     },
     "metadata": {},
     "output_type": "display_data"
    },
    {
     "name": "stdout",
     "output_type": "stream",
     "text": [
      "\n"
     ]
    },
    {
     "data": {
      "application/vnd.jupyter.widget-view+json": {
       "model_id": "ae1eb0e93dee4a01b4705fa0b000f3af",
       "version_major": 2,
       "version_minor": 0
      },
      "text/plain": [
       "HBox(children=(IntProgress(value=0, max=39), HTML(value='')))"
      ]
     },
     "metadata": {},
     "output_type": "display_data"
    },
    {
     "name": "stdout",
     "output_type": "stream",
     "text": [
      "\n"
     ]
    }
   ],
   "source": [
    "def make_cls(ds, tok):\n",
    "    cls = TreeNNClassifier(ds, tok)\n",
    "    return (cls, cls.compute_distance_matrix(cls.programs))\n",
    "\n",
    "classifier = {\n",
    "    'T1': pcache.get('nn_ocaml', lambda: make_cls(datasets['T1'], OCamlTokenizer())),\n",
    "    'T1Acc': pcache.get('pyret_nn', lambda: make_cls(datasets['T1Acc'], PyretTokenizer()))\n",
    "}"
   ]
  },
  {
   "cell_type": "code",
   "execution_count": 13,
   "metadata": {},
   "outputs": [],
   "source": [
    "ks = [1, 3, 5, 10, 20]\n",
    "nn_acc = {}\n",
    "nn_eval = {}\n",
    "for lang in ['T1', 'T1Acc']:    \n",
    "    cls, mtx = classifier[lang]\n",
    "    k_nn_evals = [cls.crossval(mtx, k=k_, folds=k, val_frac=val_frac) for k_ in ks]\n",
    "    nn_evals = k_nn_evals[np.argmax([np.mean([evl.accuracy for evl in evals]) for evals in k_nn_evals])]\n",
    "    nn_acc[lang] = pd.Series([evl.accuracy for evl in nn_evals])\n",
    "    nn_eval[lang] = nn_evals"
   ]
  },
  {
   "cell_type": "code",
   "execution_count": 20,
   "metadata": {},
   "outputs": [
    {
     "data": {
      "application/vnd.jupyter.widget-view+json": {
       "model_id": "3ca9cd90f7e34d109be330d1547bd4e8",
       "version_major": 2,
       "version_minor": 0
      },
      "text/plain": [
       "HBox(children=(IntProgress(value=0, max=30), HTML(value='')))"
      ]
     },
     "metadata": {},
     "output_type": "display_data"
    },
    {
     "data": {
      "application/vnd.jupyter.widget-view+json": {
       "model_id": "9a63db6921384791aca6ae1245baa7de",
       "version_major": 2,
       "version_minor": 0
      },
      "text/plain": [
       "HBox(children=(IntProgress(value=0, max=30), HTML(value='')))"
      ]
     },
     "metadata": {},
     "output_type": "display_data"
    }
   ],
   "source": [
    "rnn_acc = {}\n",
    "rnn_eval = {}\n",
    "for lang in ['T1', 'T1Acc']:\n",
    "    evals = ClassifierTrainer.crossval(\n",
    "        datasets[lang], split=RandomSplit(datasets[lang]), k=k, epochs=100, val_frac=val_frac, model_opts=model_opts, \n",
    "        device=device, progress=True)\n",
    "    rnn_acc[lang] = pd.Series([max([evl.accuracy for evl in val_eval]) for val_eval in evals['val_eval']])\n",
    "    rnn_eval[lang] = evals['val_eval']"
   ]
  },
  {
   "cell_type": "code",
   "execution_count": 28,
   "metadata": {},
   "outputs": [
    {
     "data": {
      "text/plain": [
       "0.7808641975308643"
      ]
     },
     "execution_count": 28,
     "metadata": {},
     "output_type": "execute_result"
    }
   ],
   "source": [
    "rnn_acc['T1'].mean()"
   ]
  },
  {
   "cell_type": "code",
   "execution_count": null,
   "metadata": {},
   "outputs": [],
   "source": [
    "rnn_top_eval = [val_eval[np.argmax([evl.accuracy for evl in val_eval])] for val_eval in rnn_eval['T1Acc']]"
   ]
  },
  {
   "cell_type": "code",
   "execution_count": null,
   "metadata": {},
   "outputs": [],
   "source": [
    "evl = rnn_top_eval[4]\n",
    "for idx in elv.incorrect():\n",
    "    print "
   ]
  },
  {
   "cell_type": "code",
   "execution_count": 21,
   "metadata": {},
   "outputs": [
    {
     "data": {
      "image/png": "[encoded data removed]",
      "text/plain": [
       "<Figure size 432x288 with 1 Axes>"
      ]
     },
     "metadata": {
      "needs_background": "light"
     },
     "output_type": "display_data"
    }
   ],
   "source": [
    "ax = plt.gca()\n",
    "plt.boxplot([nn_acc['T1'], rnn_acc['T1']], positions=[1, 2], widths=0.6)\n",
    "plt.boxplot([nn_acc['T1Acc'], rnn_acc['T1Acc']], positions=[4, 5], widths=0.6)\n",
    "ax.set_xticklabels(['OCaml/AST', 'OCaml/RNN', 'Pyret/AST', 'Pyret/RNN'])\n",
    "ax.set_ylabel('Accuracy')\n",
    "ax.set_title('Model accuracy trained on student data')\n",
    "plt.tight_layout()\n",
    "plt.savefig('model-accuracy-student.png', dpi=150)"
   ]
  },
  {
   "cell_type": "code",
   "execution_count": 16,
   "metadata": {},
   "outputs": [],
   "source": [
    "nn_acc_many = defaultdict(list)\n",
    "val_fracs = [0.2, 0.4, 0.6, 0.8]\n",
    "for lang in ['T1', 'T1Acc']:\n",
    "    for val_frac in val_fracs:\n",
    "        cls, mtx = classifier[lang]\n",
    "        k_nn_evals = [cls.crossval(mtx, k=k_, folds=k, val_frac=val_frac) for k_ in ks]\n",
    "        nn_evals = k_nn_evals[np.argmax([np.mean([evl.accuracy for evl in evals]) for evals in k_nn_evals])]\n",
    "        nn_acc_many[lang].append([evl.accuracy for evl in nn_evals])"
   ]
  },
  {
   "cell_type": "code",
   "execution_count": 17,
   "metadata": {},
   "outputs": [
    {
     "data": {
      "application/vnd.jupyter.widget-view+json": {
       "model_id": "1aac24348fd74d6fb671d8f16648460b",
       "version_major": 2,
       "version_minor": 0
      },
      "text/plain": [
       "HBox(children=(IntProgress(value=0, max=4), HTML(value='')))"
      ]
     },
     "metadata": {},
     "output_type": "display_data"
    },
    {
     "data": {
      "application/vnd.jupyter.widget-view+json": {
       "model_id": "fdb7704f5a9c4eebad4e8774dbcf61d7",
       "version_major": 2,
       "version_minor": 0
      },
      "text/plain": [
       "HBox(children=(IntProgress(value=0, max=4), HTML(value='')))"
      ]
     },
     "metadata": {},
     "output_type": "display_data"
    }
   ],
   "source": [
    "rnn_acc_many = defaultdict(list)\n",
    "for lang in ['T1', 'T1Acc']:\n",
    "    for val_frac in tqdm(val_fracs):\n",
    "        evals = ClassifierTrainer.crossval(\n",
    "            datasets[lang], split=RandomSplit(datasets[lang]), k=k, epochs=100, val_frac=val_frac, \n",
    "            model_opts=model_opts, device=device)\n",
    "        rnn_acc_many[lang].append([max([evl.accuracy for evl in val_eval]) for val_eval in evals['val_eval']])"
   ]
  },
  {
   "cell_type": "code",
   "execution_count": 18,
   "metadata": {},
   "outputs": [
    {
     "data": {
      "image/png": "[encoded data removed]",
      "text/plain": [
       "<Figure size 504x288 with 2 Axes>"
      ]
     },
     "metadata": {
      "needs_background": "light"
     },
     "output_type": "display_data"
    }
   ],
   "source": [
    "methods = {\n",
    "    'Nearest-neighbors': nn_acc_many, \n",
    "    'Recurrent neural network': rnn_acc_many\n",
    "}\n",
    "\n",
    "_, axes = plt.subplots(ncols=2, figsize=(7, 4))\n",
    "for ax, lang, size in zip(axes, ['T1', 'T1Acc'], [136, 42]):\n",
    "    df = pd.DataFrame([{'Training data': int((1-f) * size), 'Accuracy': x, 'Method': method} \n",
    "                        for method in methods.keys() for f, l in zip(val_fracs, methods[method][lang]) for x in l])\n",
    "    sns.boxplot(x='Training data', y='Accuracy', hue='Method', data=df, ax=ax, width=0.5)\n",
    "    sns.despine()\n",
    "    ax.legend(loc='lower left')\n",
    "    ax.set_title('OCaml' if lang == 'T1' else 'Pyret')\n",
    "    ax.set_ylim(0, 1.0)\n",
    "    if lang == 'T1Acc':\n",
    "        ax.legend().remove()\n",
    "    \n",
    "plt.tight_layout()\n",
    "plt.savefig('student-data-only.pdf')"
   ]
  },
  {
   "cell_type": "code",
   "execution_count": null,
   "metadata": {},
   "outputs": [],
   "source": [
    "df = pd.DataFrame([{'Training data': int((1-f) * size), 'Accuracy': x, 'Method': method} \n",
    "                        for method in methods.keys() for f, l in zip(val_fracs, methods[method]['T1Acc']) for x in l])"
   ]
  },
  {
   "cell_type": "code",
   "execution_count": null,
   "metadata": {},
   "outputs": [],
   "source": [
    "df.groupby(['Method', 'Training data']).std().mean()"
   ]
  },
  {
   "cell_type": "code",
   "execution_count": null,
   "metadata": {},
   "outputs": [],
   "source": [
    "def tree_size(t):\n",
    "    return 1 + sum([tree_size(k) for k in t.children])\n",
    "import numpy as np\n",
    "np.mean([tree_size(t) for t in classifier['T1'].trees])"
   ]
  },
  {
   "cell_type": "code",
   "execution_count": null,
   "metadata": {},
   "outputs": [],
   "source": [
    "np.mean([tree_size(t) for t in classifier['T1Acc'].trees])"
   ]
  },
  {
   "cell_type": "code",
   "execution_count": null,
   "metadata": {},
   "outputs": [],
   "source": [
    "np.mean([len(item['program']) for item in datasets['T1'].dataset])"
   ]
  },
  {
   "cell_type": "code",
   "execution_count": null,
   "metadata": {},
   "outputs": [],
   "source": [
    "np.mean([len(item['program']) for item in datasets['T1Acc'].dataset])"
   ]
  }
 ],
 "metadata": {
  "kernelspec": {
   "display_name": "Python 3",
   "language": "python",
   "name": "python3"
  },
  "language_info": {
   "codemirror_mode": {
    "name": "ipython",
    "version": 3
   },
   "file_extension": ".py",
   "mimetype": "text/x-python",
   "name": "python",
   "nbconvert_exporter": "python",
   "pygments_lexer": "ipython3",
   "version": "3.7.2"
  }
 },
 "nbformat": 4,
 "nbformat_minor": 2
}
