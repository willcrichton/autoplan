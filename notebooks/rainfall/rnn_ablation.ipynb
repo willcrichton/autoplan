{
 "cells": [
  {
   "cell_type": "markdown",
   "metadata": {},
   "source": [
    "# RNN ablation and parameter sweep\n",
    "\n",
    "This notebook does a more rigorous evaluation of the RNN model on prelabled Rainfall data for OCaml. The goal is to evaluate the impact of different data preprocessing decisions on accuracy (ablation), as well as to determine the best set of parameters."
   ]
  },
  {
   "cell_type": "code",
   "execution_count": 1,
   "metadata": {
    "ExecuteTime": {
     "end_time": "2019-07-25T21:16:36.173288Z",
     "start_time": "2019-07-25T21:16:36.156056Z"
    },
    "nbpresent": {
     "id": "f126ffec-9ea0-4653-ad36-bfa8c4b37727"
    }
   },
   "outputs": [],
   "source": [
    "%load_ext autoreload\n",
    "%autoreload 2"
   ]
  },
  {
   "cell_type": "code",
   "execution_count": 2,
   "metadata": {
    "ExecuteTime": {
     "end_time": "2019-07-25T21:16:36.200212Z",
     "start_time": "2019-07-25T21:16:36.188651Z"
    },
    "nbpresent": {
     "id": "caf2005f-e8f6-446a-bac2-ceb8e126dfdb"
    }
   },
   "outputs": [],
   "source": [
    "import sys\n",
    "sys.path.append('..')"
   ]
  },
  {
   "cell_type": "code",
   "execution_count": 6,
   "metadata": {
    "ExecuteTime": {
     "end_time": "2019-07-25T22:02:17.498326Z",
     "start_time": "2019-07-25T22:02:17.457287Z"
    },
    "nbpresent": {
     "id": "7dc0a636-d954-4562-b206-715717a91832"
    }
   },
   "outputs": [],
   "source": [
    "from autoplan.trainer import ClassifierTrainer, option_combinations\n",
    "from autoplan.dataset import PrelabeledDataset, RandomSplit\n",
    "from autoplan.vis import plot_accuracy, plot_cm, plot_loss\n",
    "from autoplan.token import TokenType\n",
    "from scripts.rainfall_ingest import ingest_dataset, load_full_t1\n",
    "\n",
    "from tqdm import tqdm_notebook as tqdm\n",
    "import pandas as pd\n",
    "import torch\n",
    "import os\n",
    "import numpy as np\n",
    "import torch.nn as nn\n",
    "import matplotlib.pyplot as plt\n",
    "import seaborn as sns\n",
    "\n",
    "device = torch.device('cuda:6')\n",
    "REPO_DIR = os.path.expanduser('~/autoplan')"
   ]
  },
  {
   "cell_type": "markdown",
   "metadata": {},
   "source": [
    "## Data preprocessing ablation\n",
    "\n",
    "### Motivation\n",
    "\n",
    "In preparing the program for processing by the neural network, a general goal is to eliminate \"unnecessary\" variation in the student programs. For example, whether a student names a variable x vs y, or whether a student has 5 unit tests vs. 10 we know to be unrelated to the core task of classifying structure. \n",
    "\n",
    "One possibility is to hope that the neural network automatically learns to identify only the relevant variation to classifying structure, but with the small size of the training set, we hypothesize that reducing variation can help accuracy.\n",
    "\n",
    "We have two possible filtering steps to apply: first is to anonymize certain classes of tokens (`exclude`). By default, the variables x and y are treated as different tokens and assigned a unique and unrelated ID, so theoretically the network has to separately learn how to interpret the two variables. Similarly for numbers and strings. Anonymizing these tokens means mapping all tokens of the same class (e.g. all identifiers, all strings) to the same number.\n",
    "\n",
    "The second step is to eliminate all top-level statements that are not function definitions (`preprocess`). In OCaml, this eliminates imports and top-level unit tests. This step requires parsing the program into a syntax tree, which means re-exporting the syntax tree back into a source text that can then be tokenized. It's worth noting that the original syntax is not perfectly preserved, e.g. extra parentheses are inserted and type annotations are reordered (so this too \"normalizes\" the syntax to some extent).\n",
    "\n",
    "### Experiment\n",
    "\n",
    "In this experiment, we compute every combination of the two options as shown below, construct the appropriate datasets, and then cross-validate a model with default parameters on each dataset. For cross-validation, we randomly partition the labeled data into 2/3 train and 1/3 test K=10 times, and return the maximum accuracy on the validation set at any point in training."
   ]
  },
  {
   "cell_type": "code",
   "execution_count": 4,
   "metadata": {
    "ExecuteTime": {
     "end_time": "2019-07-25T22:02:27.733200Z",
     "start_time": "2019-07-25T22:02:22.563465Z"
    },
    "nbpresent": {
     "id": "b49dc411-9de8-4ccd-a93c-15759044a47d"
    }
   },
   "outputs": [
    {
     "name": "stdout",
     "output_type": "stream",
     "text": [
      "Skipped 16 programs\n",
      "Skipped 16 programs\n",
      "Skipped 16 programs\n",
      "Skipped 16 programs\n",
      "Skipped 16 programs\n",
      "Skipped 16 programs\n",
      "Skipped 16 programs\n",
      "Skipped 16 programs\n"
     ]
    }
   ],
   "source": [
    "tokenizer_options = [\n",
    "    ('preprocess', [True, False]),\n",
    "    ('exclude', [[], [TokenType.String], [TokenType.String, TokenType.Number], [TokenType.String, TokenType.Number, TokenType.Identifier]])\n",
    "]\n",
    "\n",
    "datasets = [\n",
    "    (opts, load_full_t1(**opts))\n",
    "    for opts in option_combinations(tokenizer_options)\n",
    "]"
   ]
  },
  {
   "cell_type": "code",
   "execution_count": 9,
   "metadata": {
    "ExecuteTime": {
     "end_time": "2019-07-25T22:13:28.774081Z",
     "start_time": "2019-07-25T22:13:15.946135Z"
    },
    "nbpresent": {
     "id": "bf4933e0-84c4-467a-b385-f5a352fbc042"
    }
   },
   "outputs": [
    {
     "data": {
      "application/vnd.jupyter.widget-view+json": {
       "model_id": "632e5bcc70b4400ba327714629f9bd2b",
       "version_major": 2,
       "version_minor": 0
      },
      "text/plain": [
       "HBox(children=(IntProgress(value=0, max=8), HTML(value='')))"
      ]
     },
     "metadata": {},
     "output_type": "display_data"
    }
   ],
   "source": [
    "all_eval = [\n",
    "    (opts, ClassifierTrainer.crossval(\n",
    "        dataset, split=RandomSplit(dataset), k=10, epochs=100, val_frac=0.33, device=device))\n",
    "    for (opts, dataset) in tqdm(datasets)\n",
    "]"
   ]
  },
  {
   "cell_type": "markdown",
   "metadata": {},
   "source": [
    "The parameters sorted by accuracy are shown below. The results suggest that anonymizing tokens has close to no impact, while filtering tests has a significant impact on test accuracy."
   ]
  },
  {
   "cell_type": "code",
   "execution_count": 12,
   "metadata": {
    "nbpresent": {
     "id": "8962c1e2-c663-45d9-bbde-6537e8884d73"
    }
   },
   "outputs": [
    {
     "data": {
      "text/plain": [
       "[{'params': {'exclude': [<TokenType.String: 2>, <TokenType.Number: 1>],\n",
       "   'preprocess': True},\n",
       "  'accuracy': (0.85, 0.029105110170149287)},\n",
       " {'params': {'exclude': [], 'preprocess': True},\n",
       "  'accuracy': (0.8295454545454545, 0.04573775408522298)},\n",
       " {'params': {'exclude': [<TokenType.String: 2>], 'preprocess': True},\n",
       "  'accuracy': (0.8272727272727274, 0.038300680787165274)},\n",
       " {'params': {'exclude': [<TokenType.String: 2>,\n",
       "    <TokenType.Number: 1>,\n",
       "    <TokenType.Identifier: 0>],\n",
       "   'preprocess': True},\n",
       "  'accuracy': (0.8272727272727272, 0.05943953104828193)},\n",
       " {'params': {'exclude': [], 'preprocess': False},\n",
       "  'accuracy': (0.4704545454545454, 0.05663607179262324)},\n",
       " {'params': {'exclude': [<TokenType.String: 2>], 'preprocess': False},\n",
       "  'accuracy': (0.4545454545454545, 0.028747978728803445)},\n",
       " {'params': {'exclude': [<TokenType.String: 2>, <TokenType.Number: 1>],\n",
       "   'preprocess': False},\n",
       "  'accuracy': (0.45227272727272727, 0.05789881455844091)},\n",
       " {'params': {'exclude': [<TokenType.String: 2>,\n",
       "    <TokenType.Number: 1>,\n",
       "    <TokenType.Identifier: 0>],\n",
       "   'preprocess': False},\n",
       "  'accuracy': (0.4136363636363636, 0.045226701686664546)}]"
      ]
     },
     "execution_count": 12,
     "metadata": {},
     "output_type": "execute_result"
    }
   ],
   "source": [
    "sorted([{\n",
    "    'params': k, \n",
    "    'accuracy': (np.mean(v['accuracy']), np.std(v['accuracy']))\n",
    "} for k, v in all_eval], key=lambda t: -t['accuracy'][0])"
   ]
  },
  {
   "cell_type": "markdown",
   "metadata": {},
   "source": [
    "## Model parameter sweep\n",
    "\n",
    "This experiment uses the best dataset parameters from the previous experiment, and attempts to find the right hyperparameters for the simple classifier model. The three options are:\n",
    "1. `model` which determines the kind of recurrent unit used in the program encoder (RNN, GRU, or LSTM)\n",
    "2. `hidden_size` which is the size of the hidden layer in the recurrent unit\n",
    "3. `embedding_size` which is the size of the input embedding that each token is mapped to\n",
    "\n",
    "As before, we enumerate all combinations of these options and cross-validate the model on the OCaml data."
   ]
  },
  {
   "cell_type": "code",
   "execution_count": 13,
   "metadata": {
    "ExecuteTime": {
     "end_time": "2019-07-25T22:13:28.778669Z",
     "start_time": "2019-07-25T22:13:23.451Z"
    },
    "nbpresent": {
     "id": "ee37c525-01eb-4cfd-82f7-6d6a9a4148ab"
    }
   },
   "outputs": [
    {
     "name": "stdout",
     "output_type": "stream",
     "text": [
      "Skipped 16 programs\n"
     ]
    }
   ],
   "source": [
    "dataset = load_full_t1(preprocess=True, exclude=[TokenType.String, TokenType.Number])\n",
    "\n",
    "model_options = [\n",
    "    ('model', [nn.GRU, nn.LSTM]),\n",
    "    ('hidden_size', [32, 128, 512, 2048]),\n",
    "    ('embedding_size', [32, 128, 512, 2048]),\n",
    "]"
   ]
  },
  {
   "cell_type": "code",
   "execution_count": 19,
   "metadata": {
    "ExecuteTime": {
     "end_time": "2019-07-25T22:13:28.778669Z",
     "start_time": "2019-07-25T22:13:23.451Z"
    },
    "nbpresent": {
     "id": "36c4b51a-ce71-462c-8ed6-562a68a5287e"
    }
   },
   "outputs": [
    {
     "data": {
      "application/vnd.jupyter.widget-view+json": {
       "model_id": "7f7df46635504f8584ef08807545a8f4",
       "version_major": 2,
       "version_minor": 0
      },
      "text/plain": [
       "HBox(children=(IntProgress(value=0, max=32), HTML(value='')))"
      ]
     },
     "metadata": {},
     "output_type": "display_data"
    },
    {
     "ename": "TypeError",
     "evalue": "'Tensor' object is not callable",
     "output_type": "error",
     "traceback": [
      "\u001b[0;31m---------------------------------------------------------------------------\u001b[0m",
      "\u001b[0;31mTypeError\u001b[0m                                 Traceback (most recent call last)",
      "\u001b[0;32m<ipython-input-19-679fc4f0024b>\u001b[0m in \u001b[0;36m<module>\u001b[0;34m\u001b[0m\n\u001b[1;32m      2\u001b[0m     (opts, ClassifierTrainer.crossval(\n\u001b[1;32m      3\u001b[0m         dataset, split=RandomSplit(dataset), k=10, epochs=100, val_frac=0.33, device=device, model_opts=opts))\n\u001b[0;32m----> 4\u001b[0;31m     \u001b[0;32mfor\u001b[0m \u001b[0mopts\u001b[0m \u001b[0;32min\u001b[0m \u001b[0mtqdm\u001b[0m\u001b[0;34m(\u001b[0m\u001b[0moption_combinations\u001b[0m\u001b[0;34m(\u001b[0m\u001b[0mmodel_options\u001b[0m\u001b[0;34m)\u001b[0m\u001b[0;34m)\u001b[0m\u001b[0;34m\u001b[0m\u001b[0;34m\u001b[0m\u001b[0m\n\u001b[0m\u001b[1;32m      5\u001b[0m ]\n",
      "\u001b[0;32m<ipython-input-19-679fc4f0024b>\u001b[0m in \u001b[0;36m<listcomp>\u001b[0;34m(.0)\u001b[0m\n\u001b[1;32m      2\u001b[0m     (opts, ClassifierTrainer.crossval(\n\u001b[1;32m      3\u001b[0m         dataset, split=RandomSplit(dataset), k=10, epochs=100, val_frac=0.33, device=device, model_opts=opts))\n\u001b[0;32m----> 4\u001b[0;31m     \u001b[0;32mfor\u001b[0m \u001b[0mopts\u001b[0m \u001b[0;32min\u001b[0m \u001b[0mtqdm\u001b[0m\u001b[0;34m(\u001b[0m\u001b[0moption_combinations\u001b[0m\u001b[0;34m(\u001b[0m\u001b[0mmodel_options\u001b[0m\u001b[0;34m)\u001b[0m\u001b[0;34m)\u001b[0m\u001b[0;34m\u001b[0m\u001b[0;34m\u001b[0m\u001b[0m\n\u001b[0m\u001b[1;32m      5\u001b[0m ]\n",
      "\u001b[0;32m~/autoplan/autoplan/trainer.py\u001b[0m in \u001b[0;36mcrossval\u001b[0;34m(cls, dataset, epochs, k, progress, *args, **kwargs)\u001b[0m\n\u001b[1;32m     85\u001b[0m         \u001b[0mit\u001b[0m \u001b[0;34m=\u001b[0m \u001b[0mtqdm\u001b[0m\u001b[0;34m(\u001b[0m\u001b[0mrange\u001b[0m\u001b[0;34m(\u001b[0m\u001b[0mk\u001b[0m\u001b[0;34m)\u001b[0m\u001b[0;34m)\u001b[0m \u001b[0;32mif\u001b[0m \u001b[0mprogress\u001b[0m \u001b[0;32melse\u001b[0m \u001b[0mrange\u001b[0m\u001b[0;34m(\u001b[0m\u001b[0mk\u001b[0m\u001b[0;34m)\u001b[0m\u001b[0;34m\u001b[0m\u001b[0;34m\u001b[0m\u001b[0m\n\u001b[1;32m     86\u001b[0m         \u001b[0;32mfor\u001b[0m \u001b[0mfold\u001b[0m \u001b[0;32min\u001b[0m \u001b[0mit\u001b[0m\u001b[0;34m:\u001b[0m\u001b[0;34m\u001b[0m\u001b[0;34m\u001b[0m\u001b[0m\n\u001b[0;32m---> 87\u001b[0;31m             \u001b[0mcls\u001b[0m\u001b[0;34m.\u001b[0m\u001b[0mcrossval_helper\u001b[0m\u001b[0;34m(\u001b[0m\u001b[0mall_eval\u001b[0m\u001b[0;34m,\u001b[0m \u001b[0mdataset\u001b[0m\u001b[0;34m,\u001b[0m \u001b[0mepochs\u001b[0m\u001b[0;34m,\u001b[0m \u001b[0;34m*\u001b[0m\u001b[0margs\u001b[0m\u001b[0;34m,\u001b[0m \u001b[0;34m**\u001b[0m\u001b[0mkwargs\u001b[0m\u001b[0;34m)\u001b[0m\u001b[0;34m\u001b[0m\u001b[0;34m\u001b[0m\u001b[0m\n\u001b[0m\u001b[1;32m     88\u001b[0m         \u001b[0;32mreturn\u001b[0m \u001b[0mall_eval\u001b[0m\u001b[0;34m\u001b[0m\u001b[0;34m\u001b[0m\u001b[0m\n\u001b[1;32m     89\u001b[0m \u001b[0;34m\u001b[0m\u001b[0m\n",
      "\u001b[0;32m~/autoplan/autoplan/trainer.py\u001b[0m in \u001b[0;36mcrossval_helper\u001b[0;34m(cls, all_eval, dataset, epochs, progress, *args, **kwargs)\u001b[0m\n\u001b[1;32m     91\u001b[0m     \u001b[0;34m@\u001b[0m\u001b[0mclassmethod\u001b[0m\u001b[0;34m\u001b[0m\u001b[0;34m\u001b[0m\u001b[0m\n\u001b[1;32m     92\u001b[0m     \u001b[0;32mdef\u001b[0m \u001b[0mcrossval_helper\u001b[0m\u001b[0;34m(\u001b[0m\u001b[0mcls\u001b[0m\u001b[0;34m,\u001b[0m \u001b[0mall_eval\u001b[0m\u001b[0;34m,\u001b[0m \u001b[0mdataset\u001b[0m\u001b[0;34m,\u001b[0m \u001b[0mepochs\u001b[0m\u001b[0;34m,\u001b[0m \u001b[0;34m*\u001b[0m\u001b[0margs\u001b[0m\u001b[0;34m,\u001b[0m \u001b[0mprogress\u001b[0m\u001b[0;34m=\u001b[0m\u001b[0;32mFalse\u001b[0m\u001b[0;34m,\u001b[0m \u001b[0;34m**\u001b[0m\u001b[0mkwargs\u001b[0m\u001b[0;34m)\u001b[0m\u001b[0;34m:\u001b[0m\u001b[0;34m\u001b[0m\u001b[0;34m\u001b[0m\u001b[0m\n\u001b[0;32m---> 93\u001b[0;31m         \u001b[0mtrainer\u001b[0m \u001b[0;34m=\u001b[0m \u001b[0mcls\u001b[0m\u001b[0;34m(\u001b[0m\u001b[0mdataset\u001b[0m\u001b[0;34m,\u001b[0m \u001b[0;34m*\u001b[0m\u001b[0margs\u001b[0m\u001b[0;34m,\u001b[0m \u001b[0;34m**\u001b[0m\u001b[0mkwargs\u001b[0m\u001b[0;34m)\u001b[0m\u001b[0;34m\u001b[0m\u001b[0;34m\u001b[0m\u001b[0m\n\u001b[0m\u001b[1;32m     94\u001b[0m         \u001b[0mloss\u001b[0m\u001b[0;34m,\u001b[0m \u001b[0mtrain_eval\u001b[0m\u001b[0;34m,\u001b[0m \u001b[0mval_eval\u001b[0m \u001b[0;34m=\u001b[0m \u001b[0mtrainer\u001b[0m\u001b[0;34m.\u001b[0m\u001b[0mtrain\u001b[0m\u001b[0;34m(\u001b[0m\u001b[0mepochs\u001b[0m\u001b[0;34m,\u001b[0m \u001b[0mprogress\u001b[0m\u001b[0;34m=\u001b[0m\u001b[0;32mFalse\u001b[0m\u001b[0;34m)\u001b[0m\u001b[0;34m\u001b[0m\u001b[0;34m\u001b[0m\u001b[0m\n\u001b[1;32m     95\u001b[0m         \u001b[0mall_eval\u001b[0m\u001b[0;34m[\u001b[0m\u001b[0;34m'accuracy'\u001b[0m\u001b[0;34m]\u001b[0m\u001b[0;34m.\u001b[0m\u001b[0mappend\u001b[0m\u001b[0;34m(\u001b[0m\u001b[0mmax\u001b[0m\u001b[0;34m(\u001b[0m\u001b[0;34m[\u001b[0m\u001b[0meval_\u001b[0m\u001b[0;34m.\u001b[0m\u001b[0maccuracy\u001b[0m \u001b[0;32mfor\u001b[0m \u001b[0meval_\u001b[0m \u001b[0;32min\u001b[0m \u001b[0mval_eval\u001b[0m\u001b[0;34m]\u001b[0m\u001b[0;34m)\u001b[0m\u001b[0;34m)\u001b[0m\u001b[0;34m\u001b[0m\u001b[0;34m\u001b[0m\u001b[0m\n",
      "\u001b[0;32m~/autoplan/autoplan/trainer.py\u001b[0m in \u001b[0;36m__init__\u001b[0;34m(self, dataset, device, batch_size, val_frac, split, model_opts, optim_opts)\u001b[0m\n\u001b[1;32m    109\u001b[0m         \u001b[0;31m# If our classes are imbalanced, then the weights on the loss encourage the network\u001b[0m\u001b[0;34m\u001b[0m\u001b[0;34m\u001b[0m\u001b[0;34m\u001b[0m\u001b[0m\n\u001b[1;32m    110\u001b[0m         \u001b[0;31m# to not just predict the class balance after training.\u001b[0m\u001b[0;34m\u001b[0m\u001b[0;34m\u001b[0m\u001b[0;34m\u001b[0m\u001b[0m\n\u001b[0;32m--> 111\u001b[0;31m         \u001b[0mself\u001b[0m\u001b[0;34m.\u001b[0m\u001b[0mloss_fn\u001b[0m \u001b[0;34m=\u001b[0m \u001b[0mnn\u001b[0m\u001b[0;34m.\u001b[0m\u001b[0mCrossEntropyLoss\u001b[0m\u001b[0;34m(\u001b[0m\u001b[0mweight\u001b[0m\u001b[0;34m=\u001b[0m\u001b[0;36m1\u001b[0m\u001b[0;34m/\u001b[0m\u001b[0mdataset\u001b[0m\u001b[0;34m.\u001b[0m\u001b[0mclass_balance\u001b[0m\u001b[0;34m(\u001b[0m\u001b[0;34m)\u001b[0m\u001b[0;34m)\u001b[0m\u001b[0;34m\u001b[0m\u001b[0;34m\u001b[0m\u001b[0m\n\u001b[0m\u001b[1;32m    112\u001b[0m \u001b[0;34m\u001b[0m\u001b[0m\n\u001b[1;32m    113\u001b[0m         \u001b[0;31m# Optimizer modulates how fast the network learns during training\u001b[0m\u001b[0;34m\u001b[0m\u001b[0;34m\u001b[0m\u001b[0;34m\u001b[0m\u001b[0m\n",
      "\u001b[0;31mTypeError\u001b[0m: 'Tensor' object is not callable"
     ]
    }
   ],
   "source": [
    "all_evals = [\n",
    "    (opts, ClassifierTrainer.crossval(\n",
    "        dataset, split=RandomSplit(dataset), k=10, epochs=100, val_frac=0.33, device=device, model_opts=opts))\n",
    "    for opts in tqdm(option_combinations(model_options))\n",
    "]"
   ]
  },
  {
   "cell_type": "markdown",
   "metadata": {},
   "source": [
    "Looking at the top 10 parameters by accuracy, there is no obvious correlation for each parameter individually (e.g. that a larger embedding size means higher accuracy, or GRU is preferable to LSTM/RNN). Instead, we want to visualize the data in aggregate."
   ]
  },
  {
   "cell_type": "code",
   "execution_count": 18,
   "metadata": {},
   "outputs": [
    {
     "data": {
      "text/plain": [
       "[{'params': {'embedding_size': 512,\n",
       "   'hidden_size': 2048,\n",
       "   'model': torch.nn.modules.rnn.GRU},\n",
       "  'accuracy': (0.8999999999999998, 0.02317736142542173)},\n",
       " {'params': {'embedding_size': 128,\n",
       "   'hidden_size': 128,\n",
       "   'model': torch.nn.modules.rnn.GRU},\n",
       "  'accuracy': (0.890909090909091, 0.019813177016093954)},\n",
       " {'params': {'embedding_size': 512,\n",
       "   'hidden_size': 512,\n",
       "   'model': torch.nn.modules.rnn.GRU},\n",
       "  'accuracy': (0.8909090909090909, 0.04165977904505307)},\n",
       " {'params': {'embedding_size': 2048,\n",
       "   'hidden_size': 512,\n",
       "   'model': torch.nn.modules.rnn.LSTM},\n",
       "  'accuracy': (0.8886363636363637, 0.04245804930061226)},\n",
       " {'params': {'embedding_size': 512,\n",
       "   'hidden_size': 2048,\n",
       "   'model': torch.nn.modules.rnn.LSTM},\n",
       "  'accuracy': (0.8886363636363637, 0.04596306458217426)},\n",
       " {'params': {'embedding_size': 2048,\n",
       "   'hidden_size': 2048,\n",
       "   'model': torch.nn.modules.rnn.GRU},\n",
       "  'accuracy': (0.884090909090909, 0.031244834283789817)},\n",
       " {'params': {'embedding_size': 128,\n",
       "   'hidden_size': 32,\n",
       "   'model': torch.nn.modules.rnn.LSTM},\n",
       "  'accuracy': (0.8818181818181818, 0.048532173872869594)},\n",
       " {'params': {'embedding_size': 32,\n",
       "   'hidden_size': 512,\n",
       "   'model': torch.nn.modules.rnn.GRU},\n",
       "  'accuracy': (0.8772727272727272, 0.05397428221380872)},\n",
       " {'params': {'embedding_size': 128,\n",
       "   'hidden_size': 2048,\n",
       "   'model': torch.nn.modules.rnn.GRU},\n",
       "  'accuracy': (0.875, 0.03969147544675674)},\n",
       " {'params': {'embedding_size': 32,\n",
       "   'hidden_size': 2048,\n",
       "   'model': torch.nn.modules.rnn.GRU},\n",
       "  'accuracy': (0.8727272727272728, 0.03401506715249037)}]"
      ]
     },
     "execution_count": 18,
     "metadata": {},
     "output_type": "execute_result"
    }
   ],
   "source": [
    "sorted([{\n",
    "    'params': k, \n",
    "    'accuracy': (np.mean(v['accuracy']), np.std(v['accuracy']))\n",
    "} for k, v in all_evals], key=lambda t: -t['accuracy'][0])[:10]"
   ]
  },
  {
   "cell_type": "markdown",
   "metadata": {},
   "source": [
    "This visualization shows a box plot of accuracy for each value of each options under all other possible configurations. \n",
    "* `model`: GRU and LSTM seem, on average, better than RNN.\n",
    "* `hidden_size`: a hidden size around 512 seems reasonable.\n",
    "* `embedding_size`: an embedding size also around 512 seems reasonable."
   ]
  },
  {
   "cell_type": "code",
   "execution_count": 17,
   "metadata": {},
   "outputs": [
    {
     "data": {
      "image/png": "[encoded data removed]",
      "text/plain": [
       "<Figure size 864x360 with 3 Axes>"
      ]
     },
     "metadata": {
      "needs_background": "light"
     },
     "output_type": "display_data"
    }
   ],
   "source": [
    "df = pd.DataFrame([{**k, 'accuracy': np.mean(v['accuracy']), 'model': str(k['model'].__name__)} for k,v in all_evals])\n",
    "_, axes = plt.subplots(nrows=1, ncols=3, figsize=(12, 5))\n",
    "for ax, (k, _) in zip(axes, model_options):\n",
    "    df.boxplot(column=['accuracy'], by=k, ax=ax)\n",
    "    ax.set_title('')\n",
    "    ax.set_ylabel('accuracy')\n",
    "\n",
    "plt.suptitle('')\n",
    "plt.tight_layout()"
   ]
  },
  {
   "cell_type": "markdown",
   "metadata": {},
   "source": [
    "## Conclusion\n",
    "\n",
    "These experiments suggest that we should definitely be filtering the dataset for unit tests and other extra variation, although tokenization strategy does not seem to have a significant impact. For model parameters, we will use GRU or LSTM with the corresponding hidden/embedding sizes identified above."
   ]
  }
 ],
 "metadata": {
  "kernelspec": {
   "display_name": "Python 3",
   "language": "python",
   "name": "python3"
  },
  "language_info": {
   "codemirror_mode": {
    "name": "ipython",
    "version": 3
   },
   "file_extension": ".py",
   "mimetype": "text/x-python",
   "name": "python",
   "nbconvert_exporter": "python",
   "pygments_lexer": "ipython3",
   "version": "3.7.2"
  },
  "toc": {
   "base_numbering": 1,
   "nav_menu": {},
   "number_sections": true,
   "sideBar": true,
   "skip_h1_title": false,
   "title_cell": "Table of Contents",
   "title_sidebar": "Contents",
   "toc_cell": false,
   "toc_position": {},
   "toc_section_display": true,
   "toc_window_display": false
  },
  "varInspector": {
   "cols": {
    "lenName": 16,
    "lenType": 16,
    "lenVar": 40
   },
   "kernels_config": {
    "python": {
     "delete_cmd_postfix": "",
     "delete_cmd_prefix": "del ",
     "library": "var_list.py",
     "varRefreshCmd": "print(var_dic_list())"
    },
    "r": {
     "delete_cmd_postfix": ") ",
     "delete_cmd_prefix": "rm(",
     "library": "var_list.r",
     "varRefreshCmd": "cat(var_dic_list()) "
    }
   },
   "types_to_exclude": [
    "module",
    "function",
    "builtin_function_or_method",
    "instance",
    "_Feature"
   ],
   "window_display": false
  }
 },
 "nbformat": 4,
 "nbformat_minor": 2
}
