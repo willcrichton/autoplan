{
 "cells": [
  {
   "cell_type": "code",
   "execution_count": 1,
   "metadata": {},
   "outputs": [],
   "source": [
    "%load_ext autoreload\n",
    "%autoreload 2"
   ]
  },
  {
   "cell_type": "code",
   "execution_count": 2,
   "metadata": {},
   "outputs": [],
   "source": [
    "from autoplan.token import OCamlTokenizer\n",
    "from autoplan.trainer import ClassifierTrainer\n",
    "from autoplan.vis import plot_accuracy, plot_cm, plot_loss\n",
    "from autoplan.dataset import TrainVal, build_synthetic_dataset, set_random_seed\n",
    "from autoplan.generator import ProgramGenerator\n",
    "\n",
    "from grammars.rainfall.ocaml import Program, Labels\n",
    "\n",
    "from tqdm.auto import tqdm\n",
    "from scripts.rainfall_ingest import ingest_dataset\n",
    "import torch\n",
    "import seaborn as sns\n",
    "from iterextras import par_for\n",
    "from pickle_cache import PickleCache\n",
    "from torch import nn\n",
    "import dataclasses\n",
    "\n",
    "pcache = PickleCache()\n",
    "device = torch.device('cuda:7')"
   ]
  },
  {
   "cell_type": "code",
   "execution_count": 3,
   "metadata": {},
   "outputs": [
    {
     "name": "stdout",
     "output_type": "stream",
     "text": [
      "Skipped 16 programs\n"
     ]
    }
   ],
   "source": [
    "student_dataset = ingest_dataset('T1')"
   ]
  },
  {
   "cell_type": "code",
   "execution_count": null,
   "metadata": {},
   "outputs": [
    {
     "data": {
      "application/vnd.jupyter.widget-view+json": {
       "model_id": "6527fae6830d44a1a69f383cfcf78298",
       "version_major": 2,
       "version_minor": 0
      },
      "text/plain": [
       "HBox(children=(IntProgress(value=0, max=1), HTML(value='')))"
      ]
     },
     "metadata": {},
     "output_type": "display_data"
    }
   ],
   "source": [
    "N = 10000\n",
    "K = 1\n",
    "\n",
    "def build(i):\n",
    "    set_random_seed(i)\n",
    "    return build_synthetic_dataset(\n",
    "        label_set=Labels, \n",
    "        N=N, \n",
    "        tokenizer=OCamlTokenizer(), \n",
    "        generator=ProgramGenerator(Program()), \n",
    "        vocab_index=student_dataset.vocab_index)\n",
    "\n",
    "synthetic_datasets = par_for(build, range(K), process=False, workers=1)"
   ]
  },
  {
   "cell_type": "code",
   "execution_count": null,
   "metadata": {},
   "outputs": [
    {
     "data": {
      "application/vnd.jupyter.widget-view+json": {
       "model_id": "601f93853db94a029b4936fef69f7813",
       "version_major": 2,
       "version_minor": 0
      },
      "text/plain": [
       "HBox(children=(IntProgress(value=0, max=10), HTML(value='')))"
      ]
     },
     "metadata": {},
     "output_type": "display_data"
    }
   ],
   "source": [
    "model_opts = {\n",
    "    'model': nn.GRU,\n",
    "    'hidden_size': 64,\n",
    "    'embedding_size': 64\n",
    "}\n",
    "\n",
    "dataset = synthetic_datasets[0]\n",
    "trainer = ClassifierTrainer(\n",
    "    dataset=dataclasses.replace(dataset, class_balance=student_dataset.class_balance), \n",
    "    device=device, split=TrainVal(dataset, student_dataset), model_opts=model_opts,\n",
    "    optim_opts={'lr': 1e-4})\n",
    "\n",
    "losses, train_eval, val_eval = trainer.train(epochs=10)"
   ]
  },
  {
   "cell_type": "code",
   "execution_count": null,
   "metadata": {},
   "outputs": [],
   "source": [
    "plot_loss(losses)"
   ]
  },
  {
   "cell_type": "code",
   "execution_count": null,
   "metadata": {},
   "outputs": [],
   "source": [
    "plot_accuracy(train_eval)"
   ]
  },
  {
   "cell_type": "code",
   "execution_count": null,
   "metadata": {},
   "outputs": [],
   "source": [
    "plot_accuracy(val_eval)"
   ]
  },
  {
   "cell_type": "code",
   "execution_count": null,
   "metadata": {},
   "outputs": [],
   "source": [
    "val_eval[-1].plot_cm('')"
   ]
  },
  {
   "cell_type": "code",
   "execution_count": 66,
   "metadata": {},
   "outputs": [
    {
     "name": "stdout",
     "output_type": "stream",
     "text": [
      "let rainfall (alon : int list) =\n",
      "  (let rec rainfall_helper (alod : int list) (sum : int) (counter : int) =\n",
      "     (match alod with\n",
      "      | [] -> if sum = 0 then 0 else sum / counter\n",
      "      | hd::tl ->\n",
      "          if hd = (-999)\n",
      "          then sum / counter\n",
      "          else\n",
      "            if hd < 0\n",
      "            then rainfall_helper tl sum counter\n",
      "            else rainfall_helper tl (sum + hd) (counter + 1) : int) in\n",
      "   rainfall_helper alon 0 0 : int)\n",
      "let list0 = []\n",
      "let list1 = [1; 1; 1; 1; (-999)]\n",
      "let list2 = [1; (-4); 6; 8; (-999); 2; 5; 6; 3]\n",
      "\n",
      "True:  GeneralRainfallLabels.SingleLoop\n",
      "Pred:  GeneralRainfallLabels.CleanFirst\n",
      "==============================\n",
      "\n",
      "\n",
      "let rec rainfall_help (alon : float list) (k : float) =\n",
      "  (match alon with\n",
      "   | [] -> (0., k)\n",
      "   | hd::tl ->\n",
      "       (match hd with\n",
      "        | (-999.) -> (0., k)\n",
      "        | n when n >= 0. ->\n",
      "            (match rainfall_help tl (k +. 1.) with | (s, n) -> ((hd +. s), n))\n",
      "        | n when n < 0. -> (match rainfall_help tl k with | (s, n) -> (s, n))) : \n",
      "  (float * float))\n",
      "let rainfall (alon : float list) =\n",
      "  (match rainfall_help alon 0. with\n",
      "   | (0., 0.) -> 0.\n",
      "   | (sum, num) -> sum /. num : float)\n",
      "\n",
      "True:  GeneralRainfallLabels.SingleLoop\n",
      "Pred:  GeneralRainfallLabels.CleanInSC\n",
      "==============================\n",
      "\n",
      "\n",
      "let rec stop (aloi : int list) =\n",
      "  (match aloi with\n",
      "   | [] -> []\n",
      "   | hd::tl -> if hd = (-999) then [] else hd :: (stop tl) : int list)\n",
      "let rec non_negative_average (aloi : int list) =\n",
      "  (let average (alon : int list) =\n",
      "     (match alon with\n",
      "      | [] -> 0.0\n",
      "      | _::_ ->\n",
      "          (float_of_int (List.fold_right (+) alon 0)) /.\n",
      "            (float_of_int (List.length alon)) : float) in\n",
      "   average (List.filter (fun x -> x >= 0) aloi) : float)\n",
      "let rec rainfall (aloi : int list) =\n",
      "  (match aloi with | [] -> 0.0 | hd::tl -> non_negative_average (stop aloi) : \n",
      "  float)\n",
      "\n",
      "True:  GeneralRainfallLabels.CleanFirst\n",
      "Pred:  GeneralRainfallLabels.CleanInSC\n",
      "==============================\n",
      "\n",
      "\n",
      "let rec get_data (alof : float list) =\n",
      "  (match alof with\n",
      "   | [] -> []\n",
      "   | hd::tl ->\n",
      "       if hd = (-999.)\n",
      "       then []\n",
      "       else if hd < 0. then get_data tl else hd :: (get_data tl) : float list)\n",
      "let rec sum_data (alof : float list) =\n",
      "  (match alof with | [] -> 0. | hd::tl -> hd +. (sum_data tl) : float)\n",
      "let rainfall (alof : float list) =\n",
      "  (let data = get_data alof in\n",
      "   (sum_data data) /. (float_of_int (List.length data)) : float)\n",
      "\n",
      "True:  GeneralRainfallLabels.CleanFirst\n",
      "Pred:  GeneralRainfallLabels.CleanInSC\n",
      "==============================\n",
      "\n",
      "\n",
      "otherlet (==) a b = a = b\n",
      "let (!=) a b = a <> b\n",
      "let (+) a b =\n",
      "  let c = a + b in\n",
      "  if ((a lxor b) lor (a lxor (lnot c))) < 0 then c else raise Overflow\n",
      "let (-) a b =\n",
      "  let c = a - b in\n",
      "  if ((a lxor (lnot b)) lor (b lxor c)) < 0 then c else raise Overflow\n",
      "let ( * ) a b =\n",
      "  let c = a * b in\n",
      "  if (Int64.of_int c) = (Int64.mul (Int64.of_int a) (Int64.of_int b))\n",
      "  then c\n",
      "  else raise Overflow\n",
      "let (/) a b = if (a = min_int) && (b = (-1)) then raise Overflow else a / b\n",
      "let (~-) x = if x <> min_int then - x else raise Overflow\n",
      "otherotherlet check_expect (code : 'a) (expect : 'a) =\n",
      "  (if code = expect\n",
      "   then Test_Passed\n",
      "   else Test_Failed ((Actual_Result code), (Expected_Result expect)) : \n",
      "  'a check_result)\n",
      "let check_within (input : float) (expected : float) (within : float) =\n",
      "  ((abs_float (input -. expected)) <= (abs_float within) : bool)\n",
      "let rainfall_prac (alon : int list) =\n",
      "  (let rec valid_data (data : int list) =\n",
      "     (match data with\n",
      "      | [] -> []\n",
      "      | hd::tl ->\n",
      "          if hd = (-999)\n",
      "          then []\n",
      "          else if hd >= 0 then hd :: (valid_data tl) else valid_data tl : \n",
      "     int list) in\n",
      "   if (List.length (valid_data alon)) = 0\n",
      "   then failwith \"No rain was collected\"\n",
      "   else\n",
      "     (List.fold_right (+) (valid_data alon) 0) /\n",
      "       (List.length (valid_data alon)) : int)\n",
      "let rainfall (alon : int list) =\n",
      "  (let rec rain_helper (alon : int list) (counter : int) (sum : int) =\n",
      "     (match alon with\n",
      "      | [] ->\n",
      "          if counter = 0\n",
      "          then failwith \"No rain was collected\"\n",
      "          else sum / counter\n",
      "      | hd::tl ->\n",
      "          if hd = (-999)\n",
      "          then\n",
      "            (if counter = 0\n",
      "             then failwith \"No rain was collected\"\n",
      "             else sum / counter)\n",
      "          else\n",
      "            if hd >= 0\n",
      "            then rain_helper tl (counter + 1) (hd + sum)\n",
      "            else rain_helper tl counter sum : int) in\n",
      "   rain_helper alon 0 0 : int)\n",
      "\n",
      "True:  GeneralRainfallLabels.CleanFirst\n",
      "Pred:  GeneralRainfallLabels.SingleLoop\n",
      "==============================\n",
      "\n",
      "\n",
      "let rainfall (alon : int list) =\n",
      "  (let rec _rainfall (alon : int list) (acc : int list) =\n",
      "     match alon with\n",
      "     | [] -> acc\n",
      "     | hd::tl -> if hd = (-999) then acc else _rainfall tl (hd :: acc) in\n",
      "   let rainfall_list = List.filter (fun x -> x >= 0) (_rainfall alon []) in\n",
      "   let rf_lst_length = List.length rainfall_list in\n",
      "   if rf_lst_length = 0\n",
      "   then failwith \"No valid rainfall levels input.\"\n",
      "   else (List.fold_left (+) 0 rainfall_list) / rf_lst_length : int)\n",
      "\n",
      "True:  GeneralRainfallLabels.CleanFirst\n",
      "Pred:  GeneralRainfallLabels.CleanInSC\n",
      "==============================\n",
      "\n",
      "\n",
      "let rainfall alon =\n",
      "  let rec get_list alon =\n",
      "    match alon with\n",
      "    | [] -> []\n",
      "    | hd::tl -> if hd = (-999) then [] else hd :: (get_list tl) in\n",
      "  let truncated = get_list alon in\n",
      "  let positives = List.filter (fun x -> x > 0) truncated in\n",
      "  let sum = List.fold_right (+) positives 0 in\n",
      "  if positives = []\n",
      "  then failwith \"Error: no positive values\"\n",
      "  else sum / (List.length positives)\n",
      "\n",
      "True:  GeneralRainfallLabels.CleanFirst\n",
      "Pred:  GeneralRainfallLabels.CleanInSC\n",
      "==============================\n",
      "\n",
      "\n",
      "let rec pos_list (aloi : int list) =\n",
      "  (match aloi with\n",
      "   | [] -> []\n",
      "   | hd::tl when hd <> (-999) ->\n",
      "       if hd > 0 then hd :: (pos_list tl) else pos_list tl\n",
      "   | hd::tl when hd = (-999) -> []\n",
      "   | _ -> failwith \"this isn't a good list\" : int list)\n",
      "let rec sum (aloi : int list) =\n",
      "  (match pos_list aloi with | [] -> 0 | hd::tl -> hd + (sum tl) : int)\n",
      "let rainfall_average (aloi : int list) =\n",
      "  (let length = List.length (pos_list aloi) in\n",
      "   if length = 0 then 0 else (sum (pos_list aloi)) / length : int)\n",
      "\n",
      "True:  GeneralRainfallLabels.CleanFirst\n",
      "Pred:  GeneralRainfallLabels.CleanInSC\n",
      "==============================\n",
      "\n",
      "\n"
     ]
    }
   ],
   "source": [
    "for idx in val_eval[-1].incorrect():\n",
    "    item = student_dataset.dataset[idx]\n",
    "    print(item['source'])\n",
    "    print('True: ', Labels(val_eval[-1].true[idx]))\n",
    "    print('Pred: ', Labels(val_eval[-1].pred[idx]))\n",
    "    print('='*30 + '\\n\\n')"
   ]
  }
 ],
 "metadata": {
  "kernelspec": {
   "display_name": "Python 3",
   "language": "python",
   "name": "python3"
  },
  "language_info": {
   "codemirror_mode": {
    "name": "ipython",
    "version": 3
   },
   "file_extension": ".py",
   "mimetype": "text/x-python",
   "name": "python",
   "nbconvert_exporter": "python",
   "pygments_lexer": "ipython3",
   "version": "3.7.2"
  }
 },
 "nbformat": 4,
 "nbformat_minor": 2
}
