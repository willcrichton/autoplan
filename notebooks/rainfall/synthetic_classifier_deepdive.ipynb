{
 "cells": [
  {
   "cell_type": "code",
   "execution_count": 1,
   "metadata": {},
   "outputs": [],
   "source": [
    "%load_ext autoreload\n",
    "%autoreload 2"
   ]
  },
  {
   "cell_type": "code",
   "execution_count": 97,
   "metadata": {},
   "outputs": [],
   "source": [
    "from autoplan.token import OCamlTokenizer\n",
    "from autoplan.trainer import ClassifierTrainer, option_combinations\n",
    "from autoplan.vis import plot_accuracy, plot_cm, plot_loss\n",
    "from autoplan.dataset import TrainVal, build_synthetic_dataset, set_random_seed, concat_datasets\n",
    "from autoplan.generator import ProgramGenerator\n",
    "from autoplan.neighbors import TokenNNClassifier, TreeNNClassifier\n",
    "\n",
    "\n",
    "from grammars.rainfall.ocaml import Program, Labels\n",
    "\n",
    "from tqdm.auto import tqdm\n",
    "from torch.utils.data import ConcatDataset, Subset\n",
    "from scripts.rainfall_ingest import ingest_dataset, load_new_labels\n",
    "import torch\n",
    "import seaborn as sns\n",
    "from iterextras import par_for\n",
    "from pickle_cache import PickleCache\n",
    "from torch import nn\n",
    "import numpy as np\n",
    "import dataclasses\n",
    "\n",
    "pcache = PickleCache()\n",
    "device = torch.device('cuda:7')"
   ]
  },
  {
   "cell_type": "code",
   "execution_count": 3,
   "metadata": {},
   "outputs": [
    {
     "name": "stdout",
     "output_type": "stream",
     "text": [
      "Skipped 16 programs\n"
     ]
    }
   ],
   "source": [
    "known_student_dataset = ingest_dataset('T1')\n",
    "unknown_student_dataset = load_new_labels(known_student_dataset.vocab_index)"
   ]
  },
  {
   "cell_type": "code",
   "execution_count": 148,
   "metadata": {},
   "outputs": [
    {
     "name": "stdout",
     "output_type": "stream",
     "text": [
      "let rec help (alon : float list) =\n",
      "  (match alon with\n",
      "   | [] -> []\n",
      "   | hd::tl ->\n",
      "       if hd = (-999.)\n",
      "       then []\n",
      "       else if hd >= 0. then hd :: (help tl) else help tl : float list)\n",
      "let rec rainfall (alon : float list) =\n",
      "  (match alon with\n",
      "   | [] -> failwith \"no proper rainfall amounts\"\n",
      "   | _::_ ->\n",
      "       (List.fold_right (+.) (help alon) 0.) /.\n",
      "         (float_of_int (List.length (help alon))) : float)\n",
      "\n",
      "==============================\n",
      "let rec _rainfall (alon : int list) =\n",
      "  (match alon with\n",
      "   | [] -> []\n",
      "   | (-999)::tl -> []\n",
      "   | hd::tl -> if hd >= 0 then hd :: (_rainfall tl) else _rainfall tl : \n",
      "  int list)\n",
      "let rainfall (alon : int list) =\n",
      "  (match alon with\n",
      "   | [] -> 0\n",
      "   | hd::tl ->\n",
      "       (List.fold_right (+) (_rainfall alon) 0) /\n",
      "         (List.length (_rainfall alon)) : int)\n",
      "\n",
      "==============================\n",
      "let rainfall (alon : int list) =\n",
      "  (let rec rainfall_helper (alon : int list) =\n",
      "     (match alon with\n",
      "      | [] -> []\n",
      "      | hd::tl -> if hd = (-999) then [] else hd :: (rainfall_helper tl) : \n",
      "     int list) in\n",
      "   List.fold_right (+) (List.filter (fun x -> x > 0) (rainfall_helper alon))\n",
      "     0 : int)\n",
      "\n",
      "==============================\n",
      "let rec rainfall_helper (alon : int list) =\n",
      "  (match alon with\n",
      "   | []|(-999)::_ -> []\n",
      "   | hd::tl ->\n",
      "       let rest = rainfall_helper tl in if hd >= 0 then hd :: rest else rest : \n",
      "  int list)\n",
      "let rainfall (alon : int list) =\n",
      "  (let helper = rainfall_helper alon in\n",
      "   (List.fold_right (+) helper 0) / (List.length helper) : int)\n",
      "\n",
      "==============================\n",
      "let check_expect (code : 'a) (expect : 'a) =\n",
      "  (if code = expect\n",
      "   then Test_Passed\n",
      "   else Test_Failed ((Actual_Result code), (Expected_Result expect)) : \n",
      "  'a check_result)\n",
      "let rainfall (alon : int list) =\n",
      "  (let rec rainfall_helper (alon : int list) =\n",
      "     match alon with\n",
      "     | [] -> []\n",
      "     | hd::tl ->\n",
      "         if hd = (-999)\n",
      "         then []\n",
      "         else\n",
      "           if hd < 0 then rainfall_helper tl else hd :: (rainfall_helper tl) in\n",
      "   let avg_list = rainfall_helper alon in\n",
      "   if (List.length avg_list) = 0\n",
      "   then failwith \"empty data set\"\n",
      "   else (List.fold_right (+) avg_list 0) / (List.length avg_list) : int)\n",
      "\n",
      "==============================\n",
      "let rec rainfall (alon : int list) =\n",
      "  (let valid_list = build_valid_list alon in\n",
      "   if (List.length valid_list) > 0\n",
      "   then (add_all valid_list) / (List.length valid_list)\n",
      "   else 0 : int)\n",
      "and add_all (alon : int list) =\n",
      "  (match alon with | [] -> 0 | hd::tl -> hd + (add_all tl) : int)\n",
      "and build_valid_list (alon : int list) =\n",
      "  (match alon with\n",
      "   | [] -> []\n",
      "   | hd::tl ->\n",
      "       (match hd with\n",
      "        | (-999) -> []\n",
      "        | x when x > 0 -> x :: (build_valid_list tl)\n",
      "        | neg_x -> build_valid_list tl) : int list)\n",
      "\n",
      "==============================\n",
      "let rec rain_helper (rain_list : int list) =\n",
      "  (match rain_list with\n",
      "   | [] -> []\n",
      "   | (-999)::tl -> []\n",
      "   | num::tl -> if num >= 0 then num :: (rain_helper tl) else rain_helper tl : \n",
      "  int list)\n",
      "let rainfall (rain_list : int list) =\n",
      "  (let usable_rain = rain_helper rain_list in\n",
      "   if rain_list = []\n",
      "   then failwith \"You should seriously consider entering actual data.\"\n",
      "   else\n",
      "     if usable_rain = []\n",
      "     then\n",
      "       failwith\n",
      "         \"Dividing by zero? Not on my watch! Enter at least one non-negative number, plz.\"\n",
      "     else (List.fold_left (+) 0 usable_rain) / (List.length usable_rain) : \n",
      "  int)\n",
      "\n",
      "==============================\n",
      "let rainfall (alon : float list) =\n",
      "  (let rec _rainfall (test : float list) (acc : float list) =\n",
      "     match test with\n",
      "     | [] ->\n",
      "         failwith\n",
      "           \"_rainfall's recursion reached an empty list. Either input was an empty list, or no -999 was included.\"\n",
      "     | hd::tl ->\n",
      "         if hd = (-999.)\n",
      "         then acc\n",
      "         else if hd < 0. then _rainfall tl acc else _rainfall tl (hd :: acc) in\n",
      "   let posnums = _rainfall alon [] in\n",
      "   (List.fold_right (fun x -> fun y -> x +. y) posnums 0.) /.\n",
      "     (float_of_int (List.length posnums)) : float)\n",
      "let rainfall2 (alon : float list) =\n",
      "  (let rec _rainfall2 (numlist : float list) (total : float) (counter : int)\n",
      "     =\n",
      "     (match numlist with\n",
      "      | [] ->\n",
      "          failwith\n",
      "            \"_rainfall2's recursion reached an empty list. Either input was an empty list, or no -999 was included.\"\n",
      "      | hd::tl ->\n",
      "          if hd = (-999.)\n",
      "          then total /. (float_of_int counter)\n",
      "          else\n",
      "            if hd < 0.\n",
      "            then _rainfall2 tl total counter\n",
      "            else _rainfall2 tl (hd +. total) (counter + 1) : float) in\n",
      "   _rainfall2 alon 0. 0 : float)\n",
      "\n",
      "==============================\n",
      "let rec rainfall_helper (alon : int list) =\n",
      "  match alon with\n",
      "  | [] -> []\n",
      "  | h::t when h = (-999) -> []\n",
      "  | h::t when h > 0 -> h :: (rainfall_helper t)\n",
      "  | h::t when h <= 0 -> rainfall_helper t\n",
      "  | _ -> failwith \"Not really possible, but it makes cases exahustive.\"\n",
      "let rainfall (alon : int list) =\n",
      "  match alon with\n",
      "  | [] -> 0\n",
      "  | _ ->\n",
      "      (List.fold_right (+) (rainfall_helper alon) 0) /\n",
      "        (List.length (rainfall_helper alon))\n",
      "\n",
      "==============================\n",
      "let rec filt (alon : int list) =\n",
      "  (match alon with\n",
      "   | [] -> []\n",
      "   | hd::tl ->\n",
      "       (match hd with\n",
      "        | (-999) -> []\n",
      "        | num when num < 0 -> filt tl\n",
      "        | num when num >= 0 -> hd :: (filt tl)) : int list)\n",
      "let rec rainfall (alon : int list) =\n",
      "  (let filtered_list = filt alon in\n",
      "   if filtered_list = []\n",
      "   then failwith \"No valid amounts entered\"\n",
      "   else\n",
      "     (List.fold_left (fun x -> fun y -> x + y) 0 filtered_list) /\n",
      "       (List.length filtered_list) : int)\n",
      "\n",
      "==============================\n",
      "let rainfall_averager (alon : int list) =\n",
      "  (if alon = [] then 0 else (List.fold_left (+) 0 alon) / (List.length alon) : \n",
      "  int)\n",
      "let rec rainfall_list_creator (alon : int list) =\n",
      "  (match alon with\n",
      "   | [] -> []\n",
      "   | hd::tl ->\n",
      "       if hd = (-999)\n",
      "       then []\n",
      "       else\n",
      "         if hd >= 0\n",
      "         then hd :: (rainfall_list_creator tl)\n",
      "         else rainfall_list_creator tl : int list)\n",
      "let rainfall (alot : int list) =\n",
      "  (rainfall_averager (rainfall_list_creator alot) : int)\n",
      "\n",
      "==============================\n",
      "let rec rhelper (l : float list) =\n",
      "  (match l with\n",
      "   | [] -> []\n",
      "   | hd::tl ->\n",
      "       (match hd with\n",
      "        | (-999.0) -> []\n",
      "        | x when x >= 0.0 -> x :: (rhelper tl)\n",
      "        | x when x < 0.0 -> rhelper tl\n",
      "        | _ -> failwith \"this shouldn't be necessary\") : float list)\n",
      "let rainfall (rlist : float list) =\n",
      "  (let newr = rhelper rlist in\n",
      "   match newr with\n",
      "   | [] -> failwith \"no value to return\"\n",
      "   | hd::tl ->\n",
      "       (List.fold_right (+.) newr 0.0) /. (float_of_int (List.length newr)) : \n",
      "  float)\n",
      "\n",
      "==============================\n",
      "let rec rainfall_helper (aloi : int list) =\n",
      "  (match aloi with\n",
      "   | [] -> []\n",
      "   | hd::tl ->\n",
      "       if hd >= 0\n",
      "       then hd :: (rainfall_helper tl)\n",
      "       else if hd = (-999) then [] else rainfall_helper tl : int list)\n",
      "let rainfall (aloi : int list) =\n",
      "  (if List.mem (-999) aloi\n",
      "   then\n",
      "     (if (List.length (rainfall_helper aloi)) > 0\n",
      "      then\n",
      "        (List.fold_right (+) (rainfall_helper aloi) 0) /\n",
      "          (List.length (rainfall_helper aloi))\n",
      "      else failwith \"no positive numbers before -999 in this list!\")\n",
      "   else failwith \"-999 is not in this list!\" : int)\n",
      "\n",
      "==============================\n",
      "let rainfall (rain_list : int list) =\n",
      "  (let rec rainfall_helper (rain_list : int list) =\n",
      "     (match rain_list with\n",
      "      | [] -> []\n",
      "      | hd::tl ->\n",
      "          if hd = (-999)\n",
      "          then []\n",
      "          else\n",
      "            if hd >= 0\n",
      "            then hd :: (rainfall_helper tl)\n",
      "            else rainfall_helper tl : int list) in\n",
      "   let filtered_list = rainfall_helper rain_list in\n",
      "   (List.fold_left (+) 0 filtered_list) / (max (List.length filtered_list) 1) : \n",
      "  int)\n",
      "\n",
      "==============================\n",
      "let rec r_helper1 (alon : int list) =\n",
      "  (match alon with\n",
      "   | [] -> []\n",
      "   | hd::tl ->\n",
      "       if hd = (-999)\n",
      "       then []\n",
      "       else if hd >= 0 then hd :: (r_helper1 tl) else r_helper1 tl : \n",
      "  int list)\n",
      "let rec rainfall (alon : int list) =\n",
      "  (match alon with\n",
      "   | [] -> failwith \"no data available\"\n",
      "   | hd::tl ->\n",
      "       if (r_helper1 alon) = []\n",
      "       then failwith \"no data available\"\n",
      "       else\n",
      "         (let add a x = a + x in\n",
      "          (List.fold_left add 0 (r_helper1 alon)) /\n",
      "            (List.length (r_helper1 alon))) : int)\n",
      "\n",
      "==============================\n",
      "let rec rainfall_list (alist : int list) =\n",
      "  (match alist with\n",
      "   | [] -> []\n",
      "   | hd::tl ->\n",
      "       if hd = (-999)\n",
      "       then []\n",
      "       else if hd > 0 then hd :: (rainfall_list tl) else rainfall_list tl : \n",
      "  int list)\n",
      "let rec rainfall_add (alist : int list) =\n",
      "  (match rainfall_list alist with\n",
      "   | [] -> 0\n",
      "   | hd::tl -> hd + (rainfall_add tl) : int)\n",
      "let rainfall (alist : int list) =\n",
      "  (match rainfall_list alist with\n",
      "   | [] -> 0\n",
      "   | hd::tl -> (rainfall_add alist) / (List.length (rainfall_list alist)) : \n",
      "  int)\n",
      "\n",
      "==============================\n",
      "let rainfall (aloi : int list) =\n",
      "  (let rec _rainfall (aloi : int list) =\n",
      "     (match aloi with\n",
      "      | [] -> []\n",
      "      | hd::tl ->\n",
      "          if hd = (-999)\n",
      "          then []\n",
      "          else if hd < 0 then _rainfall tl else hd :: (_rainfall tl) : \n",
      "     int list) in\n",
      "   let aloi2 = _rainfall aloi in\n",
      "   if aloi2 = []\n",
      "   then 0.\n",
      "   else\n",
      "     (float_of_int (List.fold_left (+) 0 aloi2)) /.\n",
      "       (float_of_int (List.length aloi2)) : float)\n",
      "\n",
      "==============================\n",
      "let rec makeit (vals : int list) =\n",
      "  (match vals with\n",
      "   | [] -> []\n",
      "   | (-999)::tl -> []\n",
      "   | hd::tl -> if hd < 0 then makeit tl else hd :: (makeit tl) : int list)\n",
      "let rainfall (vals : int list) =\n",
      "  (let newlist = makeit vals in\n",
      "   (List.fold_right (+) newlist 0) / (List.length newlist) : int)\n",
      "\n",
      "==============================\n",
      "let rainfall (l : int list) =\n",
      "  (let rec rf_search (alon : int list) =\n",
      "     (match alon with\n",
      "      | [] -> []\n",
      "      | hd::tl ->\n",
      "          (match hd with\n",
      "           | (-999) -> []\n",
      "           | n -> if n < 0 then rf_search tl else n :: (rf_search tl)) : \n",
      "     int list) in\n",
      "   let n1 = List.length (rf_search l) in\n",
      "   match n1 with\n",
      "   | 0 -> failwith \"no relevant data points\"\n",
      "   | _ -> (List.fold_right (+) (rf_search l) 0) / n1 : int)\n",
      "\n",
      "==============================\n",
      "let rec rainfall_helper (alon : int list) =\n",
      "  (match alon with\n",
      "   | [] -> []\n",
      "   | hd::tl ->\n",
      "       if hd = (-999)\n",
      "       then []\n",
      "       else if hd < 0 then rainfall_helper tl else hd :: (rainfall_helper tl) : \n",
      "  int list)\n",
      "let rainfall (alon : int list) =\n",
      "  (let nnlist = rainfall_helper alon in\n",
      "   if nnlist = []\n",
      "   then failwith \"No information given\"\n",
      "   else (List.fold_right (+) nnlist 0) / (List.length nnlist) : int)\n",
      "\n",
      "==============================\n",
      "let rec take_condition (pred : int -> bool) (alon : int list) =\n",
      "  (match alon with\n",
      "   | [] -> []\n",
      "   | hd::tl -> if pred hd then hd :: (take_condition pred tl) else [] : \n",
      "  int list)\n",
      "let rainfall (alon : int list) =\n",
      "  (match alon with\n",
      "   | [] -> 0\n",
      "   | hd::tl ->\n",
      "       let pos_list =\n",
      "         List.filter (fun x -> x >= 0)\n",
      "           (take_condition (fun x -> x != (-999)) alon) in\n",
      "       if hd = (-999)\n",
      "       then 0\n",
      "       else (List.fold_left (+) 0 pos_list) / (List.length pos_list) : \n",
      "  int)\n",
      "\n",
      "==============================\n",
      "let rainfall (aloi : int list) =\n",
      "  (let rec helper (aloi2 : int list) =\n",
      "     (match aloi2 with\n",
      "      | [] -> []\n",
      "      | head::tail ->\n",
      "          if head = (-999)\n",
      "          then []\n",
      "          else if head >= 0 then head :: (helper tail) else helper tail : \n",
      "     int list) in\n",
      "   let sumElements = helper aloi in\n",
      "   let listLength = List.length sumElements in\n",
      "   if listLength = 0\n",
      "   then failwith \"List is empty.\"\n",
      "   else (List.fold_right (+) sumElements 0) / listLength : int)\n",
      "\n",
      "==============================\n",
      "let rec rainfall_helper (alof1 : float list) =\n",
      "  (match alof1 with\n",
      "   | [] -> []\n",
      "   | hd::tl ->\n",
      "       (match hd with\n",
      "        | (-999.0) -> rainfall_helper []\n",
      "        | hd when hd < 0.0 -> rainfall_helper tl\n",
      "        | _ -> hd :: (rainfall_helper tl)) : float list)\n",
      "let rec add_list (alof : float list) =\n",
      "  (match alof with | [] -> 0.0 | hd::tl -> hd +. (add_list tl) : float)\n",
      "let rainfall (alof : float list) =\n",
      "  (match alof with\n",
      "   | [] -> 0.0\n",
      "   | _ ->\n",
      "       (add_list (rainfall_helper alof)) /.\n",
      "         (float_of_int (List.length (rainfall_helper alof))) : float)\n",
      "\n",
      "==============================\n",
      "let rec positive lst =\n",
      "  match lst with\n",
      "  | [] -> []\n",
      "  | head::tail ->\n",
      "      (match head with\n",
      "       | (-999) -> []\n",
      "       | x when x > 0 -> head :: (positive tail)\n",
      "       | x when x < 0 -> positive tail)\n",
      "let rec sum_list lst =\n",
      "  match lst with | [] -> 0 | head::tail -> head + (sum_list tail)\n",
      "let rec rainfall lst =\n",
      "  (sum_list (positive lst)) / (List.length (positive lst))\n",
      "\n",
      "==============================\n",
      "let rec rainhelper (alon : int list) =\n",
      "  (match alon with\n",
      "   | [] -> []\n",
      "   | hd::tl ->\n",
      "       if hd = (-999)\n",
      "       then []\n",
      "       else if hd >= 0 then hd :: (rainhelper tl) else rainhelper tl : \n",
      "  int list)\n",
      "let rainfall (alon : int list) =\n",
      "  ((List.fold_left (+) 0 (rainhelper alon)) / (List.length (rainhelper alon)) : \n",
      "  int)\n",
      "\n",
      "==============================\n",
      "let rec rainfall_list (aloi : int list) =\n",
      "  (match aloi with\n",
      "   | [] -> []\n",
      "   | hd::tl when hd = (-999) -> []\n",
      "   | hd::tl when hd < 0 -> rainfall_list tl\n",
      "   | hd::tl when hd >= 0 -> hd :: (rainfall_list tl) : int list)\n",
      "let rainfall (alon : int list) =\n",
      "  (let alor = rainfall_list alon in\n",
      "   match alor with\n",
      "   | [] -> 0\n",
      "   | hd::tl -> (List.fold_left (+) hd tl) / (List.length alor) : int)\n",
      "\n",
      "==============================\n",
      "let rec filter (aloi : int list) =\n",
      "  (match aloi with\n",
      "   | [] -> []\n",
      "   | hd::tl ->\n",
      "       (match hd with\n",
      "        | (-999) -> []\n",
      "        | _ when hd < 0 -> filter tl\n",
      "        | num when num >= 0 -> num :: (filter tl)) : int list)\n",
      "let rainfall (daily_rain : int list) =\n",
      "  (match filter daily_rain with\n",
      "   | [] -> failwith \"expecting data from at least one day\"\n",
      "   | aloi -> (List.fold_right (+) aloi 0) / (List.length aloi) : int)\n",
      "\n",
      "==============================\n",
      "let rec rainfall_helper (alon : int list) =\n",
      "  (match alon with\n",
      "   | [] -> []\n",
      "   | hd::tl ->\n",
      "       if hd >= 0\n",
      "       then hd :: (rainfall_helper tl)\n",
      "       else if hd = (-999) then [] else rainfall_helper tl : int list)\n",
      "let rainfall (alon : int list) =\n",
      "  (match alon with\n",
      "   | [] -> 0\n",
      "   | _::_ ->\n",
      "       (List.fold_right (+) (rainfall_helper alon) 0) /\n",
      "         (List.length (rainfall_helper alon)) : int)\n",
      "\n",
      "==============================\n",
      "let rec rainfall_helper (alon : int list) =\n",
      "  (match alon with\n",
      "   | [] -> []\n",
      "   | (-999)::tl -> []\n",
      "   | hd::tl ->\n",
      "       if hd > 0 then hd :: (rainfall_helper tl) else rainfall_helper tl : \n",
      "  int list)\n",
      "let rainfall (alon : int list) =\n",
      "  (match alon with\n",
      "   | [] -> 0\n",
      "   | hd::tl ->\n",
      "       if (rainfall_helper alon) = []\n",
      "       then 0\n",
      "       else\n",
      "         (List.fold_right (+) (rainfall_helper alon) 0) /\n",
      "           (List.length (rainfall_helper alon)) : int)\n",
      "\n",
      "==============================\n",
      "let listav (alof : float list) =\n",
      "  (let rec _listav (alof : float list) (acc : float) =\n",
      "     match alof with | [] -> acc | hd::tl -> _listav tl (hd +. acc) in\n",
      "   (_listav alof 0.) /. (float_of_int (List.length alof)) : float)\n",
      "let rec take_while_not_nines (hd::tl : 'a list) =\n",
      "  (if hd = (-999.0) then [] else hd :: (take_while_not_nines tl) : 'a list)\n",
      "let rainfall (alof : float list) =\n",
      "  (match alof with\n",
      "   | [] -> 0.0\n",
      "   | hd::tl ->\n",
      "       listav (List.filter (fun x -> x > 0.0) (take_while_not_nines alof)) : \n",
      "  float)\n",
      "\n",
      "==============================\n",
      "let rec get_data (alof : float list) =\n",
      "  (match alof with\n",
      "   | [] -> []\n",
      "   | hd::tl ->\n",
      "       if hd = (-999.)\n",
      "       then []\n",
      "       else if hd < 0. then get_data tl else hd :: (get_data tl) : float list)\n",
      "let rainfall_average (alof : float list) =\n",
      "  (match alof with\n",
      "   | [] -> failwith \"cannot average empty list\"\n",
      "   | _ -> (List.fold_right (+.) alof 0.) /. (float_of_int (List.length alof)) : \n",
      "  float)\n",
      "let rainfall (alof : float list) = (rainfall_average (get_data alof) : float)\n",
      "\n",
      "==============================\n",
      "let rainfall (alor : int list) =\n",
      "  (let rec _rainfall (alor : int list) (accumulator : int list) =\n",
      "     (match alor with\n",
      "      | [] -> failwith \"Does not include data of interest\"\n",
      "      | (-999)::tl ->\n",
      "          (List.fold_left (+) 0 accumulator) / (List.length accumulator)\n",
      "      | x::tl when x >= 0 -> _rainfall tl (x :: accumulator)\n",
      "      | x::tl when x < 0 -> _rainfall tl accumulator : int) in\n",
      "   _rainfall alor [] : int)\n",
      "\n",
      "==============================\n",
      "let rainfall (alon : int list) =\n",
      "  (let rec positives (alon : int list) =\n",
      "     (match alon with\n",
      "      | [] ->\n",
      "          failwith\n",
      "            \"Error: Expected the number '-999' to signal the end of the data.\"\n",
      "      | hd::tl ->\n",
      "          if hd > 0\n",
      "          then hd :: (positives tl)\n",
      "          else if hd == (-999) then [] else positives tl : int list) in\n",
      "   let positive_list = positives alon in\n",
      "   if (List.length positive_list) == 0\n",
      "   then failwith \"Error: There was no valid data in this list.\"\n",
      "   else (List.fold_right (+) positive_list 0) / (List.length positive_list) : \n",
      "  int)\n",
      "\n",
      "==============================\n",
      "let rec rainfall (alon : int list) =\n",
      "  (let rec helper_chooselist (alon2 : int list) =\n",
      "     (match alon2 with\n",
      "      | [] -> []\n",
      "      | hd1::tl1 ->\n",
      "          if hd1 >= 0\n",
      "          then hd1 :: (helper_chooselist tl1)\n",
      "          else if hd1 = (-999) then [] else helper_chooselist tl1 : int list) in\n",
      "   match alon with\n",
      "   | [] -> 0\n",
      "   | hd::tl ->\n",
      "       (List.fold_left (+) 0 (helper_chooselist alon)) /\n",
      "         (List.length (helper_chooselist alon)) : int)\n",
      "\n",
      "==============================\n",
      "let rec take (lst : 'a list) (proc : 'a -> bool) =\n",
      "  (match lst with\n",
      "   | [] -> []\n",
      "   | hd::tl -> if proc hd then [] else hd :: (take tl proc) : 'a list)\n",
      "let rec filter (lst : 'a list) (proc : 'a -> bool) =\n",
      "  (match lst with\n",
      "   | [] -> []\n",
      "   | hd::tl -> if proc hd then hd :: (filter tl proc) else filter tl proc : \n",
      "  'a list)\n",
      "let rec listsum (lst : int list) =\n",
      "  (match lst with | [] -> 0 | hd::tl -> hd + (listsum tl) : int)\n",
      "let rec length (lst : 'a list) =\n",
      "  (match lst with | [] -> 0 | hd::tl -> 1 + (length tl) : int)\n",
      "let rec rainfall (lst : int list) =\n",
      "  (let newlist = take lst (fun x -> x = (-999)) in\n",
      "   let positives = filter newlist (fun x -> x >= 0) in\n",
      "   (listsum positives) / (length positives) : int)\n",
      "\n",
      "==============================\n",
      "let rainfall (aloi : int list) =\n",
      "  (let rec myfilter (l : int list) =\n",
      "     (match l with\n",
      "      | [] -> []\n",
      "      | hd::tl ->\n",
      "          if hd >= 0\n",
      "          then hd :: (myfilter tl)\n",
      "          else if hd = (-999) then [] else myfilter tl : int list) in\n",
      "   let a = myfilter aloi in\n",
      "   (List.fold_left (fun x -> fun y -> x + y) 0 a) / (List.length a) : \n",
      "  int)\n",
      "\n",
      "==============================\n",
      "let rainfall (alon : int list) =\n",
      "  (let rec rainHelp (a : int list) =\n",
      "     (match a with\n",
      "      | [] -> []\n",
      "      | hd::tl ->\n",
      "          if hd < 0\n",
      "          then (if hd = (-999) then [] else rainHelp tl)\n",
      "          else hd :: (rainHelp tl) : int list) in\n",
      "   let rec rainHelp2 (l : int list) =\n",
      "     (match l with\n",
      "      | [] -> failwith \"there are no values before the value '-999'\"\n",
      "      | x::[] -> x\n",
      "      | hd::tl -> hd + (rainHelp2 tl) : int) in\n",
      "   (rainHelp2 (rainHelp alon)) / (List.length (rainHelp alon)) : int)\n",
      "\n",
      "==============================\n",
      "let average (alon : int list) =\n",
      "  (let rec average_helper (alon : int list) =\n",
      "     (match alon with | [] -> 0 | hd::tl -> hd + (average_helper tl) : \n",
      "     int) in\n",
      "   (average_helper alon) / (List.length alon) : int)\n",
      "let rec rainfall_helper (alon : int list) =\n",
      "  (match alon with\n",
      "   | [] -> []\n",
      "   | hd::tl ->\n",
      "       if hd = (-999)\n",
      "       then []\n",
      "       else\n",
      "         if hd >= 0 then hd :: (rainfall_helper tl) else rainfall_helper tl : \n",
      "  int list)\n",
      "let rainfall (alon : int list) = (average (rainfall_helper alon) : int)\n",
      "\n",
      "==============================\n",
      "let rec rainfall_sum (alod : int list) =\n",
      "  (match alod with | [] -> 0 | hd::tl -> hd + (rainfall_sum tl) : int)\n",
      "let rainfall (alod : int list) =\n",
      "  (let pos_list = List.filter (fun x -> x >= 0) alod in\n",
      "   match pos_list with\n",
      "   | [] -> failwith \"No positive integers in this list\"\n",
      "   | hd::tl -> (rainfall_sum pos_list) / (List.length pos_list) : int)\n",
      "\n",
      "==============================\n",
      "let rec rainfall_helper (rain : int list) =\n",
      "  (match rain with\n",
      "   | [] -> []\n",
      "   | hd::tl when hd = (-999) -> []\n",
      "   | hd::tl when hd < 0 -> rainfall_helper tl\n",
      "   | hd::tl when hd >= 0 -> hd :: (rainfall_helper tl)\n",
      "   | hd::tl -> failwith \"this should never happen\" : int list)\n",
      "let rainfall (rain : int list) =\n",
      "  (let rain1 = rainfall_helper rain in\n",
      "   match List.length rain1 with\n",
      "   | 0 -> 0\n",
      "   | n -> (List.fold_right (+) rain1 0) / n : int)\n",
      "\n",
      "==============================\n",
      "let rec cut_list (a : int list) =\n",
      "  (match a with\n",
      "   | [] -> []\n",
      "   | hd::tl -> if hd <> (-999) then hd :: (cut_list tl) else [] : int list)\n",
      "let non_neg (a : int list) = (List.filter (fun x -> x > 0) a : int list)\n",
      "let average (a : int list) =\n",
      "  ((List.fold_right (fun x -> fun _val -> x + _val) a 0) / (List.length a) : \n",
      "  int)\n",
      "let lab11 (a : int list) = (average (non_neg (cut_list a)) : int)\n",
      "\n",
      "==============================\n",
      "let rainfall (alon : int list) =\n",
      "  (let average_list (_alon : int list) =\n",
      "     (if (List.length _alon) = 0\n",
      "      then failwith \"No data\"\n",
      "      else (List.fold_right (+) _alon 0) / (List.length _alon) : int) in\n",
      "   let rec desired_list (alon_ : int list) =\n",
      "     (match alon_ with\n",
      "      | [] -> []\n",
      "      | hd::tl ->\n",
      "          if hd >= 0\n",
      "          then hd :: (desired_list tl)\n",
      "          else if hd = (-999) then [] else desired_list tl : int list) in\n",
      "   average_list (desired_list alon) : int)\n",
      "\n",
      "==============================\n",
      "let rec extract (aloi : int list) =\n",
      "  (match aloi with\n",
      "   | [] -> []\n",
      "   | (-999)::tl -> []\n",
      "   | hd::tl -> if hd >= 0 then hd :: (extract tl) else extract tl : int list)\n",
      "let rainfall (aloi : int list) =\n",
      "  (if (List.length (extract aloi)) = 0\n",
      "   then failwith \"no positive integers in list\"\n",
      "   else (List.fold_right (+) (extract aloi) 0) / (List.length (extract aloi)) : \n",
      "  int)\n",
      "\n",
      "==============================\n"
     ]
    }
   ],
   "source": [
    "for item in unknown_student_dataset.dataset:\n",
    "    if item['labels'].item() == 0:\n",
    "        print(item['source'])\n",
    "        print('='*30)"
   ]
  },
  {
   "cell_type": "code",
   "execution_count": 9,
   "metadata": {},
   "outputs": [],
   "source": [
    "N = 1000\n",
    "K = 1\n",
    "\n",
    "def build(i):\n",
    "    set_random_seed(i)\n",
    "    return build_synthetic_dataset(\n",
    "        label_set=Labels, \n",
    "        N=N, \n",
    "        tokenizer=OCamlTokenizer(), \n",
    "        generator=ProgramGenerator(Program()),\n",
    "        vocab_index=known_student_dataset.vocab_index,\n",
    "        unique=True)\n",
    "\n",
    "synthetic_datasets = [build(0)] #par_for(build, range(K), process=False, workers=1)\n",
    "synthetic_dataset = synthetic_datasets[0]\n",
    "synth_small_dataset = synthetic_dataset.subset(200)"
   ]
  },
  {
   "cell_type": "code",
   "execution_count": 6,
   "metadata": {},
   "outputs": [],
   "source": [
    "def resample(N):\n",
    "    all_idxs = []\n",
    "    for lbl in synthetic_dataset.label_set:\n",
    "        idxs = [i for i, item in enumerate(synthetic_dataset.dataset) if item['labels'].item() == int(lbl)]\n",
    "        all_idxs.extend(np.random.choice(idxs, N))\n",
    "    return dataclasses.replace(synthetic_dataset, dataset=Subset(synthetic_dataset.dataset, all_idxs))\n",
    "\n",
    "synthetic_balance = resample(120)"
   ]
  },
  {
   "cell_type": "code",
   "execution_count": 94,
   "metadata": {},
   "outputs": [],
   "source": [
    "model_opts = {\n",
    "    'model': nn.LSTM,\n",
    "    'hidden_size': 2048,\n",
    "    'embedding_size': 128\n",
    "}\n",
    "\n",
    "combined_synth_student = concat_datasets(known_student_dataset, synthetic_dataset)\n",
    "combined_synthsmall_student = concat_datasets(known_student_dataset, synth_small_dataset)\n",
    "\n",
    "def train(train_dataset, lr, model_opts, epochs=100):\n",
    "    set_random_seed(0)\n",
    "\n",
    "    trainer = ClassifierTrainer(\n",
    "        dataset=train_dataset,\n",
    "        device=device, \n",
    "        split=TrainVal(\n",
    "            dataset=train_dataset, val_dataset=known_student_dataset), \n",
    "        model_opts=model_opts,\n",
    "        optim_opts={'lr': lr})\n",
    "\n",
    "    losses = []\n",
    "    train_eval = []\n",
    "    known_val_eval = []\n",
    "    unknown_val_eval = []\n",
    "\n",
    "    for _ in tqdm(range(epochs)):\n",
    "        loss = trainer.train_one_epoch()\n",
    "        losses.append(loss)\n",
    "        train, val = trainer.eval()\n",
    "        train_eval.append(train)\n",
    "        known_val_eval.append(val)\n",
    "        trainer.model.eval()\n",
    "        unknown_val_eval.append(trainer.eval_on(unknown_student_dataset.loader(unknown_student_dataset.dataset)))\n",
    "        trainer.model.train()\n",
    "    \n",
    "    return losses, train_eval, known_val_eval, unknown_val_eval"
   ]
  },
  {
   "cell_type": "code",
   "execution_count": 401,
   "metadata": {},
   "outputs": [
    {
     "data": {
      "application/vnd.jupyter.widget-view+json": {
       "model_id": "e9aad3cdabff4331af89186c4e4bf676",
       "version_major": 2,
       "version_minor": 0
      },
      "text/plain": [
       "HBox(children=(IntProgress(value=0), HTML(value='')))"
      ]
     },
     "metadata": {},
     "output_type": "display_data"
    }
   ],
   "source": [
    "losses, train_eval, known_student_eval, unknown_student_eval = train(\n",
    "    known_student_dataset, lr=1e-4, model_opts=model_opts)"
   ]
  },
  {
   "cell_type": "code",
   "execution_count": 402,
   "metadata": {},
   "outputs": [
    {
     "data": {
      "text/plain": [
       "<matplotlib.axes._subplots.AxesSubplot at 0x7fb812f7d710>"
      ]
     },
     "execution_count": 402,
     "metadata": {},
     "output_type": "execute_result"
    },
    {
     "data": {
      "image/png": "[encoded data removed]",
      "text/plain": [
       "<Figure size 432x288 with 1 Axes>"
      ]
     },
     "metadata": {
      "needs_background": "light"
     },
     "output_type": "display_data"
    }
   ],
   "source": [
    "plot_loss(losses)"
   ]
  },
  {
   "cell_type": "code",
   "execution_count": 403,
   "metadata": {},
   "outputs": [
    {
     "name": "stdout",
     "output_type": "stream",
     "text": [
      "Max unk acc:  0.8791208791208791\n"
     ]
    },
    {
     "data": {
      "image/png": "[encoded data removed]",
      "text/plain": [
       "<Figure size 432x288 with 1 Axes>"
      ]
     },
     "metadata": {
      "needs_background": "light"
     },
     "output_type": "display_data"
    }
   ],
   "source": [
    "ax = plot_accuracy(train_eval, label='train')\n",
    "plot_accuracy(known_student_eval, ax=ax, label='val_known')\n",
    "plot_accuracy(unknown_student_eval, ax=ax, label='val_unknown')\n",
    "ax.legend()\n",
    "print('Max unk acc: ', max([evl.accuracy for evl in unknown_student_eval]))"
   ]
  },
  {
   "cell_type": "code",
   "execution_count": 409,
   "metadata": {
    "scrolled": true
   },
   "outputs": [
    {
     "data": {
      "application/vnd.jupyter.widget-view+json": {
       "model_id": "8615443955294463b951d35110e8eff9",
       "version_major": 2,
       "version_minor": 0
      },
      "text/plain": [
       "HBox(children=(IntProgress(value=0, max=32), HTML(value='')))"
      ]
     },
     "metadata": {},
     "output_type": "display_data"
    },
    {
     "data": {
      "application/vnd.jupyter.widget-view+json": {
       "model_id": "dc01ba5fcae447ad880d19c1a4c5f907",
       "version_major": 2,
       "version_minor": 0
      },
      "text/plain": [
       "HBox(children=(IntProgress(value=0, max=50), HTML(value='')))"
      ]
     },
     "metadata": {},
     "output_type": "display_data"
    },
    {
     "data": {
      "application/vnd.jupyter.widget-view+json": {
       "model_id": "d58d96f2e7344a95ab40f21598cbbd3f",
       "version_major": 2,
       "version_minor": 0
      },
      "text/plain": [
       "HBox(children=(IntProgress(value=0, max=50), HTML(value='')))"
      ]
     },
     "metadata": {},
     "output_type": "display_data"
    },
    {
     "data": {
      "application/vnd.jupyter.widget-view+json": {
       "model_id": "f6f718360cc8448a905aa40764f3820e",
       "version_major": 2,
       "version_minor": 0
      },
      "text/plain": [
       "HBox(children=(IntProgress(value=0, max=50), HTML(value='')))"
      ]
     },
     "metadata": {},
     "output_type": "display_data"
    },
    {
     "data": {
      "application/vnd.jupyter.widget-view+json": {
       "model_id": "3b8ca67d546c42fcabc60c4c75b44106",
       "version_major": 2,
       "version_minor": 0
      },
      "text/plain": [
       "HBox(children=(IntProgress(value=0, max=50), HTML(value='')))"
      ]
     },
     "metadata": {},
     "output_type": "display_data"
    },
    {
     "data": {
      "application/vnd.jupyter.widget-view+json": {
       "model_id": "e6dbaa60beea4aff88824ba56aae1cbf",
       "version_major": 2,
       "version_minor": 0
      },
      "text/plain": [
       "HBox(children=(IntProgress(value=0, max=50), HTML(value='')))"
      ]
     },
     "metadata": {},
     "output_type": "display_data"
    },
    {
     "data": {
      "application/vnd.jupyter.widget-view+json": {
       "model_id": "bc53da4b5c514e96a602881f9740b754",
       "version_major": 2,
       "version_minor": 0
      },
      "text/plain": [
       "HBox(children=(IntProgress(value=0, max=50), HTML(value='')))"
      ]
     },
     "metadata": {},
     "output_type": "display_data"
    },
    {
     "data": {
      "application/vnd.jupyter.widget-view+json": {
       "model_id": "5e23c69875734c6490c3aedeafac3d1a",
       "version_major": 2,
       "version_minor": 0
      },
      "text/plain": [
       "HBox(children=(IntProgress(value=0, max=50), HTML(value='')))"
      ]
     },
     "metadata": {},
     "output_type": "display_data"
    },
    {
     "data": {
      "application/vnd.jupyter.widget-view+json": {
       "model_id": "0f8b91e1fad646a9b139e2ecef6f3f63",
       "version_major": 2,
       "version_minor": 0
      },
      "text/plain": [
       "HBox(children=(IntProgress(value=0, max=50), HTML(value='')))"
      ]
     },
     "metadata": {},
     "output_type": "display_data"
    },
    {
     "data": {
      "application/vnd.jupyter.widget-view+json": {
       "model_id": "9c9d8c10da1744fd9a8171e27e4dc6b9",
       "version_major": 2,
       "version_minor": 0
      },
      "text/plain": [
       "HBox(children=(IntProgress(value=0, max=50), HTML(value='')))"
      ]
     },
     "metadata": {},
     "output_type": "display_data"
    },
    {
     "data": {
      "application/vnd.jupyter.widget-view+json": {
       "model_id": "3c3f5be8716e4e989a0133734d468cf1",
       "version_major": 2,
       "version_minor": 0
      },
      "text/plain": [
       "HBox(children=(IntProgress(value=0, max=50), HTML(value='')))"
      ]
     },
     "metadata": {},
     "output_type": "display_data"
    },
    {
     "data": {
      "application/vnd.jupyter.widget-view+json": {
       "model_id": "f74c3b4ebe52421ca5bede6e334d542c",
       "version_major": 2,
       "version_minor": 0
      },
      "text/plain": [
       "HBox(children=(IntProgress(value=0, max=50), HTML(value='')))"
      ]
     },
     "metadata": {},
     "output_type": "display_data"
    },
    {
     "data": {
      "application/vnd.jupyter.widget-view+json": {
       "model_id": "46eb5d46add24a5d8c8f06c82c9557ab",
       "version_major": 2,
       "version_minor": 0
      },
      "text/plain": [
       "HBox(children=(IntProgress(value=0, max=50), HTML(value='')))"
      ]
     },
     "metadata": {},
     "output_type": "display_data"
    },
    {
     "data": {
      "application/vnd.jupyter.widget-view+json": {
       "model_id": "2d0b273a99e74603bbb7b70c4fac7ab4",
       "version_major": 2,
       "version_minor": 0
      },
      "text/plain": [
       "HBox(children=(IntProgress(value=0, max=50), HTML(value='')))"
      ]
     },
     "metadata": {},
     "output_type": "display_data"
    },
    {
     "data": {
      "application/vnd.jupyter.widget-view+json": {
       "model_id": "e611c1409806432d8f57f9951c0b3c2d",
       "version_major": 2,
       "version_minor": 0
      },
      "text/plain": [
       "HBox(children=(IntProgress(value=0, max=50), HTML(value='')))"
      ]
     },
     "metadata": {},
     "output_type": "display_data"
    },
    {
     "ename": "KeyboardInterrupt",
     "evalue": "",
     "output_type": "error",
     "traceback": [
      "\u001b[0;31m---------------------------------------------------------------------------\u001b[0m",
      "\u001b[0;31mKeyboardInterrupt\u001b[0m                         Traceback (most recent call last)",
      "\u001b[0;32m<ipython-input-409-26b33c3adc5d>\u001b[0m in \u001b[0;36m<module>\u001b[0;34m\u001b[0m\n\u001b[1;32m      7\u001b[0m all_synth_results = [\n\u001b[1;32m      8\u001b[0m     \u001b[0mtrain\u001b[0m\u001b[0;34m(\u001b[0m\u001b[0msynthetic_dataset\u001b[0m\u001b[0;34m,\u001b[0m \u001b[0mmodel_opts\u001b[0m\u001b[0;34m=\u001b[0m\u001b[0mopts\u001b[0m\u001b[0;34m,\u001b[0m \u001b[0mlr\u001b[0m\u001b[0;34m=\u001b[0m\u001b[0;36m3e-5\u001b[0m\u001b[0;34m,\u001b[0m \u001b[0mepochs\u001b[0m\u001b[0;34m=\u001b[0m\u001b[0;36m50\u001b[0m\u001b[0;34m)\u001b[0m\u001b[0;34m\u001b[0m\u001b[0;34m\u001b[0m\u001b[0m\n\u001b[0;32m----> 9\u001b[0;31m     \u001b[0;32mfor\u001b[0m \u001b[0mopts\u001b[0m \u001b[0;32min\u001b[0m \u001b[0mtqdm\u001b[0m\u001b[0;34m(\u001b[0m\u001b[0moption_combinations\u001b[0m\u001b[0;34m(\u001b[0m\u001b[0mmodel_options\u001b[0m\u001b[0;34m)\u001b[0m\u001b[0;34m)\u001b[0m\u001b[0;34m\u001b[0m\u001b[0;34m\u001b[0m\u001b[0m\n\u001b[0m\u001b[1;32m     10\u001b[0m ]\n",
      "\u001b[0;32m<ipython-input-409-26b33c3adc5d>\u001b[0m in \u001b[0;36m<listcomp>\u001b[0;34m(.0)\u001b[0m\n\u001b[1;32m      7\u001b[0m all_synth_results = [\n\u001b[1;32m      8\u001b[0m     \u001b[0mtrain\u001b[0m\u001b[0;34m(\u001b[0m\u001b[0msynthetic_dataset\u001b[0m\u001b[0;34m,\u001b[0m \u001b[0mmodel_opts\u001b[0m\u001b[0;34m=\u001b[0m\u001b[0mopts\u001b[0m\u001b[0;34m,\u001b[0m \u001b[0mlr\u001b[0m\u001b[0;34m=\u001b[0m\u001b[0;36m3e-5\u001b[0m\u001b[0;34m,\u001b[0m \u001b[0mepochs\u001b[0m\u001b[0;34m=\u001b[0m\u001b[0;36m50\u001b[0m\u001b[0;34m)\u001b[0m\u001b[0;34m\u001b[0m\u001b[0;34m\u001b[0m\u001b[0m\n\u001b[0;32m----> 9\u001b[0;31m     \u001b[0;32mfor\u001b[0m \u001b[0mopts\u001b[0m \u001b[0;32min\u001b[0m \u001b[0mtqdm\u001b[0m\u001b[0;34m(\u001b[0m\u001b[0moption_combinations\u001b[0m\u001b[0;34m(\u001b[0m\u001b[0mmodel_options\u001b[0m\u001b[0;34m)\u001b[0m\u001b[0;34m)\u001b[0m\u001b[0;34m\u001b[0m\u001b[0;34m\u001b[0m\u001b[0m\n\u001b[0m\u001b[1;32m     10\u001b[0m ]\n",
      "\u001b[0;32m<ipython-input-342-d4ce1f0076c4>\u001b[0m in \u001b[0;36mtrain\u001b[0;34m(train_dataset, lr, model_opts, epochs)\u001b[0m\n\u001b[1;32m     27\u001b[0m         \u001b[0mloss\u001b[0m \u001b[0;34m=\u001b[0m \u001b[0mtrainer\u001b[0m\u001b[0;34m.\u001b[0m\u001b[0mtrain_one_epoch\u001b[0m\u001b[0;34m(\u001b[0m\u001b[0;34m)\u001b[0m\u001b[0;34m\u001b[0m\u001b[0;34m\u001b[0m\u001b[0m\n\u001b[1;32m     28\u001b[0m         \u001b[0mlosses\u001b[0m\u001b[0;34m.\u001b[0m\u001b[0mappend\u001b[0m\u001b[0;34m(\u001b[0m\u001b[0mloss\u001b[0m\u001b[0;34m)\u001b[0m\u001b[0;34m\u001b[0m\u001b[0;34m\u001b[0m\u001b[0m\n\u001b[0;32m---> 29\u001b[0;31m         \u001b[0mtrain\u001b[0m\u001b[0;34m,\u001b[0m \u001b[0mval\u001b[0m \u001b[0;34m=\u001b[0m \u001b[0mtrainer\u001b[0m\u001b[0;34m.\u001b[0m\u001b[0meval\u001b[0m\u001b[0;34m(\u001b[0m\u001b[0;34m)\u001b[0m\u001b[0;34m\u001b[0m\u001b[0;34m\u001b[0m\u001b[0m\n\u001b[0m\u001b[1;32m     30\u001b[0m         \u001b[0mtrain_eval\u001b[0m\u001b[0;34m.\u001b[0m\u001b[0mappend\u001b[0m\u001b[0;34m(\u001b[0m\u001b[0mtrain\u001b[0m\u001b[0;34m)\u001b[0m\u001b[0;34m\u001b[0m\u001b[0;34m\u001b[0m\u001b[0m\n\u001b[1;32m     31\u001b[0m         \u001b[0mknown_val_eval\u001b[0m\u001b[0;34m.\u001b[0m\u001b[0mappend\u001b[0m\u001b[0;34m(\u001b[0m\u001b[0mval\u001b[0m\u001b[0;34m)\u001b[0m\u001b[0;34m\u001b[0m\u001b[0;34m\u001b[0m\u001b[0m\n",
      "\u001b[0;32m~/autoplan/autoplan/trainer.py\u001b[0m in \u001b[0;36meval\u001b[0;34m(self)\u001b[0m\n\u001b[1;32m     54\u001b[0m     \u001b[0;32mdef\u001b[0m \u001b[0meval\u001b[0m\u001b[0;34m(\u001b[0m\u001b[0mself\u001b[0m\u001b[0;34m)\u001b[0m\u001b[0;34m:\u001b[0m\u001b[0;34m\u001b[0m\u001b[0;34m\u001b[0m\u001b[0m\n\u001b[1;32m     55\u001b[0m         \u001b[0mself\u001b[0m\u001b[0;34m.\u001b[0m\u001b[0mmodel\u001b[0m\u001b[0;34m.\u001b[0m\u001b[0meval\u001b[0m\u001b[0;34m(\u001b[0m\u001b[0;34m)\u001b[0m\u001b[0;34m\u001b[0m\u001b[0;34m\u001b[0m\u001b[0m\n\u001b[0;32m---> 56\u001b[0;31m         \u001b[0mtrain_eval\u001b[0m \u001b[0;34m=\u001b[0m \u001b[0mself\u001b[0m\u001b[0;34m.\u001b[0m\u001b[0meval_on\u001b[0m\u001b[0;34m(\u001b[0m\u001b[0mself\u001b[0m\u001b[0;34m.\u001b[0m\u001b[0mtrain_loader\u001b[0m\u001b[0;34m)\u001b[0m\u001b[0;34m\u001b[0m\u001b[0;34m\u001b[0m\u001b[0m\n\u001b[0m\u001b[1;32m     57\u001b[0m         \u001b[0mval_eval\u001b[0m \u001b[0;34m=\u001b[0m \u001b[0mself\u001b[0m\u001b[0;34m.\u001b[0m\u001b[0meval_on\u001b[0m\u001b[0;34m(\u001b[0m\u001b[0mself\u001b[0m\u001b[0;34m.\u001b[0m\u001b[0mval_loader\u001b[0m\u001b[0;34m)\u001b[0m\u001b[0;34m\u001b[0m\u001b[0;34m\u001b[0m\u001b[0m\n\u001b[1;32m     58\u001b[0m         \u001b[0mself\u001b[0m\u001b[0;34m.\u001b[0m\u001b[0mmodel\u001b[0m\u001b[0;34m.\u001b[0m\u001b[0mtrain\u001b[0m\u001b[0;34m(\u001b[0m\u001b[0;34m)\u001b[0m\u001b[0;34m\u001b[0m\u001b[0;34m\u001b[0m\u001b[0m\n",
      "\u001b[0;32m~/autoplan/autoplan/trainer.py\u001b[0m in \u001b[0;36meval_on\u001b[0;34m(self, loader)\u001b[0m\n\u001b[1;32m    148\u001b[0m         \u001b[0mtrue\u001b[0m \u001b[0;34m=\u001b[0m \u001b[0;34m[\u001b[0m\u001b[0;34m]\u001b[0m\u001b[0;34m\u001b[0m\u001b[0;34m\u001b[0m\u001b[0m\n\u001b[1;32m    149\u001b[0m         \u001b[0mpred\u001b[0m \u001b[0;34m=\u001b[0m \u001b[0;34m[\u001b[0m\u001b[0;34m]\u001b[0m\u001b[0;34m\u001b[0m\u001b[0;34m\u001b[0m\u001b[0m\n\u001b[0;32m--> 150\u001b[0;31m         \u001b[0;32mfor\u001b[0m \u001b[0mbatch\u001b[0m \u001b[0;32min\u001b[0m \u001b[0mloader\u001b[0m\u001b[0;34m:\u001b[0m\u001b[0;34m\u001b[0m\u001b[0;34m\u001b[0m\u001b[0m\n\u001b[0m\u001b[1;32m    151\u001b[0m             \u001b[0mtrue\u001b[0m\u001b[0;34m.\u001b[0m\u001b[0mextend\u001b[0m\u001b[0;34m(\u001b[0m\u001b[0mbatch\u001b[0m\u001b[0;34m[\u001b[0m\u001b[0;34m'labels'\u001b[0m\u001b[0;34m]\u001b[0m\u001b[0;34m)\u001b[0m\u001b[0;34m\u001b[0m\u001b[0;34m\u001b[0m\u001b[0m\n\u001b[1;32m    152\u001b[0m             \u001b[0mpred\u001b[0m\u001b[0;34m.\u001b[0m\u001b[0mextend\u001b[0m\u001b[0;34m(\u001b[0m\u001b[0mself\u001b[0m\u001b[0;34m.\u001b[0m\u001b[0mpredict\u001b[0m\u001b[0;34m(\u001b[0m\u001b[0mbatch\u001b[0m\u001b[0;34m[\u001b[0m\u001b[0;34m'program'\u001b[0m\u001b[0;34m]\u001b[0m\u001b[0;34m,\u001b[0m \u001b[0mbatch\u001b[0m\u001b[0;34m[\u001b[0m\u001b[0;34m'program_len'\u001b[0m\u001b[0;34m]\u001b[0m\u001b[0;34m)\u001b[0m\u001b[0;34m.\u001b[0m\u001b[0mtolist\u001b[0m\u001b[0;34m(\u001b[0m\u001b[0;34m)\u001b[0m\u001b[0;34m)\u001b[0m\u001b[0;34m\u001b[0m\u001b[0;34m\u001b[0m\u001b[0m\n",
      "\u001b[0;32m~/autoplan/.env/lib/python3.7/site-packages/torch/utils/data/dataloader.py\u001b[0m in \u001b[0;36m__next__\u001b[0;34m(self)\u001b[0m\n\u001b[1;32m    558\u001b[0m         \u001b[0;32mif\u001b[0m \u001b[0mself\u001b[0m\u001b[0;34m.\u001b[0m\u001b[0mnum_workers\u001b[0m \u001b[0;34m==\u001b[0m \u001b[0;36m0\u001b[0m\u001b[0;34m:\u001b[0m  \u001b[0;31m# same-process loading\u001b[0m\u001b[0;34m\u001b[0m\u001b[0;34m\u001b[0m\u001b[0m\n\u001b[1;32m    559\u001b[0m             \u001b[0mindices\u001b[0m \u001b[0;34m=\u001b[0m \u001b[0mnext\u001b[0m\u001b[0;34m(\u001b[0m\u001b[0mself\u001b[0m\u001b[0;34m.\u001b[0m\u001b[0msample_iter\u001b[0m\u001b[0;34m)\u001b[0m  \u001b[0;31m# may raise StopIteration\u001b[0m\u001b[0;34m\u001b[0m\u001b[0;34m\u001b[0m\u001b[0m\n\u001b[0;32m--> 560\u001b[0;31m             \u001b[0mbatch\u001b[0m \u001b[0;34m=\u001b[0m \u001b[0mself\u001b[0m\u001b[0;34m.\u001b[0m\u001b[0mcollate_fn\u001b[0m\u001b[0;34m(\u001b[0m\u001b[0;34m[\u001b[0m\u001b[0mself\u001b[0m\u001b[0;34m.\u001b[0m\u001b[0mdataset\u001b[0m\u001b[0;34m[\u001b[0m\u001b[0mi\u001b[0m\u001b[0;34m]\u001b[0m \u001b[0;32mfor\u001b[0m \u001b[0mi\u001b[0m \u001b[0;32min\u001b[0m \u001b[0mindices\u001b[0m\u001b[0;34m]\u001b[0m\u001b[0;34m)\u001b[0m\u001b[0;34m\u001b[0m\u001b[0;34m\u001b[0m\u001b[0m\n\u001b[0m\u001b[1;32m    561\u001b[0m             \u001b[0;32mif\u001b[0m \u001b[0mself\u001b[0m\u001b[0;34m.\u001b[0m\u001b[0mpin_memory\u001b[0m\u001b[0;34m:\u001b[0m\u001b[0;34m\u001b[0m\u001b[0;34m\u001b[0m\u001b[0m\n\u001b[1;32m    562\u001b[0m                 \u001b[0mbatch\u001b[0m \u001b[0;34m=\u001b[0m \u001b[0m_utils\u001b[0m\u001b[0;34m.\u001b[0m\u001b[0mpin_memory\u001b[0m\u001b[0;34m.\u001b[0m\u001b[0mpin_memory_batch\u001b[0m\u001b[0;34m(\u001b[0m\u001b[0mbatch\u001b[0m\u001b[0;34m)\u001b[0m\u001b[0;34m\u001b[0m\u001b[0;34m\u001b[0m\u001b[0m\n",
      "\u001b[0;32m~/autoplan/autoplan/dataset.py\u001b[0m in \u001b[0;36m_collate\u001b[0;34m(self, batch)\u001b[0m\n\u001b[1;32m     51\u001b[0m             \u001b[0mmax_len\u001b[0m \u001b[0;34m=\u001b[0m \u001b[0mmax\u001b[0m\u001b[0;34m(\u001b[0m\u001b[0mseq_lens\u001b[0m\u001b[0;34m)\u001b[0m\u001b[0;34m\u001b[0m\u001b[0;34m\u001b[0m\u001b[0m\n\u001b[1;32m     52\u001b[0m             collated[k] = torch.stack(\n\u001b[0;32m---> 53\u001b[0;31m                 [F.pad(seq, [0, max_len - seq.size(0)]) for seq in seqs])\n\u001b[0m\u001b[1;32m     54\u001b[0m             \u001b[0mcollated\u001b[0m\u001b[0;34m[\u001b[0m\u001b[0mk\u001b[0m \u001b[0;34m+\u001b[0m \u001b[0;34m'_len'\u001b[0m\u001b[0;34m]\u001b[0m \u001b[0;34m=\u001b[0m \u001b[0mseq_lens\u001b[0m\u001b[0;34m\u001b[0m\u001b[0;34m\u001b[0m\u001b[0m\n\u001b[1;32m     55\u001b[0m         \u001b[0;32mreturn\u001b[0m \u001b[0mcollated\u001b[0m\u001b[0;34m\u001b[0m\u001b[0;34m\u001b[0m\u001b[0m\n",
      "\u001b[0;32m~/autoplan/autoplan/dataset.py\u001b[0m in \u001b[0;36m<listcomp>\u001b[0;34m(.0)\u001b[0m\n\u001b[1;32m     51\u001b[0m             \u001b[0mmax_len\u001b[0m \u001b[0;34m=\u001b[0m \u001b[0mmax\u001b[0m\u001b[0;34m(\u001b[0m\u001b[0mseq_lens\u001b[0m\u001b[0;34m)\u001b[0m\u001b[0;34m\u001b[0m\u001b[0;34m\u001b[0m\u001b[0m\n\u001b[1;32m     52\u001b[0m             collated[k] = torch.stack(\n\u001b[0;32m---> 53\u001b[0;31m                 [F.pad(seq, [0, max_len - seq.size(0)]) for seq in seqs])\n\u001b[0m\u001b[1;32m     54\u001b[0m             \u001b[0mcollated\u001b[0m\u001b[0;34m[\u001b[0m\u001b[0mk\u001b[0m \u001b[0;34m+\u001b[0m \u001b[0;34m'_len'\u001b[0m\u001b[0;34m]\u001b[0m \u001b[0;34m=\u001b[0m \u001b[0mseq_lens\u001b[0m\u001b[0;34m\u001b[0m\u001b[0;34m\u001b[0m\u001b[0m\n\u001b[1;32m     55\u001b[0m         \u001b[0;32mreturn\u001b[0m \u001b[0mcollated\u001b[0m\u001b[0;34m\u001b[0m\u001b[0;34m\u001b[0m\u001b[0m\n",
      "\u001b[0;31mKeyboardInterrupt\u001b[0m: "
     ]
    }
   ],
   "source": [
    "model_options = [\n",
    "    ('model', [nn.GRU, nn.LSTM]),\n",
    "    ('hidden_size', [32, 128, 512, 2048]),\n",
    "    ('embedding_size', [32, 128, 512, 2048]),\n",
    "]\n",
    "\n",
    "all_synth_results = [\n",
    "    train(synthetic_dataset, model_opts=opts, lr=3e-5, epochs=50)\n",
    "    for opts in tqdm(option_combinations(model_options))\n",
    "]"
   ]
  },
  {
   "cell_type": "code",
   "execution_count": null,
   "metadata": {},
   "outputs": [],
   "source": [
    "sorted([\n",
    "    (opts, max([evl.accuracy for evl in res[3]]))\n",
    "    for opts, res in zip(option_combinations(model_options), all_synth_results)\n",
    "], key=lambda t: -t[1])"
   ]
  },
  {
   "cell_type": "code",
   "execution_count": 21,
   "metadata": {},
   "outputs": [
    {
     "data": {
      "application/vnd.jupyter.widget-view+json": {
       "model_id": "3513027f73774a4998e78eebae69b421",
       "version_major": 2,
       "version_minor": 0
      },
      "text/plain": [
       "HBox(children=(IntProgress(value=0, max=50), HTML(value='')))"
      ]
     },
     "metadata": {},
     "output_type": "display_data"
    }
   ],
   "source": [
    "losses, train_eval, known_student_eval, unknown_student_eval = train(\n",
    "    synthetic_dataset, lr=3e-5, model_opts=model_opts, epochs=50)"
   ]
  },
  {
   "cell_type": "code",
   "execution_count": 22,
   "metadata": {},
   "outputs": [
    {
     "data": {
      "text/plain": [
       "<matplotlib.axes._subplots.AxesSubplot at 0x7f3f6eeed668>"
      ]
     },
     "execution_count": 22,
     "metadata": {},
     "output_type": "execute_result"
    },
    {
     "data": {
      "image/png": "[encoded data removed]",
      "text/plain": [
       "<Figure size 432x288 with 1 Axes>"
      ]
     },
     "metadata": {
      "needs_background": "light"
     },
     "output_type": "display_data"
    }
   ],
   "source": [
    "plot_loss(losses)"
   ]
  },
  {
   "cell_type": "code",
   "execution_count": 23,
   "metadata": {},
   "outputs": [
    {
     "data": {
      "text/plain": [
       "<matplotlib.legend.Legend at 0x7f3f77a959b0>"
      ]
     },
     "execution_count": 23,
     "metadata": {},
     "output_type": "execute_result"
    },
    {
     "data": {
      "image/png": "[encoded data removed]",
      "text/plain": [
       "<Figure size 432x288 with 1 Axes>"
      ]
     },
     "metadata": {
      "needs_background": "light"
     },
     "output_type": "display_data"
    }
   ],
   "source": [
    "ax = plot_accuracy(train_eval, label='train')\n",
    "plot_accuracy(known_student_eval, ax=ax, label='val_known')\n",
    "plot_accuracy(unknown_student_eval, ax=ax, label='val_unknown')\n",
    "ax.legend()"
   ]
  },
  {
   "cell_type": "code",
   "execution_count": 24,
   "metadata": {},
   "outputs": [
    {
     "name": "stdout",
     "output_type": "stream",
     "text": [
      "Overall accuracy: 0.933\n"
     ]
    },
    {
     "data": {
      "image/png": "[encoded data removed]",
      "text/plain": [
       "<Figure size 432x288 with 2 Axes>"
      ]
     },
     "metadata": {
      "needs_background": "light"
     },
     "output_type": "display_data"
    }
   ],
   "source": [
    "best_known_eval = known_student_eval[np.argmax([evl.accuracy for evl in known_student_eval])]\n",
    "print('Overall accuracy: {:.3f}'.format(best_known_eval.accuracy))\n",
    "best_known_eval.plot_cm('')"
   ]
  },
  {
   "cell_type": "code",
   "execution_count": 25,
   "metadata": {},
   "outputs": [
    {
     "name": "stdout",
     "output_type": "stream",
     "text": [
      "Overall accuracy: 0.890\n"
     ]
    },
    {
     "data": {
      "image/png": "[encoded data removed]",
      "text/plain": [
       "<Figure size 432x288 with 2 Axes>"
      ]
     },
     "metadata": {
      "needs_background": "light"
     },
     "output_type": "display_data"
    }
   ],
   "source": [
    "best_unknown_eval = unknown_student_eval[np.argmax([evl.accuracy for evl in unknown_student_eval])]\n",
    "print('Overall accuracy: {:.3f}'.format(best_unknown_eval.accuracy))\n",
    "best_unknown_eval.plot_cm('')"
   ]
  },
  {
   "cell_type": "code",
   "execution_count": 323,
   "metadata": {
    "scrolled": true
   },
   "outputs": [
    {
     "name": "stdout",
     "output_type": "stream",
     "text": [
      "let average_rainfall (alon : int list) =\n",
      "  (let rainsum =\n",
      "     List.fold_right\n",
      "       (fun el ->\n",
      "          fun next ->\n",
      "            if el = (-999) then 0 else if el < 0 then next else el + next)\n",
      "       alon 0\n",
      "   and data =\n",
      "     List.length\n",
      "       (List.fold_right\n",
      "          (fun el ->\n",
      "             fun next ->\n",
      "               if el = (-999)\n",
      "               then []\n",
      "               else if el < 0 then next else el :: next) alon []) in\n",
      "   if data = 0 then 0 else rainsum / data : int)\n",
      "\n",
      "True:  GeneralRainfallLabels.CleanInSC\n",
      "Pred:  GeneralRainfallLabels.SingleLoop\n",
      "==============================\n",
      "\n",
      "\n",
      "let rec rainfall (alon : int list) =\n",
      "  (let rec takewhile (alonh : int list) =\n",
      "     (match alonh with\n",
      "      | [] -> []\n",
      "      | hd::tl -> if not (hd = (-999)) then hd :: (takewhile tl) else [] : \n",
      "     int list) in\n",
      "   let length = List.length (List.filter (fun x -> x >= 0) (takewhile alon)) in\n",
      "   match length with\n",
      "   | 0 -> failwith \"division by zero.\"\n",
      "   | _ ->\n",
      "       (List.fold_right (+) (List.filter (fun x -> x >= 0) (takewhile alon))\n",
      "          0)\n",
      "         / length : int)\n",
      "\n",
      "True:  GeneralRainfallLabels.CleanInSC\n",
      "Pred:  GeneralRainfallLabels.CleanFirst\n",
      "==============================\n",
      "\n",
      "\n",
      "let sum_list (aloi : int list) =\n",
      "  (let rec _sum (aloi : int list) (acc : int) =\n",
      "     match aloi with\n",
      "     | [] -> acc\n",
      "     | hd::tl when hd < 0 -> if hd = (-999) then acc else _sum tl acc\n",
      "     | hd::tl -> _sum tl (hd + acc) in\n",
      "   _sum aloi 0 : int)\n",
      "let rec list_length (aloi : int list) (acc : int) =\n",
      "  (match aloi with\n",
      "   | [] -> acc\n",
      "   | hd::tl when hd < 0 -> if hd = (-999) then acc else list_length tl acc\n",
      "   | hd::tl -> list_length tl (acc + 1) : int)\n",
      "let rainfall (aloi : int list) =\n",
      "  (let l = list_length aloi 0 in let s = sum_list aloi in s / l : int)\n",
      "\n",
      "True:  GeneralRainfallLabels.CleanInSC\n",
      "Pred:  GeneralRainfallLabels.SingleLoop\n",
      "==============================\n",
      "\n",
      "\n",
      "let rec rainfall (alist : int list) =\n",
      "  (let hd::tl = alist in if hd = (-999) then 0 else (hd + (rainfall tl)) / 2 : \n",
      "  int)\n",
      "\n",
      "True:  GeneralRainfallLabels.SingleLoop\n",
      "Pred:  GeneralRainfallLabels.CleanInSC\n",
      "==============================\n",
      "\n",
      "\n",
      "let rainfall (aloi : int list) =\n",
      "  (let rec helper (aloi : int list) =\n",
      "     match aloi with | (-999)::_|[] -> 0 | hd::tl -> hd + (helper tl) in\n",
      "   let rec helper2 (aloi : int list) =\n",
      "     match aloi with | (-999)::_|[] -> [] | hd::tl -> hd :: (helper2 tl) in\n",
      "   (helper aloi) / (List.length (helper2 aloi)) : int)\n",
      "\n",
      "True:  GeneralRainfallLabels.CleanInSC\n",
      "Pred:  GeneralRainfallLabels.CleanFirst\n",
      "==============================\n",
      "\n",
      "\n",
      "let rec take (lst : 'a list) (proc : 'a -> bool) =\n",
      "  (match lst with\n",
      "   | [] -> []\n",
      "   | hd::tl -> if proc hd then [] else hd :: (take tl proc) : 'a list)\n",
      "let rec filter (lst : 'a list) (proc : 'a -> bool) =\n",
      "  (match lst with\n",
      "   | [] -> []\n",
      "   | hd::tl -> if proc hd then hd :: (filter tl proc) else filter tl proc : \n",
      "  'a list)\n",
      "let rec listsum (lst : int list) =\n",
      "  (match lst with | [] -> 0 | hd::tl -> hd + (listsum tl) : int)\n",
      "let rec length (lst : 'a list) =\n",
      "  (match lst with | [] -> 0 | hd::tl -> 1 + (length tl) : int)\n",
      "let rec rainfall (lst : int list) =\n",
      "  (let newlist = take lst (fun x -> x = (-999)) in\n",
      "   let positives = filter newlist (fun x -> x >= 0) in\n",
      "   (listsum positives) / (length positives) : int)\n",
      "\n",
      "True:  GeneralRainfallLabels.CleanFirst\n",
      "Pred:  GeneralRainfallLabels.CleanInSC\n",
      "==============================\n",
      "\n",
      "\n",
      "let rainfall (aloi : float list) =\n",
      "  (let rec _rainfall (aloi : float list) (sum : float) (number : int) =\n",
      "     (match aloi with\n",
      "      | [] -> sum /. (float_of_int number)\n",
      "      | (-999.)::tl -> sum /. (float_of_int number)\n",
      "      | hd::tl ->\n",
      "          if hd < 0.\n",
      "          then _rainfall tl sum number\n",
      "          else _rainfall tl (hd +. sum) (number + 1) : float) in\n",
      "   if (List.hd aloi) = (-999.)\n",
      "   then failwith \"no data to be analyzed\"\n",
      "   else _rainfall aloi 0. 0 : float)\n",
      "\n",
      "True:  GeneralRainfallLabels.SingleLoop\n",
      "Pred:  GeneralRainfallLabels.CleanFirst\n",
      "==============================\n",
      "\n",
      "\n",
      "let rec total (l : int list) =\n",
      "  (match l with\n",
      "   | [] -> (0, 0)\n",
      "   | (-999)::tl -> (0, 0)\n",
      "   | hd::[] -> if hd >= 0 then (hd, 1) else (0, 0)\n",
      "   | hd::tl ->\n",
      "       if hd >= 0\n",
      "       then ((hd + (fst (total tl))), (1 + (snd (total tl))))\n",
      "       else ((fst (total tl)), (snd (total tl))) : (int * int))\n",
      "let rainfall (l : int list) =\n",
      "  (if (fst (total l)) = 0 then 0 else (fst (total l)) / (snd (total l)) : \n",
      "  int)\n",
      "\n",
      "True:  GeneralRainfallLabels.SingleLoop\n",
      "Pred:  GeneralRainfallLabels.CleanInSC\n",
      "==============================\n",
      "\n",
      "\n",
      "let rec rainfall_helper (rain : int list) =\n",
      "  (match rain with\n",
      "   | [] -> []\n",
      "   | hd::tl when hd = (-999) -> []\n",
      "   | hd::tl when hd < 0 -> rainfall_helper tl\n",
      "   | hd::tl when hd >= 0 -> hd :: (rainfall_helper tl)\n",
      "   | hd::tl -> failwith \"this should never happen\" : int list)\n",
      "let rainfall (rain : int list) =\n",
      "  (let rain1 = rainfall_helper rain in\n",
      "   match List.length rain1 with\n",
      "   | 0 -> 0\n",
      "   | n -> (List.fold_right (+) rain1 0) / n : int)\n",
      "\n",
      "True:  GeneralRainfallLabels.CleanFirst\n",
      "Pred:  GeneralRainfallLabels.CleanInSC\n",
      "==============================\n",
      "\n",
      "\n",
      "let rec rainfall (alon : float list) =\n",
      "  (let rec rainfall_helper (count : float) (sum : float) (alon2 : float list)\n",
      "     =\n",
      "     match alon2 with\n",
      "     | [] -> sum /. count\n",
      "     | hd::tl ->\n",
      "         (match hd with\n",
      "          | n when n >= 0. -> rainfall_helper (count +. 1.) (sum +. n) tl\n",
      "          | n when (n < 0.) && (not (n = (-999.))) ->\n",
      "              rainfall_helper count sum tl\n",
      "          | n when n = (-999.) -> rainfall_helper count sum []) in\n",
      "   rainfall_helper 0. 0. alon : float)\n",
      "\n",
      "True:  GeneralRainfallLabels.SingleLoop\n",
      "Pred:  GeneralRainfallLabels.CleanFirst\n",
      "==============================\n",
      "\n",
      "\n"
     ]
    }
   ],
   "source": [
    "for idx in best_unknown_eval.incorrect():\n",
    "    item = unknown_student_dataset.dataset[idx]\n",
    "    print(item['source'])\n",
    "    print('True: ', Labels(best_unknown_eval.true[idx]))\n",
    "    print('Pred: ', Labels(best_unknown_eval.pred[idx]))\n",
    "    print('='*30 + '\\n\\n')"
   ]
  },
  {
   "cell_type": "code",
   "execution_count": 14,
   "metadata": {},
   "outputs": [
    {
     "data": {
      "application/vnd.jupyter.widget-view+json": {
       "model_id": "f11a357e82af40c18116c9e7fbee9252",
       "version_major": 2,
       "version_minor": 0
      },
      "text/plain": [
       "HBox(children=(IntProgress(value=0, max=91), HTML(value='')))"
      ]
     },
     "metadata": {},
     "output_type": "display_data"
    }
   ],
   "source": [
    "import nltk\n",
    "\n",
    "def compute_dist(student_item):\n",
    "    return [\n",
    "        nltk.edit_distance(student_item['program'], synth_item['program'])\n",
    "        for j, synth_item in tqdm(enumerate(synthetic_dataset.dataset))\n",
    "    ]\n",
    "\n",
    "dists = par_for(compute_dist, unknown_student_dataset.dataset, process=True)"
   ]
  },
  {
   "cell_type": "code",
   "execution_count": 16,
   "metadata": {},
   "outputs": [],
   "source": [
    "dist_matrix = np.vstack([np.array(l) for l in dists])"
   ]
  },
  {
   "cell_type": "code",
   "execution_count": 56,
   "metadata": {},
   "outputs": [],
   "source": [
    "all_mins = np.percentile(dist_matrix, 25, axis=1)\n",
    "\n",
    "incor_mins = np.percentile(dist_matrix[best_unknown_eval.incorrect(), :], 25, axis=1)"
   ]
  },
  {
   "cell_type": "code",
   "execution_count": 61,
   "metadata": {},
   "outputs": [
    {
     "name": "stdout",
     "output_type": "stream",
     "text": [
      "1\n",
      "0 76.0982800982801\n",
      "1 61.06467661691542\n",
      "2 69.25255102040816\n",
      "==============================\n",
      "1\n",
      "0 77.41523341523342\n",
      "1 77.92039800995025\n",
      "2 79.27806122448979\n",
      "==============================\n",
      "1\n",
      "0 104.004914004914\n",
      "1 89.95522388059702\n",
      "2 100.16326530612245\n",
      "==============================\n",
      "2\n",
      "0 83.37837837837837\n",
      "1 74.34328358208955\n",
      "2 63.79081632653061\n",
      "==============================\n",
      "1\n",
      "0 72.18181818181819\n",
      "1 63.69651741293532\n",
      "2 66.86479591836735\n",
      "==============================\n",
      "0\n",
      "0 154.3857493857494\n",
      "1 153.0497512437811\n",
      "2 161.46173469387756\n",
      "==============================\n",
      "2\n",
      "0 73.64127764127764\n",
      "1 73.48756218905473\n",
      "2 57.47959183673469\n",
      "==============================\n",
      "2\n",
      "0 95.42506142506143\n",
      "1 101.5273631840796\n",
      "2 104.99489795918367\n",
      "==============================\n",
      "0\n",
      "0 66.28501228501229\n",
      "1 73.29353233830845\n",
      "2 68.67857142857143\n",
      "==============================\n",
      "2\n",
      "0 82.14250614250614\n",
      "1 80.1044776119403\n",
      "2 68.6734693877551\n",
      "==============================\n"
     ]
    }
   ],
   "source": [
    "ds = synthetic_dataset.dataset\n",
    "N = len(ds)\n",
    "plan_idxs = [\n",
    "    [j for j in range(N) if ds[j]['labels'].item() == i]\n",
    "    for i in range(3)\n",
    "]\n",
    "\n",
    "for i in best_unknown_eval.incorrect():\n",
    "    item = unknown_student_dataset.dataset[i]\n",
    "    print(item['labels'].item())\n",
    "    for j in range(3):\n",
    "        print(j, np.mean(dist_matrix[i, plan_idxs[j]]))\n",
    "    print('='*30)\n",
    "    "
   ]
  },
  {
   "cell_type": "code",
   "execution_count": 66,
   "metadata": {},
   "outputs": [],
   "source": [
    "clf = TokenNNClassifier(synthetic_dataset, OCamlTokenizer())"
   ]
  },
  {
   "cell_type": "code",
   "execution_count": 74,
   "metadata": {},
   "outputs": [
    {
     "data": {
      "application/vnd.jupyter.widget-view+json": {
       "model_id": "d77bc5089b8248498cbb3f19ca23ec5c",
       "version_major": 2,
       "version_minor": 0
      },
      "text/plain": [
       "HBox(children=(IntProgress(value=0, max=91), HTML(value='')))"
      ]
     },
     "metadata": {},
     "output_type": "display_data"
    }
   ],
   "source": [
    "programs, _ = clf.compute_programs(unknown_student_dataset)\n",
    "dists = clf.compute_distance_matrix(programs)"
   ]
  },
  {
   "cell_type": "code",
   "execution_count": 131,
   "metadata": {},
   "outputs": [
    {
     "data": {
      "text/plain": [
       "0.8021978021978022"
      ]
     },
     "execution_count": 131,
     "metadata": {},
     "output_type": "execute_result"
    }
   ],
   "source": [
    "clf.eval(unknown_student_dataset, dists, k=10).accuracy"
   ]
  },
  {
   "cell_type": "code",
   "execution_count": 104,
   "metadata": {},
   "outputs": [
    {
     "data": {
      "application/vnd.jupyter.widget-view+json": {
       "model_id": "d24bd686b57249598bfc48c3abaa84c3",
       "version_major": 2,
       "version_minor": 0
      },
      "text/plain": [
       "HBox(children=(IntProgress(value=0, max=1000), HTML(value='')))"
      ]
     },
     "metadata": {},
     "output_type": "display_data"
    }
   ],
   "source": [
    "clf_tree = TreeNNClassifier(synthetic_dataset, OCamlTokenizer())"
   ]
  },
  {
   "cell_type": "code",
   "execution_count": 105,
   "metadata": {},
   "outputs": [
    {
     "data": {
      "text/plain": [
       "1000"
      ]
     },
     "execution_count": 105,
     "metadata": {},
     "output_type": "execute_result"
    }
   ],
   "source": [
    "len(clf_tree.programs)"
   ]
  },
  {
   "cell_type": "code",
   "execution_count": 106,
   "metadata": {},
   "outputs": [
    {
     "data": {
      "application/vnd.jupyter.widget-view+json": {
       "model_id": "3f9838329995497c92ccffeafa0f0a5b",
       "version_major": 2,
       "version_minor": 0
      },
      "text/plain": [
       "HBox(children=(IntProgress(value=0, max=91), HTML(value='')))"
      ]
     },
     "metadata": {},
     "output_type": "display_data"
    }
   ],
   "source": [
    "programs_tree, filtered_ds_tree = clf_tree.compute_programs(unknown_student_dataset)\n"
   ]
  },
  {
   "cell_type": "code",
   "execution_count": 108,
   "metadata": {},
   "outputs": [
    {
     "data": {
      "application/vnd.jupyter.widget-view+json": {
       "model_id": "0235dd1f190048e98ab3f8860b2b5faf",
       "version_major": 2,
       "version_minor": 0
      },
      "text/plain": [
       "HBox(children=(IntProgress(value=0, max=91), HTML(value='')))"
      ]
     },
     "metadata": {},
     "output_type": "display_data"
    }
   ],
   "source": [
    "dists_tree = clf_tree.compute_distance_matrix(programs_tree)"
   ]
  },
  {
   "cell_type": "code",
   "execution_count": 141,
   "metadata": {},
   "outputs": [
    {
     "data": {
      "text/plain": [
       "0.8901098901098901"
      ]
     },
     "execution_count": 141,
     "metadata": {},
     "output_type": "execute_result"
    }
   ],
   "source": [
    "max([clf_tree.eval(unknown_student_dataset, dists_tree, k=k).accuracy for k in range(1, 200, 5)])"
   ]
  },
  {
   "cell_type": "code",
   "execution_count": 132,
   "metadata": {},
   "outputs": [
    {
     "data": {
      "application/vnd.jupyter.widget-view+json": {
       "model_id": "1be908d51c2b463795dcfefe8c905a9f",
       "version_major": 2,
       "version_minor": 0
      },
      "text/plain": [
       "HBox(children=(IntProgress(value=0, max=45), HTML(value='')))"
      ]
     },
     "metadata": {},
     "output_type": "display_data"
    }
   ],
   "source": [
    "clf_tree_small = TreeNNClassifier(known_student_dataset, OCamlTokenizer())"
   ]
  },
  {
   "cell_type": "code",
   "execution_count": 133,
   "metadata": {},
   "outputs": [
    {
     "data": {
      "application/vnd.jupyter.widget-view+json": {
       "model_id": "2dbb21c20fc34998be15526da225659a",
       "version_major": 2,
       "version_minor": 0
      },
      "text/plain": [
       "HBox(children=(IntProgress(value=0, max=91), HTML(value='')))"
      ]
     },
     "metadata": {},
     "output_type": "display_data"
    }
   ],
   "source": [
    "dists_tree_small = clf_tree_small.compute_distance_matrix(programs_tree)"
   ]
  },
  {
   "cell_type": "code",
   "execution_count": 147,
   "metadata": {},
   "outputs": [
    {
     "data": {
      "text/plain": [
       "0.9340659340659341"
      ]
     },
     "execution_count": 147,
     "metadata": {},
     "output_type": "execute_result"
    }
   ],
   "source": [
    "clf_tree_small.eval(unknown_student_dataset, dists_tree_small, k=10).accuracy"
   ]
  }
 ],
 "metadata": {
  "kernelspec": {
   "display_name": "Python 3",
   "language": "python",
   "name": "python3"
  },
  "language_info": {
   "codemirror_mode": {
    "name": "ipython",
    "version": 3
   },
   "file_extension": ".py",
   "mimetype": "text/x-python",
   "name": "python",
   "nbconvert_exporter": "python",
   "pygments_lexer": "ipython3",
   "version": "3.7.2"
  }
 },
 "nbformat": 4,
 "nbformat_minor": 2
}
