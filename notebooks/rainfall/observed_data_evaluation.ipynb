{
 "cells": [
  {
   "cell_type": "code",
   "execution_count": 21,
   "metadata": {},
   "outputs": [],
   "source": [
    "from autoplan.trainer import ParserTrainer, ClassEvaluation, ClassifierTrainer\n",
    "from autoplan.token import OCamlTokenizer\n",
    "from autoplan.vis import plot_accuracy, plot_cm, plot_loss\n",
    "from autoplan.dataset import TrainVal, RandomSplit, build_synthetic_dataset, set_random_seed\n",
    "from autoplan.generator import ProgramGenerator\n",
    "from grammars.rainfall.ocaml2 import Program, Labels\n",
    "from autoplan.parsing import ProgramParser\n",
    "from autoplan.neighbors import TreeNNClassifier\n",
    "\n",
    "import pandas as pd\n",
    "from tqdm.auto import tqdm\n",
    "from scripts.rainfall_ingest import load_full_t1, ingest_dataset, load_new_labels\n",
    "import torch\n",
    "import seaborn as sns\n",
    "from iterextras import par_for\n",
    "from pickle_cache import PickleCache\n",
    "from torch import nn\n",
    "import numpy as np\n",
    "import dataclasses\n",
    "import os\n",
    "\n",
    "pcache = PickleCache()\n",
    "device = torch.device('cuda:7')"
   ]
  },
  {
   "cell_type": "code",
   "execution_count": 2,
   "metadata": {},
   "outputs": [
    {
     "name": "stdout",
     "output_type": "stream",
     "text": [
      "Skipped 16 programs\n"
     ]
    }
   ],
   "source": [
    "known_student_dataset = ingest_dataset('T1')\n",
    "unknown_student_dataset = load_new_labels(known_student_dataset.vocab_index)"
   ]
  },
  {
   "cell_type": "code",
   "execution_count": 7,
   "metadata": {},
   "outputs": [
    {
     "data": {
      "application/vnd.jupyter.widget-view+json": {
       "model_id": "f861b8fe4b06400aaf445b6093ae365f",
       "version_major": 2,
       "version_minor": 0
      },
      "text/plain": [
       "HBox(children=(IntProgress(value=0, max=45), HTML(value='')))"
      ]
     },
     "metadata": {},
     "output_type": "display_data"
    },
    {
     "name": "stdout",
     "output_type": "stream",
     "text": [
      "\n"
     ]
    },
    {
     "data": {
      "application/vnd.jupyter.widget-view+json": {
       "model_id": "9a1630c74ef04e29847dbd3ef605edfb",
       "version_major": 2,
       "version_minor": 0
      },
      "text/plain": [
       "HBox(children=(IntProgress(value=0, max=91), HTML(value='')))"
      ]
     },
     "metadata": {},
     "output_type": "display_data"
    },
    {
     "name": "stdout",
     "output_type": "stream",
     "text": [
      "\n"
     ]
    },
    {
     "data": {
      "application/vnd.jupyter.widget-view+json": {
       "model_id": "363a38c2ac4d4c6dab055e97ab69e4df",
       "version_major": 2,
       "version_minor": 0
      },
      "text/plain": [
       "HBox(children=(IntProgress(value=0, max=91), HTML(value='')))"
      ]
     },
     "metadata": {},
     "output_type": "display_data"
    },
    {
     "name": "stdout",
     "output_type": "stream",
     "text": [
      "\n"
     ]
    }
   ],
   "source": [
    "nn_cls = TreeNNClassifier(known_student_dataset, OCamlTokenizer())\n",
    "nn_unk_prog, nn_unk_ds = nn_cls.compute_programs(unknown_student_dataset)\n",
    "nn_unk_dist = nn_cls.compute_distance_matrix(nn_unk_prog)"
   ]
  },
  {
   "cell_type": "code",
   "execution_count": 15,
   "metadata": {},
   "outputs": [],
   "source": [
    "best_nn_eval = nn_cls.eval(nn_unk_ds, nn_unk_dist)"
   ]
  },
  {
   "cell_type": "code",
   "execution_count": 11,
   "metadata": {},
   "outputs": [
    {
     "data": {
      "application/vnd.jupyter.widget-view+json": {
       "model_id": "81e3df677b5d4e5fb293c638db9ed5ff",
       "version_major": 2,
       "version_minor": 0
      },
      "text/plain": [
       "HBox(children=(IntProgress(value=0), HTML(value='')))"
      ]
     },
     "metadata": {},
     "output_type": "display_data"
    },
    {
     "name": "stdout",
     "output_type": "stream",
     "text": [
      "\n"
     ]
    }
   ],
   "source": [
    "rnn_cls = ClassifierTrainer(\n",
    "    known_student_dataset, \n",
    "    split=TrainVal(known_student_dataset, unknown_student_dataset),\n",
    "    model_opts={'model': nn.LSTM, 'embedding_size': 128, 'hidden_size': 512},\n",
    "    device=device)\n",
    "_1, _2, val_eval, state = rnn_cls.train(epochs=100, progress=True)"
   ]
  },
  {
   "cell_type": "code",
   "execution_count": 14,
   "metadata": {},
   "outputs": [],
   "source": [
    "best_rnn_eval = val_eval[np.argmax([evl.accuracy for evl in val_eval])]"
   ]
  },
  {
   "cell_type": "code",
   "execution_count": 17,
   "metadata": {},
   "outputs": [],
   "source": [
    "# from parser_evaluation.ipynb\n",
    "best_parser_eval = pcache.get('parser_best_eval')"
   ]
  },
  {
   "cell_type": "code",
   "execution_count": 18,
   "metadata": {},
   "outputs": [],
   "source": [
    "all_evals = {\n",
    "    'Nearest-neighbors': best_nn_eval,\n",
    "    'Recurrent neural network': best_rnn_eval,\n",
    "    'Neural approximate parser': best_parser_eval\n",
    "}"
   ]
  },
  {
   "cell_type": "code",
   "execution_count": 25,
   "metadata": {},
   "outputs": [
    {
     "data": {
      "text/plain": [
       "{'Nearest-neighbors': 0.8888888888888888,\n",
       " 'Recurrent neural network': 0.8461538461538461,\n",
       " 'Neural approximate parser': 0.8571428571428571}"
      ]
     },
     "execution_count": 25,
     "metadata": {},
     "output_type": "execute_result"
    }
   ],
   "source": [
    "{k: v.accuracy for k, v in all_evals.items()}"
   ]
  }
 ],
 "metadata": {
  "kernelspec": {
   "display_name": "Python 3",
   "language": "python",
   "name": "python3"
  },
  "language_info": {
   "codemirror_mode": {
    "name": "ipython",
    "version": 3
   },
   "file_extension": ".py",
   "mimetype": "text/x-python",
   "name": "python",
   "nbconvert_exporter": "python",
   "pygments_lexer": "ipython3",
   "version": "3.7.2"
  }
 },
 "nbformat": 4,
 "nbformat_minor": 2
}
