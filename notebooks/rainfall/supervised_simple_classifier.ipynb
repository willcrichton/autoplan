{
 "cells": [
  {
   "cell_type": "markdown",
   "metadata": {},
   "source": [
    "# Supervised simple classifier test\n",
    "\n",
    "This notebook is testing the \"simple classifier\" model on the prelabeled Rainfall data for OCaml. The model has two parts: a recurrent neural network that encodes the token sequence into a latent representation, and a logistic regressor that classifies the latents into a label.\n",
    "\n",
    "Any individual language has relatively few labeled programs (on the order of 50), so our hypothesis is that the model should generalize poorly.\n",
    "\n",
    "First, we set up the imports and dataset."
   ]
  },
  {
   "cell_type": "code",
   "execution_count": 1,
   "metadata": {
    "ExecuteTime": {
     "end_time": "2019-07-25T00:52:43.723883Z",
     "start_time": "2019-07-25T00:52:43.700185Z"
    }
   },
   "outputs": [],
   "source": [
    "%load_ext autoreload\n",
    "%autoreload 2"
   ]
  },
  {
   "cell_type": "code",
   "execution_count": 22,
   "metadata": {
    "ExecuteTime": {
     "end_time": "2019-07-25T01:11:56.283729Z",
     "start_time": "2019-07-25T01:11:56.246068Z"
    }
   },
   "outputs": [],
   "source": [
    "from autoplan.trainer import ClassifierTrainer\n",
    "from autoplan.dataset import PrelabeledDataset\n",
    "from autoplan.vis import plot_accuracy, plot_cm, plot_loss\n",
    "\n",
    "from tqdm import tqdm_notebook as tqdm\n",
    "import pandas as pd\n",
    "import torch\n",
    "import os\n",
    "\n",
    "device = torch.device('cpu')\n",
    "REPO_DIR = os.path.expanduser('~/Code/autoplan')"
   ]
  },
  {
   "cell_type": "code",
   "execution_count": 9,
   "metadata": {
    "ExecuteTime": {
     "end_time": "2019-07-25T01:06:50.408017Z",
     "start_time": "2019-07-25T01:06:50.376616Z"
    }
   },
   "outputs": [],
   "source": [
    "# T1 refers to the OCaml data\n",
    "dataset_name = 'T1'\n",
    "dataset = PrelabeledDataset.load(f'{REPO_DIR}/data/rainfall/{dataset_name}.pkl')"
   ]
  },
  {
   "cell_type": "markdown",
   "metadata": {},
   "source": [
    "## Dataset\n",
    "\n",
    "Each student program has a corresponding token sequence and provided label. An example is shown below."
   ]
  },
  {
   "cell_type": "code",
   "execution_count": 16,
   "metadata": {
    "ExecuteTime": {
     "end_time": "2019-07-25T01:09:01.502880Z",
     "start_time": "2019-07-25T01:09:01.469213Z"
    }
   },
   "outputs": [
    {
     "name": "stdout",
     "output_type": "stream",
     "text": [
      "Total number of programs: 45\n",
      "One example dataset entry:\n",
      "\n",
      "SOURCE:\n",
      "let rec rainfall (alof : float list) =\n",
      "  (let rec sum_helper (alof : float list) (sum : float) (counter : float) =\n",
      "     (match (alof, counter) with\n",
      "      | ([], 0.) -> failwith \"Empty list.\"\n",
      "      | ((-999.)::_, 0.) -> failwith \"Empty list.\"\n",
      "      | ([], _) -> (sum, counter)\n",
      "      | ((-999.)::_, _) -> (sum, counter)\n",
      "      | (hd::tl, _) ->\n",
      "          if hd >= 0.\n",
      "          then sum_helper tl (sum +. hd) (counter +. 1.)\n",
      "          else sum_helper tl sum counter : (float * float)) in\n",
      "   match sum_helper alof 0. 0. with | (s, c) -> s /. c : float)\n",
      "\n",
      "TOKENS:\n",
      "tensor([ 0,  1,  2,  3,  4,  5,  6,  7,  8,  9,  3,  0,  1, 10,  3,  4,  5,  6,\n",
      "         7,  8,  3, 11,  5,  6,  8,  3, 12,  5,  6,  8,  9,  3, 13,  3,  4, 14,\n",
      "        12,  8, 15, 16,  3, 17, 18, 14, 19,  8, 20, 21, 22, 16,  3,  3, 23, 24,\n",
      "         8, 25, 26, 14, 19,  8, 20, 21, 22, 16,  3, 17, 18, 14, 26,  8, 20,  3,\n",
      "        11, 14, 12,  8, 16,  3,  3, 23, 24,  8, 25, 26, 14, 26,  8, 20,  3, 11,\n",
      "        14, 12,  8, 16,  3, 27, 25, 28, 14, 26,  8, 20, 29, 27, 30, 19, 31, 10,\n",
      "        28,  3, 11, 32, 27,  8,  3, 12, 32, 33,  8, 34, 10, 28, 11, 12,  5,  3,\n",
      "         6, 35,  6,  8,  8, 36, 13, 10,  4, 19, 19, 15, 16,  3, 37, 14, 38,  8,\n",
      "        20, 37, 39, 38,  5,  6,  8])\n",
      "LABEL\n",
      "2\n"
     ]
    }
   ],
   "source": [
    "print('Total number of programs: {}'.format(len(dataset.dataset)))\n",
    "print('One example dataset entry:\\n')\n",
    "item = dataset.dataset[0]\n",
    "print('SOURCE:')\n",
    "print(item['source'])\n",
    "print('TOKENS:')\n",
    "print(item['program'])\n",
    "print('LABEL')\n",
    "print(item['labels'].item())"
   ]
  },
  {
   "cell_type": "markdown",
   "metadata": {},
   "source": [
    "## Model training\n",
    "\n",
    "The student data is randomly split into a training and validation set, and the model goes through a standard supervised gradient descent training loop."
   ]
  },
  {
   "cell_type": "code",
   "execution_count": 18,
   "metadata": {
    "ExecuteTime": {
     "end_time": "2019-07-25T01:11:13.156035Z",
     "start_time": "2019-07-25T01:11:13.126337Z"
    }
   },
   "outputs": [],
   "source": [
    "trainer = ClassifierTrainer(dataset, device=device, val_frac=0.3)\n",
    "losses = []\n",
    "train_eval = []\n",
    "val_eval = []"
   ]
  },
  {
   "cell_type": "code",
   "execution_count": 33,
   "metadata": {
    "ExecuteTime": {
     "end_time": "2019-07-25T01:20:00.611305Z",
     "start_time": "2019-07-25T01:19:01.563217Z"
    }
   },
   "outputs": [
    {
     "data": {
      "application/vnd.jupyter.widget-view+json": {
       "model_id": "a1c3797755954ac7b5980910c110ccba",
       "version_major": 2,
       "version_minor": 0
      },
      "text/plain": [
       "HBox(children=(IntProgress(value=0, max=50), HTML(value='')))"
      ]
     },
     "metadata": {},
     "output_type": "display_data"
    },
    {
     "name": "stdout",
     "output_type": "stream",
     "text": [
      "\n"
     ]
    }
   ],
   "source": [
    "for _ in tqdm(range(50)):\n",
    "    losses.append(trainer.train_one_epoch())\n",
    "    train, val = trainer.eval()\n",
    "    train_eval.append(train)\n",
    "    val_eval.append(val)"
   ]
  },
  {
   "cell_type": "markdown",
   "metadata": {},
   "source": [
    "## Evaluation\n",
    "\n",
    "The loss goes down smoothly and bottoms out, suggesting the network has learned as much as it can."
   ]
  },
  {
   "cell_type": "code",
   "execution_count": 35,
   "metadata": {
    "ExecuteTime": {
     "end_time": "2019-07-25T01:20:19.175494Z",
     "start_time": "2019-07-25T01:20:18.954331Z"
    }
   },
   "outputs": [
    {
     "data": {
      "text/plain": [
       "<matplotlib.axes._subplots.AxesSubplot at 0x133d07080>"
      ]
     },
     "execution_count": 35,
     "metadata": {},
     "output_type": "execute_result"
    },
    {
     "data": {
      "image/png": "[encoded data removed]",
      "text/plain": [
       "<Figure size 432x288 with 1 Axes>"
      ]
     },
     "metadata": {
      "needs_background": "light"
     },
     "output_type": "display_data"
    }
   ],
   "source": [
    "plot_loss(losses, title='Classifier loss')"
   ]
  },
  {
   "cell_type": "markdown",
   "metadata": {},
   "source": [
    "The training set accuracy reaches 100%, confirming the previous hypothesis: the network has memorized the training set."
   ]
  },
  {
   "cell_type": "code",
   "execution_count": 36,
   "metadata": {
    "ExecuteTime": {
     "end_time": "2019-07-25T01:20:21.049711Z",
     "start_time": "2019-07-25T01:20:20.843415Z"
    }
   },
   "outputs": [
    {
     "data": {
      "text/plain": [
       "<matplotlib.axes._subplots.AxesSubplot at 0x1350c2eb8>"
      ]
     },
     "execution_count": 36,
     "metadata": {},
     "output_type": "execute_result"
    },
    {
     "data": {
      "image/png": "[encoded data removed]",
      "text/plain": [
       "<Figure size 432x288 with 1 Axes>"
      ]
     },
     "metadata": {
      "needs_background": "light"
     },
     "output_type": "display_data"
    }
   ],
   "source": [
    "plot_accuracy(train_eval, title='Training set accuracy')"
   ]
  },
  {
   "cell_type": "markdown",
   "metadata": {},
   "source": [
    "The validation set accuracy is not great, confirming our hypothesis that the network is not generalizing well."
   ]
  },
  {
   "cell_type": "code",
   "execution_count": 37,
   "metadata": {
    "ExecuteTime": {
     "end_time": "2019-07-25T01:20:23.471879Z",
     "start_time": "2019-07-25T01:20:23.273393Z"
    }
   },
   "outputs": [
    {
     "data": {
      "text/plain": [
       "<matplotlib.axes._subplots.AxesSubplot at 0x135eea710>"
      ]
     },
     "execution_count": 37,
     "metadata": {},
     "output_type": "execute_result"
    },
    {
     "data": {
      "image/png": "[encoded data removed]",
      "text/plain": [
       "<Figure size 432x288 with 1 Axes>"
      ]
     },
     "metadata": {
      "needs_background": "light"
     },
     "output_type": "display_data"
    }
   ],
   "source": [
    "plot_accuracy(val_eval, title='Validation set accuracy')"
   ]
  },
  {
   "cell_type": "markdown",
   "metadata": {},
   "source": [
    "The confusion matrix shows that the network is consistently classifying as one label (clean first)."
   ]
  },
  {
   "cell_type": "code",
   "execution_count": 40,
   "metadata": {
    "ExecuteTime": {
     "end_time": "2019-07-25T01:22:15.650698Z",
     "start_time": "2019-07-25T01:22:15.370229Z"
    }
   },
   "outputs": [
    {
     "data": {
      "image/png": "[encoded data removed]",
      "text/plain": [
       "<Figure size 432x288 with 2 Axes>"
      ]
     },
     "metadata": {
      "needs_background": "light"
     },
     "output_type": "display_data"
    }
   ],
   "source": [
    "val_eval[-1].plot_cm('Validation set confusion matrix')"
   ]
  }
 ],
 "metadata": {
  "kernelspec": {
   "display_name": "Python 3",
   "language": "python",
   "name": "python3"
  },
  "language_info": {
   "codemirror_mode": {
    "name": "ipython",
    "version": 3
   },
   "file_extension": ".py",
   "mimetype": "text/x-python",
   "name": "python",
   "nbconvert_exporter": "python",
   "pygments_lexer": "ipython3",
   "version": "3.7.3"
  },
  "toc": {
   "base_numbering": 1,
   "nav_menu": {},
   "number_sections": true,
   "sideBar": true,
   "skip_h1_title": false,
   "title_cell": "Table of Contents",
   "title_sidebar": "Contents",
   "toc_cell": false,
   "toc_position": {},
   "toc_section_display": true,
   "toc_window_display": false
  },
  "varInspector": {
   "cols": {
    "lenName": 16,
    "lenType": 16,
    "lenVar": 40
   },
   "kernels_config": {
    "python": {
     "delete_cmd_postfix": "",
     "delete_cmd_prefix": "del ",
     "library": "var_list.py",
     "varRefreshCmd": "print(var_dic_list())"
    },
    "r": {
     "delete_cmd_postfix": ") ",
     "delete_cmd_prefix": "rm(",
     "library": "var_list.r",
     "varRefreshCmd": "cat(var_dic_list()) "
    }
   },
   "types_to_exclude": [
    "module",
    "function",
    "builtin_function_or_method",
    "instance",
    "_Feature"
   ],
   "window_display": false
  }
 },
 "nbformat": 4,
 "nbformat_minor": 2
}
