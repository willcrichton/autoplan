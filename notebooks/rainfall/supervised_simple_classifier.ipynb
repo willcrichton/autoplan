{
 "cells": [
  {
   "cell_type": "markdown",
   "metadata": {},
   "source": [
    "# Supervised simple classifier test\n",
    "\n",
    "This notebook is testing the \"simple classifier\" model on the prelabeled Rainfall data for OCaml. The model has two parts: a recurrent neural network that encodes the token sequence into a fixed-size latent representation, and a linear (fully-connected) layer that classifies the latents into a label.\n",
    "\n",
    "First, we set up the imports and dataset."
   ]
  },
  {
   "cell_type": "code",
   "execution_count": 55,
   "metadata": {
    "ExecuteTime": {
     "end_time": "2019-07-25T21:52:20.320304Z",
     "start_time": "2019-07-25T21:52:20.279936Z"
    }
   },
   "outputs": [
    {
     "name": "stdout",
     "output_type": "stream",
     "text": [
      "The autoreload extension is already loaded. To reload it, use:\n",
      "  %reload_ext autoreload\n"
     ]
    }
   ],
   "source": [
    "%load_ext autoreload\n",
    "%autoreload 2"
   ]
  },
  {
   "cell_type": "code",
   "execution_count": 56,
   "metadata": {
    "ExecuteTime": {
     "end_time": "2019-07-25T21:52:20.470252Z",
     "start_time": "2019-07-25T21:52:20.444046Z"
    }
   },
   "outputs": [],
   "source": [
    "import sys\n",
    "sys.path.append('..')"
   ]
  },
  {
   "cell_type": "code",
   "execution_count": 57,
   "metadata": {
    "ExecuteTime": {
     "end_time": "2019-07-25T21:52:20.636312Z",
     "start_time": "2019-07-25T21:52:20.605897Z"
    }
   },
   "outputs": [],
   "source": [
    "from autoplan.trainer import ClassifierTrainer\n",
    "from autoplan.dataset import PrelabeledDataset\n",
    "from autoplan.vis import plot_accuracy, plot_cm, plot_loss\n",
    "from autoplan.token import TokenType\n",
    "from scripts.rainfall_ingest import ingest_dataset\n",
    "\n",
    "from tqdm import tqdm_notebook as tqdm\n",
    "import pandas as pd\n",
    "import torch\n",
    "import os\n",
    "\n",
    "device = torch.device('cpu')\n",
    "REPO_DIR = os.path.expanduser('~/Code/autoplan')"
   ]
  },
  {
   "cell_type": "code",
   "execution_count": 58,
   "metadata": {
    "ExecuteTime": {
     "end_time": "2019-07-25T21:52:22.536025Z",
     "start_time": "2019-07-25T21:52:20.926280Z"
    }
   },
   "outputs": [],
   "source": [
    "# T1 refers to the OCaml data\n",
    "dataset_name = 'T1'\n",
    "dataset = ingest_dataset(dataset_name)"
   ]
  },
  {
   "cell_type": "markdown",
   "metadata": {},
   "source": [
    "## Dataset\n",
    "\n",
    "Each student program has a corresponding token sequence and provided label. The programs are preprocessed to remove any top-level syntax element that isn't a function definition, e.g. test cases and imports. An example is shown below:"
   ]
  },
  {
   "cell_type": "code",
   "execution_count": 59,
   "metadata": {
    "ExecuteTime": {
     "end_time": "2019-07-25T21:52:22.612706Z",
     "start_time": "2019-07-25T21:52:22.588237Z"
    }
   },
   "outputs": [
    {
     "name": "stdout",
     "output_type": "stream",
     "text": [
      "Total number of programs: 45\n",
      "One example dataset entry:\n",
      "\n",
      "SOURCE:\n",
      "let rec rainfall (alon : int list) =\n",
      "  (let rec avg_rain (alon : int list) (sum : int) (count : int) =\n",
      "     (match alon with\n",
      "      | [] -> if count = 0 then 0 else sum / count\n",
      "      | hd::tl ->\n",
      "          if hd > 0\n",
      "          then avg_rain tl (sum + hd) (count + 1)\n",
      "          else\n",
      "            if hd > (-999)\n",
      "            then avg_rain tl sum count\n",
      "            else avg_rain [] sum count : int) in\n",
      "   avg_rain alon 0 0 : int)\n",
      "\n",
      "TOKENS:\n",
      "tensor([ 0,  1,  2,  3,  2,  4,  2,  2,  5,  6,  3,  0,  1,  2,  3,  2,  4,  2,\n",
      "         2,  5,  3,  2,  4,  2,  5,  3,  2,  4,  2,  5,  6,  3,  7,  2,  9, 10,\n",
      "        11, 12, 14, 20,  2,  6, 29, 22, 29, 25,  2, 30,  2, 10,  2, 18,  2, 14,\n",
      "        20,  2, 32, 29, 22,  2,  2,  3,  2, 34,  2,  5,  3,  2, 34, 33,  5, 25,\n",
      "        20,  2, 32,  3, 16, 31,  5, 22,  2,  2,  2,  2, 25,  2, 11, 12,  2,  2,\n",
      "         4,  2,  5, 27,  2,  2, 29, 29,  4,  2,  5])\n",
      "LABEL\n",
      "2\n"
     ]
    }
   ],
   "source": [
    "print('Total number of programs: {}'.format(len(dataset.dataset)))\n",
    "print('One example dataset entry:\\n')\n",
    "item = dataset.dataset[5]\n",
    "print('SOURCE:')\n",
    "print(item['source'])\n",
    "print('TOKENS:')\n",
    "print(item['program'])\n",
    "print('LABEL')\n",
    "print(item['labels'].item())"
   ]
  },
  {
   "cell_type": "markdown",
   "metadata": {},
   "source": [
    "## Training\n",
    "\n",
    "The student data is randomly split into a training and validation set, 50% to each, and the model goes through a standard supervised gradient descent training loop. This is using a mildly-educated default guess for the various hyperparameters (learning rate, model size, etc.)."
   ]
  },
  {
   "cell_type": "code",
   "execution_count": 75,
   "metadata": {
    "ExecuteTime": {
     "end_time": "2019-07-25T22:17:28.482326Z",
     "start_time": "2019-07-25T22:16:11.213595Z"
    }
   },
   "outputs": [
    {
     "name": "stderr",
     "output_type": "stream",
     "text": [
      "100%|██████████| 100/100 [01:17<00:00,  1.49it/s]\n"
     ]
    }
   ],
   "source": [
    "trainer = ClassifierTrainer(dataset, device=device, val_frac=0.5)\n",
    "losses, train_eval, val_eval = trainer.train(epochs=100)"
   ]
  },
  {
   "cell_type": "markdown",
   "metadata": {},
   "source": [
    "## Evaluation\n",
    "\n",
    "The loss goes down smoothly and bottoms out, suggesting the network has learned as much as it can."
   ]
  },
  {
   "cell_type": "code",
   "execution_count": 76,
   "metadata": {
    "ExecuteTime": {
     "end_time": "2019-07-25T22:17:28.727459Z",
     "start_time": "2019-07-25T22:17:28.525051Z"
    }
   },
   "outputs": [
    {
     "data": {
      "text/plain": [
       "<matplotlib.axes._subplots.AxesSubplot at 0x1346f5eb8>"
      ]
     },
     "execution_count": 76,
     "metadata": {},
     "output_type": "execute_result"
    },
    {
     "data": {
      "image/png": "[encoded data removed]",
      "text/plain": [
       "<Figure size 432x288 with 1 Axes>"
      ]
     },
     "metadata": {
      "needs_background": "light"
     },
     "output_type": "display_data"
    }
   ],
   "source": [
    "plot_loss(losses, title='Classifier loss')"
   ]
  },
  {
   "cell_type": "markdown",
   "metadata": {},
   "source": [
    "The training set accuracy reaches 100%, confirming the previous hypothesis: the network has memorized the training set."
   ]
  },
  {
   "cell_type": "code",
   "execution_count": 77,
   "metadata": {
    "ExecuteTime": {
     "end_time": "2019-07-25T22:17:28.960992Z",
     "start_time": "2019-07-25T22:17:28.767552Z"
    }
   },
   "outputs": [
    {
     "data": {
      "text/plain": [
       "<matplotlib.axes._subplots.AxesSubplot at 0x13446ce48>"
      ]
     },
     "execution_count": 77,
     "metadata": {},
     "output_type": "execute_result"
    },
    {
     "data": {
      "image/png": "[encoded data removed]",
      "text/plain": [
       "<Figure size 432x288 with 1 Axes>"
      ]
     },
     "metadata": {
      "needs_background": "light"
     },
     "output_type": "display_data"
    }
   ],
   "source": [
    "plot_accuracy(train_eval, title='Training set accuracy')"
   ]
  },
  {
   "cell_type": "markdown",
   "metadata": {},
   "source": [
    "The validation set accuracy is surprisingly good before the network overfits, reaching about 80%."
   ]
  },
  {
   "cell_type": "code",
   "execution_count": 78,
   "metadata": {
    "ExecuteTime": {
     "end_time": "2019-07-25T22:17:29.197536Z",
     "start_time": "2019-07-25T22:17:29.002328Z"
    }
   },
   "outputs": [
    {
     "data": {
      "text/plain": [
       "<matplotlib.axes._subplots.AxesSubplot at 0x1332942e8>"
      ]
     },
     "execution_count": 78,
     "metadata": {},
     "output_type": "execute_result"
    },
    {
     "data": {
      "image/png": "[encoded data removed]",
      "text/plain": [
       "<Figure size 432x288 with 1 Axes>"
      ]
     },
     "metadata": {
      "needs_background": "light"
     },
     "output_type": "display_data"
    }
   ],
   "source": [
    "plot_accuracy(val_eval, title='Validation set accuracy')"
   ]
  },
  {
   "cell_type": "markdown",
   "metadata": {},
   "source": [
    "Digging in, we show the (unnormalized) confusion matrix for the validation set at the epoch of highest overall validation accuracy. CleanFirst is mis-predicted more than the other classes."
   ]
  },
  {
   "cell_type": "code",
   "execution_count": 79,
   "metadata": {
    "ExecuteTime": {
     "end_time": "2019-07-25T22:17:29.459555Z",
     "start_time": "2019-07-25T22:17:29.239308Z"
    }
   },
   "outputs": [
    {
     "data": {
      "image/png": "[encoded data removed]",
      "text/plain": [
       "<Figure size 432x288 with 2 Axes>"
      ]
     },
     "metadata": {
      "needs_background": "light"
     },
     "output_type": "display_data"
    }
   ],
   "source": [
    "i = np.argmax([eval_.accuracy for eval_ in val_eval])\n",
    "val_eval[i].plot_cm('Validation set confusion matrix', normalize=False)"
   ]
  },
  {
   "cell_type": "markdown",
   "metadata": {},
   "source": [
    "## Conclusion\n",
    "\n",
    "This experiment suggests that the simple classifier approach shows promise. The next step is to do a more careful parameter sweep and ablation study to understand how each hyperparameter and design choice (e.g. tokenization strategy) impacts the final performance."
   ]
  }
 ],
 "metadata": {
  "kernelspec": {
   "display_name": "Python 3",
   "language": "python",
   "name": "python3"
  },
  "language_info": {
   "codemirror_mode": {
    "name": "ipython",
    "version": 3
   },
   "file_extension": ".py",
   "mimetype": "text/x-python",
   "name": "python",
   "nbconvert_exporter": "python",
   "pygments_lexer": "ipython3",
   "version": "3.7.3"
  },
  "toc": {
   "base_numbering": 1,
   "nav_menu": {},
   "number_sections": true,
   "sideBar": true,
   "skip_h1_title": false,
   "title_cell": "Table of Contents",
   "title_sidebar": "Contents",
   "toc_cell": false,
   "toc_position": {},
   "toc_section_display": true,
   "toc_window_display": false
  },
  "varInspector": {
   "cols": {
    "lenName": 16,
    "lenType": 16,
    "lenVar": 40
   },
   "kernels_config": {
    "python": {
     "delete_cmd_postfix": "",
     "delete_cmd_prefix": "del ",
     "library": "var_list.py",
     "varRefreshCmd": "print(var_dic_list())"
    },
    "r": {
     "delete_cmd_postfix": ") ",
     "delete_cmd_prefix": "rm(",
     "library": "var_list.r",
     "varRefreshCmd": "cat(var_dic_list()) "
    }
   },
   "types_to_exclude": [
    "module",
    "function",
    "builtin_function_or_method",
    "instance",
    "_Feature"
   ],
   "window_display": false
  }
 },
 "nbformat": 4,
 "nbformat_minor": 2
}
