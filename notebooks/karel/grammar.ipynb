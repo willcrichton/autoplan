{
 "cells": [
  {
   "cell_type": "code",
   "execution_count": null,
   "metadata": {
    "ExecuteTime": {
     "end_time": "2020-06-18T00:09:53.483530Z",
     "start_time": "2020-06-18T00:09:53.465040Z"
    }
   },
   "outputs": [],
   "source": [
    "%load_ext autoreload\n",
    "%autoreload 2"
   ]
  },
  {
   "cell_type": "code",
   "execution_count": null,
   "metadata": {
    "ExecuteTime": {
     "end_time": "2020-06-18T00:09:54.809081Z",
     "start_time": "2020-06-18T00:09:53.485879Z"
    }
   },
   "outputs": [],
   "source": [
    "import os\n",
    "import javalang\n",
    "from dataclasses import dataclass\n",
    "from tqdm.auto import tqdm\n",
    "from pickle_cache import PickleCache\n",
    "from javalang import tree\n",
    "from pprint import pprint\n",
    "import textwrap\n",
    "import copy\n",
    "from iterextras import par_for, unzip\n",
    "import seaborn as sns\n",
    "import matplotlib.pyplot as plt\n",
    "import numpy as np\n",
    "import pandas as pd\n",
    "from utils import *\n",
    "sns.set()"
   ]
  },
  {
   "cell_type": "code",
   "execution_count": null,
   "metadata": {},
   "outputs": [],
   "source": [
    "solutions = get_solutions()"
   ]
  },
  {
   "cell_type": "code",
   "execution_count": null,
   "metadata": {
    "ExecuteTime": {
     "end_time": "2020-06-18T00:11:35.322247Z",
     "start_time": "2020-06-18T00:11:35.298726Z"
    },
    "scrolled": false
   },
   "outputs": [],
   "source": [
    "# import traceback\n",
    "\n",
    "# inlined = {}    \n",
    "# fail = 0\n",
    "# for student, solns in tqdm(list(solutions.items())):\n",
    "#     try:\n",
    "#         methods = get_methods(solns[-1])\n",
    "#         start = copy.deepcopy(methods['run'])\n",
    "#         inlined[student] = Inline(methods).visit(start).body\n",
    "# #     except RecursionError:\n",
    "# #         pass\n",
    "#     except Exception:\n",
    "#         #traceback.print_exc()\n",
    "#         fail += 1"
   ]
  },
  {
   "cell_type": "code",
   "execution_count": null,
   "metadata": {},
   "outputs": [],
   "source": [
    "grammars = {}\n",
    "for k, solns in tqdm(list(solutions.items())):   \n",
    "    try:\n",
    "        methods = get_methods(solns[-1])\n",
    "        if 'run' not in methods:\n",
    "            continue\n",
    "\n",
    "        generator = GrammarGenerator(k, methods)\n",
    "        generator.generate(methods['run'])\n",
    "        grammars[k] = Grammar(generator.productions)\n",
    "    except (RecursionError, Unimplemented, IndexError):\n",
    "        pass\n",
    "    except Exception:\n",
    "        print(k)\n",
    "        raise"
   ]
  },
  {
   "cell_type": "code",
   "execution_count": null,
   "metadata": {},
   "outputs": [],
   "source": [
    "productions = {k: p for g in grammars.values() for k, p in g.productions.items()}\n",
    "\n",
    "productions['start'] = Production(rules=[\n",
    "    Rule(\n",
    "        parts=[f'{k}_run'],\n",
    "        prob=1. / len(grammars)\n",
    "    )\n",
    "    for k in grammars.keys()\n",
    "])\n",
    "g = Grammar(productions=productions)\n",
    "g, cs = g.simplify()"
   ]
  },
  {
   "cell_type": "code",
   "execution_count": null,
   "metadata": {},
   "outputs": [],
   "source": [
    "p = g.sample()"
   ]
  },
  {
   "cell_type": "code",
   "execution_count": null,
   "metadata": {},
   "outputs": [],
   "source": [
    "p"
   ]
  },
  {
   "cell_type": "code",
   "execution_count": null,
   "metadata": {
    "scrolled": true
   },
   "outputs": [],
   "source": [
    "# Find all \n",
    "groups = sorted(cs.items(), key=lambda t: len(t[1]))[::-1]\n",
    "for k, group in groups[:50]:\n",
    "    other_names = ['_'.join(k2.split('_')[1:]) for k2 in group if '_rule' not in k2]\n",
    "    print(k, len(group), len(other_names), other_names)\n",
    "    pprint(g.expand(k))\n",
    "    print()"
   ]
  },
  {
   "cell_type": "code",
   "execution_count": null,
   "metadata": {},
   "outputs": [],
   "source": [
    "# # Compute overlap in productions between students\n",
    "# N = len(grammars)\n",
    "# dists = np.zeros((N, N))\n",
    "# index = list(grammars.keys())\n",
    "# rev_index = {s: i for i, s in enumerate(index)}\n",
    "\n",
    "# for k1, grammar1 in tqdm(list(grammars.items())):\n",
    "#     for k2, grammar2 in grammars.items():\n",
    "#         count = 0\n",
    "#         grammar1, grammar2 = normalize_grammars(grammar1, grammar2)\n",
    "#         for p1 in grammar1.productions.values():\n",
    "#             for p2 in grammar2.productions.values():\n",
    "#                 if p1 == p2:\n",
    "#                     count += 1\n",
    "#                     break\n",
    "#         dists[rev_index[k1],rev_index[k2]] = count\n",
    "\n",
    "# dists_sorted = np.dstack(np.unravel_index(np.argsort(dists, axis=None), dists.shape))[0,::-1]\n",
    "# dists_sorted = dists_sorted[dists_sorted[:,0] != dists_sorted[:,1]]        "
   ]
  },
  {
   "cell_type": "code",
   "execution_count": null,
   "metadata": {},
   "outputs": [],
   "source": []
  }
 ],
 "metadata": {
  "kernelspec": {
   "display_name": "Python 3",
   "language": "python",
   "name": "python3"
  },
  "language_info": {
   "codemirror_mode": {
    "name": "ipython",
    "version": 3
   },
   "file_extension": ".py",
   "mimetype": "text/x-python",
   "name": "python",
   "nbconvert_exporter": "python",
   "pygments_lexer": "ipython3",
   "version": "3.7.2"
  },
  "toc": {
   "base_numbering": 1,
   "nav_menu": {},
   "number_sections": true,
   "sideBar": true,
   "skip_h1_title": false,
   "title_cell": "Table of Contents",
   "title_sidebar": "Contents",
   "toc_cell": false,
   "toc_position": {},
   "toc_section_display": true,
   "toc_window_display": false
  },
  "varInspector": {
   "cols": {
    "lenName": 16,
    "lenType": 16,
    "lenVar": 40
   },
   "kernels_config": {
    "python": {
     "delete_cmd_postfix": "",
     "delete_cmd_prefix": "del ",
     "library": "var_list.py",
     "varRefreshCmd": "print(var_dic_list())"
    },
    "r": {
     "delete_cmd_postfix": ") ",
     "delete_cmd_prefix": "rm(",
     "library": "var_list.r",
     "varRefreshCmd": "cat(var_dic_list()) "
    }
   },
   "types_to_exclude": [
    "module",
    "function",
    "builtin_function_or_method",
    "instance",
    "_Feature"
   ],
   "window_display": false
  }
 },
 "nbformat": 4,
 "nbformat_minor": 4
}
