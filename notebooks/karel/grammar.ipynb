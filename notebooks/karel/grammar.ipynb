{
 "cells": [
  {
   "cell_type": "code",
   "execution_count": 1,
   "metadata": {
    "ExecuteTime": {
     "end_time": "2020-06-18T00:09:53.483530Z",
     "start_time": "2020-06-18T00:09:53.465040Z"
    }
   },
   "outputs": [],
   "source": [
    "%load_ext autoreload\n",
    "%autoreload 2"
   ]
  },
  {
   "cell_type": "code",
   "execution_count": 2,
   "metadata": {
    "ExecuteTime": {
     "end_time": "2020-06-18T00:09:54.809081Z",
     "start_time": "2020-06-18T00:09:53.485879Z"
    }
   },
   "outputs": [],
   "source": [
    "import os\n",
    "import javalang\n",
    "from dataclasses import dataclass\n",
    "from tqdm.auto import tqdm\n",
    "from pickle_cache import PickleCache\n",
    "from javalang import tree\n",
    "from pprint import pprint\n",
    "import textwrap\n",
    "import copy\n",
    "from iterextras import par_for, unzip\n",
    "import seaborn as sns\n",
    "import matplotlib.pyplot as plt\n",
    "import numpy as np\n",
    "import pandas as pd\n",
    "from utils import *\n",
    "sns.set()"
   ]
  },
  {
   "cell_type": "code",
   "execution_count": 3,
   "metadata": {},
   "outputs": [],
   "source": [
    "solutions = get_solutions()"
   ]
  },
  {
   "cell_type": "code",
   "execution_count": null,
   "metadata": {
    "ExecuteTime": {
     "end_time": "2020-06-18T00:11:35.322247Z",
     "start_time": "2020-06-18T00:11:35.298726Z"
    },
    "scrolled": false
   },
   "outputs": [],
   "source": [
    "# import traceback\n",
    "\n",
    "# inlined = {}    \n",
    "# fail = 0\n",
    "# for student, solns in tqdm(list(solutions.items())):\n",
    "#     try:\n",
    "#         methods = get_methods(solns[-1])\n",
    "#         start = copy.deepcopy(methods['run'])\n",
    "#         inlined[student] = Inline(methods).visit(start).body\n",
    "# #     except RecursionError:\n",
    "# #         pass\n",
    "#     except Exception:\n",
    "#         #traceback.print_exc()\n",
    "#         fail += 1"
   ]
  },
  {
   "cell_type": "code",
   "execution_count": 4,
   "metadata": {},
   "outputs": [
    {
     "data": {
      "application/vnd.jupyter.widget-view+json": {
       "model_id": "626767e29b064b629bada8ea9284f494",
       "version_major": 2,
       "version_minor": 0
      },
      "text/plain": [
       "HBox(children=(IntProgress(value=0, max=829), HTML(value='')))"
      ]
     },
     "metadata": {},
     "output_type": "display_data"
    },
    {
     "name": "stdout",
     "output_type": "stream",
     "text": [
      "\n"
     ]
    }
   ],
   "source": [
    "grammars = {}\n",
    "for k, solns in tqdm(list(solutions.items())):   \n",
    "    try:\n",
    "        methods = get_methods(solns[-1])\n",
    "        if 'run' not in methods:\n",
    "            continue\n",
    "\n",
    "        generator = GrammarGenerator(k, methods)\n",
    "        generator.generate(methods['run'])\n",
    "        grammars[k] = Grammar(generator.productions)\n",
    "    except (RecursionError, Unimplemented, IndexError):\n",
    "        pass\n",
    "    except Exception:\n",
    "        print(k)\n",
    "        raise"
   ]
  },
  {
   "cell_type": "code",
   "execution_count": 6,
   "metadata": {},
   "outputs": [],
   "source": [
    "g = Grammar(productions={k: p for g in grammars.values() for k, p in g.productions.items()})\n",
    "g, cs = g.simplify()"
   ]
  },
  {
   "cell_type": "code",
   "execution_count": 14,
   "metadata": {
    "scrolled": false
   },
   "outputs": [
    {
     "name": "stdout",
     "output_type": "stream",
     "text": [
      "student031_rule1 383 ['student593_moveUp']\n",
      "Production(rule=[move()])\n",
      "\n",
      "student324_rule0 315 ['student156_makeColumn', 'student287_putBeeperForward']\n",
      "Production(rule=[move(), putBeeper()])\n",
      "\n",
      "student324_rule1 241 ['student827_checkToMove', 'student118_alternateBeepers', 'student514_beeperEveryOtherCorner', 'student084_placeBeeperAndMove', 'student022_alternatingBeepers', 'student598_placeSingleBeeper']\n",
      "Production(rule=[move(), if (frontIsClear()) { 'student324_rule0' }])\n",
      "\n",
      "student031_rule0 119 []\n",
      "Production(rule=[turnLeft()])\n",
      "\n",
      "student031_rule2 110 []\n",
      "Production(rule=[putBeeper()])\n",
      "\n",
      "student677_rule4 83 []\n",
      "Production(rule=[move(), putBeeper(), if (frontIsClear()) { 'student031_rule1' }])\n",
      "\n",
      "student058_fillOddRow 81 ['student106_oddRow', 'student304_checkerOddStreet', 'student010_dropBeeper', 'student239_doOddRow', 'student599_layOddRow', 'student330_fillRow', 'student391_createFirstRow', 'student307_doOneRow', 'student134_fillAlphaRowForward', 'student187_leftToRight', 'student058_fillOddRow', 'student485_setBeepersOnStreet', 'student554_firstLine', 'student268_fillThisLinePlease', 'student247_placeBeepers', 'student714_beginChecker', 'student068_checkerRow', 'student619_completeRow', 'student626_fillColumn', 'student819_placeAlternatingBeepers', 'student493_putBeepersEveryOtherSpotFromFirst', 'student517_bottomRow', 'student559_placeAlternatingBeepers', 'student346_fillRow', 'student107_putRowOfBeepers', 'student002_placeAlternatingBeepers', 'student062_typeOneLine', 'student245_makeRow', 'student407_alternate', 'student243_startRowBeeper', 'student102_fillOneStreet', 'student742_fillColumn', 'student030_markFirstStreet', 'student282_alternateBeepers', 'student358_fillRow', 'student138_putEveryOtherBeeper', 'student393_goOddRow', 'student114_fillRowA', 'student382_alternatePutBeepers', 'student443_checkerOddRow', 'student756_rowStyleOne', 'student601_buildEvenRow', 'student490_putBeeperEveryOther', 'student000_layDownBeepers', 'student288_oddRow', 'student555_alternateBeepers', 'student301_fillOneLineFirstAvenue', 'student144_layFirstRow', 'student610_checkerRow', 'student295_checkerRow', 'student433_alternateBeepers', 'student584_oddBeepersInRow', 'student468_fillOddColumn', 'student385_fillRowWithBeeperInTheBeggining', 'student400_doRow', 'student070_oddRow', 'student323_checkerRow', 'student700_fillRow', 'student198_fillRowOdd', 'student306_everyOtherBeeperRow', 'student283_fillRow', 'student674_altRowOfBeepers', 'student686_placeBeeperLine', 'student678_moveUpOddRow', 'student426_fillRowEast', 'student082_layAlternatingRow', 'student067_fillRow', 'student821_putBeeperEveryOtherCorner', 'student384_moveUpAvenue', 'student597_fillInOddRow', 'student053_fillFirstRow', 'student223_checkerCurrentRow', 'student421_everyOtherBeeper', 'student788_alternateBeeperLaying', 'student109_fillTypeOneStreet', 'student193_fillRow', 'student409_placeOddColumn', 'student593_checkerboardOddStreet', 'student014_checkerOddStreet']\n",
      "Production(rule=[putBeeper(), WhileNode(cond=frontIsClear(), body='student324_rule1')])\n",
      "\n",
      "student031_rule10 80 ['student393_shiftToUpperRow', 'student205_nextLine', 'student292_prepareForNewRow', 'student114_goToNextRow']\n",
      "Production(rule=[move(), turnRight()])\n",
      "\n",
      "student727_rule2 53 ['student226_positionAtNewAvenue']\n",
      "Production(rule=[move(), turnLeft()])\n",
      "\n",
      "student677_rule1 49 ['student743_placeAndMove']\n",
      "Production(rule=[putBeeper(), move(), if (frontIsClear()) { 'student031_rule1' }])\n",
      "\n",
      "student303_goToWall 49 ['student118_moveToWall', 'student367_findWall', 'student427_goToWall', 'student007_moveToWall', 'student383_moveToWall', 'student369_moveToWall', 'student126_moveToWall', 'student111_moveToWall', 'student308_moveToWall', 'student810_movetoWall', 'student431_moveToEdge', 'student654_moveToWall', 'student326_moveToWall', 'student643_moveToWall', 'student750_moveToWall', 'student390_moveToWall', 'student301_moveToWall', 'student317_descendColumn', 'student499_moveToWall', 'student629_moveToWall', 'student247_findWall', 'student319_moveToWall', 'student560_moveToWall', 'student755_moveToWall', 'student063_moveToEnd', 'student449_moveToWall', 'student030_backToWall', 'student466_moveToWall', 'student575_moveToWall', 'student386_moveToWall', 'student479_moveBack', 'student382_moveToWall', 'student239_moveToWall', 'student058_moveToWall', 'student303_goToWall', 'student500_moveBack', 'student683_moveToWall', 'student062_moveToWall', 'student693_moveToWall', 'student675_moveToWall', 'student743_moveUntilBlocked', 'student185_backToEnd', 'student758_returnLeft', 'student665_moveToGround', 'student723_moveToWall', 'student277_moveToWall', 'student803_moveToWall', 'student670_moveToWall']\n",
      "Production(rule=[WhileNode(cond=frontIsClear(), body='student031_rule1')])\n",
      "\n",
      "student238_rule3 48 []\n",
      "Production(rule=[turnRight()])\n",
      "\n",
      "student324_checker 42 ['student190_checkerLine', 'student648_checker', 'student317_fillColumn', 'student238_putBeepersInACol', 'student816_createPatternFromBeeper', 'student348_putAlternateBeepers', 'student324_checker', 'student116_checkerAhead', 'student294_fillRow', 'student806_fillRow', 'student608_fillRow', 'student630_checkerEast', 'student332_placeCheckers', 'student370_putAlternatingPattern1', 'student691_fillInOneRow', 'student340_layRowOfBeepers', 'student494_placeBeepersWestToEast', 'student175_fillRowWithBeepers', 'student659_fillRow', 'student526_streetRun', 'student041_everyOtherBeeper', 'student642_completeCheckerboardRow', 'student026_makeColumn', 'student632_putAlternatingBeepers', 'student309_fillAveWithCheckers', 'student074_creatLineWithBeeperInTheStartingPoint', 'student266_fillColumn', 'student121_fillEveryOther', 'student361_moveInEvenStreetCir1', 'student045_fillStreet', 'student263_fillClosedRow', 'student571_singleLine', 'student397_testAndFillRest', 'student050_fillRow', 'student360_putAlternateBeepers']\n",
      "Production(rule=[WhileNode(cond=frontIsClear(), body='student324_rule1')])\n",
      "\n",
      "student303_rule8 37 ['student242_goForward', 'student299_checkFront', 'student089_moveToNextSpot', 'student613_checkPath', 'student746_safeMove', 'student103_safeMove', 'student624_smartMove', 'student609_moveForwardAndUpRow', 'student648_moveToNextAvenue', 'student789_moveOrTurn', 'student482_getToNextRow', 'student795_determineDirection', 'student194_safeMove', 'student029_safeMove', 'student279_moveSafe', 'student300_moveIfClear', 'student725_checkerBoard', 'student742_moveForward', 'student286_SafeMove', 'student571_safeMove', 'student650_safeMove', 'student783_safeMove', 'student302_safeMove', 'student161_safeMove', 'student259_safeMove', 'student579_safeMove', 'student347_smartMove', 'student745_step', 'student227_carefulMove', 'student262_eastRowOdd', 'student233_smartMove', 'student256_checkAndMove', 'student466_safeMove', 'student382_cautiousStep']\n",
      "Production(rule=[if (frontIsClear()) { 'student031_rule1' }])\n",
      "\n",
      "student304_checkerEvenStreet 35 ['student476_runRow2', 'student301_fillOneLineSecondAvenue', 'student093_putOddAlternatingBeeper', 'student235_fillEvenRow', 'student698_fillFacingWest', 'student443_checkerEvenRow', 'student205_drawLineB', 'student468_fillEvenColumn', 'student678_moveUpEvenRow', 'student410_makeOddRow', 'student599_layEvenRow', 'student288_evenRow', 'student584_evenBeepersInRow', 'student106_evenRow', 'student226_alternateBeeper', 'student756_rowStyleTwo', 'student319_checkerStyleOne', 'student114_fillRowB', 'student304_checkerEvenStreet', 'student619_completePartialRow', 'student385_fillRowWithoutBeeperInTheBeggining', 'student578_checkerRowStartingWithSpace', 'student593_checkerboardEvenStreet', 'student134_fillBetaRowForward', 'student293_placeEvenRowOfCheckers', 'student243_startRowNoBeeper', 'student466_makeRowEven', 'student784_checkerEvenStreet', 'student643_makePatternStartingWithSpace', 'student481_distributeChecker', 'student060_fillEveryOtherCorner', 'student714_beginBlank', 'student070_evenRow', 'student588_putCheckeredRow', 'student053_fillSecondRow']\n",
      "Production(rule=[WhileNode(cond=frontIsClear(), body='student677_rule4')])\n",
      "\n",
      "student068_faceNorth 34 ['student130_faceNorth', 'student060_faceNorth', 'student302_faceNorth', 'student640_faceNorth', 'student420_faceNorth', 'student721_faceNorth', 'student102_faceNorth', 'student427_faceNorth', 'student328_turnNorth', 'student068_faceNorth', 'student228_faceNorth', 'student637_faceNorth', 'student300_turnNorth', 'student295_faceNorth', 'student736_faceNorth', 'student577_turnNorth', 'student306_faceNorth', 'student054_faceNorth', 'student636_faceNorth', 'student507_faceNorth', 'student668_faceNorth', 'student401_faceNorth', 'student346_faceNorth', 'student382_faceNorth', 'student027_faceNorth', 'student648_faceNorth', 'student534_turnNorth', 'student549_faceNorth', 'student573_faceNorth', 'student400_turnNorth', 'student498_faceNorth', 'student175_turnNorth', 'student089_faceNorth']\n",
      "Production(rule=[WhileNode(cond=notFacingNorth(), body='student031_rule0')])\n",
      "\n",
      "student634_returnToBeginning 33 ['student728_goDown', 'student559_goBack', 'student799_returnToBottom', 'student597_backToFrontOfRow', 'student360_goBack', 'student719_moveBackToStartOfRow', 'student430_goBack', 'student410_returnToLeftWall', 'student634_returnToBeginning', 'student513_goBack', 'student000_returnToLineStart', 'student026_goDown', 'student195_goBackToBeginningOfRow', 'student756_moveToLeftWall', 'student384_moveDownAvenue', 'student428_goBackDown', 'student737_returnToBeginningOfRow', 'student358_goToStartOfRow', 'student320_moveDownColumn', 'student391_returnToStreet1', 'student617_returnToSide', 'student198_returnRow', 'student530_returnToStart', 'student616_moveBack', 'student494_moveBackWest', 'student134_returnToStart', 'student245_returnToFirstAve', 'student056_returnBottomOfColumn', 'student395_returnToStart', 'student606_goToStart', 'student057_returnToStartOfRow']\n",
      "Production(rule=[turnAround(), WhileNode(cond=frontIsClear(), body='student031_rule1')])\n",
      "\n",
      "student524_rule2 30 []\n",
      "Production(rule=[turnAround()])\n",
      "\n",
      "student684_rule2 30 ['student811_dropCheckersOdd', 'student191_placeRow', 'student587_moveTwice']\n",
      "Production(rule=[if (frontIsClear()) { 'student031_rule1' }, if (frontIsClear()) { 'student324_rule0' }])\n",
      "\n",
      "student405_rule1 29 []\n",
      "Production(rule=[move(), if (frontIsBlocked()) { 'student031_rule2' }])\n",
      "\n",
      "student031_rule7 29 ['student670_turnCornerLeft', 'student632_resetPosition', 'student172_handleOddRow']\n",
      "Production(rule=[move(), turnLeft(), move()])\n",
      "\n",
      "student286_Switchlineodd 27 ['student076_upOdd', 'student385_goToLeftRow', 'student680_eastMove', 'student286_Switchlineodd', 'student327_moveToEvenRow', 'student361_moveToEvenStreetCir1', 'student531_positionOnEvenStreet', 'student567_nextRowW']\n",
      "Production(rule=[turnLeft(), if (frontIsClear()) { 'student727_rule2' }])\n",
      "\n",
      "student116_repositionForEast 27 ['student116_repositionForEast', 'student212_goToNextStreet', 'student643_moveUpOneRow', 'student619_repositionForRowToEast', 'student408_repositionEast', 'student397_goToNextLine', 'student403_moveToNextColumnWhileTurningRight', 'student274_stepRight', 'student195_goToNextRow', 'student493_repositionToFaceEast', 'student404_turnToFaceSouthDownAvenue', 'student578_moveToRowRight', 'student282_moveToNextStreetFacingEast', 'student788_repositionToEast', 'student137_repositionForRowToEast', 'student235_moveVerticallyToNextRow', 'student134_moveToNextRow', 'student597_reOrient', 'student756_moveUpOneRow', 'student710_repositionForRowToEast']\n",
      "Production(rule=[turnRight(), move(), turnRight()])\n",
      "\n",
      "student727_rule9 27 ['student398_upWest', 'student480_turnCorner', 'student327_moveToOddRow', 'student198_moveToNextRow', 'student057_moveToNextRow', 'student410_nextRow', 'student538_checkRightSide', 'student076_upEven', 'student405_moveUpFromEvenRow', 'student735_nextRow', 'student547_moveUpRightSide', 'student567_nextRowE', 'student172_moveUpFromWest', 'student696_moveToOddRow', 'student554_moveUpRight', 'student758_nextRow', 'student063_moveToNextRow', 'student286_Switchlineeven']\n",
      "Production(rule=[turnRight(), if (frontIsClear()) { 'student031_rule10' }])\n",
      "\n",
      "student709_templateRow 22 ['student541_checker', 'student614_checkerOdd', 'student479_moveUp', 'student408_moveDownColumn', 'student759_checkerStreet', 'student076_fillRow', 'student796_createLineOfBeepersOddRow', 'student086_run', 'student709_templateRow', 'student235_fillOddRow', 'student093_putEvenAlternatingBeeper', 'student622_layRow', 'student390_alternateBeepers', 'student488_layBasePattern', 'student173_paveTheRow', 'student420_checkerRow', 'student269_buildCheckerboardOdd', 'student351_fillNextRow', 'student637_layRow', 'student014_checkerEvenStreet', 'student261_createRow']\n",
      "Production(rule=[WhileNode(cond=frontIsClear(), body='student677_rule1')])\n",
      "\n",
      "student720_rule5 21 ['student137_repositionForRowToWest', 'student053_changeStreets', 'student282_moveToNextStreetFacingWest', 'student541_rightTurn', 'student788_repositionToWest', 'student334_turnToWest', 'student578_moveToRowLeft', 'student493_repositionToFaceWest', 'student710_repositionForRowToWest', 'student574_moveToNextRowFacingWest', 'student759_goUpStreetRight', 'student304_moveNorthOneStreet', 'student116_repositionForWest', 'student619_repositionForRowToWest']\n",
      "Production(rule=[turnLeft(), move(), turnLeft()])\n",
      "\n",
      "student031_rule5 21 ['student593_moveBackwards', 'student021_moveBackwards', 'student404_moveBack', 'student431_moveBack']\n",
      "Production(rule=[turnAround(), move()])\n",
      "\n",
      "student816_goToNextAvenue 20 ['student721_advancePatternOneSquare', 'student560_alternateBeepers', 'student422_firstCorner', 'student816_goToNextAvenue', 'student079_StartNewRow']\n",
      "Production(rule=[if (beepersPresent()) { 'student031_rule1' }])\n",
      "\n",
      "student684_goBack 20 ['student314_goBackToStart', 'student074_goBackToTheStartingPoint', 'student028_goBackToStart', 'student144_goBackToStart', 'student469_goBack', 'student443_returnToInitialPosition', 'student169_returnToRowStart', 'student579_returnBackToTheStartofStreet', 'student709_returnLeftCorner', 'student651_moveToRowStart', 'student724_goToTheOtherEnd', 'student507_moveToStartOfLine', 'student133_moveToWall', 'student663_returnToEdge', 'student394_returnToLeft', 'student283_returnToRowStart', 'student056_moveToEvenColumn', 'student273_goOtherEnd', 'student708_moveToLeft', 'student684_goBack']\n",
      "Production(rule=[turnAround(), WhileNode(cond=frontIsClear(), body='student031_rule1'), turnAround()])\n",
      "\n",
      "student257_rule11 18 []\n",
      "Production(rule=[move(), turnRight(), move()])\n",
      "\n",
      "student405_rule2 17 ['student195_alternateBeepers']\n",
      "Production(rule=[putBeeper(), move(), if (frontIsClear()) { 'student405_rule1' }])\n",
      "\n",
      "student070_startOfRow 16 ['student821_returnToStartOfLine', 'student114_retreat', 'student517_returnToWest', 'student292_toBeginning', 'student191_returnToLeft', 'student232_returnToFirstAvenue', 'student476_returnToStartOfRow', 'student293_returnToWest', 'student026_goBack', 'student679_nextStreet', 'student566_returnRow', 'student359_getBack', 'student520_returnBack', 'student365_backToBeginning', 'student070_startOfRow']\n",
      "Production(rule=[turnAround(), WhileNode(cond=frontIsClear(), body='student031_rule1'), turnRight()])\n",
      "\n",
      "student677_moveBackDown 16 ['student151_returnToInitialPoint', 'student677_moveBackDown', 'student468_descendColumn', 'student421_descendColumn', 'student811_moveOn', 'student143_squareOne', 'student388_returnOrigin', 'student618_moveToWall', 'student742_returnToBottomOfColumn', 'student678_returnToBaseOfRow', 'student226_returnToStart', 'student409_returnBackDownColumn', 'student816_returnToSouth', 'student244_descendColumn', 'student726_returnToStart', 'student657_returnToBottom']\n",
      "Production(rule=[turnAround(), WhileNode(cond=frontIsClear(), body='student031_rule1'), turnLeft()])\n",
      "\n",
      "student303_rule1 16 ['student404_moveToNextCheckerSpot', 'student327_safeMove2Steps', 'student115_skipOneCorner', 'student741_moveToNextCheckerboardSpace']\n",
      "Production(rule=[move(), if (frontIsClear()) { 'student031_rule1' }])\n",
      "\n",
      "student187_rule3 15 ['student323_fillOneColumnBoard', 'student610_checkerColumn', 'student674_oneByNWorld']\n",
      "Production(rule=[turnLeft(), 'student058_fillOddRow'])\n",
      "\n",
      "student684_moveUpRow 15 ['student277_moveUpwards', 'student342_moveToNextColumn', 'student390_moveUpOneRow', 'student684_moveUpRow', 'student023_moveUpOneRow', 'student314_goUpOneRow', 'student579_goToTheNextStreet', 'student239_moveNorth', 'student469_upRow', 'student169_ascendRow', 'student496_MoveToNextStreet']\n",
      "Production(rule=[turnLeft(), move(), turnRight()])\n",
      "\n",
      "student515_fillPatternOne 13 ['student408_moveUpColumn', 'student515_fillPatternOne', 'student728_fillAvenueStartingWithBeeper', 'student718_oneAvenueWorld', 'student536_fillColumnWithBeeperPattern', 'student814_moveUpOdd', 'student004_fillVerticalCheckerboard', 'student775_buildCheckers1', 'student510_fillLongColumn', 'student460_ascendFillingOdd', 'student701_column']\n",
      "Production(rule=[turnLeft(), putBeeper(), WhileNode(cond=frontIsClear(), body='student324_rule1')])\n",
      "\n",
      "student069_rule3 12 ['student356_properTurns', 'student261_moveToNextRow', 'student588_moveToNextRow', 'student503_nextRow', 'student095_shiftRow', 'student704_nextRow', 'student691_moveRows', 'student084_moveUpALine', 'student490_moveToNextStreetEast', 'student546_reorient']\n",
      "Production(rule=[if (facingEast()) { 'student286_Switchlineodd' }])\n",
      "\n",
      "student598_moveBack 12 ['student598_moveBack', 'student273_stepBack', 'student643_moveBackwards', 'student811_moveBackwards', 'student245_moveBackwards', 'student397_moveBack', 'student577_moveBackwards', 'student540_stepBackwards', 'student390_moveBackwards']\n",
      "Production(rule=[turnAround(), move(), turnAround()])\n",
      "\n",
      "student424_rule1 12 ['student507_safePutBeeper', 'student220_layBeepers', 'student566_placeBeeper', 'student572_checkForBeeper', 'student699_putFirstBeeper', 'student279_putSafeBeeper', 'student624_smartBeeper', 'student259_safeBeeper', 'student123_checkForBeepers']\n",
      "Production(rule=[if (noBeepersPresent()) { 'student031_rule2' }])\n",
      "\n",
      "student171_rule1 12 []\n",
      "Production(rule=[putBeeper(), move()])\n",
      "\n",
      "student595_placeBeeperAndMoveTwoStepsEast 12 ['student003_dropAndMove', 'student736_fillRow', 'student073_dropBeepers', 'student595_placeBeeperAndMoveTwoStepsEast']\n",
      "Production(rule=[putBeeper(), if (frontIsClear()) { 'student031_rule1' }, if (frontIsClear()) { 'student031_rule1' }])\n",
      "\n",
      "student677_rule10 12 []\n",
      "Production(rule=[turnAround(), move(), putBeeper()])\n",
      "\n",
      "student068_faceEast 12 ['student172_checkDirection', 'student420_faceEast', 'student431_faceEast', 'student636_faceEast', 'student068_faceEast', 'student626_faceEast', 'student060_faceEast', 'student168_turnEast', 'student573_faceEast', 'student743_faceEast', 'student262_turnEast', 'student302_faceEast']\n",
      "Production(rule=[WhileNode(cond=notFacingEast(), body='student031_rule0')])\n",
      "\n",
      "student405_completeOneRow 12 ['student538_putAlternatingBeepers', 'student448_fillRowLeft', 'student172_fillRow', 'student342_fillRow', 'student403_fillColumn', 'student680_checkerRow', 'student356_rowCreator', 'student405_completeOneRow', 'student822_createLine', 'student410_makeEvenRow', 'student205_drawLineA', 'student516_checkerBoardLine']\n",
      "Production(rule=[WhileNode(cond=frontIsClear(), body='student405_rule2')])\n",
      "\n",
      "student324_rule4 11 []\n",
      "Production(rule=[move(), turnLeft(), putBeeper()])\n",
      "\n",
      "student573_faceWest 10 ['student382_faceWest', 'student168_turnWest', 'student670_turnWest', 'student743_faceWest', 'student636_faceWest', 'student420_faceWest', 'student507_faceWest', 'student427_faceWest', 'student300_turnWest', 'student573_faceWest']\n",
      "Production(rule=[WhileNode(cond=notFacingWest(), body='student031_rule0')])\n",
      "\n",
      "student744_rule2 10 ['student697_fillSingleColumn', 'student615_checkerAvenue']\n",
      "Production(rule=[turnLeft(), WhileNode(cond=frontIsClear(), body='student324_rule1')])\n",
      "\n",
      "student171_moveAndPut 10 ['student090_movePut', 'student088_putCheckerBeeper', 'student133_placeNextBeeper', 'student526_safeUp', 'student171_moveAndPut', 'student278_safeMoveAndDrop', 'student050_safeMovePutBeeper']\n",
      "Production(rule=[if (frontIsClear()) { 'student324_rule0' }])\n",
      "\n",
      "student031_rule8 10 ['student010_moveToNextRowTwoSpotAway', 'student064_moveToBottomOfNextEvenCornerAvenue']\n",
      "Production(rule=[turnLeft(), if (frontIsClear()) { 'student031_rule7' }])\n",
      "\n"
     ]
    }
   ],
   "source": [
    "groups = sorted(cs.items(), key=lambda t: len(t[1]))[::-1]\n",
    "for k, group in groups[:50]:\n",
    "    other_names = [k2 for k2 in group if '_rule' not in k2]\n",
    "    print(k, len(group), other_names)\n",
    "    print(g.productions[k])\n",
    "    print()"
   ]
  },
  {
   "cell_type": "code",
   "execution_count": null,
   "metadata": {},
   "outputs": [],
   "source": [
    "it = list(grammars.items())\n",
    "fk, fg = it[0]\n",
    "norm_grammars = {fk: fg}\n",
    "for k1, g1 in tqdm(it[1:]):\n",
    "    for k2, g2 in norm_grammars.items():\n",
    "        g1, subs = g2.normalize(g1)\n",
    "    norm_grammars[k1] = g1"
   ]
  },
  {
   "cell_type": "code",
   "execution_count": null,
   "metadata": {},
   "outputs": [],
   "source": [
    "N = len(grammars)\n",
    "dists = np.zeros((N, N))\n",
    "index = list(grammars.keys())\n",
    "rev_index = {s: i for i, s in enumerate(index)}\n",
    "\n",
    "for k1, grammar1 in tqdm(list(grammars.items())):\n",
    "    for k2, grammar2 in grammars.items():\n",
    "        count = 0\n",
    "        grammar1, grammar2 = normalize_grammars(grammar1, grammar2)\n",
    "        for p1 in grammar1.productions.values():\n",
    "            for p2 in grammar2.productions.values():\n",
    "                if p1 == p2:\n",
    "                    count += 1\n",
    "                    break\n",
    "        dists[rev_index[k1],rev_index[k2]] = count"
   ]
  },
  {
   "cell_type": "code",
   "execution_count": null,
   "metadata": {},
   "outputs": [],
   "source": [
    "dists_sorted = np.dstack(np.unravel_index(np.argsort(dists, axis=None), dists.shape))[0,::-1]\n",
    "dists_sorted = dists_sorted[dists_sorted[:,0] != dists_sorted[:,1]]"
   ]
  },
  {
   "cell_type": "code",
   "execution_count": null,
   "metadata": {},
   "outputs": [],
   "source": [
    "[i, j] = dists_sorted[1]"
   ]
  },
  {
   "cell_type": "code",
   "execution_count": null,
   "metadata": {},
   "outputs": [],
   "source": [
    "grammars[index[i]].productions"
   ]
  },
  {
   "cell_type": "code",
   "execution_count": null,
   "metadata": {},
   "outputs": [],
   "source": [
    "grammars[index[j]].productions"
   ]
  },
  {
   "cell_type": "code",
   "execution_count": null,
   "metadata": {
    "scrolled": false
   },
   "outputs": [],
   "source": [
    "print(solutions[index[i]][-1].source)"
   ]
  },
  {
   "cell_type": "code",
   "execution_count": null,
   "metadata": {
    "scrolled": false
   },
   "outputs": [],
   "source": [
    "print(solutions[index[j]][-1].source)"
   ]
  }
 ],
 "metadata": {
  "kernelspec": {
   "display_name": "Python 3",
   "language": "python",
   "name": "python3"
  },
  "language_info": {
   "codemirror_mode": {
    "name": "ipython",
    "version": 3
   },
   "file_extension": ".py",
   "mimetype": "text/x-python",
   "name": "python",
   "nbconvert_exporter": "python",
   "pygments_lexer": "ipython3",
   "version": "3.7.2"
  },
  "toc": {
   "base_numbering": 1,
   "nav_menu": {},
   "number_sections": true,
   "sideBar": true,
   "skip_h1_title": false,
   "title_cell": "Table of Contents",
   "title_sidebar": "Contents",
   "toc_cell": false,
   "toc_position": {},
   "toc_section_display": true,
   "toc_window_display": false
  },
  "varInspector": {
   "cols": {
    "lenName": 16,
    "lenType": 16,
    "lenVar": 40
   },
   "kernels_config": {
    "python": {
     "delete_cmd_postfix": "",
     "delete_cmd_prefix": "del ",
     "library": "var_list.py",
     "varRefreshCmd": "print(var_dic_list())"
    },
    "r": {
     "delete_cmd_postfix": ") ",
     "delete_cmd_prefix": "rm(",
     "library": "var_list.r",
     "varRefreshCmd": "cat(var_dic_list()) "
    }
   },
   "types_to_exclude": [
    "module",
    "function",
    "builtin_function_or_method",
    "instance",
    "_Feature"
   ],
   "window_display": false
  }
 },
 "nbformat": 4,
 "nbformat_minor": 4
}
