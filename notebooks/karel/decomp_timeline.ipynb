{
 "cells": [
  {
   "cell_type": "code",
   "execution_count": null,
   "metadata": {
    "ExecuteTime": {
     "end_time": "2020-06-18T00:09:53.483530Z",
     "start_time": "2020-06-18T00:09:53.465040Z"
    }
   },
   "outputs": [],
   "source": [
    "%load_ext autoreload\n",
    "%autoreload 2"
   ]
  },
  {
   "cell_type": "code",
   "execution_count": 2,
   "metadata": {
    "ExecuteTime": {
     "end_time": "2020-06-18T00:09:54.809081Z",
     "start_time": "2020-06-18T00:09:53.485879Z"
    }
   },
   "outputs": [],
   "source": [
    "import os\n",
    "import javalang\n",
    "from dataclasses import dataclass\n",
    "from tqdm.auto import tqdm\n",
    "from pickle_cache import PickleCache\n",
    "from javalang import tree\n",
    "from pprint import pprint\n",
    "import textwrap\n",
    "import copy\n",
    "from iterextras import par_for, unzip\n",
    "import seaborn as sns\n",
    "import matplotlib.pyplot as plt\n",
    "import numpy as np\n",
    "import pandas as pd\n",
    "from utils import *\n",
    "sns.set()"
   ]
  },
  {
   "cell_type": "code",
   "execution_count": 3,
   "metadata": {},
   "outputs": [],
   "source": [
    "solutions = get_solutions()"
   ]
  },
  {
   "cell_type": "code",
   "execution_count": null,
   "metadata": {
    "ExecuteTime": {
     "end_time": "2020-06-18T01:42:47.299908Z",
     "start_time": "2020-06-18T01:42:30.384552Z"
    }
   },
   "outputs": [],
   "source": [
    "def compute_features(student):\n",
    "    progs = solutions[student]\n",
    "    df = []\n",
    "    for i, prog in enumerate(progs):\n",
    "        try:\n",
    "            methods = get_methods(prog)\n",
    "        except Exception:\n",
    "            continue\n",
    "        if len(methods) == 0:\n",
    "            continue\n",
    "        max_size = np.max([tree_size(method) for method in methods.values()])\n",
    "        df.append({\n",
    "            'student': student, \n",
    "            'time': i,\n",
    "            'max_size': max_size,\n",
    "            'num_methods': len(methods)\n",
    "        })\n",
    "    return df\n",
    "            \n",
    "features = par_for(compute_features, STUDENTS, process=True)"
   ]
  },
  {
   "cell_type": "code",
   "execution_count": null,
   "metadata": {
    "ExecuteTime": {
     "end_time": "2020-06-18T01:42:49.543640Z",
     "start_time": "2020-06-18T01:42:49.439987Z"
    }
   },
   "outputs": [],
   "source": [
    "feature_df = pd.DataFrame([f for l in features for f in l])"
   ]
  },
  {
   "cell_type": "code",
   "execution_count": null,
   "metadata": {
    "ExecuteTime": {
     "end_time": "2020-06-18T01:48:11.156920Z",
     "start_time": "2020-06-18T01:48:11.126188Z"
    },
    "scrolled": false
   },
   "outputs": [],
   "source": [
    "def plot_progress(students, lines=None):\n",
    "    inverse_index = {s: i for i, s in enumerate(students)}\n",
    "    df = feature_df[feature_df.student.isin(students)]\n",
    "    g = sns.FacetGrid(data=df, col_order=students, col='student', col_wrap=4, sharex=False)\n",
    "    def plot(data, **kwargs):\n",
    "        ax = plt.gca()\n",
    "        ax2 = ax.twinx()\n",
    "        ax2.set_ylim(0, 10)\n",
    "        sns.lineplot(data=data, x='time', y='max_size', color='r', ax=ax)\n",
    "        sns.lineplot(data=data, x='time', y='num_methods', color='g', ax=ax2)\n",
    "        if lines is not None:\n",
    "            ax.axvline(lines[inverse_index[data.student.iloc[0]]], color='b')\n",
    "    g.map_dataframe(plot)    "
   ]
  },
  {
   "cell_type": "code",
   "execution_count": null,
   "metadata": {
    "ExecuteTime": {
     "end_time": "2020-06-18T01:43:06.848823Z",
     "start_time": "2020-06-18T01:42:53.884516Z"
    }
   },
   "outputs": [],
   "source": [
    "from random import sample\n",
    "rand_students = sample(STUDENTS, k=20)\n",
    "#rand_students = ['student043', 'student288', 'student395', 'student409']\n",
    "plot_progress(rand_students)"
   ]
  },
  {
   "cell_type": "code",
   "execution_count": null,
   "metadata": {
    "ExecuteTime": {
     "end_time": "2020-06-18T01:48:49.232938Z",
     "start_time": "2020-06-18T01:48:45.949601Z"
    }
   },
   "outputs": [],
   "source": [
    "all_features = []\n",
    "all_features_time = []\n",
    "all_students = []\n",
    "for student in tqdm(STUDENTS):\n",
    "    student_df = feature_df[feature_df.student == student]\n",
    "    max_diffs = np.diff(student_df.max_size)\n",
    "    method_diffs = np.diff(student_df.num_methods)\n",
    "    if len(max_diffs) > 0:\n",
    "        all_students.append(student)\n",
    "        feature = -max_diffs * method_diffs\n",
    "        i = np.argmax(feature)\n",
    "        all_features_time.append(i)\n",
    "        all_features.append(feature[i])\n",
    "        \n",
    "all_students = np.array(all_students)        \n",
    "all_features = np.array(all_features)\n",
    "all_features_time = np.array(all_features_time)"
   ]
  },
  {
   "cell_type": "code",
   "execution_count": null,
   "metadata": {
    "ExecuteTime": {
     "end_time": "2020-06-18T18:14:18.150287Z",
     "start_time": "2020-06-18T18:14:02.636040Z"
    },
    "scrolled": false
   },
   "outputs": [],
   "source": [
    "highest_delta = np.argsort(all_features)[::-1]\n",
    "plot_progress(all_students[highest_delta[100:120]], lines=all_features_time[highest_delta[100:120]])"
   ]
  },
  {
   "cell_type": "code",
   "execution_count": null,
   "metadata": {
    "ExecuteTime": {
     "end_time": "2020-06-18T18:06:03.316350Z",
     "start_time": "2020-06-18T18:06:03.284656Z"
    }
   },
   "outputs": [],
   "source": [
    "from ipywidgets import Button\n",
    "from IPython.display import clear_output, display\n",
    "\n",
    "def paginate(l, f):\n",
    "    page = 0\n",
    "    \n",
    "    def update():\n",
    "        clear_output()\n",
    "        prev_btn = Button(description='Prev')\n",
    "        next_btn = Button(description='Next')\n",
    "        prev_btn.on_click(prev_page)\n",
    "        next_btn.on_click(next_page)\n",
    "        display(prev_btn)\n",
    "        display(next_btn)\n",
    "        f(l[page])\n",
    "    \n",
    "    def prev_page(_):\n",
    "        nonlocal page\n",
    "        page = max(page - 1, 0)\n",
    "        update()\n",
    "    \n",
    "    def next_page(_):\n",
    "        nonlocal page\n",
    "        page = min(page + 1, len(l) - 1)                \n",
    "        update()\n",
    "        \n",
    "    update()"
   ]
  },
  {
   "cell_type": "code",
   "execution_count": null,
   "metadata": {
    "ExecuteTime": {
     "end_time": "2020-06-18T18:13:50.387786Z",
     "start_time": "2020-06-18T18:13:50.327730Z"
    },
    "scrolled": false
   },
   "outputs": [],
   "source": [
    "highest_delta = np.argsort(all_features)[::-1]\n",
    "l = [\n",
    "    (student, solutions[student][time].source, solutions[student][time+1].source)\n",
    "    for student, time in zip(all_students[highest_delta[100:120]], all_features_time[highest_delta[100:120]])\n",
    "]\n",
    "paginate(l, lambda t: print('\\n\\n'.join(t)))"
   ]
  },
  {
   "cell_type": "code",
   "execution_count": null,
   "metadata": {
    "ExecuteTime": {
     "end_time": "2020-06-18T00:11:35.296516Z",
     "start_time": "2020-06-18T00:11:35.273879Z"
    }
   },
   "outputs": [],
   "source": [
    "\"\"\"\n",
    "late decomp examples:\n",
    "043 288? 395 409\n",
    "\n",
    "tried decomp but gave up:\n",
    "069 231 687\n",
    "\"\"\"\n",
    "\n",
    "# bad decomp examples:\n",
    "# 281, 180\n",
    "\n",
    "\"\"\"\n",
    "notes\n",
    "\n",
    "* high level strategies\n",
    " - do one row, move, then do another row, move\n",
    "\"\"\""
   ]
  },
  {
   "cell_type": "code",
   "execution_count": null,
   "metadata": {
    "ExecuteTime": {
     "end_time": "2020-06-18T00:11:35.322247Z",
     "start_time": "2020-06-18T00:11:35.298726Z"
    },
    "scrolled": false
   },
   "outputs": [],
   "source": [
    "# import traceback\n",
    "\n",
    "# inlined = {}    \n",
    "# fail = 0\n",
    "# for student, soln in tqdm(list(solutions.items())):\n",
    "#     try:\n",
    "#         methods = get_methods(soln)\n",
    "#         start = copy.deepcopy(methods['run'])\n",
    "#         inlined[student] = fun_to_string(Inline(methods).visit(start))\n",
    "# #     except RecursionError:\n",
    "# #         pass\n",
    "#     except Exception:\n",
    "#         fail += 1\n"
   ]
  }
 ],
 "metadata": {
  "kernelspec": {
   "display_name": "Python 3",
   "language": "python",
   "name": "python3"
  },
  "language_info": {
   "codemirror_mode": {
    "name": "ipython",
    "version": 3
   },
   "file_extension": ".py",
   "mimetype": "text/x-python",
   "name": "python",
   "nbconvert_exporter": "python",
   "pygments_lexer": "ipython3",
   "version": "3.7.2"
  },
  "toc": {
   "base_numbering": 1,
   "nav_menu": {},
   "number_sections": true,
   "sideBar": true,
   "skip_h1_title": false,
   "title_cell": "Table of Contents",
   "title_sidebar": "Contents",
   "toc_cell": false,
   "toc_position": {},
   "toc_section_display": true,
   "toc_window_display": false
  },
  "varInspector": {
   "cols": {
    "lenName": 16,
    "lenType": 16,
    "lenVar": 40
   },
   "kernels_config": {
    "python": {
     "delete_cmd_postfix": "",
     "delete_cmd_prefix": "del ",
     "library": "var_list.py",
     "varRefreshCmd": "print(var_dic_list())"
    },
    "r": {
     "delete_cmd_postfix": ") ",
     "delete_cmd_prefix": "rm(",
     "library": "var_list.r",
     "varRefreshCmd": "cat(var_dic_list()) "
    }
   },
   "types_to_exclude": [
    "module",
    "function",
    "builtin_function_or_method",
    "instance",
    "_Feature"
   ],
   "window_display": false
  }
 },
 "nbformat": 4,
 "nbformat_minor": 4
}
