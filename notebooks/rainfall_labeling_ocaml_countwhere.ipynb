{
 "cells": [
  {
   "cell_type": "code",
   "execution_count": 1,
   "metadata": {},
   "outputs": [],
   "source": [
    "%load_ext autoreload\n",
    "%autoreload 2"
   ]
  },
  {
   "cell_type": "code",
   "execution_count": 2,
   "metadata": {},
   "outputs": [],
   "source": [
    "import os\n",
    "import pandas as pd\n",
    "import ipywidgets as widgets\n",
    "from IPython.display import display as disp, clear_output\n",
    "from functools import partial\n",
    "from autoplan.token import OCamlTokenizer\n",
    "from scripts.rainfall_ingest import load_new_labels, ingest_dataset\n",
    "from grammars.rainfall.labels import CountWhere\n",
    "from pickle_cache import PickleCache\n",
    "import pickle\n",
    "pcache = PickleCache()"
   ]
  },
  {
   "cell_type": "code",
   "execution_count": 3,
   "metadata": {},
   "outputs": [],
   "source": [
    "REPO_DIR = os.path.expanduser('~/autoplan')\n",
    "DATA_DIR = f'{REPO_DIR}/data/rainfall/raw'\n",
    "CODE_DIR = f'{DATA_DIR}/Fall2013-RawData'\n",
    "\n",
    "def read_coding_csv(name):\n",
    "    return pd.read_csv(f'{DATA_DIR}/Fall2013Coding{name}.csv', index_col=0, header=None).T"
   ]
  },
  {
   "cell_type": "code",
   "execution_count": 4,
   "metadata": {},
   "outputs": [],
   "source": [
    "plan_codes = pd.read_csv(f'{DATA_DIR}/PlanCodes-codes.csv')\n",
    "\n",
    "def read_and_join_coding(name):\n",
    "    coding_csv = read_coding_csv(name)\n",
    "    valid_entries = coding_csv[coding_csv.PlanStructure.isnull()]\n",
    "    combined_entries = valid_entries.set_index('PlanStructure').join(plan_codes.set_index('Code'))\n",
    "    return combined_entries"
   ]
  },
  {
   "cell_type": "code",
   "execution_count": 5,
   "metadata": {},
   "outputs": [],
   "source": [
    "coding_csv = read_coding_csv('T1')\n",
    "missing_entries = coding_csv[coding_csv.PlanStructure.isnull()]"
   ]
  },
  {
   "cell_type": "code",
   "execution_count": 6,
   "metadata": {},
   "outputs": [],
   "source": [
    "sources = {}\n",
    "tokenizer = OCamlTokenizer()\n",
    "for _, row in missing_entries.iterrows():\n",
    "    id = row.ID\n",
    "    path = f'{CODE_DIR}/T1/{id}.ml'\n",
    "    if os.path.isfile(path):\n",
    "        try:\n",
    "            sources[id] = tokenizer.tokenize(open(path, 'r').read())[1]\n",
    "        except UnicodeDecodeError:\n",
    "            pass"
   ]
  },
  {
   "cell_type": "code",
   "execution_count": 9,
   "metadata": {},
   "outputs": [],
   "source": [
    "labels = {}"
   ]
  },
  {
   "cell_type": "code",
   "execution_count": 10,
   "metadata": {},
   "outputs": [
    {
     "data": {
      "application/vnd.jupyter.widget-view+json": {
       "model_id": "20268f51a8d8484a83ee4cf66f8c86f7",
       "version_major": 2,
       "version_minor": 0
      },
      "text/plain": [
       "HBox(children=(Button(description='rainfall', style=ButtonStyle()), Button(description='helper', style=ButtonS…"
      ]
     },
     "metadata": {},
     "output_type": "display_data"
    },
    {
     "name": "stdout",
     "output_type": "stream",
     "text": [
      "let rainfall (my_list : 'a list) =\n",
      "  (let rec helper (alon : 'a list) (sum : int) (count : int) =\n",
      "     (match (alon, sum) with\n",
      "      | ([], v) -> if count > 0 then (v + 1) / count else 0\n",
      "      | (hd::tl, v) ->\n",
      "          if hd = (-999)\n",
      "          then (if count > 0 then v / count else 0)\n",
      "          else\n",
      "            if hd >= 0\n",
      "            then helper tl (v + hd) (count + 1)\n",
      "            else helper tl v count : int) in\n",
      "   helper my_list 0 0 : int)\n",
      "\n"
     ]
    },
    {
     "ename": "StopIteration",
     "evalue": "",
     "output_type": "error",
     "traceback": [
      "\u001b[0;31m---------------------------------------------------------------------------\u001b[0m",
      "\u001b[0;31mStopIteration\u001b[0m                             Traceback (most recent call last)",
      "\u001b[0;32m<ipython-input-10-2d41ff7a25b0>\u001b[0m in \u001b[0;36mon_click\u001b[0;34m(plan, _)\u001b[0m\n\u001b[1;32m      8\u001b[0m     \u001b[0;32mdef\u001b[0m \u001b[0mon_click\u001b[0m\u001b[0;34m(\u001b[0m\u001b[0mplan\u001b[0m\u001b[0;34m,\u001b[0m \u001b[0m_\u001b[0m\u001b[0;34m)\u001b[0m\u001b[0;34m:\u001b[0m\u001b[0;34m\u001b[0m\u001b[0;34m\u001b[0m\u001b[0m\n\u001b[1;32m      9\u001b[0m         \u001b[0mlabels\u001b[0m\u001b[0;34m[\u001b[0m\u001b[0mid\u001b[0m\u001b[0;34m]\u001b[0m \u001b[0;34m=\u001b[0m \u001b[0mplan\u001b[0m\u001b[0;34m\u001b[0m\u001b[0;34m\u001b[0m\u001b[0m\n\u001b[0;32m---> 10\u001b[0;31m         \u001b[0mrender\u001b[0m\u001b[0;34m(\u001b[0m\u001b[0;34m)\u001b[0m\u001b[0;34m\u001b[0m\u001b[0;34m\u001b[0m\u001b[0m\n\u001b[0m\u001b[1;32m     11\u001b[0m \u001b[0;34m\u001b[0m\u001b[0m\n\u001b[1;32m     12\u001b[0m     \u001b[0mbtns\u001b[0m \u001b[0;34m=\u001b[0m \u001b[0;34m[\u001b[0m\u001b[0;34m]\u001b[0m\u001b[0;34m\u001b[0m\u001b[0;34m\u001b[0m\u001b[0m\n",
      "\u001b[0;32m<ipython-input-10-2d41ff7a25b0>\u001b[0m in \u001b[0;36mrender\u001b[0;34m()\u001b[0m\n\u001b[1;32m      4\u001b[0m \u001b[0;34m\u001b[0m\u001b[0m\n\u001b[1;32m      5\u001b[0m \u001b[0;32mdef\u001b[0m \u001b[0mrender\u001b[0m\u001b[0;34m(\u001b[0m\u001b[0;34m)\u001b[0m\u001b[0;34m:\u001b[0m\u001b[0;34m\u001b[0m\u001b[0;34m\u001b[0m\u001b[0m\n\u001b[0;32m----> 6\u001b[0;31m     \u001b[0mid\u001b[0m\u001b[0;34m,\u001b[0m \u001b[0msource\u001b[0m \u001b[0;34m=\u001b[0m \u001b[0mnext\u001b[0m\u001b[0;34m(\u001b[0m\u001b[0mgen\u001b[0m\u001b[0;34m)\u001b[0m\u001b[0;34m\u001b[0m\u001b[0;34m\u001b[0m\u001b[0m\n\u001b[0m\u001b[1;32m      7\u001b[0m \u001b[0;34m\u001b[0m\u001b[0m\n\u001b[1;32m      8\u001b[0m     \u001b[0;32mdef\u001b[0m \u001b[0mon_click\u001b[0m\u001b[0;34m(\u001b[0m\u001b[0mplan\u001b[0m\u001b[0;34m,\u001b[0m \u001b[0m_\u001b[0m\u001b[0;34m)\u001b[0m\u001b[0;34m:\u001b[0m\u001b[0;34m\u001b[0m\u001b[0;34m\u001b[0m\u001b[0m\n",
      "\u001b[0;31mStopIteration\u001b[0m: "
     ]
    }
   ],
   "source": [
    "plans = ['rainfall', 'helper', 'own']\n",
    "\n",
    "gen = iter(sources.items())\n",
    "\n",
    "def render():\n",
    "    id, source = next(gen)\n",
    "    \n",
    "    def on_click(plan, _):\n",
    "        labels[id] = plan\n",
    "        render()\n",
    "        \n",
    "    btns = []\n",
    "    for p in plans:\n",
    "        btn = widgets.Button(description=p)        \n",
    "        btn.on_click(partial(on_click, p))\n",
    "        btns.append(btn)\n",
    "        \n",
    "    clear_output()\n",
    "    disp(widgets.HBox(btns))\n",
    "    print(source)\n",
    "\n",
    "render()"
   ]
  },
  {
   "cell_type": "code",
   "execution_count": 12,
   "metadata": {},
   "outputs": [],
   "source": [
    "old_labels = pickle.load(open(f'{DATA_DIR}/T1-newlabels-countwhere.pkl', 'rb'))"
   ]
  },
  {
   "cell_type": "code",
   "execution_count": 22,
   "metadata": {},
   "outputs": [
    {
     "data": {
      "text/plain": [
       "0.9010989010989011"
      ]
     },
     "execution_count": 22,
     "metadata": {},
     "output_type": "execute_result"
    }
   ],
   "source": [
    "sum([\n",
    "    1 if v == CountWhere.from_string(labels[k]) else 0 for k,v in old_labels.items() if k in labels\n",
    "]) / len(labels)"
   ]
  },
  {
   "cell_type": "code",
   "execution_count": 26,
   "metadata": {},
   "outputs": [
    {
     "data": {
      "text/plain": [
       "dict_keys(['1', '2', '5', '6', '7', '9', '12', '13', '16', '17', '19', '20', '21', '24', '25', '26', '27', '29', '30', '31', '32', '33', '34', '36', '37', '38', '39', '40', '41', '42', '44', '45', '46', '47', '48', '49', '51', '52', '54', '55', '56', '57', '58', '59', '62', '63', '64', '67', '69', '70', '71', '72', '74', '75', '76', '80', '81', '82', '83', '84', '87', '88', '89', '90', '91', '92', '93', '94', '95', '97', '101', '102', '104', '105', '106', '107', '108', '110', '112', '116', '118', '121', '123', '125', '126', '129', '132', '133', '134', '135', '137', '138'])"
      ]
     },
     "execution_count": 26,
     "metadata": {},
     "output_type": "execute_result"
    }
   ],
   "source": [
    "sources.keys()"
   ]
  },
  {
   "cell_type": "code",
   "execution_count": 31,
   "metadata": {},
   "outputs": [
    {
     "name": "stdout",
     "output_type": "stream",
     "text": [
      "let rec rain_helper (rain_list : int list) =\n",
      "  (match rain_list with\n",
      "   | [] -> []\n",
      "   | (-999)::tl -> []\n",
      "   | num::tl -> if num >= 0 then num :: (rain_helper tl) else rain_helper tl : \n",
      "  int list)\n",
      "let rainfall (rain_list : int list) =\n",
      "  (let usable_rain = rain_helper rain_list in\n",
      "   if rain_list = []\n",
      "   then failwith \"You should seriously consider entering actual data.\"\n",
      "   else\n",
      "     if usable_rain = []\n",
      "     then\n",
      "       failwith\n",
      "         \"Dividing by zero? Not on my watch! Enter at least one non-negative number, plz.\"\n",
      "     else (List.fold_left (+) 0 usable_rain) / (List.length usable_rain) : \n",
      "  int)\n",
      "\n"
     ]
    }
   ],
   "source": [
    "print(sources['24'])"
   ]
  },
  {
   "cell_type": "code",
   "execution_count": 33,
   "metadata": {},
   "outputs": [],
   "source": [
    "planstr_to_plan = {\n",
    "    'rainfall': CountWhere.Rainfall,\n",
    "    'helper': CountWhere.Helper,\n",
    "    'own': CountWhere.Own\n",
    "}\n",
    "\n",
    "plan_labels = {k: planstr_to_plan[v] for k, v in labels.items()}"
   ]
  },
  {
   "cell_type": "code",
   "execution_count": 34,
   "metadata": {},
   "outputs": [],
   "source": [
    "pickle.dump(plan_labels, open(f'{DATA_DIR}/T1-newlabels-countwhere-will.pkl', 'wb'))"
   ]
  }
 ],
 "metadata": {
  "kernelspec": {
   "display_name": "Python 3",
   "language": "python",
   "name": "python3"
  },
  "language_info": {
   "codemirror_mode": {
    "name": "ipython",
    "version": 3
   },
   "file_extension": ".py",
   "mimetype": "text/x-python",
   "name": "python",
   "nbconvert_exporter": "python",
   "pygments_lexer": "ipython3",
   "version": "3.7.2"
  }
 },
 "nbformat": 4,
 "nbformat_minor": 2
}
