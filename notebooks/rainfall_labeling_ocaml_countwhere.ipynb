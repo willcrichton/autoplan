{
 "cells": [
  {
   "cell_type": "code",
   "execution_count": null,
   "metadata": {},
   "outputs": [],
   "source": [
    "%load_ext autoreload\n",
    "%autoreload 2"
   ]
  },
  {
   "cell_type": "code",
   "execution_count": null,
   "metadata": {},
   "outputs": [],
   "source": [
    "import os\n",
    "import pandas as pd\n",
    "import ipywidgets as widgets\n",
    "from IPython.display import display as disp, clear_output\n",
    "from functools import partial\n",
    "from autoplan.token import OCamlTokenizer\n",
    "from scripts.rainfall_ingest import load_new_labels, ingest_dataset\n",
    "from grammars.rainfall.labels import CountWhere\n",
    "from pickle_cache import PickleCache\n",
    "import pickle\n",
    "pcache = PickleCache()"
   ]
  },
  {
   "cell_type": "code",
   "execution_count": null,
   "metadata": {},
   "outputs": [],
   "source": [
    "REPO_DIR = os.path.expanduser('~/autoplan')\n",
    "DATA_DIR = f'{REPO_DIR}/data/rainfall/raw'\n",
    "CODE_DIR = f'{DATA_DIR}/Fall2013-RawData'\n",
    "\n",
    "def read_coding_csv(name):\n",
    "    return pd.read_csv(f'{DATA_DIR}/Fall2013Coding{name}.csv', index_col=0, header=None).T"
   ]
  },
  {
   "cell_type": "code",
   "execution_count": null,
   "metadata": {},
   "outputs": [],
   "source": [
    "plan_codes = pd.read_csv(f'{DATA_DIR}/PlanCodes-codes.csv')\n",
    "\n",
    "def read_and_join_coding(name):\n",
    "    coding_csv = read_coding_csv(name)\n",
    "    valid_entries = coding_csv[coding_csv.PlanStructure.isnull()]\n",
    "    combined_entries = valid_entries.set_index('PlanStructure').join(plan_codes.set_index('Code'))\n",
    "    return combined_entries"
   ]
  },
  {
   "cell_type": "code",
   "execution_count": null,
   "metadata": {},
   "outputs": [],
   "source": [
    "coding_csv = read_coding_csv('T1')\n",
    "missing_entries = coding_csv[coding_csv.PlanStructure.isnull()]"
   ]
  },
  {
   "cell_type": "code",
   "execution_count": null,
   "metadata": {},
   "outputs": [],
   "source": [
    "sources = {}\n",
    "tokenizer = OCamlTokenizer()\n",
    "for _, row in missing_entries.iterrows():\n",
    "    id = row.ID\n",
    "    path = f'{CODE_DIR}/T1/{id}.ml'\n",
    "    if os.path.isfile(path):\n",
    "        try:\n",
    "            sources[id] = tokenizer.tokenize(open(path, 'r').read())[1]\n",
    "        except UnicodeDecodeError:\n",
    "            pass"
   ]
  },
  {
   "cell_type": "code",
   "execution_count": null,
   "metadata": {},
   "outputs": [],
   "source": [
    "labels = {}"
   ]
  },
  {
   "cell_type": "code",
   "execution_count": null,
   "metadata": {},
   "outputs": [],
   "source": [
    "plans = ['rainfall', 'helper', 'own']\n",
    "\n",
    "gen = iter(sources.items())\n",
    "\n",
    "def render():\n",
    "    id, source = next(gen)\n",
    "    \n",
    "    def on_click(plan, _):\n",
    "        labels[id] = plan\n",
    "        render()\n",
    "        \n",
    "    btns = []\n",
    "    for p in plans:\n",
    "        btn = widgets.Button(description=p)        \n",
    "        btn.on_click(partial(on_click, p))\n",
    "        btns.append(btn)\n",
    "        \n",
    "    clear_output()\n",
    "    disp(widgets.HBox(btns))\n",
    "    print(source)\n",
    "\n",
    "render()"
   ]
  },
  {
   "cell_type": "code",
   "execution_count": null,
   "metadata": {},
   "outputs": [],
   "source": [
    "planstr_to_plan = {\n",
    "    'rainfall': CountWhere.Rainfall,\n",
    "    'helper': CountWhere.Helper,\n",
    "    'own': CountWhere.Own\n",
    "}\n",
    "\n",
    "plan_labels = {k: planstr_to_plan[v] for k, v in labels.items()}"
   ]
  },
  {
   "cell_type": "code",
   "execution_count": null,
   "metadata": {},
   "outputs": [],
   "source": [
    "pickle.dump(plan_labels, open(f'{DATA_DIR}/T1-newlabels-countwhere.pkl', 'wb'))"
   ]
  }
 ],
 "metadata": {
  "kernelspec": {
   "display_name": "Python 3",
   "language": "python",
   "name": "python3"
  },
  "language_info": {
   "codemirror_mode": {
    "name": "ipython",
    "version": 3
   },
   "file_extension": ".py",
   "mimetype": "text/x-python",
   "name": "python",
   "nbconvert_exporter": "python",
   "pygments_lexer": "ipython3",
   "version": "3.7.2"
  }
 },
 "nbformat": 4,
 "nbformat_minor": 2
}
