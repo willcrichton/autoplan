{
 "cells": [
  {
   "cell_type": "code",
   "execution_count": 1,
   "metadata": {},
   "outputs": [],
   "source": [
    "%load_ext autoreload\n",
    "%autoreload 2"
   ]
  },
  {
   "cell_type": "code",
   "execution_count": 8,
   "metadata": {},
   "outputs": [],
   "source": [
    "from autoplan.generator import ProgramGenerator\n",
    "from grammars.pythagorean.program import Program, PythagoreanLabels\n",
    "from autoplan.dataset import build_synthetic_dataset\n",
    "from autoplan.trainer import ParserTrainer, ClassifierTrainer\n",
    "from autoplan.parsing import ProgramParser\n",
    "from autoplan.token import JavaTokenizer\n",
    "from tqdm import tqdm_notebook as tqdm\n",
    "import torch\n",
    "import pandas as pd\n",
    "from pprint import pprint\n",
    "\n",
    "device = torch.device('cpu')\n",
    "#device = torch.device('cuda:0')"
   ]
  },
  {
   "cell_type": "code",
   "execution_count": 3,
   "metadata": {},
   "outputs": [
    {
     "name": "stdout",
     "output_type": "stream",
     "text": [
      "\n",
      "            public class PythagoreanTheorem extends ConsoleProgram {\n",
      "                public void run() {\n",
      "                    \n",
      "        print(\"Enter values to compute the Pythagorean Theorem.\");\n",
      "        int x = readInt(\"Enter x:\");\n",
      "        int y = readInt(\"Enter y:\");\n",
      "        int z = Math.sqrt(x * x + y * y);\n",
      "        print(\"The hypotenuse is\" + z);\n",
      "        \n",
      "                }\n",
      "            }\n",
      "        \n",
      "[('START', 0),\n",
      " ('naming_scheme', 1),\n",
      " ('num_type', 0),\n",
      " ('print_function', 1),\n",
      " ('main_prompt', 0),\n",
      " ('input_prompt', 1),\n",
      " ('uses_method', 1),\n",
      " ('output_prompt', 3)]\n",
      "{'START': [(1.0, None)],\n",
      " 'input_prompt': [(0.5555555820465088, ''),\n",
      "                  (0.2222222238779068, 'Enter '),\n",
      "                  (0.1111111119389534, 'enter value '),\n",
      "                  (0.1111111119389534, 'Enter value for ')],\n",
      " 'main_prompt': [(0.699999988079071,\n",
      "                  'Enter values to compute the Pythagorean Theorem.'),\n",
      "                 (0.15000000596046448,\n",
      "                  'This program finds the hypotenuse, C, of a triangle with '\n",
      "                  'sides A and B.'),\n",
      "                 (0.15000000596046448,\n",
      "                  'This program runs the Pythagorean Theorem. Choose values a '\n",
      "                  'and b.')],\n",
      " 'naming_scheme': [(0.5, 'a'), (0.5, 'x')],\n",
      " 'num_type': [(0.5, 'int'), (0.5, 'double')],\n",
      " 'output_prompt': [(0.5555555820465088, 'z='),\n",
      "                   (0.2222222238779068, 'z:'),\n",
      "                   (0.1111111119389534, 'The answer is'),\n",
      "                   (0.1111111119389534, 'The hypotenuse is')],\n",
      " 'print_function': [(0.5, 'println'), (0.5, 'print')],\n",
      " 'uses_method': [(0.3333333432674408, True), (0.6666666865348816, False)]}\n",
      "PythagoreanLabels.UsesInlineCalculation\n"
     ]
    }
   ],
   "source": [
    "program_grammar = Program()\n",
    "generator = ProgramGenerator(grammar=program_grammar)\n",
    "program, choices, choice_options, labels = generator.generate()\n",
    "print(program)\n",
    "pprint(choices)\n",
    "pprint(choice_options)\n",
    "print(labels)"
   ]
  },
  {
   "cell_type": "code",
   "execution_count": 37,
   "metadata": {},
   "outputs": [],
   "source": [
    "dataset = build_synthetic_dataset(\n",
    "    PythagoreanLabels,\n",
    "    N_train=100, \n",
    "    N_val=10, \n",
    "    tokenizer=JavaTokenizer(),\n",
    "    generator=ProgramGenerator(grammar=program_grammar))\n",
    "\n",
    "# N_train = 1000 is when we reach 71-75% accuracy on parsing (maximum so far) and we don't get the accuracy decrease\n",
    "# on loops 12.5-15.0. Bigger batches (N_train = 10000) seem to hurt accuracy\n",
    "\n",
    "# N_train = 100, N_val = 10 is when we reach 80% accuracy on classifying (maximum so far)\n",
    "# Bigger batches (N_train = 1000+) hurt accuracy"
   ]
  },
  {
   "cell_type": "code",
   "execution_count": 32,
   "metadata": {},
   "outputs": [
    {
     "data": {
      "text/plain": [
       "{'program': tensor([ 0,  1,  2,  3,  4,  5,  0,  6,  7,  8,  9,  5, 10,  8, 11,  9, 12, 13,\n",
       "         14, 15, 16,  8, 11,  9, 12, 13, 17, 15, 16,  8, 11,  9, 12, 13, 18, 15,\n",
       "         19, 20, 21,  8, 14, 22, 14, 23, 17, 22, 17,  9, 12, 10,  8, 11, 23, 18,\n",
       "          9, 12, 24, 24]),\n",
       " 'trace': tensor([0, 1, 2, 3, 4, 5, 6, 7]),\n",
       " 'choices': tensor([0, 0, 0, 0, 0, 0, 1, 1]),\n",
       " 'labels': tensor(1)}"
      ]
     },
     "execution_count": 32,
     "metadata": {},
     "output_type": "execute_result"
    }
   ],
   "source": [
    "dataset.train_dataset[0]"
   ]
  },
  {
   "cell_type": "code",
   "execution_count": 33,
   "metadata": {},
   "outputs": [],
   "source": [
    "batch = next(iter(dataset.loader(dataset.val_dataset)))"
   ]
  },
  {
   "cell_type": "code",
   "execution_count": 34,
   "metadata": {},
   "outputs": [],
   "source": [
    "trainer = ClassifierTrainer(program_grammar, dataset, device)\n",
    "#trainer = NeuralParser(program_grammar, dataset, device)"
   ]
  },
  {
   "cell_type": "code",
   "execution_count": 35,
   "metadata": {},
   "outputs": [
    {
     "data": {
      "application/vnd.jupyter.widget-view+json": {
       "model_id": "9423add1e36c4cd781cba24bd721b77f",
       "version_major": 2,
       "version_minor": 0
      },
      "text/plain": [
       "HBox(children=(IntProgress(value=0, max=20), HTML(value='')))"
      ]
     },
     "metadata": {},
     "output_type": "display_data"
    },
    {
     "name": "stdout",
     "output_type": "stream",
     "text": [
      "\n"
     ]
    }
   ],
   "source": [
    "losses = []\n",
    "accuracy = []\n",
    "for _ in tqdm(range(20)):\n",
    "    losses.append(trainer.train_one_epoch())\n",
    "    accuracy.append(trainer.eval())"
   ]
  },
  {
   "cell_type": "code",
   "execution_count": 36,
   "metadata": {},
   "outputs": [
    {
     "name": "stdout",
     "output_type": "stream",
     "text": [
      "[0.8, 0.8, 0.2, 0.2, 0.2, 0.2, 0.2, 0.8, 0.8, 0.8, 0.8, 0.8, 0.2, 0.2, 0.2, 0.2, 0.2, 0.2, 0.2, 0.8]\n"
     ]
    },
    {
     "data": {
      "image/png": "[encoded data removed]",
      "text/plain": [
       "<Figure size 432x288 with 1 Axes>"
      ]
     },
     "metadata": {
      "needs_background": "light"
     },
     "output_type": "display_data"
    }
   ],
   "source": [
    "pd.Series(losses).plot()\n",
    "print(accuracy)"
   ]
  },
  {
   "cell_type": "code",
   "execution_count": null,
   "metadata": {},
   "outputs": [],
   "source": [
    "trainer.model.save('checkpoint.ph.tar')"
   ]
  },
  {
   "cell_type": "code",
   "execution_count": null,
   "metadata": {},
   "outputs": [],
   "source": [
    "parser = ProgramParser(program_grammar, dataset, 'checkpoint.ph.tar', device)"
   ]
  },
  {
   "cell_type": "code",
   "execution_count": null,
   "metadata": {},
   "outputs": [],
   "source": [
    "parser.infer(batch['program'][:1], batch['program_len'][:1])"
   ]
  },
  {
   "cell_type": "code",
   "execution_count": null,
   "metadata": {},
   "outputs": [],
   "source": []
  },
  {
   "cell_type": "code",
   "execution_count": null,
   "metadata": {},
   "outputs": [],
   "source": []
  }
 ],
 "metadata": {
  "kernelspec": {
   "display_name": "Python 3",
   "language": "python",
   "name": "python3"
  },
  "language_info": {
   "codemirror_mode": {
    "name": "ipython",
    "version": 3
   },
   "file_extension": ".py",
   "mimetype": "text/x-python",
   "name": "python",
   "nbconvert_exporter": "python",
   "pygments_lexer": "ipython3",
   "version": "3.7.2"
  }
 },
 "nbformat": 4,
 "nbformat_minor": 2
}
