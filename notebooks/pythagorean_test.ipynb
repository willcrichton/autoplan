{
 "cells": [
  {
   "cell_type": "code",
   "execution_count": 1,
   "metadata": {},
   "outputs": [],
   "source": [
    "%load_ext autoreload\n",
    "%autoreload 2"
   ]
  },
  {
   "cell_type": "code",
   "execution_count": 2,
   "metadata": {},
   "outputs": [],
   "source": [
    "from autoplan.generator import Generator\n",
    "from grammars.pythagorean.program import Program, PythagoreanLabels\n",
    "from autoplan.dataset import build_dataset\n",
    "from autoplan.models import RNN, Trainer\n",
    "from autoplan.token import JavaTokenizer\n",
    "from tqdm import tqdm\n",
    "import torch\n",
    "import pandas as pd\n",
    "\n",
    "# device = torch.device('cpu')\n",
    "device = torch.device('cuda:0')"
   ]
  },
  {
   "cell_type": "code",
   "execution_count": 3,
   "metadata": {},
   "outputs": [
    {
     "name": "stdout",
     "output_type": "stream",
     "text": [
      "\n",
      "            public class PythagoreanTheorem extends ConsoleProgram {{\n",
      "                public void run() {{\n",
      "                    \n",
      "        println(\"This program runs the Pythagorean Theorem. Choose values a and b.\");\n",
      "        int x = readInt(\"x:\");\n",
      "        int y = readInt(\"y:\");\n",
      "        int z = Math.sqrt(Math.pow(x, 2) + Math.pow(y, 2));\n",
      "        println(\"The answer is\" + z);\n",
      "        \n",
      "                }}\n",
      "            }}\n",
      "        \n",
      "PythagoreanLabels.UsesMathPow\n"
     ]
    }
   ],
   "source": [
    "program_grammar = Program()\n",
    "generator = Generator(grammar=program_grammar)\n",
    "program, labels = generator.generate()\n",
    "print(program)\n",
    "print(labels)"
   ]
  },
  {
   "cell_type": "code",
   "execution_count": 7,
   "metadata": {},
   "outputs": [],
   "source": [
    "dataset = build_dataset(\n",
    "    N_train=10000, \n",
    "    N_val=1000, \n",
    "    tokenizer=JavaTokenizer(),\n",
    "    grammar=program_grammar, \n",
    "    label_set=PythagoreanLabels)"
   ]
  },
  {
   "cell_type": "code",
   "execution_count": 8,
   "metadata": {},
   "outputs": [],
   "source": [
    "trainer = Trainer(dataset, RNN, device=device)"
   ]
  },
  {
   "cell_type": "code",
   "execution_count": 9,
   "metadata": {},
   "outputs": [
    {
     "name": "stderr",
     "output_type": "stream",
     "text": [
      "100%|██████████| 100/100 [01:12<00:00,  1.40it/s]\n"
     ]
    },
    {
     "data": {
      "text/plain": [
       "<matplotlib.axes._subplots.AxesSubplot at 0x7f2869465518>"
      ]
     },
     "execution_count": 9,
     "metadata": {},
     "output_type": "execute_result"
    }
   ],
   "source": [
    "losses = []\n",
    "for _ in tqdm(range(100)):\n",
    "    losses.append(trainer.train_one_epoch())\n",
    "pd.Series(losses).plot()"
   ]
  },
  {
   "cell_type": "code",
   "execution_count": 10,
   "metadata": {},
   "outputs": [
    {
     "data": {
      "text/plain": [
       "1.0"
      ]
     },
     "execution_count": 10,
     "metadata": {},
     "output_type": "execute_result"
    }
   ],
   "source": [
    "trainer.eval()"
   ]
  }
 ],
 "metadata": {
  "kernelspec": {
   "display_name": "Python 3",
   "language": "python",
   "name": "python3"
  },
  "language_info": {
   "codemirror_mode": {
    "name": "ipython",
    "version": 3
   },
   "file_extension": ".py",
   "mimetype": "text/x-python",
   "name": "python",
   "nbconvert_exporter": "python",
   "pygments_lexer": "ipython3",
   "version": "3.7.2"
  }
 },
 "nbformat": 4,
 "nbformat_minor": 2
}
