{
 "cells": [
  {
   "cell_type": "code",
   "execution_count": 1,
   "metadata": {},
   "outputs": [],
   "source": [
    "%load_ext autoreload\n",
    "%autoreload 2"
   ]
  },
  {
   "cell_type": "code",
   "execution_count": 7,
   "metadata": {},
   "outputs": [],
   "source": [
    "from autoplan.generator import ProgramGenerator\n",
    "from grammars.pythagorean.program import Program, PythagoreanLabels\n",
    "from autoplan.dataset import build_synthetic_dataset\n",
    "from autoplan.trainer import ParserTrainer\n",
    "from autoplan.parsing import Parser\n",
    "from autoplan.token import JavaTokenizer\n",
    "from tqdm import tqdm_notebook as tqdm\n",
    "import torch\n",
    "import pandas as pd\n",
    "\n",
    "# device = torch.device('cpu')\n",
    "device = torch.device('cuda:0')"
   ]
  },
  {
   "cell_type": "code",
   "execution_count": 9,
   "metadata": {},
   "outputs": [
    {
     "name": "stdout",
     "output_type": "stream",
     "text": [
      "\n",
      "            public class PythagoreanTheorem extends ConsoleProgram {\n",
      "                public void run() {\n",
      "                    \n",
      "        println(\"Enter values to compute the Pythagorean Theorem.\");\n",
      "        int a = readInt(\"a:\");\n",
      "        int b = readInt(\"b:\");\n",
      "        int c = Math.sqrt(Math.pow(a, 2) + Math.pow(b, 2));\n",
      "        println(\"c:\" + c);\n",
      "        \n",
      "                }\n",
      "            }\n",
      "        \n",
      "[('START', 0), ('naming_scheme', 0), ('num_type', 0), ('print_function', 0), ('main_prompt', 0), ('input_prompt', 0), ('uses_method', 0), ('output_prompt', 1)]\n",
      "{'START': [(1.0, None)], 'naming_scheme': [(0.5, 'a'), (0.5, 'x')], 'num_type': [(0.5, 'int'), (0.5, 'double')], 'print_function': [(0.5, 'println'), (0.5, 'print')], 'main_prompt': [(0.699999988079071, 'Enter values to compute the Pythagorean Theorem.'), (0.15000000596046448, 'This program finds the hypotenuse, C, of a triangle with sides A and B.'), (0.15000000596046448, 'This program runs the Pythagorean Theorem. Choose values a and b.')], 'input_prompt': [(0.5555555820465088, ''), (0.2222222238779068, 'Enter '), (0.1111111119389534, 'enter value '), (0.1111111119389534, 'Enter value for ')], 'uses_method': [(0.3333333432674408, True), (0.6666666865348816, False)], 'output_prompt': [(0.5555555820465088, 'c='), (0.2222222238779068, 'c:'), (0.1111111119389534, 'The answer is'), (0.1111111119389534, 'The hypotenuse is')]}\n"
     ]
    }
   ],
   "source": [
    "program_grammar = Program()\n",
    "generator = ProgramGenerator(grammar=program_grammar)\n",
    "program, choices, choice_options = generator.generate()\n",
    "print(program)\n",
    "print(choices)\n",
    "print(choice_options)"
   ]
  },
  {
   "cell_type": "code",
   "execution_count": 10,
   "metadata": {},
   "outputs": [],
   "source": [
    "dataset = build_synthetic_dataset(\n",
    "    N_train=1000, \n",
    "    N_val=100, \n",
    "    tokenizer=JavaTokenizer(),\n",
    "    grammar=program_grammar)"
   ]
  },
  {
   "cell_type": "code",
   "execution_count": 11,
   "metadata": {},
   "outputs": [],
   "source": [
    "batch = next(iter(dataset.loader(dataset.val_dataset)))"
   ]
  },
  {
   "cell_type": "code",
   "execution_count": 14,
   "metadata": {},
   "outputs": [],
   "source": [
    "trainer = ParserTrainer(program_grammar, dataset, device)"
   ]
  },
  {
   "cell_type": "code",
   "execution_count": null,
   "metadata": {},
   "outputs": [
    {
     "data": {
      "application/vnd.jupyter.widget-view+json": {
       "model_id": "6cdad670907a485f83da3517e1e3b719",
       "version_major": 2,
       "version_minor": 0
      },
      "text/plain": [
       "HBox(children=(IntProgress(value=0, max=20), HTML(value='')))"
      ]
     },
     "metadata": {},
     "output_type": "display_data"
    }
   ],
   "source": [
    "losses = []\n",
    "accuracy = []\n",
    "for _ in tqdm(range(20)):\n",
    "    losses.append(trainer.train_one_epoch())\n",
    "    accuracy.append(trainer.eval())\n",
    "pd.Series(losses).plot()"
   ]
  }
 ],
 "metadata": {
  "kernelspec": {
   "display_name": "Python 3",
   "language": "python",
   "name": "python3"
  },
  "language_info": {
   "codemirror_mode": {
    "name": "ipython",
    "version": 3
   },
   "file_extension": ".py",
   "mimetype": "text/x-python",
   "name": "python",
   "nbconvert_exporter": "python",
   "pygments_lexer": "ipython3",
   "version": "3.7.2"
  }
 },
 "nbformat": 4,
 "nbformat_minor": 2
}
