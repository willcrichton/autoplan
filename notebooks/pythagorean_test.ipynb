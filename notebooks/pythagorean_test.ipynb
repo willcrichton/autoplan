{
 "cells": [
  {
   "cell_type": "code",
   "execution_count": 1,
   "metadata": {},
   "outputs": [],
   "source": [
    "%load_ext autoreload\n",
    "%autoreload 2"
   ]
  },
  {
   "cell_type": "code",
   "execution_count": 12,
   "metadata": {},
   "outputs": [],
   "source": [
    "from autoplan.generator import Generator\n",
    "from grammars.pythagorean.program import Program, PythagoreanLabels\n",
    "from autoplan.dataset import build_synthetic_dataset\n",
    "from autoplan.models import RNN\n",
    "from autoplan.trainer import Trainer\n",
    "from autoplan.token import JavaTokenizer\n",
    "from tqdm import tqdm\n",
    "import torch\n",
    "import pandas as pd\n",
    "\n",
    "# device = torch.device('cpu')\n",
    "device = torch.device('cuda:0')"
   ]
  },
  {
   "cell_type": "code",
   "execution_count": 15,
   "metadata": {},
   "outputs": [
    {
     "name": "stdout",
     "output_type": "stream",
     "text": [
      "\n",
      "            public class PythagoreanTheorem extends ConsoleProgram {{\n",
      "                public void run() {{\n",
      "                    \n",
      "        print(\"Enter values to compute the Pythagorean Theorem.\");\n",
      "        double x = readDouble(\"x:\");\n",
      "        double y = readDouble(\"y:\");\n",
      "        double z = Math.sqrt(x * x + y * y);\n",
      "        print(\"z:\" + z);\n",
      "        \n",
      "                }}\n",
      "            }}\n",
      "        \n",
      "PythagoreanLabels.UsesInlineCalculation\n"
     ]
    }
   ],
   "source": [
    "program_grammar = Program()\n",
    "generator = Generator(grammar=program_grammar)\n",
    "program, label = generator.generate()\n",
    "print(program)\n",
    "print(label)"
   ]
  },
  {
   "cell_type": "code",
   "execution_count": 21,
   "metadata": {},
   "outputs": [],
   "source": [
    "dataset = build_synthetic_dataset(\n",
    "    N_train=10000, \n",
    "    N_val=1000, \n",
    "    tokenizer=JavaTokenizer(),\n",
    "    grammar=program_grammar, \n",
    "    label_set=PythagoreanLabels)"
   ]
  },
  {
   "cell_type": "code",
   "execution_count": 22,
   "metadata": {},
   "outputs": [],
   "source": [
    "trainer = Trainer(dataset, RNN, device=device)"
   ]
  },
  {
   "cell_type": "code",
   "execution_count": 23,
   "metadata": {},
   "outputs": [
    {
     "name": "stderr",
     "output_type": "stream",
     "text": [
      "100%|██████████| 20/20 [00:15<00:00,  1.34it/s]\n"
     ]
    },
    {
     "data": {
      "text/plain": [
       "<matplotlib.axes._subplots.AxesSubplot at 0x7f286ddfbdd8>"
      ]
     },
     "execution_count": 23,
     "metadata": {},
     "output_type": "execute_result"
    },
    {
     "data": {
      "image/png": "[encoded data removed]",
      "text/plain": [
       "<Figure size 432x288 with 1 Axes>"
      ]
     },
     "metadata": {
      "needs_background": "light"
     },
     "output_type": "display_data"
    }
   ],
   "source": [
    "losses = []\n",
    "for _ in tqdm(range(20)):\n",
    "    losses.append(trainer.train_one_epoch())\n",
    "pd.Series(losses).plot()"
   ]
  },
  {
   "cell_type": "code",
   "execution_count": 24,
   "metadata": {},
   "outputs": [
    {
     "data": {
      "text/plain": [
       "1.0"
      ]
     },
     "execution_count": 24,
     "metadata": {},
     "output_type": "execute_result"
    }
   ],
   "source": [
    "trainer.eval()"
   ]
  }
 ],
 "metadata": {
  "kernelspec": {
   "display_name": "Python 3",
   "language": "python",
   "name": "python3"
  },
  "language_info": {
   "codemirror_mode": {
    "name": "ipython",
    "version": 3
   },
   "file_extension": ".py",
   "mimetype": "text/x-python",
   "name": "python",
   "nbconvert_exporter": "python",
   "pygments_lexer": "ipython3",
   "version": "3.7.2"
  }
 },
 "nbformat": 4,
 "nbformat_minor": 2
}
