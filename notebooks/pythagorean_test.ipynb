{
 "cells": [
  {
   "cell_type": "code",
   "execution_count": 1,
   "metadata": {},
   "outputs": [],
   "source": [
    "%load_ext autoreload\n",
    "%autoreload 2"
   ]
  },
  {
   "cell_type": "code",
   "execution_count": 2,
   "metadata": {},
   "outputs": [],
   "source": [
    "from autoplan.generator import Generator, Inference\n",
    "from grammars.pythagorean.program import Program, PythagoreanLabels\n",
    "from autoplan.dataset import build_synthetic_dataset\n",
    "from autoplan.models import ProgramClassifier, GrammarInference\n",
    "from autoplan.trainer import Trainer\n",
    "from autoplan.token import JavaTokenizer\n",
    "from tqdm import tqdm_notebook as tqdm\n",
    "import torch\n",
    "import pandas as pd\n",
    "\n",
    "# device = torch.device('cpu')\n",
    "device = torch.device('cuda:0')"
   ]
  },
  {
   "cell_type": "code",
   "execution_count": 60,
   "metadata": {},
   "outputs": [],
   "source": [
    "%aimport -torch"
   ]
  },
  {
   "cell_type": "code",
   "execution_count": 131,
   "metadata": {},
   "outputs": [
    {
     "name": "stdout",
     "output_type": "stream",
     "text": [
      "\n",
      "            public class PythagoreanTheorem extends ConsoleProgram {{\n",
      "                public void run() {{\n",
      "                    \n",
      "        print(\"Enter values to compute the Pythagorean Theorem.\");\n",
      "        int a = readInt(\"a:\");\n",
      "        int b = readInt(\"b:\");\n",
      "        int c = Math.sqrt(a * a + b * b);\n",
      "        print(\"c=\" + c);\n",
      "        \n",
      "                }}\n",
      "            }}\n",
      "        \n",
      "[('naming_scheme', 0), ('num_type', 0), ('print_function', 1), ('main_prompt', 0), ('input_prompt', 0), ('uses_method', 1), ('output_prompt', 0)]\n",
      "{'naming_scheme': [(0.5, 'a'), (0.5, 'x')], 'num_type': [(0.5, 'int'), (0.5, 'double')], 'print_function': [(0.5, 'println'), (0.5, 'print')], 'main_prompt': [(0.699999988079071, 'Enter values to compute the Pythagorean Theorem.'), (0.15000000596046448, 'This program finds the hypotenuse, C, of a triangle with sides A and B.'), (0.15000000596046448, 'This program runs the Pythagorean Theorem. Choose values a and b.')], 'input_prompt': [(0.5555555820465088, ''), (0.2222222238779068, 'Enter '), (0.1111111119389534, 'enter value '), (0.1111111119389534, 'Enter value for ')], 'uses_method': [(0.3333333432674408, True), (0.6666666865348816, False)], 'output_prompt': [(0.5555555820465088, 'c='), (0.2222222238779068, 'c:'), (0.1111111119389534, 'The answer is'), (0.1111111119389534, 'The hypotenuse is')]}\n"
     ]
    }
   ],
   "source": [
    "program_grammar = Program()\n",
    "generator = Generator(grammar=program_grammar)\n",
    "program, choices, choice_options = generator.generate()\n",
    "print(program)\n",
    "print(choices)\n",
    "print(choice_options)"
   ]
  },
  {
   "cell_type": "code",
   "execution_count": 121,
   "metadata": {},
   "outputs": [],
   "source": [
    "dataset = build_synthetic_dataset(\n",
    "    N_train=1000, \n",
    "    N_val=100, \n",
    "    tokenizer=JavaTokenizer(),\n",
    "    grammar=program_grammar)"
   ]
  },
  {
   "cell_type": "code",
   "execution_count": 91,
   "metadata": {},
   "outputs": [],
   "source": [
    "infer = Inference(program_grammar, dataset, device)"
   ]
  },
  {
   "cell_type": "code",
   "execution_count": 122,
   "metadata": {},
   "outputs": [],
   "source": [
    "loader = dataset.loader(dataset.train_dataset)\n",
    "batch = next(iter(loader))\n",
    "#infer.infer(batch['program'][:1], batch['program_len'][:1])"
   ]
  },
  {
   "cell_type": "code",
   "execution_count": 123,
   "metadata": {},
   "outputs": [
    {
     "data": {
      "text/plain": [
       "{'choices': tensor([[1, 1, 0, 0, 0, 1, 1],\n",
       "         [1, 1, 1, 0, 3, 0, 0],\n",
       "         [1, 1, 0, 0, 0, 1, 3],\n",
       "         [0, 0, 0, 0, 0, 0, 0],\n",
       "         [1, 1, 0, 0, 1, 0, 0],\n",
       "         [1, 0, 0, 0, 1, 1, 1],\n",
       "         [0, 1, 1, 0, 2, 0, 1],\n",
       "         [1, 1, 1, 0, 2, 0, 0],\n",
       "         [1, 0, 0, 0, 1, 1, 3],\n",
       "         [1, 1, 1, 0, 1, 1, 1],\n",
       "         [1, 1, 1, 0, 1, 0, 1],\n",
       "         [1, 1, 0, 0, 0, 0, 0],\n",
       "         [0, 0, 0, 2, 1, 0, 0],\n",
       "         [1, 1, 1, 2, 0, 0, 0],\n",
       "         [1, 1, 1, 0, 0, 0, 1],\n",
       "         [0, 1, 1, 0, 0, 0, 3],\n",
       "         [0, 1, 1, 0, 0, 1, 0],\n",
       "         [0, 1, 1, 0, 3, 1, 1],\n",
       "         [1, 0, 1, 0, 2, 0, 0],\n",
       "         [1, 1, 0, 0, 1, 0, 0],\n",
       "         [1, 1, 0, 1, 0, 1, 0],\n",
       "         [0, 0, 1, 0, 1, 0, 0],\n",
       "         [0, 0, 1, 0, 0, 1, 0],\n",
       "         [0, 1, 0, 0, 0, 1, 0],\n",
       "         [1, 1, 0, 0, 0, 1, 0],\n",
       "         [0, 1, 1, 0, 0, 0, 0],\n",
       "         [0, 0, 1, 2, 0, 0, 0],\n",
       "         [0, 0, 1, 0, 3, 1, 3],\n",
       "         [1, 1, 0, 0, 0, 1, 1],\n",
       "         [1, 1, 1, 0, 3, 1, 0],\n",
       "         [0, 1, 1, 2, 0, 1, 2],\n",
       "         [0, 0, 0, 0, 0, 1, 0],\n",
       "         [0, 0, 1, 0, 3, 0, 0],\n",
       "         [0, 1, 1, 0, 3, 1, 1],\n",
       "         [0, 0, 0, 0, 0, 1, 0],\n",
       "         [0, 1, 0, 0, 0, 0, 0],\n",
       "         [0, 0, 1, 0, 2, 1, 0],\n",
       "         [1, 0, 1, 0, 3, 1, 1],\n",
       "         [0, 0, 1, 0, 0, 0, 0],\n",
       "         [0, 1, 0, 0, 3, 1, 0],\n",
       "         [1, 1, 1, 0, 0, 1, 1],\n",
       "         [1, 1, 0, 1, 0, 1, 0],\n",
       "         [0, 1, 0, 0, 0, 1, 0],\n",
       "         [1, 0, 0, 0, 1, 1, 0],\n",
       "         [0, 0, 0, 0, 1, 1, 0],\n",
       "         [1, 0, 1, 1, 0, 1, 0],\n",
       "         [1, 1, 1, 0, 0, 1, 3],\n",
       "         [1, 0, 1, 1, 0, 0, 0],\n",
       "         [0, 0, 1, 0, 2, 1, 0],\n",
       "         [1, 1, 0, 1, 0, 0, 2],\n",
       "         [1, 1, 0, 1, 0, 1, 2],\n",
       "         [1, 0, 0, 1, 1, 1, 0],\n",
       "         [0, 1, 1, 2, 0, 1, 2],\n",
       "         [1, 0, 1, 0, 0, 0, 0],\n",
       "         [1, 0, 0, 0, 0, 1, 3],\n",
       "         [1, 0, 0, 0, 3, 0, 0],\n",
       "         [0, 1, 1, 0, 0, 0, 0],\n",
       "         [1, 1, 0, 0, 0, 1, 3],\n",
       "         [1, 0, 0, 1, 0, 1, 0],\n",
       "         [0, 1, 1, 1, 3, 0, 0],\n",
       "         [1, 1, 0, 0, 0, 1, 0],\n",
       "         [1, 0, 0, 0, 0, 0, 0],\n",
       "         [0, 1, 1, 0, 1, 0, 0],\n",
       "         [0, 0, 0, 0, 0, 0, 0],\n",
       "         [0, 1, 0, 2, 0, 1, 1],\n",
       "         [1, 0, 1, 1, 1, 0, 0],\n",
       "         [1, 1, 1, 0, 0, 1, 0],\n",
       "         [1, 1, 1, 2, 1, 1, 2],\n",
       "         [0, 1, 0, 0, 1, 1, 0],\n",
       "         [1, 1, 1, 0, 1, 0, 2],\n",
       "         [0, 1, 0, 1, 0, 1, 3],\n",
       "         [0, 1, 1, 0, 0, 1, 0],\n",
       "         [1, 0, 0, 0, 0, 1, 0],\n",
       "         [1, 1, 1, 2, 1, 1, 0],\n",
       "         [0, 0, 1, 2, 0, 0, 0],\n",
       "         [0, 0, 1, 2, 0, 1, 2],\n",
       "         [0, 0, 1, 0, 0, 0, 3],\n",
       "         [0, 0, 0, 0, 1, 0, 1],\n",
       "         [0, 1, 0, 1, 0, 0, 0],\n",
       "         [0, 0, 0, 0, 0, 1, 1],\n",
       "         [0, 1, 1, 0, 0, 1, 0],\n",
       "         [0, 1, 0, 1, 2, 0, 1],\n",
       "         [1, 1, 0, 2, 0, 1, 1],\n",
       "         [0, 1, 1, 0, 0, 1, 1],\n",
       "         [1, 1, 0, 0, 1, 0, 2],\n",
       "         [1, 1, 0, 2, 3, 1, 0],\n",
       "         [1, 0, 0, 0, 1, 1, 0],\n",
       "         [1, 1, 0, 1, 1, 1, 0],\n",
       "         [0, 0, 0, 0, 0, 1, 3],\n",
       "         [0, 1, 0, 0, 0, 1, 0],\n",
       "         [0, 0, 0, 0, 0, 0, 0],\n",
       "         [0, 0, 1, 0, 0, 1, 1],\n",
       "         [0, 1, 1, 1, 1, 1, 1],\n",
       "         [0, 1, 0, 0, 2, 1, 1],\n",
       "         [1, 1, 1, 2, 0, 1, 0],\n",
       "         [1, 1, 1, 0, 0, 1, 0],\n",
       "         [1, 0, 1, 0, 0, 1, 0],\n",
       "         [1, 1, 1, 0, 1, 1, 1],\n",
       "         [1, 1, 1, 0, 0, 0, 3],\n",
       "         [0, 0, 0, 2, 1, 1, 1]]),\n",
       " 'program': tensor([[ 0,  1,  2,  ...,  0,  0,  0],\n",
       "         [ 0,  1,  2,  ..., 24, 24, 24],\n",
       "         [ 0,  1,  2,  ...,  0,  0,  0],\n",
       "         ...,\n",
       "         [ 0,  1,  2,  ...,  0,  0,  0],\n",
       "         [ 0,  1,  2,  ..., 24, 24, 24],\n",
       "         [ 0,  1,  2,  ...,  0,  0,  0]]),\n",
       " 'program_len': tensor([62, 72, 62, 72, 72, 62, 72, 72, 62, 62, 72, 72, 72, 72, 72, 72, 62, 62,\n",
       "         72, 72, 62, 72, 62, 62, 62, 72, 72, 62, 62, 62, 62, 62, 72, 62, 62, 72,\n",
       "         62, 62, 72, 62, 62, 62, 62, 62, 62, 62, 62, 72, 62, 72, 62, 62, 62, 72,\n",
       "         62, 72, 72, 62, 62, 72, 62, 72, 72, 72, 62, 72, 62, 62, 62, 72, 62, 62,\n",
       "         62, 62, 72, 62, 72, 72, 72, 62, 62, 72, 62, 62, 72, 62, 62, 62, 62, 62,\n",
       "         72, 62, 62, 62, 62, 62, 62, 62, 72, 62]),\n",
       " 'trace': tensor([[0, 1, 2, 3, 4, 5, 6],\n",
       "         [0, 1, 2, 3, 4, 5, 6],\n",
       "         [0, 1, 2, 3, 4, 5, 6],\n",
       "         [0, 1, 2, 3, 4, 5, 6],\n",
       "         [0, 1, 2, 3, 4, 5, 6],\n",
       "         [0, 1, 2, 3, 4, 5, 6],\n",
       "         [0, 1, 2, 3, 4, 5, 6],\n",
       "         [0, 1, 2, 3, 4, 5, 6],\n",
       "         [0, 1, 2, 3, 4, 5, 6],\n",
       "         [0, 1, 2, 3, 4, 5, 6],\n",
       "         [0, 1, 2, 3, 4, 5, 6],\n",
       "         [0, 1, 2, 3, 4, 5, 6],\n",
       "         [0, 1, 2, 3, 4, 5, 6],\n",
       "         [0, 1, 2, 3, 4, 5, 6],\n",
       "         [0, 1, 2, 3, 4, 5, 6],\n",
       "         [0, 1, 2, 3, 4, 5, 6],\n",
       "         [0, 1, 2, 3, 4, 5, 6],\n",
       "         [0, 1, 2, 3, 4, 5, 6],\n",
       "         [0, 1, 2, 3, 4, 5, 6],\n",
       "         [0, 1, 2, 3, 4, 5, 6],\n",
       "         [0, 1, 2, 3, 4, 5, 6],\n",
       "         [0, 1, 2, 3, 4, 5, 6],\n",
       "         [0, 1, 2, 3, 4, 5, 6],\n",
       "         [0, 1, 2, 3, 4, 5, 6],\n",
       "         [0, 1, 2, 3, 4, 5, 6],\n",
       "         [0, 1, 2, 3, 4, 5, 6],\n",
       "         [0, 1, 2, 3, 4, 5, 6],\n",
       "         [0, 1, 2, 3, 4, 5, 6],\n",
       "         [0, 1, 2, 3, 4, 5, 6],\n",
       "         [0, 1, 2, 3, 4, 5, 6],\n",
       "         [0, 1, 2, 3, 4, 5, 6],\n",
       "         [0, 1, 2, 3, 4, 5, 6],\n",
       "         [0, 1, 2, 3, 4, 5, 6],\n",
       "         [0, 1, 2, 3, 4, 5, 6],\n",
       "         [0, 1, 2, 3, 4, 5, 6],\n",
       "         [0, 1, 2, 3, 4, 5, 6],\n",
       "         [0, 1, 2, 3, 4, 5, 6],\n",
       "         [0, 1, 2, 3, 4, 5, 6],\n",
       "         [0, 1, 2, 3, 4, 5, 6],\n",
       "         [0, 1, 2, 3, 4, 5, 6],\n",
       "         [0, 1, 2, 3, 4, 5, 6],\n",
       "         [0, 1, 2, 3, 4, 5, 6],\n",
       "         [0, 1, 2, 3, 4, 5, 6],\n",
       "         [0, 1, 2, 3, 4, 5, 6],\n",
       "         [0, 1, 2, 3, 4, 5, 6],\n",
       "         [0, 1, 2, 3, 4, 5, 6],\n",
       "         [0, 1, 2, 3, 4, 5, 6],\n",
       "         [0, 1, 2, 3, 4, 5, 6],\n",
       "         [0, 1, 2, 3, 4, 5, 6],\n",
       "         [0, 1, 2, 3, 4, 5, 6],\n",
       "         [0, 1, 2, 3, 4, 5, 6],\n",
       "         [0, 1, 2, 3, 4, 5, 6],\n",
       "         [0, 1, 2, 3, 4, 5, 6],\n",
       "         [0, 1, 2, 3, 4, 5, 6],\n",
       "         [0, 1, 2, 3, 4, 5, 6],\n",
       "         [0, 1, 2, 3, 4, 5, 6],\n",
       "         [0, 1, 2, 3, 4, 5, 6],\n",
       "         [0, 1, 2, 3, 4, 5, 6],\n",
       "         [0, 1, 2, 3, 4, 5, 6],\n",
       "         [0, 1, 2, 3, 4, 5, 6],\n",
       "         [0, 1, 2, 3, 4, 5, 6],\n",
       "         [0, 1, 2, 3, 4, 5, 6],\n",
       "         [0, 1, 2, 3, 4, 5, 6],\n",
       "         [0, 1, 2, 3, 4, 5, 6],\n",
       "         [0, 1, 2, 3, 4, 5, 6],\n",
       "         [0, 1, 2, 3, 4, 5, 6],\n",
       "         [0, 1, 2, 3, 4, 5, 6],\n",
       "         [0, 1, 2, 3, 4, 5, 6],\n",
       "         [0, 1, 2, 3, 4, 5, 6],\n",
       "         [0, 1, 2, 3, 4, 5, 6],\n",
       "         [0, 1, 2, 3, 4, 5, 6],\n",
       "         [0, 1, 2, 3, 4, 5, 6],\n",
       "         [0, 1, 2, 3, 4, 5, 6],\n",
       "         [0, 1, 2, 3, 4, 5, 6],\n",
       "         [0, 1, 2, 3, 4, 5, 6],\n",
       "         [0, 1, 2, 3, 4, 5, 6],\n",
       "         [0, 1, 2, 3, 4, 5, 6],\n",
       "         [0, 1, 2, 3, 4, 5, 6],\n",
       "         [0, 1, 2, 3, 4, 5, 6],\n",
       "         [0, 1, 2, 3, 4, 5, 6],\n",
       "         [0, 1, 2, 3, 4, 5, 6],\n",
       "         [0, 1, 2, 3, 4, 5, 6],\n",
       "         [0, 1, 2, 3, 4, 5, 6],\n",
       "         [0, 1, 2, 3, 4, 5, 6],\n",
       "         [0, 1, 2, 3, 4, 5, 6],\n",
       "         [0, 1, 2, 3, 4, 5, 6],\n",
       "         [0, 1, 2, 3, 4, 5, 6],\n",
       "         [0, 1, 2, 3, 4, 5, 6],\n",
       "         [0, 1, 2, 3, 4, 5, 6],\n",
       "         [0, 1, 2, 3, 4, 5, 6],\n",
       "         [0, 1, 2, 3, 4, 5, 6],\n",
       "         [0, 1, 2, 3, 4, 5, 6],\n",
       "         [0, 1, 2, 3, 4, 5, 6],\n",
       "         [0, 1, 2, 3, 4, 5, 6],\n",
       "         [0, 1, 2, 3, 4, 5, 6],\n",
       "         [0, 1, 2, 3, 4, 5, 6],\n",
       "         [0, 1, 2, 3, 4, 5, 6],\n",
       "         [0, 1, 2, 3, 4, 5, 6],\n",
       "         [0, 1, 2, 3, 4, 5, 6],\n",
       "         [0, 1, 2, 3, 4, 5, 6]]),\n",
       " 'trace_len': tensor([7, 7, 7, 7, 7, 7, 7, 7, 7, 7, 7, 7, 7, 7, 7, 7, 7, 7, 7, 7, 7, 7, 7, 7,\n",
       "         7, 7, 7, 7, 7, 7, 7, 7, 7, 7, 7, 7, 7, 7, 7, 7, 7, 7, 7, 7, 7, 7, 7, 7,\n",
       "         7, 7, 7, 7, 7, 7, 7, 7, 7, 7, 7, 7, 7, 7, 7, 7, 7, 7, 7, 7, 7, 7, 7, 7,\n",
       "         7, 7, 7, 7, 7, 7, 7, 7, 7, 7, 7, 7, 7, 7, 7, 7, 7, 7, 7, 7, 7, 7, 7, 7,\n",
       "         7, 7, 7, 7])}"
      ]
     },
     "execution_count": 123,
     "metadata": {},
     "output_type": "execute_result"
    }
   ],
   "source": [
    "batch"
   ]
  },
  {
   "cell_type": "code",
   "execution_count": 57,
   "metadata": {},
   "outputs": [
    {
     "data": {
      "text/plain": [
       "{'program': tensor([ 0,  1,  2,  3,  4,  5,  5,  0,  6,  7,  8,  9,  5,  5, 10,  8, 11,  9,\n",
       "         12, 13, 14, 15, 16,  8, 11,  9, 12, 13, 17, 15, 16,  8, 11,  9, 12, 13,\n",
       "         18, 15, 19, 20, 21,  8, 14, 22, 14, 23, 17, 22, 17,  9, 12, 10,  8, 11,\n",
       "         23, 18,  9, 12, 24, 24, 24, 24]),\n",
       " 'choices': {'naming_scheme': (1, 'x'),\n",
       "  'num_type': (1, 'double'),\n",
       "  'print_function': (0, 'println'),\n",
       "  'main_prompt': (0, 'Enter values to compute the Pythagorean Theorem.'),\n",
       "  'input_prompt': (2, 'enter value '),\n",
       "  'uses_method': (1, False),\n",
       "  'output_prompt': (0, 'z=')}}"
      ]
     },
     "execution_count": 57,
     "metadata": {},
     "output_type": "execute_result"
    }
   ],
   "source": [
    "dataset.train_dataset[0]"
   ]
  },
  {
   "cell_type": "code",
   "execution_count": 130,
   "metadata": {},
   "outputs": [
    {
     "ename": "KeyError",
     "evalue": "tensor([0, 0, 0, 0, 0, 0, 0, 0, 0, 0, 0, 0, 0, 0, 0, 0, 0, 0, 0, 0, 0, 0, 0, 0,\n        0, 0, 0, 0, 0, 0, 0, 0, 0, 0, 0, 0, 0, 0, 0, 0, 0, 0, 0, 0, 0, 0, 0, 0,\n        0, 0, 0, 0, 0, 0, 0, 0, 0, 0, 0, 0, 0, 0, 0, 0, 0, 0, 0, 0, 0, 0, 0, 0,\n        0, 0, 0, 0, 0, 0, 0, 0, 0, 0, 0, 0, 0, 0, 0, 0, 0, 0, 0, 0, 0, 0, 0, 0,\n        0, 0, 0, 0], device='cuda:0')",
     "output_type": "error",
     "traceback": [
      "\u001b[0;31m---------------------------------------------------------------------------\u001b[0m",
      "\u001b[0;31mKeyError\u001b[0m                                  Traceback (most recent call last)",
      "\u001b[0;32m<ipython-input-130-ff1897c1f004>\u001b[0m in \u001b[0;36m<module>\u001b[0;34m\u001b[0m\n\u001b[0;32m----> 1\u001b[0;31m \u001b[0minfer\u001b[0m\u001b[0;34m.\u001b[0m\u001b[0mmodel\u001b[0m\u001b[0;34m.\u001b[0m\u001b[0mforward\u001b[0m\u001b[0;34m(\u001b[0m\u001b[0;34m**\u001b[0m\u001b[0mbatch\u001b[0m\u001b[0;34m)\u001b[0m\u001b[0;34m\u001b[0m\u001b[0;34m\u001b[0m\u001b[0m\n\u001b[0m",
      "\u001b[0;32m~/autoplan/autoplan/models.py\u001b[0m in \u001b[0;36mforward\u001b[0;34m(self, program, program_len, trace, trace_len, choices)\u001b[0m\n\u001b[1;32m    128\u001b[0m             \u001b[0mprev_choice\u001b[0m \u001b[0;34m=\u001b[0m \u001b[0mtrace\u001b[0m\u001b[0;34m[\u001b[0m\u001b[0;34m:\u001b[0m\u001b[0;34m,\u001b[0m \u001b[0mi\u001b[0m\u001b[0;34m]\u001b[0m\u001b[0;34m\u001b[0m\u001b[0;34m\u001b[0m\u001b[0m\n\u001b[1;32m    129\u001b[0m             \u001b[0mcur_choice\u001b[0m \u001b[0;34m=\u001b[0m \u001b[0mtrace\u001b[0m\u001b[0;34m[\u001b[0m\u001b[0;34m:\u001b[0m\u001b[0;34m,\u001b[0m \u001b[0mi\u001b[0m\u001b[0;34m+\u001b[0m\u001b[0;36m1\u001b[0m\u001b[0;34m]\u001b[0m\u001b[0;34m\u001b[0m\u001b[0;34m\u001b[0m\u001b[0m\n\u001b[0;32m--> 130\u001b[0;31m             \u001b[0mpred\u001b[0m\u001b[0;34m,\u001b[0m \u001b[0mh\u001b[0m \u001b[0;34m=\u001b[0m \u001b[0mself\u001b[0m\u001b[0;34m.\u001b[0m\u001b[0mstep\u001b[0m\u001b[0;34m(\u001b[0m\u001b[0mprev_choice\u001b[0m\u001b[0;34m,\u001b[0m \u001b[0mcur_choice\u001b[0m\u001b[0;34m,\u001b[0m \u001b[0mprogram_emb\u001b[0m\u001b[0;34m,\u001b[0m \u001b[0mh\u001b[0m\u001b[0;34m,\u001b[0m \u001b[0mchoices\u001b[0m\u001b[0;34m)\u001b[0m\u001b[0;34m\u001b[0m\u001b[0;34m\u001b[0m\u001b[0m\n\u001b[0m\u001b[1;32m    131\u001b[0m             \u001b[0mpreds\u001b[0m\u001b[0;34m.\u001b[0m\u001b[0mappend\u001b[0m\u001b[0;34m(\u001b[0m\u001b[0mpred\u001b[0m\u001b[0;34m)\u001b[0m\u001b[0;34m\u001b[0m\u001b[0;34m\u001b[0m\u001b[0m\n\u001b[1;32m    132\u001b[0m \u001b[0;34m\u001b[0m\u001b[0m\n",
      "\u001b[0;32m~/autoplan/autoplan/models.py\u001b[0m in \u001b[0;36mstep\u001b[0;34m(self, prev_choice, cur_choice, program_emb, h, choices)\u001b[0m\n\u001b[1;32m    103\u001b[0m \u001b[0;34m\u001b[0m\u001b[0m\n\u001b[1;32m    104\u001b[0m         \u001b[0mchoice\u001b[0m \u001b[0;34m=\u001b[0m \u001b[0mchoices\u001b[0m\u001b[0;34m.\u001b[0m\u001b[0mgather\u001b[0m\u001b[0;34m(\u001b[0m\u001b[0mdim\u001b[0m\u001b[0;34m=\u001b[0m\u001b[0;36m1\u001b[0m\u001b[0;34m,\u001b[0m \u001b[0mindex\u001b[0m\u001b[0;34m=\u001b[0m\u001b[0mprev_choice\u001b[0m\u001b[0;34m.\u001b[0m\u001b[0munsqueeze\u001b[0m\u001b[0;34m(\u001b[0m\u001b[0;34m-\u001b[0m\u001b[0;36m1\u001b[0m\u001b[0;34m)\u001b[0m\u001b[0;34m)\u001b[0m\u001b[0;34m\u001b[0m\u001b[0;34m\u001b[0m\u001b[0m\n\u001b[0;32m--> 105\u001b[0;31m         \u001b[0mchoice_emb\u001b[0m \u001b[0;34m=\u001b[0m \u001b[0mself\u001b[0m\u001b[0;34m.\u001b[0m\u001b[0mchoice_embedding\u001b[0m\u001b[0;34m[\u001b[0m\u001b[0mprev_choice\u001b[0m\u001b[0;34m]\u001b[0m\u001b[0;34m(\u001b[0m\u001b[0mchoice\u001b[0m\u001b[0;34m)\u001b[0m\u001b[0;34m\u001b[0m\u001b[0;34m\u001b[0m\u001b[0m\n\u001b[0m\u001b[1;32m    106\u001b[0m \u001b[0;34m\u001b[0m\u001b[0m\n\u001b[1;32m    107\u001b[0m         \u001b[0minput_emb\u001b[0m \u001b[0;34m=\u001b[0m \u001b[0mtorch\u001b[0m\u001b[0;34m.\u001b[0m\u001b[0mcat\u001b[0m\u001b[0;34m(\u001b[0m\u001b[0;34m(\u001b[0m\u001b[0mchoice_emb\u001b[0m\u001b[0;34m,\u001b[0m \u001b[0mprogram_emb\u001b[0m\u001b[0;34m,\u001b[0m \u001b[0mindex_emb\u001b[0m\u001b[0;34m)\u001b[0m\u001b[0;34m)\u001b[0m\u001b[0;34m\u001b[0m\u001b[0;34m\u001b[0m\u001b[0m\n",
      "\u001b[0;32m~/autoplan/.env/lib/python3.7/site-packages/torch/nn/modules/container.py\u001b[0m in \u001b[0;36m__getitem__\u001b[0;34m(self, key)\u001b[0m\n\u001b[1;32m    249\u001b[0m \u001b[0;34m\u001b[0m\u001b[0m\n\u001b[1;32m    250\u001b[0m     \u001b[0;32mdef\u001b[0m \u001b[0m__getitem__\u001b[0m\u001b[0;34m(\u001b[0m\u001b[0mself\u001b[0m\u001b[0;34m,\u001b[0m \u001b[0mkey\u001b[0m\u001b[0;34m)\u001b[0m\u001b[0;34m:\u001b[0m\u001b[0;34m\u001b[0m\u001b[0;34m\u001b[0m\u001b[0m\n\u001b[0;32m--> 251\u001b[0;31m         \u001b[0;32mreturn\u001b[0m \u001b[0mself\u001b[0m\u001b[0;34m.\u001b[0m\u001b[0m_modules\u001b[0m\u001b[0;34m[\u001b[0m\u001b[0mkey\u001b[0m\u001b[0;34m]\u001b[0m\u001b[0;34m\u001b[0m\u001b[0;34m\u001b[0m\u001b[0m\n\u001b[0m\u001b[1;32m    252\u001b[0m \u001b[0;34m\u001b[0m\u001b[0m\n\u001b[1;32m    253\u001b[0m     \u001b[0;32mdef\u001b[0m \u001b[0m__setitem__\u001b[0m\u001b[0;34m(\u001b[0m\u001b[0mself\u001b[0m\u001b[0;34m,\u001b[0m \u001b[0mkey\u001b[0m\u001b[0;34m,\u001b[0m \u001b[0mmodule\u001b[0m\u001b[0;34m)\u001b[0m\u001b[0;34m:\u001b[0m\u001b[0;34m\u001b[0m\u001b[0;34m\u001b[0m\u001b[0m\n",
      "\u001b[0;31mKeyError\u001b[0m: tensor([0, 0, 0, 0, 0, 0, 0, 0, 0, 0, 0, 0, 0, 0, 0, 0, 0, 0, 0, 0, 0, 0, 0, 0,\n        0, 0, 0, 0, 0, 0, 0, 0, 0, 0, 0, 0, 0, 0, 0, 0, 0, 0, 0, 0, 0, 0, 0, 0,\n        0, 0, 0, 0, 0, 0, 0, 0, 0, 0, 0, 0, 0, 0, 0, 0, 0, 0, 0, 0, 0, 0, 0, 0,\n        0, 0, 0, 0, 0, 0, 0, 0, 0, 0, 0, 0, 0, 0, 0, 0, 0, 0, 0, 0, 0, 0, 0, 0,\n        0, 0, 0, 0], device='cuda:0')"
     ]
    }
   ],
   "source": [
    "infer.model.forward(**batch)"
   ]
  },
  {
   "cell_type": "code",
   "execution_count": 128,
   "metadata": {},
   "outputs": [
    {
     "ename": "RuntimeError",
     "evalue": "invalid argument 4: Index tensor must have same dimensions as input tensor at /pytorch/aten/src/TH/generic/THTensorEvenMoreMath.cpp:440",
     "output_type": "error",
     "traceback": [
      "\u001b[0;31m---------------------------------------------------------------------------\u001b[0m",
      "\u001b[0;31mRuntimeError\u001b[0m                              Traceback (most recent call last)",
      "\u001b[0;32m<ipython-input-128-4f43e7a4ec5c>\u001b[0m in \u001b[0;36m<module>\u001b[0;34m\u001b[0m\n\u001b[0;32m----> 1\u001b[0;31m \u001b[0mtorch\u001b[0m\u001b[0;34m.\u001b[0m\u001b[0mtensor\u001b[0m\u001b[0;34m(\u001b[0m\u001b[0;34m[\u001b[0m\u001b[0;34m[\u001b[0m\u001b[0;36m0\u001b[0m\u001b[0;34m,\u001b[0m \u001b[0;36m1\u001b[0m\u001b[0;34m]\u001b[0m\u001b[0;34m,\u001b[0m \u001b[0;34m[\u001b[0m\u001b[0;36m2\u001b[0m\u001b[0;34m,\u001b[0m \u001b[0;36m3\u001b[0m\u001b[0;34m]\u001b[0m\u001b[0;34m]\u001b[0m\u001b[0;34m)\u001b[0m\u001b[0;34m.\u001b[0m\u001b[0mgather\u001b[0m\u001b[0;34m(\u001b[0m\u001b[0mdim\u001b[0m\u001b[0;34m=\u001b[0m\u001b[0;36m0\u001b[0m\u001b[0;34m,\u001b[0m \u001b[0mindex\u001b[0m\u001b[0;34m=\u001b[0m\u001b[0mtorch\u001b[0m\u001b[0;34m.\u001b[0m\u001b[0mtensor\u001b[0m\u001b[0;34m(\u001b[0m\u001b[0;34m[\u001b[0m\u001b[0;36m0\u001b[0m\u001b[0;34m,\u001b[0m \u001b[0;36m1\u001b[0m\u001b[0;34m]\u001b[0m\u001b[0;34m)\u001b[0m\u001b[0;34m)\u001b[0m\u001b[0;34m\u001b[0m\u001b[0;34m\u001b[0m\u001b[0m\n\u001b[0m",
      "\u001b[0;31mRuntimeError\u001b[0m: invalid argument 4: Index tensor must have same dimensions as input tensor at /pytorch/aten/src/TH/generic/THTensorEvenMoreMath.cpp:440"
     ]
    }
   ],
   "source": [
    "torch.tensor([[0, 1], [2, 3]]).gather(dim=0, index=torch.tensor([0, 1]))"
   ]
  },
  {
   "cell_type": "code",
   "execution_count": null,
   "metadata": {},
   "outputs": [],
   "source": [
    "trainer = Trainer(dataset, ProgramClassifier, device=device)"
   ]
  },
  {
   "cell_type": "code",
   "execution_count": null,
   "metadata": {},
   "outputs": [],
   "source": [
    "losses = []\n",
    "for _ in tqdm(range(20)):\n",
    "    losses.append(trainer.train_one_epoch())\n",
    "pd.Series(losses).plot()"
   ]
  },
  {
   "cell_type": "code",
   "execution_count": null,
   "metadata": {},
   "outputs": [],
   "source": [
    "trainer.eval()"
   ]
  }
 ],
 "metadata": {
  "kernelspec": {
   "display_name": "Python 3",
   "language": "python",
   "name": "python3"
  },
  "language_info": {
   "codemirror_mode": {
    "name": "ipython",
    "version": 3
   },
   "file_extension": ".py",
   "mimetype": "text/x-python",
   "name": "python",
   "nbconvert_exporter": "python",
   "pygments_lexer": "ipython3",
   "version": "3.7.2"
  }
 },
 "nbformat": 4,
 "nbformat_minor": 2
}
