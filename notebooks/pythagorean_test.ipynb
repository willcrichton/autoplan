{
 "cells": [
  {
   "cell_type": "code",
   "execution_count": 1,
   "metadata": {},
   "outputs": [],
   "source": [
    "%load_ext autoreload\n",
    "%autoreload 2"
   ]
  },
  {
   "cell_type": "code",
   "execution_count": 31,
   "metadata": {},
   "outputs": [],
   "source": [
    "from autoplan.generator import ProgramGenerator\n",
    "from grammars.pythagorean.program import Program, PythagoreanLabels\n",
    "from autoplan.dataset import build_synthetic_dataset\n",
    "from autoplan.trainer import ParserTrainer\n",
    "from autoplan.parsing import ProgramParser\n",
    "from autoplan.token import JavaTokenizer\n",
    "from tqdm import tqdm_notebook as tqdm\n",
    "import torch\n",
    "import pandas as pd\n",
    "from pprint import pprint\n",
    "\n",
    "device = torch.device('cpu')\n",
    "#device = torch.device('cuda:0')"
   ]
  },
  {
   "cell_type": "code",
   "execution_count": 33,
   "metadata": {},
   "outputs": [
    {
     "name": "stdout",
     "output_type": "stream",
     "text": [
      "\n",
      "            public class PythagoreanTheorem extends ConsoleProgram {\n",
      "                public void run() {\n",
      "                    \n",
      "        println(\"Enter values to compute the Pythagorean Theorem.\");\n",
      "        double a = readDouble(\"a:\");\n",
      "        double b = readDouble(\"b:\");\n",
      "        double c = Math.sqrt(a * a + b * b);\n",
      "        println(\"The answer is\" + c);\n",
      "        \n",
      "                }\n",
      "            }\n",
      "        \n",
      "[('START', 0),\n",
      " ('naming_scheme', 0),\n",
      " ('num_type', 1),\n",
      " ('print_function', 0),\n",
      " ('main_prompt', 0),\n",
      " ('input_prompt', 0),\n",
      " ('uses_method', 1),\n",
      " ('output_prompt', 2)]\n",
      "{'START': [(1.0, None)],\n",
      " 'input_prompt': [(0.5555555820465088, ''),\n",
      "                  (0.2222222238779068, 'Enter '),\n",
      "                  (0.1111111119389534, 'enter value '),\n",
      "                  (0.1111111119389534, 'Enter value for ')],\n",
      " 'main_prompt': [(0.699999988079071,\n",
      "                  'Enter values to compute the Pythagorean Theorem.'),\n",
      "                 (0.15000000596046448,\n",
      "                  'This program finds the hypotenuse, C, of a triangle with '\n",
      "                  'sides A and B.'),\n",
      "                 (0.15000000596046448,\n",
      "                  'This program runs the Pythagorean Theorem. Choose values a '\n",
      "                  'and b.')],\n",
      " 'naming_scheme': [(0.5, 'a'), (0.5, 'x')],\n",
      " 'num_type': [(0.5, 'int'), (0.5, 'double')],\n",
      " 'output_prompt': [(0.5555555820465088, 'c='),\n",
      "                   (0.2222222238779068, 'c:'),\n",
      "                   (0.1111111119389534, 'The answer is'),\n",
      "                   (0.1111111119389534, 'The hypotenuse is')],\n",
      " 'print_function': [(0.5, 'println'), (0.5, 'print')],\n",
      " 'uses_method': [(0.3333333432674408, True), (0.6666666865348816, False)]}\n"
     ]
    }
   ],
   "source": [
    "program_grammar = Program()\n",
    "generator = ProgramGenerator(grammar=program_grammar)\n",
    "program, choices, choice_options = generator.generate()\n",
    "print(program)\n",
    "pprint(choices)\n",
    "pprint(choice_options)"
   ]
  },
  {
   "cell_type": "code",
   "execution_count": 19,
   "metadata": {},
   "outputs": [],
   "source": [
    "dataset = build_synthetic_dataset(\n",
    "    N_train=1000, \n",
    "    N_val=100, \n",
    "    tokenizer=JavaTokenizer(),\n",
    "    generator=ProgramGenerator(grammar=program_grammar))\n",
    "\n",
    "'''\n",
    "N_train = 1000 is when we reach 71-75% accuracy (maximum so far) and we don't get the accuracy decrease\n",
    "on loops 12.5-15.0. Bigger batches (N_train = 10000) seem to hurt accuracy\n",
    "'''"
   ]
  },
  {
   "cell_type": "code",
   "execution_count": 28,
   "metadata": {},
   "outputs": [
    {
     "data": {
      "text/plain": [
       "{'program': tensor([ 0,  1,  2,  3,  4,  5,  0,  6,  7,  8,  9,  5, 10,  8, 11,  9, 12, 13,\n",
       "         14, 15, 16,  8, 11,  9, 12, 13, 17, 15, 16,  8, 11,  9, 12, 13, 18, 15,\n",
       "         19, 20, 21,  8, 14, 22, 14, 23, 17, 22, 17,  9, 12, 10,  8, 11, 23, 18,\n",
       "          9, 12, 24, 24]),\n",
       " 'trace': tensor([0, 1, 2, 3, 4, 5, 6, 7]),\n",
       " 'choices': tensor([0, 0, 1, 0, 0, 3, 1, 0])}"
      ]
     },
     "execution_count": 28,
     "metadata": {},
     "output_type": "execute_result"
    }
   ],
   "source": [
    "dataset.train_dataset[0]"
   ]
  },
  {
   "cell_type": "code",
   "execution_count": 29,
   "metadata": {},
   "outputs": [],
   "source": [
    "batch = next(iter(dataset.loader(dataset.val_dataset)))"
   ]
  },
  {
   "cell_type": "code",
   "execution_count": 30,
   "metadata": {},
   "outputs": [],
   "source": [
    "trainer = ParserTrainer(program_grammar, dataset, device)"
   ]
  },
  {
   "cell_type": "code",
   "execution_count": 23,
   "metadata": {},
   "outputs": [
    {
     "data": {
      "application/vnd.jupyter.widget-view+json": {
       "model_id": "bf7433f71e5246628cbcfeed94a68734",
       "version_major": 2,
       "version_minor": 0
      },
      "text/plain": [
       "HBox(children=(IntProgress(value=0, max=20), HTML(value='')))"
      ]
     },
     "metadata": {},
     "output_type": "display_data"
    },
    {
     "name": "stdout",
     "output_type": "stream",
     "text": [
      "\n"
     ]
    },
    {
     "data": {
      "text/plain": [
       "<matplotlib.axes._subplots.AxesSubplot at 0x11d573668>"
      ]
     },
     "execution_count": 23,
     "metadata": {},
     "output_type": "execute_result"
    },
    {
     "data": {
      "image/png": "[encoded data removed]",
      "text/plain": [
       "<Figure size 432x288 with 1 Axes>"
      ]
     },
     "metadata": {
      "needs_background": "light"
     },
     "output_type": "display_data"
    }
   ],
   "source": [
    "losses = []\n",
    "accuracy = []\n",
    "for _ in tqdm(range(20)):\n",
    "    losses.append(trainer.train_one_epoch())\n",
    "    accuracy.append(trainer.eval())\n",
    "pd.Series(losses).plot()"
   ]
  },
  {
   "cell_type": "code",
   "execution_count": 24,
   "metadata": {},
   "outputs": [
    {
     "name": "stdout",
     "output_type": "stream",
     "text": [
      "[0.5042857142857143, 0.5857142857142857, 0.5957142857142858, 0.5914285714285714, 0.6642857142857143, 0.6571428571428571, 0.6742857142857143, 0.6657142857142857, 0.6985714285714286, 0.7014285714285714, 0.7114285714285714, 0.7057142857142857, 0.71, 0.7057142857142857, 0.7014285714285714, 0.7057142857142857, 0.7028571428571428, 0.7028571428571428, 0.7028571428571428, 0.7057142857142857]\n"
     ]
    },
    {
     "data": {
      "image/png": "[encoded data removed]",
      "text/plain": [
       "<Figure size 432x288 with 1 Axes>"
      ]
     },
     "metadata": {
      "needs_background": "light"
     },
     "output_type": "display_data"
    }
   ],
   "source": [
    "pd.Series(losses).plot()\n",
    "print(accuracy)"
   ]
  },
  {
   "cell_type": "code",
   "execution_count": 25,
   "metadata": {},
   "outputs": [],
   "source": [
    "trainer.model.save('checkpoint.ph.tar')"
   ]
  },
  {
   "cell_type": "code",
   "execution_count": 26,
   "metadata": {},
   "outputs": [],
   "source": [
    "parser = ProgramParser(program_grammar, dataset, 'checkpoint.ph.tar', device)"
   ]
  },
  {
   "cell_type": "code",
   "execution_count": 27,
   "metadata": {},
   "outputs": [
    {
     "data": {
      "text/plain": [
       "OrderedDict([('START', (0, None)),\n",
       "             ('naming_scheme', (0, 'a')),\n",
       "             ('num_type', (0, 'int')),\n",
       "             ('print_function', (0, 'println')),\n",
       "             ('main_prompt',\n",
       "              (0, 'Enter values to compute the Pythagorean Theorem.')),\n",
       "             ('input_prompt', (0, '')),\n",
       "             ('uses_method', (0, True)),\n",
       "             ('output_prompt', (1, 'c:'))])"
      ]
     },
     "execution_count": 27,
     "metadata": {},
     "output_type": "execute_result"
    }
   ],
   "source": [
    "parser.infer(batch['program'][:1], batch['program_len'][:1])"
   ]
  },
  {
   "cell_type": "code",
   "execution_count": null,
   "metadata": {},
   "outputs": [],
   "source": []
  },
  {
   "cell_type": "code",
   "execution_count": null,
   "metadata": {},
   "outputs": [],
   "source": []
  }
 ],
 "metadata": {
  "kernelspec": {
   "display_name": "Python 3",
   "language": "python",
   "name": "python3"
  },
  "language_info": {
   "codemirror_mode": {
    "name": "ipython",
    "version": 3
   },
   "file_extension": ".py",
   "mimetype": "text/x-python",
   "name": "python",
   "nbconvert_exporter": "python",
   "pygments_lexer": "ipython3",
   "version": "3.7.2"
  }
 },
 "nbformat": 4,
 "nbformat_minor": 2
}
