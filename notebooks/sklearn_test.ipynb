{
 "cells": [
  {
   "cell_type": "code",
   "execution_count": 1,
   "metadata": {},
   "outputs": [],
   "source": [
    "%load_ext autoreload\n",
    "%autoreload 2"
   ]
  },
  {
   "cell_type": "code",
   "execution_count": 2,
   "metadata": {},
   "outputs": [],
   "source": [
    "from pickle_cache import PickleCache \n",
    "from autoplan.trainer import ClassEvaluation\n",
    "import numpy as np\n",
    "import json\n",
    "from grammars.rainfall.labels import CountWhere, GeneralRainfallLabels as Labels\n",
    "from scripts.rainfall_ingest import ingest_dataset\n",
    "pcache = PickleCache()"
   ]
  },
  {
   "cell_type": "code",
   "execution_count": 3,
   "metadata": {},
   "outputs": [],
   "source": [
    "(X, Y) = pcache.get('xy')"
   ]
  },
  {
   "cell_type": "code",
   "execution_count": 4,
   "metadata": {},
   "outputs": [],
   "source": [
    "Xemb = pcache.get('known_embs')"
   ]
  },
  {
   "cell_type": "code",
   "execution_count": 5,
   "metadata": {},
   "outputs": [],
   "source": [
    "Xparse = pcache.get('xparse')"
   ]
  },
  {
   "cell_type": "code",
   "execution_count": 15,
   "metadata": {},
   "outputs": [],
   "source": [
    "(Xord, _) = pcache.get('xordy')"
   ]
  },
  {
   "cell_type": "code",
   "execution_count": 32,
   "metadata": {},
   "outputs": [
    {
     "data": {
      "text/plain": [
       "{'START': [0, None],\n",
       " 'recursion': [1, 'rec'],\n",
       " '_type': [1, 'float'],\n",
       " 'uses_annotation': [0, True],\n",
       " 'helper_in_body': [0, True],\n",
       " 'raises_failwith': [0, True],\n",
       " 'fail_message': [0, '\"No rain was collected\"'],\n",
       " 'strategy': [0, 2],\n",
       " 'rainfall_body_specs': [1, 'recurse'],\n",
       " 'recursion_strategy': [1, 'let'],\n",
       " 'check_empty_list': [0, '[]'],\n",
       " 'check_div_by_zero': [0, True],\n",
       " 'gt_zero': [0, True],\n",
       " 'separate_sentinel_check': [0, True],\n",
       " 'recurse_empty_list': [1, False],\n",
       " 'check_positive_head': [0, True]}"
      ]
     },
     "execution_count": 32,
     "metadata": {},
     "output_type": "execute_result"
    }
   ],
   "source": [
    "Xparse[0]"
   ]
  },
  {
   "cell_type": "code",
   "execution_count": 45,
   "metadata": {},
   "outputs": [],
   "source": [
    "def heuristic_clf(X):\n",
    "    strat = Labels(X['strategy'][1])\n",
    "    if strat == Labels.CleanFirst:\n",
    "        return CountWhere.Rainfall if X['helper_in_body'][1] or X['average_strategy'][1] != 'direct' \\\n",
    "                else CountWhere.Helper\n",
    "    elif strat == Labels.CleanInSC:\n",
    "        return CountWhere.Rainfall if X['anonymous_helpers'][1] else CountWhere.Own\n",
    "    elif strat == Labels.SingleLoop:\n",
    "        return CountWhere.Helper"
   ]
  },
  {
   "cell_type": "code",
   "execution_count": 46,
   "metadata": {},
   "outputs": [
    {
     "data": {
      "text/plain": [
       "0.8222222222222222"
      ]
     },
     "execution_count": 46,
     "metadata": {},
     "output_type": "execute_result"
    }
   ],
   "source": [
    "from sklearn.metrics import accuracy_score\n",
    "accuracy_score(Y, [int(heuristic_clf(X)) for X in Xparse])"
   ]
  },
  {
   "cell_type": "code",
   "execution_count": 47,
   "metadata": {},
   "outputs": [
    {
     "data": {
      "image/png": "[encoded data removed]",
      "text/plain": [
       "<Figure size 432x288 with 2 Axes>"
      ]
     },
     "metadata": {
      "needs_background": "light"
     },
     "output_type": "display_data"
    }
   ],
   "source": [
    "evl = ClassEvaluation.from_preds(\n",
    "    Y, [int(heuristic_clf(X)) for X in Xparse], ['Helper', 'Rainfall', 'Own'])\n",
    "evl.plot_cm()"
   ]
  },
  {
   "cell_type": "code",
   "execution_count": 52,
   "metadata": {},
   "outputs": [
    {
     "data": {
      "text/plain": [
       "{'START': [0, None],\n",
       " 'recursion': [1, 'rec'],\n",
       " '_type': [0, 'int'],\n",
       " 'uses_annotation': [0, True],\n",
       " 'helper_in_body': [1, False],\n",
       " 'raises_failwith': [1, False],\n",
       " 'fail_message': [0, '\"No rain was collected\"'],\n",
       " 'strategy': [1, 0],\n",
       " 'average_strategy': [0, 'direct'],\n",
       " 'main_strategy': [0, 'match'],\n",
       " 'check_empty_list': [0, '[]'],\n",
       " 'return_empty_list': [0, True]}"
      ]
     },
     "execution_count": 52,
     "metadata": {},
     "output_type": "execute_result"
    }
   ],
   "source": [
    "Xparse[37]"
   ]
  },
  {
   "cell_type": "code",
   "execution_count": 51,
   "metadata": {},
   "outputs": [
    {
     "name": "stdout",
     "output_type": "stream",
     "text": [
      "Skipped 16 programs\n",
      "Program 18:\n",
      "let rainfall (aloi : int list) =\n",
      "  (let rec rf_helper (aloi : int list) =\n",
      "     (match aloi with\n",
      "      | [] -> []\n",
      "      | (-999)::_ -> []\n",
      "      | hd::tl -> hd :: (rf_helper tl) : int list) in\n",
      "   let rf_list = List.filter (fun x -> x >= 0) (rf_helper aloi) in\n",
      "   (List.fold_right (+) rf_list 0) / (List.length rf_list) : int)\n",
      "\n",
      "Pred: CountWhere.Helper\n",
      "True: CountWhere.Rainfall\n",
      "==============================\n",
      "\n",
      "Program 19:\n",
      "let rec stop (aloi : int list) =\n",
      "  (match aloi with\n",
      "   | [] -> []\n",
      "   | hd::tl -> if hd = (-999) then [] else hd :: (stop tl) : int list)\n",
      "let rec non_negative_average (aloi : int list) =\n",
      "  (let average (alon : int list) =\n",
      "     (match alon with\n",
      "      | [] -> 0.0\n",
      "      | _::_ ->\n",
      "          (float_of_int (List.fold_right (+) alon 0)) /.\n",
      "            (float_of_int (List.length alon)) : float) in\n",
      "   average (List.filter (fun x -> x >= 0) aloi) : float)\n",
      "let rec rainfall (aloi : int list) =\n",
      "  (match aloi with | [] -> 0.0 | hd::tl -> non_negative_average (stop aloi) : \n",
      "  float)\n",
      "\n",
      "Pred: CountWhere.Rainfall\n",
      "True: CountWhere.Helper\n",
      "==============================\n",
      "\n",
      "Program 30:\n",
      "let rainfall (alon : int list) =\n",
      "  (let rec rain_helper (alon : int list) (counter : int) (sum : int) =\n",
      "     (match alon with\n",
      "      | [] ->\n",
      "          if counter = 0\n",
      "          then failwith \"No rain was collected\"\n",
      "          else sum / counter\n",
      "      | hd::tl ->\n",
      "          if hd = (-999)\n",
      "          then\n",
      "            (if counter = 0\n",
      "             then failwith \"No rain was collected\"\n",
      "             else sum / counter)\n",
      "          else\n",
      "            if hd >= 0\n",
      "            then rain_helper tl (counter + 1) (hd + sum)\n",
      "            else rain_helper tl counter sum : int) in\n",
      "   rain_helper alon 0 0 : int)\n",
      "\n",
      "Pred: CountWhere.Helper\n",
      "True: CountWhere.Rainfall\n",
      "==============================\n",
      "\n",
      "Program 32:\n",
      "let rainfall (alon : int list) =\n",
      "  (let rec _rainfall (alon : int list) (acc : int list) =\n",
      "     match alon with\n",
      "     | [] -> acc\n",
      "     | hd::tl -> if hd = (-999) then acc else _rainfall tl (hd :: acc) in\n",
      "   let rainfall_list = List.filter (fun x -> x >= 0) (_rainfall alon []) in\n",
      "   let rf_lst_length = List.length rainfall_list in\n",
      "   if rf_lst_length = 0\n",
      "   then failwith \"No valid rainfall levels input.\"\n",
      "   else (List.fold_left (+) 0 rainfall_list) / rf_lst_length : int)\n",
      "\n",
      "Pred: CountWhere.Helper\n",
      "True: CountWhere.Rainfall\n",
      "==============================\n",
      "\n",
      "Program 36:\n",
      "let rainfall (alod : int list) =\n",
      "  (let rec rain (alod : int list) =\n",
      "     (match alod with\n",
      "      | [] -> []\n",
      "      | hd::tl ->\n",
      "          if hd = (-999)\n",
      "          then []\n",
      "          else if hd < 0 then rain tl else hd :: (rain tl) : int list) in\n",
      "   let x = List.length (rain alod) in\n",
      "   if x = 0 then 0 else (List.fold_right (+) (rain alod) 0) / x : int)\n",
      "\n",
      "Pred: CountWhere.Helper\n",
      "True: CountWhere.Rainfall\n",
      "==============================\n",
      "\n",
      "Program 37:\n",
      "let rec pos_list (aloi : int list) =\n",
      "  (match aloi with\n",
      "   | [] -> []\n",
      "   | hd::tl when hd <> (-999) ->\n",
      "       if hd > 0 then hd :: (pos_list tl) else pos_list tl\n",
      "   | hd::tl when hd = (-999) -> []\n",
      "   | _ -> failwith \"this isn't a good list\" : int list)\n",
      "let rec sum (aloi : int list) =\n",
      "  (match pos_list aloi with | [] -> 0 | hd::tl -> hd + (sum tl) : int)\n",
      "let rainfall_average (aloi : int list) =\n",
      "  (let length = List.length (pos_list aloi) in\n",
      "   if length = 0 then 0 else (sum (pos_list aloi)) / length : int)\n",
      "\n",
      "Pred: CountWhere.Helper\n",
      "True: CountWhere.Rainfall\n",
      "==============================\n",
      "\n",
      "Program 39:\n",
      "let rec rainfall_count (alon : int list) (count : int) =\n",
      "  (match alon with\n",
      "   | [] -> count\n",
      "   | hd::tl ->\n",
      "       if hd >= 0\n",
      "       then rainfall_count tl (count + 1)\n",
      "       else if hd = (-999) then count else rainfall_count tl count : \n",
      "  int)\n",
      "let rec rainfall_sum (alon : int list) =\n",
      "  (match alon with\n",
      "   | [] -> 0\n",
      "   | hd::tl ->\n",
      "       if hd >= 0\n",
      "       then hd + (rainfall_sum tl)\n",
      "       else if hd = (-999) then 0 else rainfall_sum tl : int)\n",
      "let rec rainfall (alon : int list) =\n",
      "  (if (rainfall_count alon 0) = 0\n",
      "   then 0\n",
      "   else (rainfall_sum alon) / (rainfall_count alon 0) : int)\n",
      "\n",
      "Pred: CountWhere.Helper\n",
      "True: CountWhere.Own\n",
      "==============================\n",
      "\n",
      "Program 40:\n",
      "let rec sumfall (aloi : int list) =\n",
      "  (match aloi with\n",
      "   | [] -> 0\n",
      "   | (-999)::tl -> 0\n",
      "   | hd::tl -> if hd > 0 then hd + (sumfall tl) else sumfall tl : int)\n",
      "let rec poscount (aloi : int list) =\n",
      "  (match aloi with\n",
      "   | [] -> 0\n",
      "   | (-999)::tl -> 0\n",
      "   | hd::tl -> if hd > 0 then 1 + (poscount tl) else poscount tl : int)\n",
      "let rainfall aloi =\n",
      "  if (poscount aloi) = 0 then 0 else (sumfall aloi) / (poscount aloi)\n",
      "\n",
      "Pred: CountWhere.Helper\n",
      "True: CountWhere.Own\n",
      "==============================\n",
      "\n"
     ]
    }
   ],
   "source": [
    "evl.print_incorrect(ingest_dataset('T1'), label_set=list(CountWhere))"
   ]
  },
  {
   "cell_type": "code",
   "execution_count": 11,
   "metadata": {},
   "outputs": [],
   "source": [
    "X = np.array(X)\n",
    "Y = np.array(Y)"
   ]
  },
  {
   "cell_type": "code",
   "execution_count": 20,
   "metadata": {},
   "outputs": [
    {
     "name": "stderr",
     "output_type": "stream",
     "text": [
      "/home/wcrichto/autoplan/.env/lib/python3.7/site-packages/sklearn/linear_model/logistic.py:432: FutureWarning: Default solver will be changed to 'lbfgs' in 0.22. Specify a solver to silence this warning.\n",
      "  FutureWarning)\n",
      "/home/wcrichto/autoplan/.env/lib/python3.7/site-packages/sklearn/linear_model/logistic.py:432: FutureWarning: Default solver will be changed to 'lbfgs' in 0.22. Specify a solver to silence this warning.\n",
      "  FutureWarning)\n",
      "/home/wcrichto/autoplan/.env/lib/python3.7/site-packages/sklearn/linear_model/logistic.py:432: FutureWarning: Default solver will be changed to 'lbfgs' in 0.22. Specify a solver to silence this warning.\n",
      "  FutureWarning)\n",
      "/home/wcrichto/autoplan/.env/lib/python3.7/site-packages/sklearn/linear_model/logistic.py:432: FutureWarning: Default solver will be changed to 'lbfgs' in 0.22. Specify a solver to silence this warning.\n",
      "  FutureWarning)\n",
      "/home/wcrichto/autoplan/.env/lib/python3.7/site-packages/sklearn/linear_model/logistic.py:432: FutureWarning: Default solver will be changed to 'lbfgs' in 0.22. Specify a solver to silence this warning.\n",
      "  FutureWarning)\n",
      "/home/wcrichto/autoplan/.env/lib/python3.7/site-packages/sklearn/linear_model/logistic.py:432: FutureWarning: Default solver will be changed to 'lbfgs' in 0.22. Specify a solver to silence this warning.\n",
      "  FutureWarning)\n",
      "/home/wcrichto/autoplan/.env/lib/python3.7/site-packages/sklearn/linear_model/logistic.py:432: FutureWarning: Default solver will be changed to 'lbfgs' in 0.22. Specify a solver to silence this warning.\n",
      "  FutureWarning)\n"
     ]
    },
    {
     "data": {
      "text/plain": [
       "{'svm': 0.857142857142857,\n",
       " 'tree': 0.7108843537414965,\n",
       " 'mlp': 0.7959183673469388,\n",
       " 'lr': 0.857142857142857}"
      ]
     },
     "execution_count": 20,
     "metadata": {},
     "output_type": "execute_result"
    }
   ],
   "source": [
    "from sklearn import tree, svm\n",
    "from sklearn.linear_model import LogisticRegression\n",
    "from sklearn.neural_network import MLPClassifier\n",
    "from sklearn.model_selection import cross_val_score\n",
    "\n",
    "models = {\n",
    "    'svm': svm.SVC(gamma='scale'),\n",
    "    'tree': tree.DecisionTreeClassifier(random_state=1),\n",
    "    'mlp': MLPClassifier(max_iter=1000),\n",
    "    'lr': LogisticRegression(multi_class='auto')\n",
    "}\n",
    "\n",
    "{\n",
    "    k: np.mean(cross_val_score(clf, Xord, Y, cv=7))\n",
    "    for k, clf in models.items()\n",
    "}"
   ]
  }
 ],
 "metadata": {
  "kernelspec": {
   "display_name": "Python 3",
   "language": "python",
   "name": "python3"
  },
  "language_info": {
   "codemirror_mode": {
    "name": "ipython",
    "version": 3
   },
   "file_extension": ".py",
   "mimetype": "text/x-python",
   "name": "python",
   "nbconvert_exporter": "python",
   "pygments_lexer": "ipython3",
   "version": "3.7.2"
  }
 },
 "nbformat": 4,
 "nbformat_minor": 2
}
