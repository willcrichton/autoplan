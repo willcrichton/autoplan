{
 "cells": [
  {
   "cell_type": "code",
   "execution_count": 1,
   "metadata": {},
   "outputs": [],
   "source": [
    "%load_ext autoreload\n",
    "%autoreload 2"
   ]
  },
  {
   "cell_type": "code",
   "execution_count": 2,
   "metadata": {},
   "outputs": [],
   "source": [
    "import sys\n",
    "sys.path.append('..')"
   ]
  },
  {
   "cell_type": "code",
   "execution_count": 11,
   "metadata": {},
   "outputs": [],
   "source": [
    "import pandas as pd\n",
    "import os\n",
    "\n",
    "from grammars.rainfall.labels import GeneralRainfallLabels, DetailedRainfallLabels\n",
    "from autoplan.dataset import build_prelabeled_dataset, PrelabeledDataset\n",
    "from autoplan.token import OCamlTokenizer, PyretTokenizer, TokenizerError"
   ]
  },
  {
   "cell_type": "code",
   "execution_count": 4,
   "metadata": {},
   "outputs": [],
   "source": [
    "REPO_DIR = os.path.expanduser('~/autoplan')\n",
    "DATA_DIR = f'{REPO_DIR}/data/rainfall/raw'\n",
    "CODE_DIR = f'{DATA_DIR}/Fall2013-RawData'\n",
    "\n",
    "def read_coding_csv(name):\n",
    "    return pd.read_csv(f'{DATA_DIR}/Fall2013Coding{name}.csv', index_col=0, header=None).T"
   ]
  },
  {
   "cell_type": "code",
   "execution_count": 5,
   "metadata": {},
   "outputs": [],
   "source": [
    "plan_codes = pd.read_csv(f'{DATA_DIR}/PlanCodes-codes.csv')\n",
    "\n",
    "def read_and_join_coding(name):\n",
    "    coding_csv = read_coding_csv(name)\n",
    "\n",
    "    valid_entries = coding_csv[coding_csv.PlanStructure.notnull()]\n",
    "\n",
    "    combined_entries = valid_entries.set_index('PlanStructure').join(plan_codes.set_index('Code'))\n",
    "    \n",
    "    return combined_entries"
   ]
  },
  {
   "cell_type": "code",
   "execution_count": 6,
   "metadata": {},
   "outputs": [],
   "source": [
    "datasets = ['HS', 'T1', 'T1Acc', 'T2', 'T3Non']"
   ]
  },
  {
   "cell_type": "code",
   "execution_count": 7,
   "metadata": {},
   "outputs": [],
   "source": [
    "dataset_config = {\n",
    "    'T1': {\n",
    "        'path': lambda id: f'{CODE_DIR}/T1/{id}.ml',\n",
    "        'tokenizer': OCamlTokenizer\n",
    "    },\n",
    "    'T1Acc': {\n",
    "        'path': lambda id: f'{CODE_DIR}/T1Acc/{id}/cs019-2013-rainfall/rainfall-program.current.arr',\n",
    "        'tokenizer': PyretTokenizer\n",
    "    }\n",
    "}"
   ]
  },
  {
   "cell_type": "code",
   "execution_count": 8,
   "metadata": {},
   "outputs": [],
   "source": [
    "def ingest_dataset(name):\n",
    "    codes = read_and_join_coding(name)\n",
    "    config = dataset_config[name]\n",
    "    tokenizer = dataset_config['T1Acc']['tokenizer']()\n",
    "    \n",
    "    programs = []\n",
    "    labels = []\n",
    "    for _, entry in codes.iterrows():\n",
    "        path = config['path'](entry.ID)\n",
    "        try:\n",
    "            src = open(path).read()\n",
    "        except FileNotFoundError:\n",
    "            continue\n",
    "            \n",
    "        general_label = GeneralRainfallLabels.from_string(entry['Gen Category'].strip())\n",
    "        detailed_label = DetailedRainfallLabels.from_string(entry['Detail Category'].strip())\n",
    "        \n",
    "        try:\n",
    "            list(tokenizer.tokenize(src))\n",
    "        except TokenizerError as e:\n",
    "            continue\n",
    "        \n",
    "        programs.append(src)\n",
    "        labels.append(general_label)\n",
    "        \n",
    "    return build_prelabeled_dataset(GeneralRainfallLabels, programs, labels, tokenizer)"
   ]
  },
  {
   "cell_type": "code",
   "execution_count": 14,
   "metadata": {
    "scrolled": false
   },
   "outputs": [],
   "source": [
    "for key in ['T1', 'T1Acc']:\n",
    "    ds = ingest_dataset(key)\n",
    "    ds.save(f'{REPO_DIR}/data/rainfall/{key}.pkl')"
   ]
  }
 ],
 "metadata": {
  "kernelspec": {
   "display_name": "Python 3",
   "language": "python",
   "name": "python3"
  },
  "language_info": {
   "codemirror_mode": {
    "name": "ipython",
    "version": 3
   },
   "file_extension": ".py",
   "mimetype": "text/x-python",
   "name": "python",
   "nbconvert_exporter": "python",
   "pygments_lexer": "ipython3",
   "version": "3.7.2"
  }
 },
 "nbformat": 4,
 "nbformat_minor": 2
}
